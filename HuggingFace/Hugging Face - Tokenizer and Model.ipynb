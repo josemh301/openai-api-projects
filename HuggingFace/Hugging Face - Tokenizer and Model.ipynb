{
 "cells": [
  {
   "cell_type": "markdown",
   "metadata": {},
   "source": [
    "# Hugging Face - Tokenizer and Model\n",
    "\n",
    "For both _tokenizer_ and _model_, there are generic classes: `AutoTokenizer` and `AutoModelForSequenceClassification`. These can be substituted by specific classes, such as  `BertTokenizer` and `BertModel`.\n",
    "\n",
    "- See [AutoTokenizer official documentation](https://huggingface.co/docs/transformers/model_doc/auto#transformers.AutoTokenizer)\n",
    "- See [AutoModelForSequenceClassification official documentation](https://huggingface.co/docs/transformers/model_doc/auto#transformers.AutoModelForSequenceClassification)"
   ]
  },
  {
   "cell_type": "code",
   "execution_count": null,
   "metadata": {},
   "outputs": [],
   "source": []
  }
 ],
 "metadata": {
  "kernelspec": {
   "display_name": "Python 3",
   "language": "python",
   "name": "python3"
  },
  "language_info": {
   "codemirror_mode": {
    "name": "ipython",
    "version": 3
   },
   "file_extension": ".py",
   "mimetype": "text/x-python",
   "name": "python",
   "nbconvert_exporter": "python",
   "pygments_lexer": "ipython3",
   "version": "3.8.3"
  }
 },
 "nbformat": 4,
 "nbformat_minor": 4
}
