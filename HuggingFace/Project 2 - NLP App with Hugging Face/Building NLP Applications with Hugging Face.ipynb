{
 "cells": [
  {
   "cell_type": "markdown",
   "metadata": {},
   "source": [
    "# Building NLP Applications with Hugging Face"
   ]
  },
  {
   "cell_type": "markdown",
   "metadata": {},
   "source": [
    "Welcome! In this project, you will be learning how to perform common Natural Language Processing (NLP) tasks using Hugging Face. Some of these tasks include:\n",
    "- **sentiment analysis** (i.e. categorizing text as negative or positive);\n",
    "- **text embedding** (i.e. transforming a piece of text into a numerical, n-dimensional vector, representation);\n",
    "- **semantic search** (i.e. matching a query with the most appropriate result based on embeddings);\n",
    "- and more!\n",
    "\n",
    "The dataset comes from \"Rent the Runway\" [link](https://cseweb.ucsd.edu//~jmcauley/datasets.html#clothing_fit) and is comprised of user reviews on clothing items, their ratings on fit, and other metadata about the user (i.e. gender, height, size, age, reason for renting) and the item (i.e. category). It is a nice mixture of data types, but most importantly, lots of text! \n",
    "\n",
    "In order to be successful, you should have:\n",
    "\n",
    "**Intermediate knowledge of Python**\n",
    "- list comprehension\n",
    "- for loops and while loops\n",
    "- installing packages\n",
    "- creating and using functions\n",
    "- using NumPy and Pandas\n",
    "\n",
    "**Basic understanding of NLP**\n",
    "- What it is\n",
    "- Data preparation steps and why they're important\n",
    "- Familiarity, though not necessarily expert proficiency, in some NLP tasks\n",
    "\n",
    "**Brief usage of Hugging Face**\n",
    "\n",
    "\n",
    "Most of all, you should have a curiosity about NLP workflows, specifically those in Hugging Face using transformers!"
   ]
  },
  {
   "cell_type": "markdown",
   "metadata": {},
   "source": [
    "## Task 0: Setup"
   ]
  },
  {
   "cell_type": "markdown",
   "metadata": {},
   "source": [
    "For this project, we will need several Python packages:\n",
    "- `pandas`\n",
    "- `numpy`\n",
    "- `datetime`\n",
    "- `re`\n",
    "- `string`\n",
    "- `matplotlib.pyplot`\n",
    "- `seaborn`\n",
    "- `transformers`\n",
    "- `sentence_transformers`\n",
    "\n",
    "These packages will help us with the data preprocessing steps, visualization, and, of course, NLP tasks using Hugging Face (i.e. `transformers` and `sentence_transformers`)."
   ]
  },
  {
   "cell_type": "markdown",
   "metadata": {},
   "source": [
    "### Instructions"
   ]
  },
  {
   "cell_type": "markdown",
   "metadata": {},
   "source": [
    "Import the following packages.\n",
    "\n",
    "- Import `re`, `datetime`, and `string`.\n",
    "- Import `pandas` using the alias `pd`.\n",
    "- Import `numpy` using the alias `np`.\n",
    "- Import `matplotlib.pyplot` using the alias `plt`.\n",
    "- From the `transformers` package, import `pipeline`.\n",
    "- From the `sentence_transformers` package, import `SentenceTransformer`.\n",
    "- From the `sentence_transformers.util` package, import `semantic_search`. \n",
    "- From the `IPython.display` package, import `display` and `Markdown`."
   ]
  },
  {
   "cell_type": "code",
   "execution_count": 1,
   "metadata": {},
   "outputs": [],
   "source": [
    "# !pip install sentence-transformers"
   ]
  },
  {
   "cell_type": "code",
   "execution_count": 38,
   "metadata": {
    "executionCancelledAt": null,
    "executionTime": 6393,
    "lastExecutedAt": 1695259699866,
    "lastScheduledRunId": null,
    "lastSuccessfullyExecutedCode": "# Import the other required packages and modules.\nimport pandas as pd\nimport datetime\nimport re\nimport string\nimport matplotlib.pyplot as plt\nimport seaborn as sns\nimport numpy as np\nfrom transformers import pipeline\nfrom sentence_transformers import SentenceTransformer\nfrom sentence_transformers.util import semantic_search\n\n\n# From the IPython.display package, import display and Markdown\nfrom IPython.display import display, Markdown",
    "outputsMetadata": {
     "0": {
      "height": 117,
      "type": "stream"
     }
    }
   },
   "outputs": [],
   "source": [
    "# Import the other required packages and modules.\n",
    "import pandas as pd\n",
    "import datetime\n",
    "import re\n",
    "import string\n",
    "import matplotlib.pyplot as plt\n",
    "import seaborn as sns\n",
    "import numpy as np\n",
    "from transformers import pipeline\n",
    "from sentence_transformers import SentenceTransformer\n",
    "from sentence_transformers.util import semantic_search\n",
    "\n",
    "\n",
    "# From the IPython.display package, import display and Markdown\n",
    "from IPython.display import display, Markdown"
   ]
  },
  {
   "cell_type": "markdown",
   "metadata": {},
   "source": [
    "## Task 1: Import the Runway Data"
   ]
  },
  {
   "cell_type": "markdown",
   "metadata": {},
   "source": [
    "The runway data is contained in a CSV file named `runway.csv`.\n",
    "\n",
    "The dataset contains the following columns.\n",
    "\n",
    "- `user_id`: the unique identifier for the user.\n",
    "- `item_id`: the unique identifier for the item/product rented.\n",
    "- `rating`: the rating by the user.\n",
    "- `rented_for`: the reason the item was rented.\n",
    "- `review_text`: the actual text for the submitted user review.\n",
    "- `category`: the category of the item rented.\n",
    "- `height`: the height of the user in the format {feet}'{inches}\".\n",
    "- `size`: the size of the item rented by the user.\n",
    "- `age`: the age of the user.\n",
    "- `review_date`: the date the review was made by the user."
   ]
  },
  {
   "cell_type": "markdown",
   "metadata": {},
   "source": [
    "### Instructions"
   ]
  },
  {
   "cell_type": "markdown",
   "metadata": {},
   "source": [
    "Import the runway data to a pandas dataframe.\n",
    "\n",
    "- Read the data from `runway.csv`, making sure to parse the date column. |Assign to `runway`.\n",
    "- Print the column info"
   ]
  },
  {
   "cell_type": "code",
   "execution_count": 39,
   "metadata": {
    "executionCancelledAt": null,
    "executionTime": 140,
    "lastExecutedAt": 1695261923135,
    "lastScheduledRunId": null,
    "lastSuccessfullyExecutedCode": "# Read the data from runway.csv\nrunway = pd.read_csv(\"runway.csv\", parse_dates=['review_date'])\n\n# Print the column info\nprint(runway.info())",
    "outputsMetadata": {
     "0": {
      "height": 377,
      "type": "stream"
     }
    }
   },
   "outputs": [
    {
     "name": "stdout",
     "output_type": "stream",
     "text": [
      "Index(['user_id', 'item_id', 'rating', 'rented for', 'review_text', 'category',\n",
      "       'height', 'size', 'age', 'review_date'],\n",
      "      dtype='object')\n"
     ]
    }
   ],
   "source": [
    "# Read the data from runway.csv\n",
    "runway = pd.read_csv(\"runway.csv\", parse_dates=['review_date'])\n",
    "\n",
    "# Print the column info\n",
    "print(runway.columns)"
   ]
  },
  {
   "cell_type": "code",
   "execution_count": 40,
   "metadata": {},
   "outputs": [
    {
     "name": "stdout",
     "output_type": "stream",
     "text": [
      "<class 'pandas.core.frame.DataFrame'>\n",
      "RangeIndex: 1506 entries, 0 to 1505\n",
      "Data columns (total 10 columns):\n",
      " #   Column       Non-Null Count  Dtype         \n",
      "---  ------       --------------  -----         \n",
      " 0   user_id      1506 non-null   int64         \n",
      " 1   item_id      1506 non-null   int64         \n",
      " 2   rating       1506 non-null   int64         \n",
      " 3   rented for   1506 non-null   object        \n",
      " 4   review_text  1506 non-null   object        \n",
      " 5   category     1506 non-null   object        \n",
      " 6   height       1503 non-null   object        \n",
      " 7   size         1506 non-null   int64         \n",
      " 8   age          1500 non-null   float64       \n",
      " 9   review_date  1506 non-null   datetime64[ns]\n",
      "dtypes: datetime64[ns](1), float64(1), int64(4), object(4)\n",
      "memory usage: 117.8+ KB\n"
     ]
    }
   ],
   "source": [
    "runway.info()"
   ]
  },
  {
   "cell_type": "code",
   "execution_count": 41,
   "metadata": {},
   "outputs": [
    {
     "data": {
      "text/html": [
       "<div>\n",
       "<style scoped>\n",
       "    .dataframe tbody tr th:only-of-type {\n",
       "        vertical-align: middle;\n",
       "    }\n",
       "\n",
       "    .dataframe tbody tr th {\n",
       "        vertical-align: top;\n",
       "    }\n",
       "\n",
       "    .dataframe thead th {\n",
       "        text-align: right;\n",
       "    }\n",
       "</style>\n",
       "<table border=\"1\" class=\"dataframe\">\n",
       "  <thead>\n",
       "    <tr style=\"text-align: right;\">\n",
       "      <th></th>\n",
       "      <th>user_id</th>\n",
       "      <th>item_id</th>\n",
       "      <th>rating</th>\n",
       "      <th>rented for</th>\n",
       "      <th>review_text</th>\n",
       "      <th>category</th>\n",
       "      <th>height</th>\n",
       "      <th>size</th>\n",
       "      <th>age</th>\n",
       "      <th>review_date</th>\n",
       "    </tr>\n",
       "  </thead>\n",
       "  <tbody>\n",
       "    <tr>\n",
       "      <th>0</th>\n",
       "      <td>476109</td>\n",
       "      <td>139086</td>\n",
       "      <td>8</td>\n",
       "      <td>formal affair</td>\n",
       "      <td>it hit the floor perfectly with a pair of heel...</td>\n",
       "      <td>gown</td>\n",
       "      <td>5' 3\"</td>\n",
       "      <td>15</td>\n",
       "      <td>27.0</td>\n",
       "      <td>2017-12-19</td>\n",
       "    </tr>\n",
       "    <tr>\n",
       "      <th>1</th>\n",
       "      <td>203660</td>\n",
       "      <td>1126889</td>\n",
       "      <td>6</td>\n",
       "      <td>party</td>\n",
       "      <td>the dress is absolutely gorgeous unfortunately...</td>\n",
       "      <td>dress</td>\n",
       "      <td>5' 4\"</td>\n",
       "      <td>12</td>\n",
       "      <td>28.0</td>\n",
       "      <td>2022-01-03</td>\n",
       "    </tr>\n",
       "    <tr>\n",
       "      <th>2</th>\n",
       "      <td>868581</td>\n",
       "      <td>652189</td>\n",
       "      <td>8</td>\n",
       "      <td>wedding</td>\n",
       "      <td>even though it was lined with satin this was a...</td>\n",
       "      <td>dress</td>\n",
       "      <td>5' 5\"</td>\n",
       "      <td>24</td>\n",
       "      <td>30.0</td>\n",
       "      <td>2021-08-05</td>\n",
       "    </tr>\n",
       "    <tr>\n",
       "      <th>3</th>\n",
       "      <td>935076</td>\n",
       "      <td>1879504</td>\n",
       "      <td>8</td>\n",
       "      <td>wedding</td>\n",
       "      <td>this dress was greatit fit really well and was...</td>\n",
       "      <td>sheath</td>\n",
       "      <td>5' 3\"</td>\n",
       "      <td>14</td>\n",
       "      <td>37.0</td>\n",
       "      <td>2021-10-02</td>\n",
       "    </tr>\n",
       "    <tr>\n",
       "      <th>4</th>\n",
       "      <td>995023</td>\n",
       "      <td>1179146</td>\n",
       "      <td>10</td>\n",
       "      <td>party</td>\n",
       "      <td>super flattering i am usually a sizemi have a ...</td>\n",
       "      <td>dress</td>\n",
       "      <td>5' 2\"</td>\n",
       "      <td>14</td>\n",
       "      <td>37.0</td>\n",
       "      <td>2022-11-20</td>\n",
       "    </tr>\n",
       "  </tbody>\n",
       "</table>\n",
       "</div>"
      ],
      "text/plain": [
       "   user_id  item_id  rating     rented for  \\\n",
       "0   476109   139086       8  formal affair   \n",
       "1   203660  1126889       6          party   \n",
       "2   868581   652189       8        wedding   \n",
       "3   935076  1879504       8        wedding   \n",
       "4   995023  1179146      10          party   \n",
       "\n",
       "                                         review_text category height  size  \\\n",
       "0  it hit the floor perfectly with a pair of heel...     gown  5' 3\"    15   \n",
       "1  the dress is absolutely gorgeous unfortunately...    dress  5' 4\"    12   \n",
       "2  even though it was lined with satin this was a...    dress  5' 5\"    24   \n",
       "3  this dress was greatit fit really well and was...   sheath  5' 3\"    14   \n",
       "4  super flattering i am usually a sizemi have a ...    dress  5' 2\"    14   \n",
       "\n",
       "    age review_date  \n",
       "0  27.0  2017-12-19  \n",
       "1  28.0  2022-01-03  \n",
       "2  30.0  2021-08-05  \n",
       "3  37.0  2021-10-02  \n",
       "4  37.0  2022-11-20  "
      ]
     },
     "execution_count": 41,
     "metadata": {},
     "output_type": "execute_result"
    }
   ],
   "source": [
    "runway.head()"
   ]
  },
  {
   "cell_type": "code",
   "execution_count": 42,
   "metadata": {},
   "outputs": [
    {
     "name": "stdout",
     "output_type": "stream",
     "text": [
      "Rows: 1506\n",
      "Columns: 10\n"
     ]
    }
   ],
   "source": [
    "print(\"Rows:\", list(runway.shape)[0])\n",
    "print(\"Columns:\", list(runway.shape)[1])"
   ]
  },
  {
   "cell_type": "markdown",
   "metadata": {},
   "source": [
    "## Task 2: Preprocessing the `review_text`"
   ]
  },
  {
   "cell_type": "markdown",
   "metadata": {},
   "source": [
    "Most unstructured text, such as reviews for products, are messy. They contain special characters which may not be necessary, extra spaces, irrelevant digits, and more. Therefore, it is common practice to process, or clean, the text before performing NLP tasks on it.\n",
    "\n",
    "You will create several processing steps for the `review_text` strings.\n",
    "\n",
    "Note: there may be some instances where special characters, digits, and the like are important to the meaning, or context, of the sentence. It's best to think through the implications of such preprocessing steps before blindly doing so.\n",
    "\n",
    "Also note: some Pythonistas will say preprocessing text before using transformers, such as those from Hugging Face, is unnecessary. We will explore this in the following tasks. "
   ]
  },
  {
   "cell_type": "markdown",
   "metadata": {},
   "source": [
    "### Instructions"
   ]
  },
  {
   "cell_type": "markdown",
   "metadata": {},
   "source": [
    "Create several steps that will preprocess the text for the following areas:\n",
    "- replace the special character \"/\" with a space;\n",
    "- remove punctuations;\n",
    "- remove digits;\n",
    "- replace runs of whitespace, i.e. more than one in a row, with no space; and\n",
    "- make lowercase.\n",
    "\n",
    "Apply these changes to the `review_text` column in the `runway` dataset. \n",
    "\n",
    "Save as `review_text_cleaned`."
   ]
  },
  {
   "cell_type": "code",
   "execution_count": 21,
   "metadata": {
    "executionCancelledAt": null,
    "executionTime": 653,
    "lastExecutedAt": 1696016455807,
    "lastScheduledRunId": null,
    "lastSuccessfullyExecutedCode": "# Remove the forward-slash character\nrunway['review_text_cleaned'] = runway['review_text_cleaned'].str.replace(r\"\\/\",\"\")\n\n# Remove punctuation\nrunway['review_text_cleaned'] = runway['review_text_cleaned'].str.translate(string.punctuation)\n\n# Remove digits\nrunway['review_text_cleaned'] = runway['review_text_cleaned'].str.replace(r\"\\d+\",\"\")\n\n# Remove running spaces\nrunway['review_text_cleaned'] = runway['review_text_cleaned'].str.replace(r\"\\s{2,}\",\"\")"
   },
   "outputs": [],
   "source": [
    "# Remove the forward-slash character\n",
    "runway['review_text_cleaned'] = runway['review_text'].str.replace(r\"\\/\", \"\")\n",
    "\n",
    "# Remove punctuation\n",
    "runway['review_text_cleaned'] = runway['review_text_cleaned'].str.translate(string.punctuation)\n",
    "\n",
    "# Remove digits\n",
    "runway['review_text_cleaned'] = runway['review_text_cleaned'].str.replace(r\"\\d+\", \"\")\n",
    "\n",
    "\n",
    "# Remove running spaces\n",
    "runway['review_text_cleaned'] = runway['review_text_cleaned'].str.replace(r\"\\{2,}\", \"\")\n",
    "\n",
    "\n",
    "# Make the text lowercase\n",
    "runway['review_text_cleaned'] = runway['review_text_cleaned'].str.lower()"
   ]
  },
  {
   "cell_type": "code",
   "execution_count": 26,
   "metadata": {},
   "outputs": [
    {
     "data": {
      "text/html": [
       "<div>\n",
       "<style scoped>\n",
       "    .dataframe tbody tr th:only-of-type {\n",
       "        vertical-align: middle;\n",
       "    }\n",
       "\n",
       "    .dataframe tbody tr th {\n",
       "        vertical-align: top;\n",
       "    }\n",
       "\n",
       "    .dataframe thead th {\n",
       "        text-align: right;\n",
       "    }\n",
       "</style>\n",
       "<table border=\"1\" class=\"dataframe\">\n",
       "  <thead>\n",
       "    <tr style=\"text-align: right;\">\n",
       "      <th></th>\n",
       "      <th>user_id</th>\n",
       "      <th>item_id</th>\n",
       "      <th>rating</th>\n",
       "      <th>rented for</th>\n",
       "      <th>review_text</th>\n",
       "      <th>category</th>\n",
       "      <th>height</th>\n",
       "      <th>size</th>\n",
       "      <th>age</th>\n",
       "      <th>review_date</th>\n",
       "      <th>review_text_cleaned</th>\n",
       "    </tr>\n",
       "  </thead>\n",
       "  <tbody>\n",
       "    <tr>\n",
       "      <th>0</th>\n",
       "      <td>476109</td>\n",
       "      <td>139086</td>\n",
       "      <td>8</td>\n",
       "      <td>formal affair</td>\n",
       "      <td>it hit the floor perfectly with a pair of heel...</td>\n",
       "      <td>gown</td>\n",
       "      <td>5' 3\"</td>\n",
       "      <td>15</td>\n",
       "      <td>27.0</td>\n",
       "      <td>2017-12-19</td>\n",
       "      <td>it hit the floor perfectly with a pair of heel...</td>\n",
       "    </tr>\n",
       "    <tr>\n",
       "      <th>1</th>\n",
       "      <td>203660</td>\n",
       "      <td>1126889</td>\n",
       "      <td>6</td>\n",
       "      <td>party</td>\n",
       "      <td>the dress is absolutely gorgeous unfortunately...</td>\n",
       "      <td>dress</td>\n",
       "      <td>5' 4\"</td>\n",
       "      <td>12</td>\n",
       "      <td>28.0</td>\n",
       "      <td>2022-01-03</td>\n",
       "      <td>the dress is absolutely gorgeous unfortunately...</td>\n",
       "    </tr>\n",
       "    <tr>\n",
       "      <th>2</th>\n",
       "      <td>868581</td>\n",
       "      <td>652189</td>\n",
       "      <td>8</td>\n",
       "      <td>wedding</td>\n",
       "      <td>even though it was lined with satin this was a...</td>\n",
       "      <td>dress</td>\n",
       "      <td>5' 5\"</td>\n",
       "      <td>24</td>\n",
       "      <td>30.0</td>\n",
       "      <td>2021-08-05</td>\n",
       "      <td>even though it was lined with satin this was a...</td>\n",
       "    </tr>\n",
       "    <tr>\n",
       "      <th>3</th>\n",
       "      <td>935076</td>\n",
       "      <td>1879504</td>\n",
       "      <td>8</td>\n",
       "      <td>wedding</td>\n",
       "      <td>this dress was greatit fit really well and was...</td>\n",
       "      <td>sheath</td>\n",
       "      <td>5' 3\"</td>\n",
       "      <td>14</td>\n",
       "      <td>37.0</td>\n",
       "      <td>2021-10-02</td>\n",
       "      <td>this dress was greatit fit really well and was...</td>\n",
       "    </tr>\n",
       "    <tr>\n",
       "      <th>4</th>\n",
       "      <td>995023</td>\n",
       "      <td>1179146</td>\n",
       "      <td>10</td>\n",
       "      <td>party</td>\n",
       "      <td>super flattering i am usually a sizemi have a ...</td>\n",
       "      <td>dress</td>\n",
       "      <td>5' 2\"</td>\n",
       "      <td>14</td>\n",
       "      <td>37.0</td>\n",
       "      <td>2022-11-20</td>\n",
       "      <td>super flattering i am usually a sizemi have a ...</td>\n",
       "    </tr>\n",
       "  </tbody>\n",
       "</table>\n",
       "</div>"
      ],
      "text/plain": [
       "   user_id  item_id  rating     rented for  \\\n",
       "0   476109   139086       8  formal affair   \n",
       "1   203660  1126889       6          party   \n",
       "2   868581   652189       8        wedding   \n",
       "3   935076  1879504       8        wedding   \n",
       "4   995023  1179146      10          party   \n",
       "\n",
       "                                         review_text category height  size  \\\n",
       "0  it hit the floor perfectly with a pair of heel...     gown  5' 3\"    15   \n",
       "1  the dress is absolutely gorgeous unfortunately...    dress  5' 4\"    12   \n",
       "2  even though it was lined with satin this was a...    dress  5' 5\"    24   \n",
       "3  this dress was greatit fit really well and was...   sheath  5' 3\"    14   \n",
       "4  super flattering i am usually a sizemi have a ...    dress  5' 2\"    14   \n",
       "\n",
       "    age review_date                                review_text_cleaned  \n",
       "0  27.0  2017-12-19  it hit the floor perfectly with a pair of heel...  \n",
       "1  28.0  2022-01-03  the dress is absolutely gorgeous unfortunately...  \n",
       "2  30.0  2021-08-05  even though it was lined with satin this was a...  \n",
       "3  37.0  2021-10-02  this dress was greatit fit really well and was...  \n",
       "4  37.0  2022-11-20  super flattering i am usually a sizemi have a ...  "
      ]
     },
     "execution_count": 26,
     "metadata": {},
     "output_type": "execute_result"
    }
   ],
   "source": [
    "runway.head()"
   ]
  },
  {
   "cell_type": "markdown",
   "metadata": {},
   "source": [
    "## Task 3: Sentiment Analysis on `review_text_cleaned`"
   ]
  },
  {
   "cell_type": "markdown",
   "metadata": {},
   "source": [
    "Great! The review text is now clean from extraneous characters. You are ready to start performing some NLP tasks!\n",
    "\n",
    "You will start with sentiment analysis, or the categorizing of text into two buckets - negative or positive. Some models on Hugging Face have the ability to categorize text as neutral as well. \n",
    "\n",
    "Sentiment analysis is a common, and useful, NLP task performed in a typical business settings. It can help decision makers determine trends in product or service perception, customer experience, reviews, and more. It can also act as a starting point for deeper analysis.\n",
    "\n",
    "In this task, you will use the `pipeline()` function with the [\"distilbert-base-uncased-finetuned-sst-2-english\"](https://huggingface.co/distilbert-base-uncased-finetuned-sst-2-english) model. This is a smaller general-purpose language representation model that is great at text classification (i.e. sentiment analysis)."
   ]
  },
  {
   "cell_type": "markdown",
   "metadata": {},
   "source": [
    "### Instructions"
   ]
  },
  {
   "cell_type": "markdown",
   "metadata": {},
   "source": [
    "The `pipeline()` function can help you achieve this.\n",
    "\n",
    "- Instantiate a new pipeline object for `sentiment-analysis`. Save as `sentimentAnalysis`.\n",
    "- Use this with a list of the cleaned review text as the input to return sentiment for each review. Save the output as `sent_analysis_output`."
   ]
  },
  {
   "cell_type": "markdown",
   "metadata": {},
   "source": [
    "Note that this task is computationally intensive and may take several minutes to run. It runs faster in Premium Workspace."
   ]
  },
  {
   "cell_type": "code",
   "execution_count": 27,
   "metadata": {
    "executionCancelledAt": null,
    "executionTime": 36792,
    "jupyter": {
     "outputs_hidden": true,
     "source_hidden": false
    },
    "lastExecutedAt": 1695260793634,
    "lastScheduledRunId": null,
    "lastSuccessfullyExecutedCode": "model = \"distilbert-base-uncased-finetuned-sst-2-english\"\n\n# Instantiate the new pipeline() object for sentiment analysis. Include the model defined above as the model input.\nsentimentAnalysis = pipeline(\"sentiment-analysis\", model = model)\n\n# Run sentiment analysis on the cleaned review text.\nsent_analysis_output = sentimentAnalysis(list(runway[\"review_text_cleaned\"]))",
    "outputsMetadata": {
     "0": {
      "height": 134,
      "type": "stream"
     },
     "4": {
      "height": 76,
      "type": "stream"
     }
    }
   },
   "outputs": [],
   "source": [
    "model = \"distilbert-base-uncased-finetuned-sst-2-english\"\n",
    "\n",
    "# Instantiate the new pipeline() object for sentiment analysis. Include the model defined above as the model input.\n",
    "sentiment_analysis = pipeline(\"sentiment-analysis\", model=model)\n",
    "\n",
    "# Run sentiment analysis on the cleaned review text.\n",
    "sentiment_analysis_output = sentiment_analysis(list(runway['review_text_cleaned']))"
   ]
  },
  {
   "cell_type": "code",
   "execution_count": 28,
   "metadata": {},
   "outputs": [
    {
     "name": "stdout",
     "output_type": "stream",
     "text": [
      "[{'label': 'POSITIVE', 'score': 0.9998089671134949}, {'label': 'NEGATIVE', 'score': 0.9507226347923279}, {'label': 'NEGATIVE', 'score': 0.9872165322303772}, {'label': 'POSITIVE', 'score': 0.9960770010948181}, {'label': 'NEGATIVE', 'score': 0.9667245149612427}, {'label': 'POSITIVE', 'score': 0.9882996082305908}, {'label': 'POSITIVE', 'score': 0.7901321053504944}, {'label': 'POSITIVE', 'score': 0.9877718687057495}, {'label': 'POSITIVE', 'score': 0.9967693090438843}, {'label': 'POSITIVE', 'score': 0.9960691928863525}, {'label': 'NEGATIVE', 'score': 0.9993739724159241}, {'label': 'NEGATIVE', 'score': 0.7370165586471558}, {'label': 'NEGATIVE', 'score': 0.8242034912109375}, {'label': 'NEGATIVE', 'score': 0.6067991256713867}, {'label': 'POSITIVE', 'score': 0.9996150732040405}, {'label': 'POSITIVE', 'score': 0.995503842830658}, {'label': 'NEGATIVE', 'score': 0.9917631149291992}, {'label': 'POSITIVE', 'score': 0.9996963739395142}, {'label': 'POSITIVE', 'score': 0.997819185256958}, {'label': 'POSITIVE', 'score': 0.9964922070503235}, {'label': 'POSITIVE', 'score': 0.9998760223388672}, {'label': 'POSITIVE', 'score': 0.9997881054878235}, {'label': 'NEGATIVE', 'score': 0.992333173751831}, {'label': 'POSITIVE', 'score': 0.9990977048873901}, {'label': 'POSITIVE', 'score': 0.9644347429275513}, {'label': 'NEGATIVE', 'score': 0.9669082760810852}, {'label': 'POSITIVE', 'score': 0.9994729161262512}, {'label': 'NEGATIVE', 'score': 0.983366072177887}, {'label': 'NEGATIVE', 'score': 0.9277482628822327}, {'label': 'POSITIVE', 'score': 0.5665560364723206}, {'label': 'POSITIVE', 'score': 0.9974862337112427}, {'label': 'POSITIVE', 'score': 0.9959671497344971}, {'label': 'POSITIVE', 'score': 0.9989068508148193}, {'label': 'POSITIVE', 'score': 0.9932860732078552}, {'label': 'POSITIVE', 'score': 0.9906436800956726}, {'label': 'POSITIVE', 'score': 0.9993151426315308}, {'label': 'NEGATIVE', 'score': 0.9986158609390259}, {'label': 'POSITIVE', 'score': 0.9998629093170166}, {'label': 'POSITIVE', 'score': 0.7492861747741699}, {'label': 'POSITIVE', 'score': 0.9997379183769226}, {'label': 'NEGATIVE', 'score': 0.9691173434257507}, {'label': 'POSITIVE', 'score': 0.999536395072937}, {'label': 'POSITIVE', 'score': 0.5761208534240723}, {'label': 'POSITIVE', 'score': 0.9974688291549683}, {'label': 'POSITIVE', 'score': 0.9981209635734558}, {'label': 'NEGATIVE', 'score': 0.9935228824615479}, {'label': 'POSITIVE', 'score': 0.99859219789505}, {'label': 'POSITIVE', 'score': 0.9924314022064209}, {'label': 'POSITIVE', 'score': 0.9998384714126587}, {'label': 'POSITIVE', 'score': 0.9938730001449585}, {'label': 'POSITIVE', 'score': 0.9998363256454468}, {'label': 'NEGATIVE', 'score': 0.9546806812286377}, {'label': 'NEGATIVE', 'score': 0.9926940202713013}, {'label': 'NEGATIVE', 'score': 0.9965299963951111}, {'label': 'POSITIVE', 'score': 0.999627947807312}, {'label': 'POSITIVE', 'score': 0.9993864297866821}, {'label': 'POSITIVE', 'score': 0.8441553711891174}, {'label': 'POSITIVE', 'score': 0.9908217191696167}, {'label': 'POSITIVE', 'score': 0.9938377737998962}, {'label': 'POSITIVE', 'score': 0.9865239858627319}, {'label': 'POSITIVE', 'score': 0.9518868923187256}, {'label': 'POSITIVE', 'score': 0.9864647388458252}, {'label': 'NEGATIVE', 'score': 0.9996323585510254}, {'label': 'POSITIVE', 'score': 0.999212384223938}, {'label': 'POSITIVE', 'score': 0.9993450045585632}, {'label': 'POSITIVE', 'score': 0.9828609228134155}, {'label': 'NEGATIVE', 'score': 0.8557316064834595}, {'label': 'NEGATIVE', 'score': 0.6424281001091003}, {'label': 'POSITIVE', 'score': 0.7764914035797119}, {'label': 'NEGATIVE', 'score': 0.9485507607460022}, {'label': 'POSITIVE', 'score': 0.9979428648948669}, {'label': 'NEGATIVE', 'score': 0.9870043396949768}, {'label': 'NEGATIVE', 'score': 0.7806621193885803}, {'label': 'NEGATIVE', 'score': 0.7114090919494629}, {'label': 'POSITIVE', 'score': 0.9923083782196045}, {'label': 'POSITIVE', 'score': 0.9995695948600769}, {'label': 'POSITIVE', 'score': 0.9989780187606812}, {'label': 'POSITIVE', 'score': 0.9962148070335388}, {'label': 'POSITIVE', 'score': 0.9983030557632446}, {'label': 'POSITIVE', 'score': 0.9991469383239746}, {'label': 'POSITIVE', 'score': 0.9992715716362}, {'label': 'POSITIVE', 'score': 0.9998601675033569}, {'label': 'POSITIVE', 'score': 0.9997757077217102}, {'label': 'POSITIVE', 'score': 0.9998735189437866}, {'label': 'POSITIVE', 'score': 0.8766210675239563}, {'label': 'POSITIVE', 'score': 0.8676316142082214}, {'label': 'POSITIVE', 'score': 0.9998537302017212}, {'label': 'NEGATIVE', 'score': 0.5165632367134094}, {'label': 'POSITIVE', 'score': 0.9978989362716675}, {'label': 'POSITIVE', 'score': 0.9989438652992249}, {'label': 'POSITIVE', 'score': 0.9940692186355591}, {'label': 'NEGATIVE', 'score': 0.8840101957321167}, {'label': 'POSITIVE', 'score': 0.9839487671852112}, {'label': 'POSITIVE', 'score': 0.9992484450340271}, {'label': 'POSITIVE', 'score': 0.9905174374580383}, {'label': 'POSITIVE', 'score': 0.9996722936630249}, {'label': 'POSITIVE', 'score': 0.9997308850288391}, {'label': 'NEGATIVE', 'score': 0.9864866733551025}, {'label': 'POSITIVE', 'score': 0.9759195446968079}, {'label': 'POSITIVE', 'score': 0.984893262386322}, {'label': 'POSITIVE', 'score': 0.9990424513816833}, {'label': 'POSITIVE', 'score': 0.9989739656448364}, {'label': 'POSITIVE', 'score': 0.9995517134666443}, {'label': 'POSITIVE', 'score': 0.8669490218162537}, {'label': 'NEGATIVE', 'score': 0.9982154369354248}, {'label': 'POSITIVE', 'score': 0.9998302459716797}, {'label': 'POSITIVE', 'score': 0.9821803569793701}, {'label': 'POSITIVE', 'score': 0.9928790926933289}, {'label': 'POSITIVE', 'score': 0.7895600199699402}, {'label': 'POSITIVE', 'score': 0.9997000694274902}, {'label': 'POSITIVE', 'score': 0.9996179342269897}, {'label': 'NEGATIVE', 'score': 0.9912170171737671}, {'label': 'POSITIVE', 'score': 0.9692667126655579}, {'label': 'NEGATIVE', 'score': 0.9974637031555176}, {'label': 'POSITIVE', 'score': 0.9885736703872681}, {'label': 'NEGATIVE', 'score': 0.9328135251998901}, {'label': 'NEGATIVE', 'score': 0.9995935559272766}, {'label': 'POSITIVE', 'score': 0.993910551071167}, {'label': 'POSITIVE', 'score': 0.9785060286521912}, {'label': 'POSITIVE', 'score': 0.9984059929847717}, {'label': 'POSITIVE', 'score': 0.9981860518455505}, {'label': 'POSITIVE', 'score': 0.9980311989784241}, {'label': 'NEGATIVE', 'score': 0.9956820011138916}, {'label': 'POSITIVE', 'score': 0.9998610019683838}, {'label': 'POSITIVE', 'score': 0.9856597185134888}, {'label': 'POSITIVE', 'score': 0.9641517400741577}, {'label': 'POSITIVE', 'score': 0.9996933937072754}, {'label': 'POSITIVE', 'score': 0.9998433589935303}, {'label': 'POSITIVE', 'score': 0.9997144341468811}, {'label': 'POSITIVE', 'score': 0.9998289346694946}, {'label': 'POSITIVE', 'score': 0.9992331266403198}, {'label': 'NEGATIVE', 'score': 0.9784203171730042}, {'label': 'POSITIVE', 'score': 0.9937344193458557}, {'label': 'POSITIVE', 'score': 0.9991425275802612}, {'label': 'NEGATIVE', 'score': 0.99919193983078}, {'label': 'POSITIVE', 'score': 0.9962729215621948}, {'label': 'POSITIVE', 'score': 0.9541907906532288}, {'label': 'NEGATIVE', 'score': 0.9748338460922241}, {'label': 'NEGATIVE', 'score': 0.9808564186096191}, {'label': 'POSITIVE', 'score': 0.9859740138053894}, {'label': 'POSITIVE', 'score': 0.9997493624687195}, {'label': 'POSITIVE', 'score': 0.9956141710281372}, {'label': 'POSITIVE', 'score': 0.7463825941085815}, {'label': 'NEGATIVE', 'score': 0.9913696050643921}, {'label': 'POSITIVE', 'score': 0.9769183993339539}, {'label': 'POSITIVE', 'score': 0.999620795249939}, {'label': 'POSITIVE', 'score': 0.9122523069381714}, {'label': 'POSITIVE', 'score': 0.999855637550354}, {'label': 'POSITIVE', 'score': 0.999382734298706}, {'label': 'POSITIVE', 'score': 0.9997063279151917}, {'label': 'POSITIVE', 'score': 0.9885863661766052}, {'label': 'POSITIVE', 'score': 0.9998302459716797}, {'label': 'POSITIVE', 'score': 0.9672767519950867}, {'label': 'POSITIVE', 'score': 0.9952104687690735}, {'label': 'POSITIVE', 'score': 0.9943974018096924}, {'label': 'POSITIVE', 'score': 0.998792290687561}, {'label': 'POSITIVE', 'score': 0.9997270703315735}, {'label': 'POSITIVE', 'score': 0.9994121789932251}, {'label': 'POSITIVE', 'score': 0.968643844127655}, {'label': 'NEGATIVE', 'score': 0.9901662468910217}, {'label': 'POSITIVE', 'score': 0.8905839323997498}, {'label': 'POSITIVE', 'score': 0.9991503953933716}, {'label': 'POSITIVE', 'score': 0.9852396249771118}, {'label': 'NEGATIVE', 'score': 0.9993000030517578}, {'label': 'POSITIVE', 'score': 0.9955556988716125}, {'label': 'POSITIVE', 'score': 0.9998084902763367}, {'label': 'POSITIVE', 'score': 0.9987610578536987}, {'label': 'POSITIVE', 'score': 0.9898905754089355}, {'label': 'POSITIVE', 'score': 0.522340714931488}, {'label': 'NEGATIVE', 'score': 0.7402803301811218}, {'label': 'POSITIVE', 'score': 0.9978587031364441}, {'label': 'NEGATIVE', 'score': 0.917951226234436}, {'label': 'POSITIVE', 'score': 0.6952030658721924}, {'label': 'NEGATIVE', 'score': 0.9687236547470093}, {'label': 'NEGATIVE', 'score': 0.8235573172569275}, {'label': 'POSITIVE', 'score': 0.91172194480896}, {'label': 'NEGATIVE', 'score': 0.9909130334854126}, {'label': 'POSITIVE', 'score': 0.9998656511306763}, {'label': 'POSITIVE', 'score': 0.9901442527770996}, {'label': 'POSITIVE', 'score': 0.8767041563987732}, {'label': 'POSITIVE', 'score': 0.9980508089065552}, {'label': 'POSITIVE', 'score': 0.999128520488739}, {'label': 'NEGATIVE', 'score': 0.9972689747810364}, {'label': 'NEGATIVE', 'score': 0.9987000226974487}, {'label': 'NEGATIVE', 'score': 0.9982910752296448}, {'label': 'NEGATIVE', 'score': 0.8924707174301147}, {'label': 'POSITIVE', 'score': 0.9996415376663208}, {'label': 'POSITIVE', 'score': 0.9601185917854309}, {'label': 'POSITIVE', 'score': 0.9988021850585938}, {'label': 'POSITIVE', 'score': 0.9532693028450012}, {'label': 'NEGATIVE', 'score': 0.9924536347389221}, {'label': 'POSITIVE', 'score': 0.9996800422668457}, {'label': 'POSITIVE', 'score': 0.9986093044281006}, {'label': 'POSITIVE', 'score': 0.9994731545448303}, {'label': 'POSITIVE', 'score': 0.9975000023841858}, {'label': 'NEGATIVE', 'score': 0.9912949800491333}, {'label': 'POSITIVE', 'score': 0.9859716296195984}, {'label': 'NEGATIVE', 'score': 0.5373855233192444}, {'label': 'POSITIVE', 'score': 0.9919539093971252}, {'label': 'NEGATIVE', 'score': 0.6953909397125244}, {'label': 'POSITIVE', 'score': 0.9435532093048096}, {'label': 'POSITIVE', 'score': 0.9993467926979065}, {'label': 'POSITIVE', 'score': 0.9938108325004578}, {'label': 'POSITIVE', 'score': 0.9996505975723267}, {'label': 'NEGATIVE', 'score': 0.9826871752738953}, {'label': 'POSITIVE', 'score': 0.9541069865226746}, {'label': 'POSITIVE', 'score': 0.9988271594047546}, {'label': 'POSITIVE', 'score': 0.9960684776306152}, {'label': 'POSITIVE', 'score': 0.9998395442962646}, {'label': 'POSITIVE', 'score': 0.9995201826095581}, {'label': 'POSITIVE', 'score': 0.9998652935028076}, {'label': 'NEGATIVE', 'score': 0.9894596338272095}, {'label': 'POSITIVE', 'score': 0.9981443881988525}, {'label': 'POSITIVE', 'score': 0.9985350370407104}, {'label': 'POSITIVE', 'score': 0.9992995262145996}, {'label': 'POSITIVE', 'score': 0.9981318116188049}, {'label': 'NEGATIVE', 'score': 0.6352413892745972}, {'label': 'POSITIVE', 'score': 0.9979669451713562}, {'label': 'NEGATIVE', 'score': 0.8567021489143372}, {'label': 'NEGATIVE', 'score': 0.9593545794487}, {'label': 'POSITIVE', 'score': 0.7083665728569031}, {'label': 'POSITIVE', 'score': 0.9934998750686646}, {'label': 'POSITIVE', 'score': 0.9977658987045288}, {'label': 'POSITIVE', 'score': 0.9989598989486694}, {'label': 'NEGATIVE', 'score': 0.9916622638702393}, {'label': 'POSITIVE', 'score': 0.9996767044067383}, {'label': 'POSITIVE', 'score': 0.9993476271629333}, {'label': 'POSITIVE', 'score': 0.9988667964935303}, {'label': 'NEGATIVE', 'score': 0.9688050746917725}, {'label': 'POSITIVE', 'score': 0.9997376799583435}, {'label': 'POSITIVE', 'score': 0.9998366832733154}, {'label': 'POSITIVE', 'score': 0.9976553916931152}, {'label': 'POSITIVE', 'score': 0.9978981018066406}, {'label': 'POSITIVE', 'score': 0.9956480860710144}, {'label': 'NEGATIVE', 'score': 0.8811972141265869}, {'label': 'POSITIVE', 'score': 0.9994959831237793}, {'label': 'NEGATIVE', 'score': 0.9677128195762634}, {'label': 'NEGATIVE', 'score': 0.7683978080749512}, {'label': 'POSITIVE', 'score': 0.9995850920677185}, {'label': 'POSITIVE', 'score': 0.9778144955635071}, {'label': 'POSITIVE', 'score': 0.9982702732086182}, {'label': 'POSITIVE', 'score': 0.9898999333381653}, {'label': 'POSITIVE', 'score': 0.999874472618103}, {'label': 'POSITIVE', 'score': 0.7768619060516357}, {'label': 'POSITIVE', 'score': 0.998508632183075}, {'label': 'NEGATIVE', 'score': 0.9514646530151367}, {'label': 'NEGATIVE', 'score': 0.6917291283607483}, {'label': 'POSITIVE', 'score': 0.9913256764411926}, {'label': 'POSITIVE', 'score': 0.9879235625267029}, {'label': 'POSITIVE', 'score': 0.9936707019805908}, {'label': 'POSITIVE', 'score': 0.9307041764259338}, {'label': 'POSITIVE', 'score': 0.989036500453949}, {'label': 'POSITIVE', 'score': 0.9959697723388672}, {'label': 'NEGATIVE', 'score': 0.9971067309379578}, {'label': 'POSITIVE', 'score': 0.9996305704116821}, {'label': 'POSITIVE', 'score': 0.9990049004554749}, {'label': 'POSITIVE', 'score': 0.9703654050827026}, {'label': 'NEGATIVE', 'score': 0.5941013693809509}, {'label': 'NEGATIVE', 'score': 0.9868459701538086}, {'label': 'POSITIVE', 'score': 0.9998028874397278}, {'label': 'NEGATIVE', 'score': 0.964424192905426}, {'label': 'NEGATIVE', 'score': 0.8842740058898926}, {'label': 'NEGATIVE', 'score': 0.7147884964942932}, {'label': 'NEGATIVE', 'score': 0.5214875340461731}, {'label': 'POSITIVE', 'score': 0.9805922508239746}, {'label': 'POSITIVE', 'score': 0.9981655478477478}, {'label': 'POSITIVE', 'score': 0.9920879006385803}, {'label': 'POSITIVE', 'score': 0.6153050065040588}, {'label': 'POSITIVE', 'score': 0.98869389295578}, {'label': 'POSITIVE', 'score': 0.9966199398040771}, {'label': 'POSITIVE', 'score': 0.9812167882919312}, {'label': 'POSITIVE', 'score': 0.9969069361686707}, {'label': 'POSITIVE', 'score': 0.9569282531738281}, {'label': 'POSITIVE', 'score': 0.9928807020187378}, {'label': 'POSITIVE', 'score': 0.9976317882537842}, {'label': 'POSITIVE', 'score': 0.9997608065605164}, {'label': 'NEGATIVE', 'score': 0.9253532886505127}, {'label': 'POSITIVE', 'score': 0.9997764229774475}, {'label': 'NEGATIVE', 'score': 0.9906892776489258}, {'label': 'NEGATIVE', 'score': 0.9919298887252808}, {'label': 'POSITIVE', 'score': 0.9808636903762817}, {'label': 'POSITIVE', 'score': 0.9599729180335999}, {'label': 'POSITIVE', 'score': 0.9994171857833862}, {'label': 'POSITIVE', 'score': 0.9982678890228271}, {'label': 'POSITIVE', 'score': 0.9833770990371704}, {'label': 'POSITIVE', 'score': 0.9988172054290771}, {'label': 'NEGATIVE', 'score': 0.9941732287406921}, {'label': 'POSITIVE', 'score': 0.996476948261261}, {'label': 'NEGATIVE', 'score': 0.9966096878051758}, {'label': 'POSITIVE', 'score': 0.9998728036880493}, {'label': 'NEGATIVE', 'score': 0.9798998236656189}, {'label': 'POSITIVE', 'score': 0.9912471175193787}, {'label': 'POSITIVE', 'score': 0.9937902092933655}, {'label': 'POSITIVE', 'score': 0.9996852874755859}, {'label': 'NEGATIVE', 'score': 0.919211745262146}, {'label': 'POSITIVE', 'score': 0.999512791633606}, {'label': 'POSITIVE', 'score': 0.9945212602615356}, {'label': 'POSITIVE', 'score': 0.9980884194374084}, {'label': 'NEGATIVE', 'score': 0.9774622917175293}, {'label': 'NEGATIVE', 'score': 0.9843683838844299}, {'label': 'NEGATIVE', 'score': 0.996987521648407}, {'label': 'NEGATIVE', 'score': 0.9910752773284912}, {'label': 'POSITIVE', 'score': 0.9740692973136902}, {'label': 'NEGATIVE', 'score': 0.951592743396759}, {'label': 'POSITIVE', 'score': 0.9994675517082214}, {'label': 'POSITIVE', 'score': 0.9990938901901245}, {'label': 'POSITIVE', 'score': 0.9917431473731995}, {'label': 'POSITIVE', 'score': 0.8956448435783386}, {'label': 'NEGATIVE', 'score': 0.99116450548172}, {'label': 'NEGATIVE', 'score': 0.8100314736366272}, {'label': 'POSITIVE', 'score': 0.9463479518890381}, {'label': 'NEGATIVE', 'score': 0.9983174800872803}, {'label': 'POSITIVE', 'score': 0.9997679591178894}, {'label': 'NEGATIVE', 'score': 0.9861115217208862}, {'label': 'POSITIVE', 'score': 0.9978074431419373}, {'label': 'POSITIVE', 'score': 0.9909517765045166}, {'label': 'POSITIVE', 'score': 0.9937148690223694}, {'label': 'NEGATIVE', 'score': 0.9987123012542725}, {'label': 'POSITIVE', 'score': 0.9989008903503418}, {'label': 'POSITIVE', 'score': 0.9995785355567932}, {'label': 'POSITIVE', 'score': 0.9953874945640564}, {'label': 'POSITIVE', 'score': 0.9997320771217346}, {'label': 'NEGATIVE', 'score': 0.9932295083999634}, {'label': 'POSITIVE', 'score': 0.9971693158149719}, {'label': 'NEGATIVE', 'score': 0.9988508224487305}, {'label': 'POSITIVE', 'score': 0.629112720489502}, {'label': 'POSITIVE', 'score': 0.999664306640625}, {'label': 'POSITIVE', 'score': 0.9959815740585327}, {'label': 'POSITIVE', 'score': 0.9944759011268616}, {'label': 'POSITIVE', 'score': 0.9934276342391968}, {'label': 'POSITIVE', 'score': 0.9998869895935059}, {'label': 'NEGATIVE', 'score': 0.9694256782531738}, {'label': 'POSITIVE', 'score': 0.9997817873954773}, {'label': 'POSITIVE', 'score': 0.9998724460601807}, {'label': 'POSITIVE', 'score': 0.9886438846588135}, {'label': 'POSITIVE', 'score': 0.9988486766815186}, {'label': 'POSITIVE', 'score': 0.739491879940033}, {'label': 'POSITIVE', 'score': 0.8910018801689148}, {'label': 'NEGATIVE', 'score': 0.9774250984191895}, {'label': 'POSITIVE', 'score': 0.9980858564376831}, {'label': 'POSITIVE', 'score': 0.9995558857917786}, {'label': 'POSITIVE', 'score': 0.9937062859535217}, {'label': 'POSITIVE', 'score': 0.997787594795227}, {'label': 'POSITIVE', 'score': 0.9994309544563293}, {'label': 'POSITIVE', 'score': 0.9519359469413757}, {'label': 'POSITIVE', 'score': 0.8588420152664185}, {'label': 'POSITIVE', 'score': 0.9986997842788696}, {'label': 'POSITIVE', 'score': 0.999880313873291}, {'label': 'POSITIVE', 'score': 0.9993788003921509}, {'label': 'NEGATIVE', 'score': 0.9834924936294556}, {'label': 'POSITIVE', 'score': 0.9198285341262817}, {'label': 'POSITIVE', 'score': 0.998536229133606}, {'label': 'NEGATIVE', 'score': 0.9989577531814575}, {'label': 'POSITIVE', 'score': 0.9973307847976685}, {'label': 'POSITIVE', 'score': 0.9618916511535645}, {'label': 'POSITIVE', 'score': 0.9742189645767212}, {'label': 'NEGATIVE', 'score': 0.9575258493423462}, {'label': 'POSITIVE', 'score': 0.9991708993911743}, {'label': 'POSITIVE', 'score': 0.9972959160804749}, {'label': 'POSITIVE', 'score': 0.9990511536598206}, {'label': 'POSITIVE', 'score': 0.9889469742774963}, {'label': 'NEGATIVE', 'score': 0.9557693600654602}, {'label': 'POSITIVE', 'score': 0.9964200258255005}, {'label': 'POSITIVE', 'score': 0.9929524064064026}, {'label': 'NEGATIVE', 'score': 0.9975059628486633}, {'label': 'POSITIVE', 'score': 0.9993641972541809}, {'label': 'NEGATIVE', 'score': 0.9985941052436829}, {'label': 'POSITIVE', 'score': 0.9991389513015747}, {'label': 'POSITIVE', 'score': 0.998214602470398}, {'label': 'POSITIVE', 'score': 0.999640941619873}, {'label': 'POSITIVE', 'score': 0.9990593791007996}, {'label': 'POSITIVE', 'score': 0.5797029733657837}, {'label': 'POSITIVE', 'score': 0.9997976422309875}, {'label': 'POSITIVE', 'score': 0.9995653033256531}, {'label': 'POSITIVE', 'score': 0.996917724609375}, {'label': 'POSITIVE', 'score': 0.9998600482940674}, {'label': 'POSITIVE', 'score': 0.9992146492004395}, {'label': 'POSITIVE', 'score': 0.9997305274009705}, {'label': 'POSITIVE', 'score': 0.998388409614563}, {'label': 'POSITIVE', 'score': 0.9846883416175842}, {'label': 'POSITIVE', 'score': 0.9997954964637756}, {'label': 'POSITIVE', 'score': 0.9987213015556335}, {'label': 'POSITIVE', 'score': 0.9993332028388977}, {'label': 'NEGATIVE', 'score': 0.9963654279708862}, {'label': 'POSITIVE', 'score': 0.9993783235549927}, {'label': 'NEGATIVE', 'score': 0.991759717464447}, {'label': 'POSITIVE', 'score': 0.9997069239616394}, {'label': 'NEGATIVE', 'score': 0.9541717767715454}, {'label': 'POSITIVE', 'score': 0.5020554661750793}, {'label': 'NEGATIVE', 'score': 0.9974913597106934}, {'label': 'NEGATIVE', 'score': 0.8909861445426941}, {'label': 'POSITIVE', 'score': 0.9961799383163452}, {'label': 'POSITIVE', 'score': 0.9926415085792542}, {'label': 'NEGATIVE', 'score': 0.9808740019798279}, {'label': 'POSITIVE', 'score': 0.9993730187416077}, {'label': 'POSITIVE', 'score': 0.9972485899925232}, {'label': 'POSITIVE', 'score': 0.5347733497619629}, {'label': 'POSITIVE', 'score': 0.5592885613441467}, {'label': 'POSITIVE', 'score': 0.9998180270195007}, {'label': 'NEGATIVE', 'score': 0.8353068828582764}, {'label': 'NEGATIVE', 'score': 0.6416906118392944}, {'label': 'POSITIVE', 'score': 0.9485740065574646}, {'label': 'NEGATIVE', 'score': 0.9776487946510315}, {'label': 'POSITIVE', 'score': 0.9991692304611206}, {'label': 'POSITIVE', 'score': 0.9971133470535278}, {'label': 'POSITIVE', 'score': 0.9998785257339478}, {'label': 'NEGATIVE', 'score': 0.8918185830116272}, {'label': 'POSITIVE', 'score': 0.8493384718894958}, {'label': 'POSITIVE', 'score': 0.9756898880004883}, {'label': 'POSITIVE', 'score': 0.9979928731918335}, {'label': 'POSITIVE', 'score': 0.9885918498039246}, {'label': 'POSITIVE', 'score': 0.5998636484146118}, {'label': 'POSITIVE', 'score': 0.9954562187194824}, {'label': 'NEGATIVE', 'score': 0.9968284964561462}, {'label': 'POSITIVE', 'score': 0.9995543360710144}, {'label': 'NEGATIVE', 'score': 0.856865406036377}, {'label': 'POSITIVE', 'score': 0.999619722366333}, {'label': 'POSITIVE', 'score': 0.9998142123222351}, {'label': 'POSITIVE', 'score': 0.9934496283531189}, {'label': 'NEGATIVE', 'score': 0.9989713430404663}, {'label': 'POSITIVE', 'score': 0.9988683462142944}, {'label': 'NEGATIVE', 'score': 0.9867799878120422}, {'label': 'NEGATIVE', 'score': 0.9849263429641724}, {'label': 'NEGATIVE', 'score': 0.9994283318519592}, {'label': 'POSITIVE', 'score': 0.9991942048072815}, {'label': 'POSITIVE', 'score': 0.9987013339996338}, {'label': 'POSITIVE', 'score': 0.999839186668396}, {'label': 'NEGATIVE', 'score': 0.8377328515052795}, {'label': 'NEGATIVE', 'score': 0.8880940675735474}, {'label': 'POSITIVE', 'score': 0.996594250202179}, {'label': 'POSITIVE', 'score': 0.9998651742935181}, {'label': 'POSITIVE', 'score': 0.690239429473877}, {'label': 'POSITIVE', 'score': 0.989612877368927}, {'label': 'POSITIVE', 'score': 0.9996538162231445}, {'label': 'POSITIVE', 'score': 0.9922820925712585}, {'label': 'POSITIVE', 'score': 0.9912712574005127}, {'label': 'POSITIVE', 'score': 0.9912227392196655}, {'label': 'POSITIVE', 'score': 0.970024049282074}, {'label': 'POSITIVE', 'score': 0.9386991262435913}, {'label': 'POSITIVE', 'score': 0.9912274479866028}, {'label': 'POSITIVE', 'score': 0.9997705817222595}, {'label': 'POSITIVE', 'score': 0.9878119826316833}, {'label': 'POSITIVE', 'score': 0.9821673631668091}, {'label': 'POSITIVE', 'score': 0.9926517605781555}, {'label': 'POSITIVE', 'score': 0.9998111128807068}, {'label': 'POSITIVE', 'score': 0.9286901950836182}, {'label': 'POSITIVE', 'score': 0.9982782602310181}, {'label': 'POSITIVE', 'score': 0.9990493655204773}, {'label': 'POSITIVE', 'score': 0.9998596906661987}, {'label': 'POSITIVE', 'score': 0.9998094439506531}, {'label': 'POSITIVE', 'score': 0.9995410442352295}, {'label': 'POSITIVE', 'score': 0.80536949634552}, {'label': 'POSITIVE', 'score': 0.9707469940185547}, {'label': 'POSITIVE', 'score': 0.9191363453865051}, {'label': 'NEGATIVE', 'score': 0.9938876032829285}, {'label': 'POSITIVE', 'score': 0.9995884299278259}, {'label': 'NEGATIVE', 'score': 0.9928188920021057}, {'label': 'POSITIVE', 'score': 0.9998118281364441}, {'label': 'POSITIVE', 'score': 0.9941207766532898}, {'label': 'POSITIVE', 'score': 0.9996746778488159}, {'label': 'POSITIVE', 'score': 0.9700978994369507}, {'label': 'POSITIVE', 'score': 0.9660189151763916}, {'label': 'POSITIVE', 'score': 0.9980185031890869}, {'label': 'POSITIVE', 'score': 0.9919195175170898}, {'label': 'POSITIVE', 'score': 0.9987888932228088}, {'label': 'POSITIVE', 'score': 0.9850387573242188}, {'label': 'POSITIVE', 'score': 0.9893643856048584}, {'label': 'NEGATIVE', 'score': 0.5403746962547302}, {'label': 'POSITIVE', 'score': 0.9995977282524109}, {'label': 'POSITIVE', 'score': 0.9983092546463013}, {'label': 'POSITIVE', 'score': 0.9993453621864319}, {'label': 'POSITIVE', 'score': 0.9815844297409058}, {'label': 'POSITIVE', 'score': 0.9972875118255615}, {'label': 'NEGATIVE', 'score': 0.9337765574455261}, {'label': 'POSITIVE', 'score': 0.9879414439201355}, {'label': 'POSITIVE', 'score': 0.9980880618095398}, {'label': 'POSITIVE', 'score': 0.9936615228652954}, {'label': 'POSITIVE', 'score': 0.9775685667991638}, {'label': 'POSITIVE', 'score': 0.9996719360351562}, {'label': 'POSITIVE', 'score': 0.9998571872711182}, {'label': 'POSITIVE', 'score': 0.9980779886245728}, {'label': 'POSITIVE', 'score': 0.959086537361145}, {'label': 'NEGATIVE', 'score': 0.9724624752998352}, {'label': 'POSITIVE', 'score': 0.9995889067649841}, {'label': 'NEGATIVE', 'score': 0.961840808391571}, {'label': 'NEGATIVE', 'score': 0.864356279373169}, {'label': 'NEGATIVE', 'score': 0.9070600271224976}, {'label': 'NEGATIVE', 'score': 0.9888766407966614}, {'label': 'POSITIVE', 'score': 0.9995311498641968}, {'label': 'NEGATIVE', 'score': 0.8617091178894043}, {'label': 'NEGATIVE', 'score': 0.9645897746086121}, {'label': 'POSITIVE', 'score': 0.999855637550354}, {'label': 'NEGATIVE', 'score': 0.9759681224822998}, {'label': 'POSITIVE', 'score': 0.9979305267333984}, {'label': 'POSITIVE', 'score': 0.9562488794326782}, {'label': 'NEGATIVE', 'score': 0.9988332390785217}, {'label': 'POSITIVE', 'score': 0.973146915435791}, {'label': 'POSITIVE', 'score': 0.999636173248291}, {'label': 'POSITIVE', 'score': 0.9997666478157043}, {'label': 'POSITIVE', 'score': 0.9996455907821655}, {'label': 'POSITIVE', 'score': 0.952244758605957}, {'label': 'POSITIVE', 'score': 0.9815418720245361}, {'label': 'POSITIVE', 'score': 0.9944783449172974}, {'label': 'POSITIVE', 'score': 0.9996851682662964}, {'label': 'NEGATIVE', 'score': 0.9834924936294556}, {'label': 'POSITIVE', 'score': 0.6108787655830383}, {'label': 'POSITIVE', 'score': 0.9883180260658264}, {'label': 'NEGATIVE', 'score': 0.8232020139694214}, {'label': 'POSITIVE', 'score': 0.9994285702705383}, {'label': 'NEGATIVE', 'score': 0.9644262194633484}, {'label': 'NEGATIVE', 'score': 0.6134353876113892}, {'label': 'POSITIVE', 'score': 0.9982069730758667}, {'label': 'NEGATIVE', 'score': 0.9612719416618347}, {'label': 'POSITIVE', 'score': 0.999627947807312}, {'label': 'POSITIVE', 'score': 0.9895544052124023}, {'label': 'NEGATIVE', 'score': 0.9872325658798218}, {'label': 'POSITIVE', 'score': 0.9998503923416138}, {'label': 'POSITIVE', 'score': 0.9838072061538696}, {'label': 'POSITIVE', 'score': 0.957641065120697}, {'label': 'NEGATIVE', 'score': 0.8749576807022095}, {'label': 'POSITIVE', 'score': 0.9995822310447693}, {'label': 'POSITIVE', 'score': 0.9964596629142761}, {'label': 'NEGATIVE', 'score': 0.9883875250816345}, {'label': 'POSITIVE', 'score': 0.9996442794799805}, {'label': 'POSITIVE', 'score': 0.9979310035705566}, {'label': 'NEGATIVE', 'score': 0.8818657994270325}, {'label': 'POSITIVE', 'score': 0.9769439101219177}, {'label': 'POSITIVE', 'score': 0.9993901252746582}, {'label': 'POSITIVE', 'score': 0.9992237091064453}, {'label': 'POSITIVE', 'score': 0.9987938404083252}, {'label': 'POSITIVE', 'score': 0.9992058873176575}, {'label': 'POSITIVE', 'score': 0.9839023947715759}, {'label': 'POSITIVE', 'score': 0.9943829774856567}, {'label': 'NEGATIVE', 'score': 0.7857332825660706}, {'label': 'POSITIVE', 'score': 0.999721109867096}, {'label': 'POSITIVE', 'score': 0.9966803789138794}, {'label': 'POSITIVE', 'score': 0.865414559841156}, {'label': 'POSITIVE', 'score': 0.9982473850250244}, {'label': 'POSITIVE', 'score': 0.9684020280838013}, {'label': 'NEGATIVE', 'score': 0.5001569986343384}, {'label': 'POSITIVE', 'score': 0.9386209845542908}, {'label': 'POSITIVE', 'score': 0.9560147523880005}, {'label': 'POSITIVE', 'score': 0.9863455891609192}, {'label': 'NEGATIVE', 'score': 0.9795326590538025}, {'label': 'POSITIVE', 'score': 0.9996820688247681}, {'label': 'NEGATIVE', 'score': 0.983953595161438}, {'label': 'POSITIVE', 'score': 0.999782145023346}, {'label': 'NEGATIVE', 'score': 0.9876703023910522}, {'label': 'POSITIVE', 'score': 0.997837245464325}, {'label': 'POSITIVE', 'score': 0.9991210103034973}, {'label': 'POSITIVE', 'score': 0.9968410730361938}, {'label': 'POSITIVE', 'score': 0.9112454056739807}, {'label': 'POSITIVE', 'score': 0.9994786381721497}, {'label': 'POSITIVE', 'score': 0.999408483505249}, {'label': 'POSITIVE', 'score': 0.9996111989021301}, {'label': 'POSITIVE', 'score': 0.999394416809082}, {'label': 'POSITIVE', 'score': 0.9995999932289124}, {'label': 'POSITIVE', 'score': 0.9968891739845276}, {'label': 'NEGATIVE', 'score': 0.8466023206710815}, {'label': 'POSITIVE', 'score': 0.972247302532196}, {'label': 'POSITIVE', 'score': 0.9961460828781128}, {'label': 'POSITIVE', 'score': 0.9996275901794434}, {'label': 'POSITIVE', 'score': 0.9994088411331177}, {'label': 'POSITIVE', 'score': 0.9724941253662109}, {'label': 'NEGATIVE', 'score': 0.9866951704025269}, {'label': 'POSITIVE', 'score': 0.9998645782470703}, {'label': 'POSITIVE', 'score': 0.917643129825592}, {'label': 'POSITIVE', 'score': 0.5778926014900208}, {'label': 'NEGATIVE', 'score': 0.9954376816749573}, {'label': 'POSITIVE', 'score': 0.9994658827781677}, {'label': 'NEGATIVE', 'score': 0.9239541888237}, {'label': 'POSITIVE', 'score': 0.9998866319656372}, {'label': 'POSITIVE', 'score': 0.9845538139343262}, {'label': 'POSITIVE', 'score': 0.9988355040550232}, {'label': 'NEGATIVE', 'score': 0.9749060273170471}, {'label': 'NEGATIVE', 'score': 0.639450192451477}, {'label': 'POSITIVE', 'score': 0.9993140697479248}, {'label': 'POSITIVE', 'score': 0.9961318969726562}, {'label': 'NEGATIVE', 'score': 0.9214900732040405}, {'label': 'POSITIVE', 'score': 0.9864920973777771}, {'label': 'POSITIVE', 'score': 0.999796450138092}, {'label': 'NEGATIVE', 'score': 0.9983829259872437}, {'label': 'POSITIVE', 'score': 0.9989674091339111}, {'label': 'POSITIVE', 'score': 0.8269888162612915}, {'label': 'POSITIVE', 'score': 0.9990401864051819}, {'label': 'NEGATIVE', 'score': 0.8168820738792419}, {'label': 'POSITIVE', 'score': 0.9997387528419495}, {'label': 'POSITIVE', 'score': 0.9997454285621643}, {'label': 'POSITIVE', 'score': 0.9991198182106018}, {'label': 'NEGATIVE', 'score': 0.5232913494110107}, {'label': 'NEGATIVE', 'score': 0.7533661723136902}, {'label': 'POSITIVE', 'score': 0.9787799119949341}, {'label': 'POSITIVE', 'score': 0.9997115731239319}, {'label': 'POSITIVE', 'score': 0.9995627999305725}, {'label': 'NEGATIVE', 'score': 0.7352109551429749}, {'label': 'POSITIVE', 'score': 0.9997444748878479}, {'label': 'POSITIVE', 'score': 0.9980727434158325}, {'label': 'POSITIVE', 'score': 0.9821357727050781}, {'label': 'NEGATIVE', 'score': 0.9953536987304688}, {'label': 'POSITIVE', 'score': 0.9807798266410828}, {'label': 'POSITIVE', 'score': 0.9998581409454346}, {'label': 'NEGATIVE', 'score': 0.9215736985206604}, {'label': 'POSITIVE', 'score': 0.9998219609260559}, {'label': 'NEGATIVE', 'score': 0.9720790982246399}, {'label': 'POSITIVE', 'score': 0.9998375177383423}, {'label': 'POSITIVE', 'score': 0.9997671246528625}, {'label': 'NEGATIVE', 'score': 0.9859974384307861}, {'label': 'POSITIVE', 'score': 0.9990515112876892}, {'label': 'NEGATIVE', 'score': 0.9802200794219971}, {'label': 'POSITIVE', 'score': 0.9940242171287537}, {'label': 'POSITIVE', 'score': 0.7425957322120667}, {'label': 'POSITIVE', 'score': 0.9997138381004333}, {'label': 'NEGATIVE', 'score': 0.915854811668396}, {'label': 'POSITIVE', 'score': 0.9998028874397278}, {'label': 'POSITIVE', 'score': 0.8747318983078003}, {'label': 'NEGATIVE', 'score': 0.8254649639129639}, {'label': 'NEGATIVE', 'score': 0.9930527806282043}, {'label': 'POSITIVE', 'score': 0.9856336712837219}, {'label': 'POSITIVE', 'score': 0.9995304346084595}, {'label': 'POSITIVE', 'score': 0.9989056587219238}, {'label': 'NEGATIVE', 'score': 0.9808345437049866}, {'label': 'POSITIVE', 'score': 0.9189435243606567}, {'label': 'POSITIVE', 'score': 0.9998109936714172}, {'label': 'POSITIVE', 'score': 0.9941976070404053}, {'label': 'POSITIVE', 'score': 0.8398718237876892}, {'label': 'POSITIVE', 'score': 0.9996067881584167}, {'label': 'POSITIVE', 'score': 0.9876089096069336}, {'label': 'POSITIVE', 'score': 0.9970365762710571}, {'label': 'NEGATIVE', 'score': 0.9929273724555969}, {'label': 'POSITIVE', 'score': 0.9992409944534302}, {'label': 'POSITIVE', 'score': 0.9944764971733093}, {'label': 'POSITIVE', 'score': 0.9490792751312256}, {'label': 'POSITIVE', 'score': 0.9983916878700256}, {'label': 'POSITIVE', 'score': 0.9971081614494324}, {'label': 'POSITIVE', 'score': 0.995154619216919}, {'label': 'POSITIVE', 'score': 0.9843000769615173}, {'label': 'POSITIVE', 'score': 0.9996500015258789}, {'label': 'POSITIVE', 'score': 0.9996813535690308}, {'label': 'POSITIVE', 'score': 0.9994015693664551}, {'label': 'NEGATIVE', 'score': 0.9968228340148926}, {'label': 'POSITIVE', 'score': 0.9995989203453064}, {'label': 'POSITIVE', 'score': 0.9951079487800598}, {'label': 'POSITIVE', 'score': 0.9983536005020142}, {'label': 'POSITIVE', 'score': 0.9941148161888123}, {'label': 'NEGATIVE', 'score': 0.9954760670661926}, {'label': 'POSITIVE', 'score': 0.9914201498031616}, {'label': 'POSITIVE', 'score': 0.9840344190597534}, {'label': 'NEGATIVE', 'score': 0.9995130300521851}, {'label': 'NEGATIVE', 'score': 0.9927750825881958}, {'label': 'NEGATIVE', 'score': 0.9883273243904114}, {'label': 'POSITIVE', 'score': 0.9986396431922913}, {'label': 'POSITIVE', 'score': 0.9935543537139893}, {'label': 'POSITIVE', 'score': 0.9928673505783081}, {'label': 'POSITIVE', 'score': 0.9932739734649658}, {'label': 'POSITIVE', 'score': 0.9969594478607178}, {'label': 'POSITIVE', 'score': 0.9987080097198486}, {'label': 'NEGATIVE', 'score': 0.9850879311561584}, {'label': 'NEGATIVE', 'score': 0.9965846538543701}, {'label': 'POSITIVE', 'score': 0.9993069171905518}, {'label': 'POSITIVE', 'score': 0.9998576641082764}, {'label': 'POSITIVE', 'score': 0.9986936450004578}, {'label': 'POSITIVE', 'score': 0.9998397827148438}, {'label': 'NEGATIVE', 'score': 0.979698896408081}, {'label': 'NEGATIVE', 'score': 0.836037814617157}, {'label': 'POSITIVE', 'score': 0.9994335770606995}, {'label': 'NEGATIVE', 'score': 0.8189104199409485}, {'label': 'POSITIVE', 'score': 0.9994901418685913}, {'label': 'POSITIVE', 'score': 0.9591672420501709}, {'label': 'POSITIVE', 'score': 0.9991433620452881}, {'label': 'POSITIVE', 'score': 0.9982536435127258}, {'label': 'NEGATIVE', 'score': 0.9346550703048706}, {'label': 'POSITIVE', 'score': 0.9998676776885986}, {'label': 'POSITIVE', 'score': 0.9995813965797424}, {'label': 'POSITIVE', 'score': 0.9772354960441589}, {'label': 'POSITIVE', 'score': 0.9990471005439758}, {'label': 'POSITIVE', 'score': 0.5281800031661987}, {'label': 'POSITIVE', 'score': 0.9991546869277954}, {'label': 'POSITIVE', 'score': 0.9374999403953552}, {'label': 'POSITIVE', 'score': 0.9985848665237427}, {'label': 'POSITIVE', 'score': 0.9827828407287598}, {'label': 'POSITIVE', 'score': 0.8765787482261658}, {'label': 'POSITIVE', 'score': 0.999115526676178}, {'label': 'NEGATIVE', 'score': 0.9990479350090027}, {'label': 'NEGATIVE', 'score': 0.950793445110321}, {'label': 'POSITIVE', 'score': 0.9852086305618286}, {'label': 'POSITIVE', 'score': 0.9991130232810974}, {'label': 'NEGATIVE', 'score': 0.9981513619422913}, {'label': 'POSITIVE', 'score': 0.971659243106842}, {'label': 'POSITIVE', 'score': 0.9993682503700256}, {'label': 'POSITIVE', 'score': 0.9971381425857544}, {'label': 'POSITIVE', 'score': 0.9996998310089111}, {'label': 'POSITIVE', 'score': 0.9939427971839905}, {'label': 'NEGATIVE', 'score': 0.9990264177322388}, {'label': 'NEGATIVE', 'score': 0.7993008494377136}, {'label': 'NEGATIVE', 'score': 0.9985307455062866}, {'label': 'POSITIVE', 'score': 0.9331729412078857}, {'label': 'POSITIVE', 'score': 0.9820934534072876}, {'label': 'POSITIVE', 'score': 0.9950383305549622}, {'label': 'NEGATIVE', 'score': 0.9740856885910034}, {'label': 'POSITIVE', 'score': 0.9998148083686829}, {'label': 'POSITIVE', 'score': 0.9998443126678467}, {'label': 'NEGATIVE', 'score': 0.9875912666320801}, {'label': 'POSITIVE', 'score': 0.9933928847312927}, {'label': 'POSITIVE', 'score': 0.9985901713371277}, {'label': 'POSITIVE', 'score': 0.9959204196929932}, {'label': 'POSITIVE', 'score': 0.9534874558448792}, {'label': 'POSITIVE', 'score': 0.9236936569213867}, {'label': 'POSITIVE', 'score': 0.9978557229042053}, {'label': 'POSITIVE', 'score': 0.99981290102005}, {'label': 'POSITIVE', 'score': 0.6972411274909973}, {'label': 'POSITIVE', 'score': 0.9989902377128601}, {'label': 'NEGATIVE', 'score': 0.9489345550537109}, {'label': 'NEGATIVE', 'score': 0.9987674951553345}, {'label': 'POSITIVE', 'score': 0.9981876015663147}, {'label': 'POSITIVE', 'score': 0.9997578263282776}, {'label': 'POSITIVE', 'score': 0.9995110034942627}, {'label': 'POSITIVE', 'score': 0.8220474123954773}, {'label': 'POSITIVE', 'score': 0.5102115869522095}, {'label': 'POSITIVE', 'score': 0.9991625547409058}, {'label': 'POSITIVE', 'score': 0.9992631077766418}, {'label': 'POSITIVE', 'score': 0.9995682835578918}, {'label': 'POSITIVE', 'score': 0.8749943971633911}, {'label': 'POSITIVE', 'score': 0.9874674677848816}, {'label': 'POSITIVE', 'score': 0.9993602633476257}, {'label': 'POSITIVE', 'score': 0.9994899034500122}, {'label': 'POSITIVE', 'score': 0.9997534155845642}, {'label': 'POSITIVE', 'score': 0.9966434240341187}, {'label': 'POSITIVE', 'score': 0.9773321747779846}, {'label': 'NEGATIVE', 'score': 0.7219828963279724}, {'label': 'NEGATIVE', 'score': 0.9869491457939148}, {'label': 'NEGATIVE', 'score': 0.8552491068840027}, {'label': 'POSITIVE', 'score': 0.9998300075531006}, {'label': 'NEGATIVE', 'score': 0.937869131565094}, {'label': 'NEGATIVE', 'score': 0.6440145373344421}, {'label': 'POSITIVE', 'score': 0.9993376135826111}, {'label': 'POSITIVE', 'score': 0.999872088432312}, {'label': 'POSITIVE', 'score': 0.6369331479072571}, {'label': 'NEGATIVE', 'score': 0.901225209236145}, {'label': 'POSITIVE', 'score': 0.9698050618171692}, {'label': 'POSITIVE', 'score': 0.9995399713516235}, {'label': 'POSITIVE', 'score': 0.9663207530975342}, {'label': 'POSITIVE', 'score': 0.9997549653053284}, {'label': 'POSITIVE', 'score': 0.9080411791801453}, {'label': 'POSITIVE', 'score': 0.9975367784500122}, {'label': 'POSITIVE', 'score': 0.9992455244064331}, {'label': 'NEGATIVE', 'score': 0.9874942898750305}, {'label': 'NEGATIVE', 'score': 0.9939332604408264}, {'label': 'NEGATIVE', 'score': 0.9992035031318665}, {'label': 'POSITIVE', 'score': 0.9998171925544739}, {'label': 'POSITIVE', 'score': 0.9996466636657715}, {'label': 'NEGATIVE', 'score': 0.9798898696899414}, {'label': 'NEGATIVE', 'score': 0.9538702964782715}, {'label': 'NEGATIVE', 'score': 0.544998049736023}, {'label': 'POSITIVE', 'score': 0.7497068643569946}, {'label': 'POSITIVE', 'score': 0.9994279742240906}, {'label': 'NEGATIVE', 'score': 0.9650456309318542}, {'label': 'POSITIVE', 'score': 0.5924914479255676}, {'label': 'NEGATIVE', 'score': 0.9973030090332031}, {'label': 'POSITIVE', 'score': 0.9993417859077454}, {'label': 'POSITIVE', 'score': 0.9915253520011902}, {'label': 'POSITIVE', 'score': 0.9917474985122681}, {'label': 'NEGATIVE', 'score': 0.9905329942703247}, {'label': 'POSITIVE', 'score': 0.9994556307792664}, {'label': 'NEGATIVE', 'score': 0.9579129219055176}, {'label': 'POSITIVE', 'score': 0.9983077049255371}, {'label': 'NEGATIVE', 'score': 0.5292208790779114}, {'label': 'POSITIVE', 'score': 0.9998831748962402}, {'label': 'POSITIVE', 'score': 0.9921028017997742}, {'label': 'POSITIVE', 'score': 0.999723494052887}, {'label': 'POSITIVE', 'score': 0.9900190830230713}, {'label': 'POSITIVE', 'score': 0.9987855553627014}, {'label': 'NEGATIVE', 'score': 0.9171507358551025}, {'label': 'NEGATIVE', 'score': 0.9844539761543274}, {'label': 'POSITIVE', 'score': 0.9997342228889465}, {'label': 'POSITIVE', 'score': 0.9996078610420227}, {'label': 'POSITIVE', 'score': 0.9688483476638794}, {'label': 'POSITIVE', 'score': 0.9939351677894592}, {'label': 'POSITIVE', 'score': 0.9985710382461548}, {'label': 'POSITIVE', 'score': 0.9991294741630554}, {'label': 'POSITIVE', 'score': 0.9967381358146667}, {'label': 'POSITIVE', 'score': 0.9998729228973389}, {'label': 'POSITIVE', 'score': 0.6974482536315918}, {'label': 'POSITIVE', 'score': 0.9981866478919983}, {'label': 'POSITIVE', 'score': 0.9784930348396301}, {'label': 'POSITIVE', 'score': 0.9998644590377808}, {'label': 'POSITIVE', 'score': 0.9934142827987671}, {'label': 'NEGATIVE', 'score': 0.5491651892662048}, {'label': 'POSITIVE', 'score': 0.9997815489768982}, {'label': 'POSITIVE', 'score': 0.9998601675033569}, {'label': 'NEGATIVE', 'score': 0.9802969694137573}, {'label': 'POSITIVE', 'score': 0.9997735619544983}, {'label': 'POSITIVE', 'score': 0.6115888953208923}, {'label': 'NEGATIVE', 'score': 0.9656333923339844}, {'label': 'POSITIVE', 'score': 0.9993906021118164}, {'label': 'POSITIVE', 'score': 0.9805989265441895}, {'label': 'POSITIVE', 'score': 0.9992995262145996}, {'label': 'POSITIVE', 'score': 0.9462900757789612}, {'label': 'POSITIVE', 'score': 0.9997112154960632}, {'label': 'POSITIVE', 'score': 0.8968405723571777}, {'label': 'NEGATIVE', 'score': 0.9991021156311035}, {'label': 'POSITIVE', 'score': 0.9997186064720154}, {'label': 'NEGATIVE', 'score': 0.9857831001281738}, {'label': 'POSITIVE', 'score': 0.9956313371658325}, {'label': 'POSITIVE', 'score': 0.9998735189437866}, {'label': 'POSITIVE', 'score': 0.9993129968643188}, {'label': 'NEGATIVE', 'score': 0.5727591514587402}, {'label': 'POSITIVE', 'score': 0.9227792620658875}, {'label': 'POSITIVE', 'score': 0.999040424823761}, {'label': 'POSITIVE', 'score': 0.8700135350227356}, {'label': 'NEGATIVE', 'score': 0.956708550453186}, {'label': 'POSITIVE', 'score': 0.9695695638656616}, {'label': 'POSITIVE', 'score': 0.9995705485343933}, {'label': 'POSITIVE', 'score': 0.9997692704200745}, {'label': 'POSITIVE', 'score': 0.9984090924263}, {'label': 'POSITIVE', 'score': 0.997621476650238}, {'label': 'NEGATIVE', 'score': 0.9898093938827515}, {'label': 'POSITIVE', 'score': 0.9981812238693237}, {'label': 'POSITIVE', 'score': 0.9978446960449219}, {'label': 'POSITIVE', 'score': 0.998344898223877}, {'label': 'NEGATIVE', 'score': 0.5954159498214722}, {'label': 'NEGATIVE', 'score': 0.9955753087997437}, {'label': 'NEGATIVE', 'score': 0.9736366271972656}, {'label': 'POSITIVE', 'score': 0.9856130480766296}, {'label': 'POSITIVE', 'score': 0.9986989498138428}, {'label': 'NEGATIVE', 'score': 0.9979619979858398}, {'label': 'POSITIVE', 'score': 0.9998761415481567}, {'label': 'POSITIVE', 'score': 0.8923908472061157}, {'label': 'POSITIVE', 'score': 0.9998708963394165}, {'label': 'NEGATIVE', 'score': 0.895854651927948}, {'label': 'POSITIVE', 'score': 0.9990130662918091}, {'label': 'POSITIVE', 'score': 0.9708724617958069}, {'label': 'POSITIVE', 'score': 0.9944100975990295}, {'label': 'POSITIVE', 'score': 0.9989399313926697}, {'label': 'POSITIVE', 'score': 0.9985703229904175}, {'label': 'POSITIVE', 'score': 0.9997460246086121}, {'label': 'POSITIVE', 'score': 0.9903777837753296}, {'label': 'POSITIVE', 'score': 0.9804894924163818}, {'label': 'NEGATIVE', 'score': 0.9906619191169739}, {'label': 'POSITIVE', 'score': 0.9994321465492249}, {'label': 'NEGATIVE', 'score': 0.9941044449806213}, {'label': 'POSITIVE', 'score': 0.9850749969482422}, {'label': 'NEGATIVE', 'score': 0.9985660910606384}, {'label': 'POSITIVE', 'score': 0.9953866600990295}, {'label': 'POSITIVE', 'score': 0.9993308782577515}, {'label': 'POSITIVE', 'score': 0.9997691512107849}, {'label': 'POSITIVE', 'score': 0.9987162351608276}, {'label': 'POSITIVE', 'score': 0.9997099041938782}, {'label': 'POSITIVE', 'score': 0.9992315769195557}, {'label': 'NEGATIVE', 'score': 0.938523530960083}, {'label': 'POSITIVE', 'score': 0.9994897842407227}, {'label': 'POSITIVE', 'score': 0.9981396198272705}, {'label': 'POSITIVE', 'score': 0.9996345043182373}, {'label': 'POSITIVE', 'score': 0.9996423721313477}, {'label': 'POSITIVE', 'score': 0.9671916365623474}, {'label': 'NEGATIVE', 'score': 0.9982272982597351}, {'label': 'NEGATIVE', 'score': 0.848563015460968}, {'label': 'POSITIVE', 'score': 0.998123824596405}, {'label': 'POSITIVE', 'score': 0.9998511075973511}, {'label': 'POSITIVE', 'score': 0.9248937964439392}, {'label': 'POSITIVE', 'score': 0.8260821104049683}, {'label': 'POSITIVE', 'score': 0.9911422729492188}, {'label': 'NEGATIVE', 'score': 0.8976956605911255}, {'label': 'NEGATIVE', 'score': 0.5704077482223511}, {'label': 'POSITIVE', 'score': 0.9997572302818298}, {'label': 'POSITIVE', 'score': 0.999563992023468}, {'label': 'NEGATIVE', 'score': 0.9903630614280701}, {'label': 'POSITIVE', 'score': 0.9952161312103271}, {'label': 'POSITIVE', 'score': 0.977672815322876}, {'label': 'POSITIVE', 'score': 0.9795870184898376}, {'label': 'POSITIVE', 'score': 0.980343222618103}, {'label': 'NEGATIVE', 'score': 0.849822998046875}, {'label': 'POSITIVE', 'score': 0.9996782541275024}, {'label': 'NEGATIVE', 'score': 0.9810633659362793}, {'label': 'POSITIVE', 'score': 0.5721787214279175}, {'label': 'NEGATIVE', 'score': 0.9988542795181274}, {'label': 'NEGATIVE', 'score': 0.9728338122367859}, {'label': 'POSITIVE', 'score': 0.9944565296173096}, {'label': 'NEGATIVE', 'score': 0.9484438300132751}, {'label': 'POSITIVE', 'score': 0.9968706965446472}, {'label': 'POSITIVE', 'score': 0.9993519186973572}, {'label': 'NEGATIVE', 'score': 0.7771041989326477}, {'label': 'POSITIVE', 'score': 0.9992637038230896}, {'label': 'POSITIVE', 'score': 0.9996737241744995}, {'label': 'POSITIVE', 'score': 0.9994556307792664}, {'label': 'NEGATIVE', 'score': 0.9964718818664551}, {'label': 'POSITIVE', 'score': 0.9989820122718811}, {'label': 'POSITIVE', 'score': 0.9992411136627197}, {'label': 'POSITIVE', 'score': 0.9986177682876587}, {'label': 'POSITIVE', 'score': 0.9637387990951538}, {'label': 'POSITIVE', 'score': 0.9990596175193787}, {'label': 'POSITIVE', 'score': 0.9859246611595154}, {'label': 'POSITIVE', 'score': 0.999588668346405}, {'label': 'POSITIVE', 'score': 0.9989744424819946}, {'label': 'POSITIVE', 'score': 0.9687938690185547}, {'label': 'NEGATIVE', 'score': 0.9659270644187927}, {'label': 'POSITIVE', 'score': 0.6036915183067322}, {'label': 'POSITIVE', 'score': 0.9991087317466736}, {'label': 'POSITIVE', 'score': 0.9887123107910156}, {'label': 'POSITIVE', 'score': 0.645636260509491}, {'label': 'NEGATIVE', 'score': 0.958171546459198}, {'label': 'NEGATIVE', 'score': 0.9955927729606628}, {'label': 'POSITIVE', 'score': 0.8010509014129639}, {'label': 'POSITIVE', 'score': 0.9997053742408752}, {'label': 'NEGATIVE', 'score': 0.584399938583374}, {'label': 'POSITIVE', 'score': 0.9934560656547546}, {'label': 'POSITIVE', 'score': 0.8072997331619263}, {'label': 'POSITIVE', 'score': 0.9993581175804138}, {'label': 'POSITIVE', 'score': 0.9959964752197266}, {'label': 'POSITIVE', 'score': 0.9953011274337769}, {'label': 'POSITIVE', 'score': 0.9973886609077454}, {'label': 'POSITIVE', 'score': 0.9998472929000854}, {'label': 'POSITIVE', 'score': 0.9998711347579956}, {'label': 'NEGATIVE', 'score': 0.9347230195999146}, {'label': 'POSITIVE', 'score': 0.9997183680534363}, {'label': 'POSITIVE', 'score': 0.9997641444206238}, {'label': 'POSITIVE', 'score': 0.9946881532669067}, {'label': 'POSITIVE', 'score': 0.9998353719711304}, {'label': 'NEGATIVE', 'score': 0.9923065304756165}, {'label': 'NEGATIVE', 'score': 0.9967197775840759}, {'label': 'NEGATIVE', 'score': 0.890808641910553}, {'label': 'POSITIVE', 'score': 0.9750144481658936}, {'label': 'POSITIVE', 'score': 0.9998492002487183}, {'label': 'NEGATIVE', 'score': 0.971907913684845}, {'label': 'POSITIVE', 'score': 0.9987724423408508}, {'label': 'POSITIVE', 'score': 0.998635470867157}, {'label': 'POSITIVE', 'score': 0.6806642413139343}, {'label': 'POSITIVE', 'score': 0.991983950138092}, {'label': 'POSITIVE', 'score': 0.9978498220443726}, {'label': 'POSITIVE', 'score': 0.9925843477249146}, {'label': 'NEGATIVE', 'score': 0.9624265432357788}, {'label': 'NEGATIVE', 'score': 0.9737095236778259}, {'label': 'POSITIVE', 'score': 0.9996908903121948}, {'label': 'POSITIVE', 'score': 0.9998358488082886}, {'label': 'POSITIVE', 'score': 0.9994956254959106}, {'label': 'POSITIVE', 'score': 0.9993316531181335}, {'label': 'NEGATIVE', 'score': 0.9983065128326416}, {'label': 'POSITIVE', 'score': 0.9978703260421753}, {'label': 'NEGATIVE', 'score': 0.9658990502357483}, {'label': 'POSITIVE', 'score': 0.9997740387916565}, {'label': 'POSITIVE', 'score': 0.9996108412742615}, {'label': 'POSITIVE', 'score': 0.9798545241355896}, {'label': 'POSITIVE', 'score': 0.9969198703765869}, {'label': 'POSITIVE', 'score': 0.9995865225791931}, {'label': 'NEGATIVE', 'score': 0.9988524913787842}, {'label': 'POSITIVE', 'score': 0.9989414811134338}, {'label': 'NEGATIVE', 'score': 0.607070803642273}, {'label': 'POSITIVE', 'score': 0.9998063445091248}, {'label': 'NEGATIVE', 'score': 0.9991527795791626}, {'label': 'POSITIVE', 'score': 0.998982846736908}, {'label': 'POSITIVE', 'score': 0.8036437630653381}, {'label': 'POSITIVE', 'score': 0.9067114591598511}, {'label': 'POSITIVE', 'score': 0.9879769682884216}, {'label': 'POSITIVE', 'score': 0.9988195300102234}, {'label': 'POSITIVE', 'score': 0.99934321641922}, {'label': 'POSITIVE', 'score': 0.9996298551559448}, {'label': 'POSITIVE', 'score': 0.8310831189155579}, {'label': 'POSITIVE', 'score': 0.7446073293685913}, {'label': 'POSITIVE', 'score': 0.7860627770423889}, {'label': 'POSITIVE', 'score': 0.9998294115066528}, {'label': 'NEGATIVE', 'score': 0.9179197549819946}, {'label': 'POSITIVE', 'score': 0.9750076532363892}, {'label': 'NEGATIVE', 'score': 0.9906414151191711}, {'label': 'NEGATIVE', 'score': 0.9997010231018066}, {'label': 'NEGATIVE', 'score': 0.9990490078926086}, {'label': 'POSITIVE', 'score': 0.8641414046287537}, {'label': 'NEGATIVE', 'score': 0.8893424272537231}, {'label': 'POSITIVE', 'score': 0.8914310932159424}, {'label': 'POSITIVE', 'score': 0.9996167421340942}, {'label': 'POSITIVE', 'score': 0.9993398785591125}, {'label': 'POSITIVE', 'score': 0.9997209906578064}, {'label': 'POSITIVE', 'score': 0.502516508102417}, {'label': 'POSITIVE', 'score': 0.9998157620429993}, {'label': 'POSITIVE', 'score': 0.9832968711853027}, {'label': 'POSITIVE', 'score': 0.5948282480239868}, {'label': 'POSITIVE', 'score': 0.9995385408401489}, {'label': 'NEGATIVE', 'score': 0.984098494052887}, {'label': 'POSITIVE', 'score': 0.9998644590377808}, {'label': 'POSITIVE', 'score': 0.9985750913619995}, {'label': 'POSITIVE', 'score': 0.991125762462616}, {'label': 'POSITIVE', 'score': 0.993809163570404}, {'label': 'POSITIVE', 'score': 0.998145580291748}, {'label': 'NEGATIVE', 'score': 0.9947938323020935}, {'label': 'POSITIVE', 'score': 0.996042013168335}, {'label': 'NEGATIVE', 'score': 0.9630545973777771}, {'label': 'POSITIVE', 'score': 0.9989355206489563}, {'label': 'POSITIVE', 'score': 0.997248113155365}, {'label': 'POSITIVE', 'score': 0.9988459348678589}, {'label': 'NEGATIVE', 'score': 0.6936014294624329}, {'label': 'POSITIVE', 'score': 0.8732091188430786}, {'label': 'POSITIVE', 'score': 0.9283105731010437}, {'label': 'POSITIVE', 'score': 0.9997863173484802}, {'label': 'POSITIVE', 'score': 0.9996652603149414}, {'label': 'NEGATIVE', 'score': 0.9884546995162964}, {'label': 'POSITIVE', 'score': 0.5203054547309875}, {'label': 'NEGATIVE', 'score': 0.9974338412284851}, {'label': 'POSITIVE', 'score': 0.5831067562103271}, {'label': 'POSITIVE', 'score': 0.9993664622306824}, {'label': 'NEGATIVE', 'score': 0.9879053831100464}, {'label': 'POSITIVE', 'score': 0.9998806715011597}, {'label': 'POSITIVE', 'score': 0.9997498393058777}, {'label': 'POSITIVE', 'score': 0.9987290501594543}, {'label': 'NEGATIVE', 'score': 0.7588191032409668}, {'label': 'POSITIVE', 'score': 0.9983537197113037}, {'label': 'POSITIVE', 'score': 0.9993409514427185}, {'label': 'POSITIVE', 'score': 0.9042884111404419}, {'label': 'POSITIVE', 'score': 0.9976612329483032}, {'label': 'POSITIVE', 'score': 0.9062365889549255}, {'label': 'POSITIVE', 'score': 0.9892057180404663}, {'label': 'NEGATIVE', 'score': 0.9104240536689758}, {'label': 'POSITIVE', 'score': 0.9998292922973633}, {'label': 'NEGATIVE', 'score': 0.6466143131256104}, {'label': 'NEGATIVE', 'score': 0.9997774958610535}, {'label': 'POSITIVE', 'score': 0.9974547028541565}, {'label': 'POSITIVE', 'score': 0.9974620342254639}, {'label': 'POSITIVE', 'score': 0.9995226860046387}, {'label': 'POSITIVE', 'score': 0.9979795813560486}, {'label': 'POSITIVE', 'score': 0.9927769899368286}, {'label': 'POSITIVE', 'score': 0.9976528286933899}, {'label': 'POSITIVE', 'score': 0.9997058510780334}, {'label': 'POSITIVE', 'score': 0.9992885589599609}, {'label': 'NEGATIVE', 'score': 0.9993360638618469}, {'label': 'POSITIVE', 'score': 0.9991162419319153}, {'label': 'NEGATIVE', 'score': 0.9916447997093201}, {'label': 'POSITIVE', 'score': 0.9996457099914551}, {'label': 'POSITIVE', 'score': 0.949444591999054}, {'label': 'NEGATIVE', 'score': 0.7603580355644226}, {'label': 'NEGATIVE', 'score': 0.9914138317108154}, {'label': 'NEGATIVE', 'score': 0.9963219165802002}, {'label': 'NEGATIVE', 'score': 0.9980016350746155}, {'label': 'POSITIVE', 'score': 0.9959889054298401}, {'label': 'POSITIVE', 'score': 0.9997610449790955}, {'label': 'NEGATIVE', 'score': 0.9922084808349609}, {'label': 'POSITIVE', 'score': 0.9846633672714233}, {'label': 'NEGATIVE', 'score': 0.8863779902458191}, {'label': 'POSITIVE', 'score': 0.6419093012809753}, {'label': 'POSITIVE', 'score': 0.900469183921814}, {'label': 'POSITIVE', 'score': 0.9998694658279419}, {'label': 'POSITIVE', 'score': 0.998021125793457}, {'label': 'NEGATIVE', 'score': 0.9911045432090759}, {'label': 'POSITIVE', 'score': 0.9992303848266602}, {'label': 'NEGATIVE', 'score': 0.8337634205818176}, {'label': 'POSITIVE', 'score': 0.9955364465713501}, {'label': 'NEGATIVE', 'score': 0.989570140838623}, {'label': 'POSITIVE', 'score': 0.9992063641548157}, {'label': 'POSITIVE', 'score': 0.999832034111023}, {'label': 'POSITIVE', 'score': 0.9998107552528381}, {'label': 'POSITIVE', 'score': 0.9995371103286743}, {'label': 'POSITIVE', 'score': 0.9998447895050049}, {'label': 'POSITIVE', 'score': 0.9995833039283752}, {'label': 'POSITIVE', 'score': 0.9869742393493652}, {'label': 'POSITIVE', 'score': 0.9924852252006531}, {'label': 'POSITIVE', 'score': 0.9955126643180847}, {'label': 'POSITIVE', 'score': 0.9665906429290771}, {'label': 'POSITIVE', 'score': 0.7891420125961304}, {'label': 'POSITIVE', 'score': 0.9411254525184631}, {'label': 'POSITIVE', 'score': 0.9989645481109619}, {'label': 'POSITIVE', 'score': 0.9854593276977539}, {'label': 'NEGATIVE', 'score': 0.9500870108604431}, {'label': 'POSITIVE', 'score': 0.9987187385559082}, {'label': 'POSITIVE', 'score': 0.9947474598884583}, {'label': 'POSITIVE', 'score': 0.9996114373207092}, {'label': 'POSITIVE', 'score': 0.9961047172546387}, {'label': 'POSITIVE', 'score': 0.9992967844009399}, {'label': 'POSITIVE', 'score': 0.9998828172683716}, {'label': 'NEGATIVE', 'score': 0.953410267829895}, {'label': 'POSITIVE', 'score': 0.9983028173446655}, {'label': 'POSITIVE', 'score': 0.9940001964569092}, {'label': 'POSITIVE', 'score': 0.9089384078979492}, {'label': 'NEGATIVE', 'score': 0.9982847571372986}, {'label': 'NEGATIVE', 'score': 0.9941621422767639}, {'label': 'POSITIVE', 'score': 0.9843658208847046}, {'label': 'POSITIVE', 'score': 0.9755098223686218}, {'label': 'POSITIVE', 'score': 0.97245854139328}, {'label': 'POSITIVE', 'score': 0.999797523021698}, {'label': 'POSITIVE', 'score': 0.998794436454773}, {'label': 'POSITIVE', 'score': 0.9990723133087158}, {'label': 'NEGATIVE', 'score': 0.999182403087616}, {'label': 'NEGATIVE', 'score': 0.9782880544662476}, {'label': 'POSITIVE', 'score': 0.9995502829551697}, {'label': 'POSITIVE', 'score': 0.8526050448417664}, {'label': 'POSITIVE', 'score': 0.9998307228088379}, {'label': 'POSITIVE', 'score': 0.9124900698661804}, {'label': 'POSITIVE', 'score': 0.9998738765716553}, {'label': 'POSITIVE', 'score': 0.9870898127555847}, {'label': 'POSITIVE', 'score': 0.9994205236434937}, {'label': 'POSITIVE', 'score': 0.9948103427886963}, {'label': 'POSITIVE', 'score': 0.6992142796516418}, {'label': 'POSITIVE', 'score': 0.9665014147758484}, {'label': 'POSITIVE', 'score': 0.9192988872528076}, {'label': 'POSITIVE', 'score': 0.9990718364715576}, {'label': 'POSITIVE', 'score': 0.9991419315338135}, {'label': 'POSITIVE', 'score': 0.9991979002952576}, {'label': 'NEGATIVE', 'score': 0.8334292769432068}, {'label': 'POSITIVE', 'score': 0.9994534850120544}, {'label': 'POSITIVE', 'score': 0.9981492757797241}, {'label': 'POSITIVE', 'score': 0.5438112020492554}, {'label': 'POSITIVE', 'score': 0.9828512668609619}, {'label': 'POSITIVE', 'score': 0.998846173286438}, {'label': 'POSITIVE', 'score': 0.5211317539215088}, {'label': 'POSITIVE', 'score': 0.9995726943016052}, {'label': 'POSITIVE', 'score': 0.9996194839477539}, {'label': 'POSITIVE', 'score': 0.9991740584373474}, {'label': 'POSITIVE', 'score': 0.7881144881248474}, {'label': 'NEGATIVE', 'score': 0.9959057569503784}, {'label': 'NEGATIVE', 'score': 0.9703552722930908}, {'label': 'POSITIVE', 'score': 0.9879230856895447}, {'label': 'NEGATIVE', 'score': 0.8259044885635376}, {'label': 'POSITIVE', 'score': 0.994797945022583}, {'label': 'POSITIVE', 'score': 0.9965783953666687}, {'label': 'NEGATIVE', 'score': 0.9941636919975281}, {'label': 'POSITIVE', 'score': 0.9991336464881897}, {'label': 'NEGATIVE', 'score': 0.9256870150566101}, {'label': 'POSITIVE', 'score': 0.9989677667617798}, {'label': 'POSITIVE', 'score': 0.9958682060241699}, {'label': 'POSITIVE', 'score': 0.9993268251419067}, {'label': 'POSITIVE', 'score': 0.9945040941238403}, {'label': 'POSITIVE', 'score': 0.999848484992981}, {'label': 'POSITIVE', 'score': 0.9889562726020813}, {'label': 'POSITIVE', 'score': 0.9998849630355835}, {'label': 'POSITIVE', 'score': 0.999403715133667}, {'label': 'POSITIVE', 'score': 0.999366819858551}, {'label': 'POSITIVE', 'score': 0.9993084669113159}, {'label': 'NEGATIVE', 'score': 0.9955637454986572}, {'label': 'POSITIVE', 'score': 0.9977070093154907}, {'label': 'POSITIVE', 'score': 0.9728004336357117}, {'label': 'POSITIVE', 'score': 0.9969893097877502}, {'label': 'NEGATIVE', 'score': 0.9921200275421143}, {'label': 'POSITIVE', 'score': 0.999845027923584}, {'label': 'POSITIVE', 'score': 0.9997206330299377}, {'label': 'POSITIVE', 'score': 0.9996034502983093}, {'label': 'POSITIVE', 'score': 0.959487795829773}, {'label': 'POSITIVE', 'score': 0.9576846361160278}, {'label': 'NEGATIVE', 'score': 0.9870361685752869}, {'label': 'POSITIVE', 'score': 0.9884111881256104}, {'label': 'POSITIVE', 'score': 0.9898187518119812}, {'label': 'POSITIVE', 'score': 0.9636085033416748}, {'label': 'NEGATIVE', 'score': 0.9503005743026733}, {'label': 'POSITIVE', 'score': 0.9896739721298218}, {'label': 'POSITIVE', 'score': 0.9997740387916565}, {'label': 'POSITIVE', 'score': 0.9971786737442017}, {'label': 'POSITIVE', 'score': 0.9931027889251709}, {'label': 'NEGATIVE', 'score': 0.9806841015815735}, {'label': 'POSITIVE', 'score': 0.9983758926391602}, {'label': 'POSITIVE', 'score': 0.9939665794372559}, {'label': 'POSITIVE', 'score': 0.9994807839393616}, {'label': 'POSITIVE', 'score': 0.9998262524604797}, {'label': 'POSITIVE', 'score': 0.9953235983848572}, {'label': 'NEGATIVE', 'score': 0.9603790044784546}, {'label': 'POSITIVE', 'score': 0.9987875819206238}, {'label': 'POSITIVE', 'score': 0.998636782169342}, {'label': 'POSITIVE', 'score': 0.999871015548706}, {'label': 'POSITIVE', 'score': 0.9953148365020752}, {'label': 'NEGATIVE', 'score': 0.9319162964820862}, {'label': 'POSITIVE', 'score': 0.9997054934501648}, {'label': 'POSITIVE', 'score': 0.9164980053901672}, {'label': 'POSITIVE', 'score': 0.7143992781639099}, {'label': 'POSITIVE', 'score': 0.9998764991760254}, {'label': 'POSITIVE', 'score': 0.9994091987609863}, {'label': 'POSITIVE', 'score': 0.9953919649124146}, {'label': 'POSITIVE', 'score': 0.9995183944702148}, {'label': 'POSITIVE', 'score': 0.9415323734283447}, {'label': 'NEGATIVE', 'score': 0.9878225922584534}, {'label': 'NEGATIVE', 'score': 0.8311142921447754}, {'label': 'POSITIVE', 'score': 0.5863642692565918}, {'label': 'NEGATIVE', 'score': 0.926020622253418}, {'label': 'POSITIVE', 'score': 0.9997774958610535}, {'label': 'POSITIVE', 'score': 0.9589521884918213}, {'label': 'NEGATIVE', 'score': 0.5204597115516663}, {'label': 'NEGATIVE', 'score': 0.9393001794815063}, {'label': 'POSITIVE', 'score': 0.9859552979469299}, {'label': 'POSITIVE', 'score': 0.9926787614822388}, {'label': 'POSITIVE', 'score': 0.9989475607872009}, {'label': 'POSITIVE', 'score': 0.9973119497299194}, {'label': 'NEGATIVE', 'score': 0.9984614849090576}, {'label': 'NEGATIVE', 'score': 0.9887217283248901}, {'label': 'POSITIVE', 'score': 0.9978758096694946}, {'label': 'POSITIVE', 'score': 0.9987009763717651}, {'label': 'POSITIVE', 'score': 0.9990063309669495}, {'label': 'POSITIVE', 'score': 0.9993513226509094}, {'label': 'POSITIVE', 'score': 0.9973217844963074}, {'label': 'NEGATIVE', 'score': 0.9986125230789185}, {'label': 'POSITIVE', 'score': 0.9991704225540161}, {'label': 'POSITIVE', 'score': 0.9991902709007263}, {'label': 'NEGATIVE', 'score': 0.9764324426651001}, {'label': 'POSITIVE', 'score': 0.9971440434455872}, {'label': 'NEGATIVE', 'score': 0.7953076958656311}, {'label': 'POSITIVE', 'score': 0.9998811483383179}, {'label': 'POSITIVE', 'score': 0.9923688769340515}, {'label': 'POSITIVE', 'score': 0.9994470477104187}, {'label': 'POSITIVE', 'score': 0.9998778104782104}, {'label': 'NEGATIVE', 'score': 0.9521644711494446}, {'label': 'POSITIVE', 'score': 0.7065804600715637}, {'label': 'POSITIVE', 'score': 0.9998742341995239}, {'label': 'POSITIVE', 'score': 0.9979652166366577}, {'label': 'POSITIVE', 'score': 0.96986985206604}, {'label': 'POSITIVE', 'score': 0.5464611649513245}, {'label': 'POSITIVE', 'score': 0.9972475171089172}, {'label': 'POSITIVE', 'score': 0.5197811722755432}, {'label': 'NEGATIVE', 'score': 0.9978917241096497}, {'label': 'POSITIVE', 'score': 0.9998542070388794}, {'label': 'POSITIVE', 'score': 0.9996160268783569}, {'label': 'POSITIVE', 'score': 0.999686598777771}, {'label': 'NEGATIVE', 'score': 0.9883626103401184}, {'label': 'POSITIVE', 'score': 0.9984034895896912}, {'label': 'POSITIVE', 'score': 0.9951657056808472}, {'label': 'POSITIVE', 'score': 0.9998334646224976}, {'label': 'POSITIVE', 'score': 0.9810345768928528}, {'label': 'POSITIVE', 'score': 0.9996249675750732}, {'label': 'POSITIVE', 'score': 0.9941378831863403}, {'label': 'POSITIVE', 'score': 0.998660683631897}, {'label': 'NEGATIVE', 'score': 0.9834181666374207}, {'label': 'POSITIVE', 'score': 0.9994091987609863}, {'label': 'POSITIVE', 'score': 0.9742751121520996}, {'label': 'POSITIVE', 'score': 0.7586072087287903}, {'label': 'POSITIVE', 'score': 0.9974043965339661}, {'label': 'POSITIVE', 'score': 0.9987817406654358}, {'label': 'NEGATIVE', 'score': 0.9908226728439331}, {'label': 'POSITIVE', 'score': 0.999679446220398}, {'label': 'POSITIVE', 'score': 0.999677300453186}, {'label': 'POSITIVE', 'score': 0.9998719692230225}, {'label': 'POSITIVE', 'score': 0.539423942565918}, {'label': 'NEGATIVE', 'score': 0.9978340268135071}, {'label': 'NEGATIVE', 'score': 0.9596801400184631}, {'label': 'NEGATIVE', 'score': 0.9648517370223999}, {'label': 'POSITIVE', 'score': 0.9998313188552856}, {'label': 'POSITIVE', 'score': 0.9695936441421509}, {'label': 'POSITIVE', 'score': 0.9996131062507629}, {'label': 'POSITIVE', 'score': 0.9989674091339111}, {'label': 'POSITIVE', 'score': 0.9992520213127136}, {'label': 'POSITIVE', 'score': 0.9987854361534119}, {'label': 'POSITIVE', 'score': 0.9978341460227966}, {'label': 'POSITIVE', 'score': 0.9874948859214783}, {'label': 'NEGATIVE', 'score': 0.9852715730667114}, {'label': 'POSITIVE', 'score': 0.861320972442627}, {'label': 'POSITIVE', 'score': 0.9846834540367126}, {'label': 'POSITIVE', 'score': 0.9990611672401428}, {'label': 'NEGATIVE', 'score': 0.9684236645698547}, {'label': 'POSITIVE', 'score': 0.9991196990013123}, {'label': 'POSITIVE', 'score': 0.9976372718811035}, {'label': 'POSITIVE', 'score': 0.9931780099868774}, {'label': 'POSITIVE', 'score': 0.9975746273994446}, {'label': 'POSITIVE', 'score': 0.9590715765953064}, {'label': 'POSITIVE', 'score': 0.9982355833053589}, {'label': 'POSITIVE', 'score': 0.9985438585281372}, {'label': 'POSITIVE', 'score': 0.9998441934585571}, {'label': 'POSITIVE', 'score': 0.9947721362113953}, {'label': 'POSITIVE', 'score': 0.9997307658195496}, {'label': 'NEGATIVE', 'score': 0.9922640323638916}, {'label': 'POSITIVE', 'score': 0.9616811275482178}, {'label': 'NEGATIVE', 'score': 0.9822221994400024}, {'label': 'POSITIVE', 'score': 0.9882702827453613}, {'label': 'POSITIVE', 'score': 0.989246666431427}, {'label': 'NEGATIVE', 'score': 0.5412356853485107}, {'label': 'NEGATIVE', 'score': 0.9950703382492065}, {'label': 'POSITIVE', 'score': 0.9939755797386169}, {'label': 'NEGATIVE', 'score': 0.9462297558784485}, {'label': 'POSITIVE', 'score': 0.9998072981834412}, {'label': 'POSITIVE', 'score': 0.9980589747428894}, {'label': 'POSITIVE', 'score': 0.9976341724395752}, {'label': 'NEGATIVE', 'score': 0.9987483024597168}, {'label': 'POSITIVE', 'score': 0.9961081147193909}, {'label': 'POSITIVE', 'score': 0.9997805953025818}, {'label': 'POSITIVE', 'score': 0.9992788434028625}, {'label': 'POSITIVE', 'score': 0.9998903274536133}, {'label': 'POSITIVE', 'score': 0.9993728995323181}, {'label': 'POSITIVE', 'score': 0.9998809099197388}, {'label': 'POSITIVE', 'score': 0.9707415699958801}, {'label': 'NEGATIVE', 'score': 0.9959537982940674}, {'label': 'POSITIVE', 'score': 0.8985893130302429}, {'label': 'NEGATIVE', 'score': 0.9997566342353821}, {'label': 'POSITIVE', 'score': 0.9995693564414978}, {'label': 'POSITIVE', 'score': 0.999613344669342}, {'label': 'POSITIVE', 'score': 0.9995508790016174}, {'label': 'NEGATIVE', 'score': 0.9993120431900024}, {'label': 'POSITIVE', 'score': 0.986764669418335}, {'label': 'POSITIVE', 'score': 0.9480412006378174}, {'label': 'POSITIVE', 'score': 0.9973010420799255}, {'label': 'POSITIVE', 'score': 0.9990459084510803}, {'label': 'POSITIVE', 'score': 0.9997549653053284}, {'label': 'POSITIVE', 'score': 0.9650165438652039}, {'label': 'POSITIVE', 'score': 0.8942931294441223}, {'label': 'POSITIVE', 'score': 0.9996321201324463}, {'label': 'POSITIVE', 'score': 0.9997397065162659}, {'label': 'POSITIVE', 'score': 0.9983478784561157}, {'label': 'POSITIVE', 'score': 0.9955540299415588}, {'label': 'POSITIVE', 'score': 0.9998682737350464}, {'label': 'POSITIVE', 'score': 0.9978563189506531}, {'label': 'NEGATIVE', 'score': 0.8979957699775696}, {'label': 'NEGATIVE', 'score': 0.9984958171844482}, {'label': 'POSITIVE', 'score': 0.9537706971168518}, {'label': 'POSITIVE', 'score': 0.9979857206344604}, {'label': 'POSITIVE', 'score': 0.9994823932647705}, {'label': 'POSITIVE', 'score': 0.9985142350196838}, {'label': 'POSITIVE', 'score': 0.995899498462677}, {'label': 'POSITIVE', 'score': 0.9989616870880127}, {'label': 'POSITIVE', 'score': 0.903147280216217}, {'label': 'POSITIVE', 'score': 0.9947975873947144}, {'label': 'POSITIVE', 'score': 0.9947798252105713}, {'label': 'POSITIVE', 'score': 0.9994613528251648}, {'label': 'POSITIVE', 'score': 0.9879639148712158}, {'label': 'NEGATIVE', 'score': 0.991601288318634}, {'label': 'POSITIVE', 'score': 0.9945499300956726}, {'label': 'POSITIVE', 'score': 0.9328766465187073}, {'label': 'NEGATIVE', 'score': 0.9645001888275146}, {'label': 'POSITIVE', 'score': 0.9990635514259338}, {'label': 'POSITIVE', 'score': 0.9994192123413086}, {'label': 'NEGATIVE', 'score': 0.9715721011161804}, {'label': 'POSITIVE', 'score': 0.9886339902877808}, {'label': 'POSITIVE', 'score': 0.999855637550354}, {'label': 'POSITIVE', 'score': 0.8525980114936829}, {'label': 'POSITIVE', 'score': 0.9995594620704651}, {'label': 'POSITIVE', 'score': 0.9995371103286743}, {'label': 'NEGATIVE', 'score': 0.9914401769638062}, {'label': 'POSITIVE', 'score': 0.867207407951355}, {'label': 'POSITIVE', 'score': 0.9989609718322754}, {'label': 'POSITIVE', 'score': 0.9807693958282471}, {'label': 'POSITIVE', 'score': 0.9997742772102356}, {'label': 'POSITIVE', 'score': 0.9200978875160217}, {'label': 'POSITIVE', 'score': 0.9945882558822632}, {'label': 'POSITIVE', 'score': 0.9929827451705933}, {'label': 'POSITIVE', 'score': 0.9087981581687927}, {'label': 'POSITIVE', 'score': 0.9911500215530396}, {'label': 'POSITIVE', 'score': 0.999806821346283}, {'label': 'POSITIVE', 'score': 0.9944568872451782}, {'label': 'POSITIVE', 'score': 0.9996610879898071}, {'label': 'POSITIVE', 'score': 0.9962890148162842}, {'label': 'POSITIVE', 'score': 0.9992838501930237}, {'label': 'POSITIVE', 'score': 0.9989294409751892}, {'label': 'POSITIVE', 'score': 0.9938322305679321}, {'label': 'NEGATIVE', 'score': 0.8460812568664551}, {'label': 'POSITIVE', 'score': 0.9998791217803955}, {'label': 'POSITIVE', 'score': 0.7134881615638733}, {'label': 'POSITIVE', 'score': 0.9954850673675537}, {'label': 'POSITIVE', 'score': 0.9955926537513733}, {'label': 'POSITIVE', 'score': 0.9989727735519409}, {'label': 'POSITIVE', 'score': 0.9845935702323914}, {'label': 'POSITIVE', 'score': 0.9942353367805481}, {'label': 'POSITIVE', 'score': 0.6717134118080139}, {'label': 'NEGATIVE', 'score': 0.7631356716156006}, {'label': 'POSITIVE', 'score': 0.9996345043182373}, {'label': 'POSITIVE', 'score': 0.9994945526123047}, {'label': 'POSITIVE', 'score': 0.9983554482460022}, {'label': 'POSITIVE', 'score': 0.8432172536849976}, {'label': 'NEGATIVE', 'score': 0.9730514883995056}, {'label': 'NEGATIVE', 'score': 0.9950591325759888}, {'label': 'POSITIVE', 'score': 0.9993894100189209}, {'label': 'POSITIVE', 'score': 0.9998742341995239}, {'label': 'POSITIVE', 'score': 0.9996930360794067}, {'label': 'POSITIVE', 'score': 0.9975940585136414}, {'label': 'POSITIVE', 'score': 0.9980310797691345}, {'label': 'POSITIVE', 'score': 0.514934778213501}, {'label': 'POSITIVE', 'score': 0.9974195957183838}, {'label': 'POSITIVE', 'score': 0.8775986433029175}, {'label': 'POSITIVE', 'score': 0.9994163513183594}, {'label': 'POSITIVE', 'score': 0.9989228844642639}, {'label': 'POSITIVE', 'score': 0.6901711225509644}, {'label': 'POSITIVE', 'score': 0.9882367253303528}, {'label': 'NEGATIVE', 'score': 0.9149799942970276}, {'label': 'POSITIVE', 'score': 0.9891018271446228}, {'label': 'NEGATIVE', 'score': 0.9086281061172485}, {'label': 'POSITIVE', 'score': 0.9991421699523926}, {'label': 'POSITIVE', 'score': 0.999703586101532}, {'label': 'POSITIVE', 'score': 0.9997367262840271}, {'label': 'POSITIVE', 'score': 0.9916436076164246}, {'label': 'POSITIVE', 'score': 0.9991928935050964}, {'label': 'POSITIVE', 'score': 0.9994920492172241}, {'label': 'POSITIVE', 'score': 0.9992007613182068}, {'label': 'POSITIVE', 'score': 0.8290358781814575}, {'label': 'POSITIVE', 'score': 0.9993450045585632}, {'label': 'POSITIVE', 'score': 0.9998606443405151}, {'label': 'POSITIVE', 'score': 0.9998739957809448}, {'label': 'POSITIVE', 'score': 0.9474529027938843}, {'label': 'POSITIVE', 'score': 0.9969340562820435}, {'label': 'POSITIVE', 'score': 0.9852505922317505}, {'label': 'NEGATIVE', 'score': 0.9661722779273987}, {'label': 'POSITIVE', 'score': 0.8689935207366943}, {'label': 'NEGATIVE', 'score': 0.9735506772994995}, {'label': 'POSITIVE', 'score': 0.9987024068832397}, {'label': 'POSITIVE', 'score': 0.9998559951782227}, {'label': 'POSITIVE', 'score': 0.9989057779312134}, {'label': 'POSITIVE', 'score': 0.9965188503265381}, {'label': 'NEGATIVE', 'score': 0.9908457398414612}, {'label': 'POSITIVE', 'score': 0.9991903901100159}, {'label': 'POSITIVE', 'score': 0.9993282556533813}, {'label': 'NEGATIVE', 'score': 0.7291711568832397}, {'label': 'POSITIVE', 'score': 0.9839785695075989}, {'label': 'NEGATIVE', 'score': 0.9903484582901001}, {'label': 'POSITIVE', 'score': 0.9984692931175232}, {'label': 'POSITIVE', 'score': 0.9991617202758789}, {'label': 'POSITIVE', 'score': 0.9996193647384644}, {'label': 'POSITIVE', 'score': 0.99850994348526}, {'label': 'POSITIVE', 'score': 0.9985513091087341}, {'label': 'NEGATIVE', 'score': 0.9970554113388062}, {'label': 'NEGATIVE', 'score': 0.9709150791168213}, {'label': 'POSITIVE', 'score': 0.9989734888076782}, {'label': 'NEGATIVE', 'score': 0.9981909394264221}, {'label': 'NEGATIVE', 'score': 0.9957295060157776}, {'label': 'NEGATIVE', 'score': 0.8352393507957458}, {'label': 'POSITIVE', 'score': 0.9995131492614746}, {'label': 'POSITIVE', 'score': 0.9837778806686401}, {'label': 'POSITIVE', 'score': 0.9997743964195251}, {'label': 'POSITIVE', 'score': 0.9990642666816711}, {'label': 'NEGATIVE', 'score': 0.9908995628356934}, {'label': 'POSITIVE', 'score': 0.8644270300865173}, {'label': 'NEGATIVE', 'score': 0.9637160897254944}, {'label': 'NEGATIVE', 'score': 0.9655936360359192}, {'label': 'POSITIVE', 'score': 0.9979884624481201}, {'label': 'POSITIVE', 'score': 0.999693751335144}, {'label': 'POSITIVE', 'score': 0.9996613264083862}, {'label': 'POSITIVE', 'score': 0.9968361854553223}, {'label': 'POSITIVE', 'score': 0.9998642206192017}, {'label': 'POSITIVE', 'score': 0.9990887641906738}, {'label': 'POSITIVE', 'score': 0.9995672106742859}, {'label': 'POSITIVE', 'score': 0.994101345539093}, {'label': 'NEGATIVE', 'score': 0.9785107374191284}, {'label': 'NEGATIVE', 'score': 0.8565300703048706}, {'label': 'NEGATIVE', 'score': 0.5964718461036682}, {'label': 'POSITIVE', 'score': 0.9840036034584045}, {'label': 'POSITIVE', 'score': 0.9962272644042969}, {'label': 'NEGATIVE', 'score': 0.9828664660453796}, {'label': 'POSITIVE', 'score': 0.701156735420227}, {'label': 'POSITIVE', 'score': 0.9998761415481567}, {'label': 'POSITIVE', 'score': 0.9945875406265259}, {'label': 'POSITIVE', 'score': 0.9998706579208374}, {'label': 'POSITIVE', 'score': 0.9997610449790955}, {'label': 'POSITIVE', 'score': 0.9854873418807983}, {'label': 'POSITIVE', 'score': 0.9991471767425537}, {'label': 'POSITIVE', 'score': 0.9415451288223267}, {'label': 'NEGATIVE', 'score': 0.9596704244613647}, {'label': 'NEGATIVE', 'score': 0.9891151189804077}, {'label': 'NEGATIVE', 'score': 0.9345352649688721}, {'label': 'POSITIVE', 'score': 0.9977499842643738}, {'label': 'POSITIVE', 'score': 0.9987670183181763}, {'label': 'NEGATIVE', 'score': 0.848375678062439}, {'label': 'NEGATIVE', 'score': 0.9961147308349609}, {'label': 'POSITIVE', 'score': 0.9998612403869629}, {'label': 'NEGATIVE', 'score': 0.9631243348121643}, {'label': 'POSITIVE', 'score': 0.9979590177536011}, {'label': 'POSITIVE', 'score': 0.9995236396789551}, {'label': 'POSITIVE', 'score': 0.9601128697395325}, {'label': 'POSITIVE', 'score': 0.9912220239639282}, {'label': 'NEGATIVE', 'score': 0.8832585215568542}, {'label': 'NEGATIVE', 'score': 0.9892834424972534}, {'label': 'POSITIVE', 'score': 0.9998433589935303}, {'label': 'POSITIVE', 'score': 0.995974600315094}, {'label': 'POSITIVE', 'score': 0.6401154398918152}, {'label': 'POSITIVE', 'score': 0.9667209386825562}, {'label': 'POSITIVE', 'score': 0.9765083193778992}, {'label': 'POSITIVE', 'score': 0.9983273148536682}, {'label': 'POSITIVE', 'score': 0.615509033203125}, {'label': 'POSITIVE', 'score': 0.9998717308044434}, {'label': 'POSITIVE', 'score': 0.9997953772544861}, {'label': 'POSITIVE', 'score': 0.9909180402755737}, {'label': 'POSITIVE', 'score': 0.9995629191398621}, {'label': 'NEGATIVE', 'score': 0.982746958732605}, {'label': 'POSITIVE', 'score': 0.7487230896949768}, {'label': 'POSITIVE', 'score': 0.9498304128646851}, {'label': 'POSITIVE', 'score': 0.9839621782302856}, {'label': 'NEGATIVE', 'score': 0.9180722832679749}, {'label': 'POSITIVE', 'score': 0.9996285438537598}, {'label': 'POSITIVE', 'score': 0.9978000521659851}, {'label': 'POSITIVE', 'score': 0.9942335486412048}, {'label': 'POSITIVE', 'score': 0.999699592590332}, {'label': 'POSITIVE', 'score': 0.9869847297668457}, {'label': 'POSITIVE', 'score': 0.9982909560203552}, {'label': 'POSITIVE', 'score': 0.9998645782470703}, {'label': 'POSITIVE', 'score': 0.9998098015785217}, {'label': 'POSITIVE', 'score': 0.9993176460266113}, {'label': 'POSITIVE', 'score': 0.8757128715515137}, {'label': 'POSITIVE', 'score': 0.9990680813789368}, {'label': 'POSITIVE', 'score': 0.9976984858512878}, {'label': 'POSITIVE', 'score': 0.9954812526702881}, {'label': 'POSITIVE', 'score': 0.971828043460846}, {'label': 'POSITIVE', 'score': 0.9994828701019287}, {'label': 'POSITIVE', 'score': 0.9997534155845642}, {'label': 'POSITIVE', 'score': 0.9998396635055542}, {'label': 'POSITIVE', 'score': 0.9951135516166687}, {'label': 'POSITIVE', 'score': 0.999582827091217}, {'label': 'POSITIVE', 'score': 0.9994646906852722}, {'label': 'NEGATIVE', 'score': 0.9795778393745422}, {'label': 'NEGATIVE', 'score': 0.5453514456748962}, {'label': 'POSITIVE', 'score': 0.9997988343238831}, {'label': 'POSITIVE', 'score': 0.993423342704773}, {'label': 'POSITIVE', 'score': 0.9331811666488647}, {'label': 'POSITIVE', 'score': 0.9994723200798035}, {'label': 'POSITIVE', 'score': 0.9973775148391724}, {'label': 'NEGATIVE', 'score': 0.9960713386535645}, {'label': 'POSITIVE', 'score': 0.9998780488967896}, {'label': 'POSITIVE', 'score': 0.9998236298561096}, {'label': 'POSITIVE', 'score': 0.990925669670105}, {'label': 'NEGATIVE', 'score': 0.9935781955718994}, {'label': 'NEGATIVE', 'score': 0.8485520482063293}, {'label': 'POSITIVE', 'score': 0.9997228980064392}, {'label': 'POSITIVE', 'score': 0.997631311416626}, {'label': 'NEGATIVE', 'score': 0.9984253644943237}, {'label': 'NEGATIVE', 'score': 0.9859236478805542}, {'label': 'POSITIVE', 'score': 0.997523844242096}, {'label': 'POSITIVE', 'score': 0.9657604694366455}, {'label': 'POSITIVE', 'score': 0.9373043775558472}, {'label': 'POSITIVE', 'score': 0.9828467965126038}, {'label': 'POSITIVE', 'score': 0.9420270919799805}, {'label': 'NEGATIVE', 'score': 0.98723965883255}, {'label': 'POSITIVE', 'score': 0.9997005462646484}, {'label': 'POSITIVE', 'score': 0.9986708164215088}, {'label': 'POSITIVE', 'score': 0.992547333240509}, {'label': 'POSITIVE', 'score': 0.595413327217102}]\n"
     ]
    }
   ],
   "source": [
    "print(sentiment_analysis_output)"
   ]
  },
  {
   "cell_type": "code",
   "execution_count": 29,
   "metadata": {},
   "outputs": [
    {
     "name": "stdout",
     "output_type": "stream",
     "text": [
      "1506\n"
     ]
    }
   ],
   "source": [
    "print(len(sentiment_analysis_output))"
   ]
  },
  {
   "cell_type": "markdown",
   "metadata": {},
   "source": [
    "## Task 4: Histogram of Sentiment Score"
   ]
  },
  {
   "cell_type": "markdown",
   "metadata": {},
   "source": [
    "Well, that was straightfoward, yeah?\n",
    "\n",
    "As I'm sure you're aware by now, Hugging Face hosts a lot of models which can be employed for a variety of NLP tasks. The sentiment analysis pipeline above used the default model, but you can use any available model to suit your data (as long as they are in the [model hub](https://huggingface.co/models)). For example, [FashionClip](https://huggingface.co/patrickjohncyh/fashion-clip) is a model trained specifically for fashion-related datasets - such as this one - and tasks.\n",
    "\n",
    "On a related note, the [`pipeline()` module](https://huggingface.co/docs/transformers/main_classes/pipelines#pipelines) is quite versatile as well! It encapsulates multiple transformer pipelines including NLP, computer vision, audio, and multi-modal. Within NLP alone, it covers 12 different tasks such as sentiment analysis (listed as \"Text Classification\"), Named Entity Recognition, Summarization, Conversations, and Q & A.\n",
    "\n",
    "We encourage you to further explore this powerful tool."
   ]
  },
  {
   "cell_type": "markdown",
   "metadata": {},
   "source": [
    "Now, you're going to understand the distribution of the sentiment of review texts via a histogram. This will give you an overall understanding of the reviews specifically how customers viewed their rented items."
   ]
  },
  {
   "cell_type": "markdown",
   "metadata": {},
   "source": [
    "### Instructions"
   ]
  },
  {
   "cell_type": "markdown",
   "metadata": {},
   "source": [
    "- Parse the output of `sent_analysis_output` into two new columns - `clean_sentiment_category` and `clean_sentiment_score`.\n",
    "- Use `seaborn` and the new sentiment score column to create a histogram. Set the number of bins to 20.\n",
    "- Add a title, \"Distribution of Sentiment Score\", subtitle - \"For Clean Review Text\" - and x and y labels."
   ]
  },
  {
   "cell_type": "code",
   "execution_count": 43,
   "metadata": {
    "executionCancelledAt": null,
    "executionTime": 182,
    "lastExecutedAt": 1695260829103,
    "lastScheduledRunId": null,
    "lastSuccessfullyExecutedCode": "# Parse out the two pieces of output from sent_analysis_output - \"label\" and \"score\".\nrunway['clean_sentiment_category'] = [s[\"label\"] for s in sent_analysis_output]\nrunway['clean_sentiment_score'] = [s[\"score\"] for s in sent_analysis_output]\n\n# Create the first histogram using the built-in Pandas histogram method.\nsns.histplot(data=runway, x=\"clean_sentiment_score\", bins=20)\nplt.suptitle(\"Distribution of Sentiment Score\")\nplt.xlabel(\"Sentiment Score\")\nplt.ylabel(\"Count of Reviews\")\nplt.title(\"For Clean Review Text\")\nplt.show()"
   },
   "outputs": [
    {
     "data": {
      "image/png": "[encoded data removed]",
      "text/plain": [
       "<Figure size 640x480 with 1 Axes>"
      ]
     },
     "metadata": {},
     "output_type": "display_data"
    }
   ],
   "source": [
    "# Parse out the two pieces of output from sent_analysis_output - \"label\" and \"score\".\n",
    "runway['clean_sentiment_category'] = [s['label'] for s in sentiment_analysis_output]\n",
    "runway['clean_sentiment_score']  = [s['score'] for s in sentiment_analysis_output]\n",
    "\n",
    "\n",
    "# Create the first histogram using the built-in Pandas histogram method.\n",
    "sns.histplot(data=runway, x = \"clean_sentiment_score\", bins=20)\n",
    "plt.suptitle(\"Districution of Sentiment Score\")\n",
    "plt.xlabel(\"Count of Reviews\")\n",
    "plt.title(\"For clear review text\")\n",
    "plt.show()"
   ]
  },
  {
   "cell_type": "markdown",
   "metadata": {},
   "source": [
    "## Task 5: Sentiment Over the Years"
   ]
  },
  {
   "cell_type": "markdown",
   "metadata": {},
   "source": [
    "The distribution is informative from a global perspective - i.e., the reviews skew positive (\"great customer experience\"). However, it doesn't tell a complete story.\n",
    "\n",
    "Now that you have sentiment, you can explore the trends of sentiment across different facets of the data (i.e. over time, between products, etc.). Dissecting the data in this way, based on the business questions of interest, will explain more about what is going well and what needs improvement."
   ]
  },
  {
   "cell_type": "markdown",
   "metadata": {},
   "source": [
    "### Instructions"
   ]
  },
  {
   "cell_type": "markdown",
   "metadata": {},
   "source": [
    "In this task, you'll explore how sentiment changed over the years through a bar plot visualization. Feel free to explore other facets as well, if interested.\n",
    "\n",
    "- Create a new column called `year`.\n",
    "- Count the number of reviews by `year` and `clean_sentiment_category`. Save as `chart_data`.\n",
    "- Visualize the count of reviews using a seaborn `.barplot()`.\n",
    "- Add an appropriate title and axes labels."
   ]
  },
  {
   "cell_type": "code",
   "execution_count": 52,
   "metadata": {
    "executionCancelledAt": null,
    "executionTime": 5265,
    "lastExecutedAt": 1695260891322,
    "lastScheduledRunId": null,
    "lastSuccessfullyExecutedCode": "# Create a new column called \"year\" which is the year of the \"review_date\".\nrunway['year'] = runway['review_date'].dt.year\n\n# Create a new dataframe of review counts by \"year\" and \"cleaned_sentiment_category\".\nchart_data = runway.groupby(['year', 'clean_sentiment_category'], as_index=False)['user_id'].count()\nchart_data.columns = ['year', 'clean_sentiment_category', 'cnt']\n\n# Create a bar plot showing the count of reviews for each sentiment category over the years.\nsns.barplot(data=chart_data, x=\"year\", y=\"cnt\", hue=\"clean_sentiment_category\", errorbar = None)\nplt.title(\"Sentiment between 2016 - 2023\")\nplt.xlabel(\"Review Year\")\nplt.ylabel(\"Count of Reviews\")\nplt.show()"
   },
   "outputs": [],
   "source": [
    "# Create a new column called \"year\" which is the year of the \"review_date\".\n",
    "runway['year'] = runway['review_date'].dt.year\n",
    "\n",
    "# Create a new dataframe of review counts by \"year\" and \"cleaned_sentiment_category\".\n",
    "chart_data = runway.groupby(['year', 'clean_sentiment_category'], as_index=False)['user_id'].count()\n",
    "chart_data.columns = ['year', 'clean_sentiment_category', 'cnt']"
   ]
  },
  {
   "cell_type": "code",
   "execution_count": 53,
   "metadata": {},
   "outputs": [
    {
     "data": {
      "text/html": [
       "<div>\n",
       "<style scoped>\n",
       "    .dataframe tbody tr th:only-of-type {\n",
       "        vertical-align: middle;\n",
       "    }\n",
       "\n",
       "    .dataframe tbody tr th {\n",
       "        vertical-align: top;\n",
       "    }\n",
       "\n",
       "    .dataframe thead th {\n",
       "        text-align: right;\n",
       "    }\n",
       "</style>\n",
       "<table border=\"1\" class=\"dataframe\">\n",
       "  <thead>\n",
       "    <tr style=\"text-align: right;\">\n",
       "      <th></th>\n",
       "      <th>year</th>\n",
       "      <th>clean_sentiment_category</th>\n",
       "      <th>cnt</th>\n",
       "    </tr>\n",
       "  </thead>\n",
       "  <tbody>\n",
       "    <tr>\n",
       "      <th>0</th>\n",
       "      <td>2016</td>\n",
       "      <td>POSITIVE</td>\n",
       "      <td>3</td>\n",
       "    </tr>\n",
       "    <tr>\n",
       "      <th>1</th>\n",
       "      <td>2017</td>\n",
       "      <td>NEGATIVE</td>\n",
       "      <td>9</td>\n",
       "    </tr>\n",
       "    <tr>\n",
       "      <th>2</th>\n",
       "      <td>2017</td>\n",
       "      <td>POSITIVE</td>\n",
       "      <td>12</td>\n",
       "    </tr>\n",
       "    <tr>\n",
       "      <th>3</th>\n",
       "      <td>2018</td>\n",
       "      <td>NEGATIVE</td>\n",
       "      <td>24</td>\n",
       "    </tr>\n",
       "    <tr>\n",
       "      <th>4</th>\n",
       "      <td>2018</td>\n",
       "      <td>POSITIVE</td>\n",
       "      <td>54</td>\n",
       "    </tr>\n",
       "    <tr>\n",
       "      <th>5</th>\n",
       "      <td>2019</td>\n",
       "      <td>NEGATIVE</td>\n",
       "      <td>60</td>\n",
       "    </tr>\n",
       "    <tr>\n",
       "      <th>6</th>\n",
       "      <td>2019</td>\n",
       "      <td>POSITIVE</td>\n",
       "      <td>170</td>\n",
       "    </tr>\n",
       "    <tr>\n",
       "      <th>7</th>\n",
       "      <td>2020</td>\n",
       "      <td>NEGATIVE</td>\n",
       "      <td>62</td>\n",
       "    </tr>\n",
       "    <tr>\n",
       "      <th>8</th>\n",
       "      <td>2020</td>\n",
       "      <td>POSITIVE</td>\n",
       "      <td>180</td>\n",
       "    </tr>\n",
       "    <tr>\n",
       "      <th>9</th>\n",
       "      <td>2021</td>\n",
       "      <td>NEGATIVE</td>\n",
       "      <td>104</td>\n",
       "    </tr>\n",
       "    <tr>\n",
       "      <th>10</th>\n",
       "      <td>2021</td>\n",
       "      <td>POSITIVE</td>\n",
       "      <td>331</td>\n",
       "    </tr>\n",
       "    <tr>\n",
       "      <th>11</th>\n",
       "      <td>2022</td>\n",
       "      <td>NEGATIVE</td>\n",
       "      <td>112</td>\n",
       "    </tr>\n",
       "    <tr>\n",
       "      <th>12</th>\n",
       "      <td>2022</td>\n",
       "      <td>POSITIVE</td>\n",
       "      <td>376</td>\n",
       "    </tr>\n",
       "    <tr>\n",
       "      <th>13</th>\n",
       "      <td>2023</td>\n",
       "      <td>NEGATIVE</td>\n",
       "      <td>3</td>\n",
       "    </tr>\n",
       "    <tr>\n",
       "      <th>14</th>\n",
       "      <td>2023</td>\n",
       "      <td>POSITIVE</td>\n",
       "      <td>6</td>\n",
       "    </tr>\n",
       "  </tbody>\n",
       "</table>\n",
       "</div>"
      ],
      "text/plain": [
       "    year clean_sentiment_category  cnt\n",
       "0   2016                 POSITIVE    3\n",
       "1   2017                 NEGATIVE    9\n",
       "2   2017                 POSITIVE   12\n",
       "3   2018                 NEGATIVE   24\n",
       "4   2018                 POSITIVE   54\n",
       "5   2019                 NEGATIVE   60\n",
       "6   2019                 POSITIVE  170\n",
       "7   2020                 NEGATIVE   62\n",
       "8   2020                 POSITIVE  180\n",
       "9   2021                 NEGATIVE  104\n",
       "10  2021                 POSITIVE  331\n",
       "11  2022                 NEGATIVE  112\n",
       "12  2022                 POSITIVE  376\n",
       "13  2023                 NEGATIVE    3\n",
       "14  2023                 POSITIVE    6"
      ]
     },
     "execution_count": 53,
     "metadata": {},
     "output_type": "execute_result"
    }
   ],
   "source": [
    "chart_data"
   ]
  },
  {
   "cell_type": "code",
   "execution_count": 54,
   "metadata": {},
   "outputs": [
    {
     "data": {
      "image/png": "[encoded data removed]",
      "text/plain": [
       "<Figure size 640x480 with 1 Axes>"
      ]
     },
     "metadata": {},
     "output_type": "display_data"
    }
   ],
   "source": [
    "# Create a bar plot showing the count of reviews for each sentiment category over the years.\n",
    "sns.barplot(data=chart_data, x = \"year\", y = \"cnt\", hue=\"clean_sentiment_category\", errorbar=None)\n",
    "plt.title(\"Sentiment Analysis 2016-2023\")\n",
    "plt.xlabel(\"Review of Year\")\n",
    "plt.ylabel(\"Count of Reviews\")\n",
    "plt.show()"
   ]
  },
  {
   "cell_type": "markdown",
   "metadata": {},
   "source": [
    "## Task 6: Does Cleaning Text Matter?"
   ]
  },
  {
   "cell_type": "markdown",
   "metadata": {},
   "source": [
    "Wow - that's quite a set of positive reviews! It seems like the amount of positive reviews increased dramatically in 2021. Potentially a revamp of the customer experience, product quality, more customers, or something else we don't have data for. \n",
    "\n",
    "From a business context, digging into the common words/n-grams of the positive reviews can be revealing as to what customers love about the products. Doing the same for the negative reviews can be just as informative for what they don't love (i.e. sizing issues, rental service, etc.). \n",
    "\n",
    "We will look into that soon. But first, let's test the previous comment on preprocessing text. Does it matter for sentiment analysis?\n",
    "\n",
    "In this task, you will build another sentiment analysis pipeline but, in this case, for the non-cleaned `review_text`. Then, you will compare the output from the two pipelines to understand if the cleaning made a difference in categorizing sentiment."
   ]
  },
  {
   "cell_type": "markdown",
   "metadata": {},
   "source": [
    "### Instructions"
   ]
  },
  {
   "cell_type": "markdown",
   "metadata": {},
   "source": [
    "- Duplicate the steps from the previous exercise to run a sentiment analysis pipeline. Save as `sent_analysis_2`.\n",
    "- Parse the output and save as `sentiment_category` and `sentiment_score`.\n",
    "- Create a confusion matrix using `pd.crosstab()` comparing the output of `clean_sentiment_category` and `sentiment_category`."
   ]
  },
  {
   "cell_type": "markdown",
   "metadata": {},
   "source": [
    "Note that this task is computationally intensive and may take several minutes to run. It runs faster in Premium Workspace."
   ]
  },
  {
   "cell_type": "code",
   "execution_count": 10,
   "metadata": {
    "chartConfig": {
     "bar": {
      "hasRoundedCorners": true,
      "stacked": false
     },
     "type": "bar",
     "version": "v1"
    },
    "executionCancelledAt": null,
    "executionTime": 32649,
    "lastExecutedAt": 1695260966484,
    "lastScheduledRunId": null,
    "lastSuccessfullyExecutedCode": "# Create a new sentiment analysis output for \"review_text\".\nsent_analysis_2 = sentimentAnalysis(list(runway[\"review_text\"]))\n\n# Parse the output into \"sentiment_category\" and \"sentiment_score\".\nrunway['sentiment_category'] = [s[\"label\"] for s in sent_analysis_2]\nrunway['sentiment_score'] = [s[\"score\"] for s in sent_analysis_2]\n\n# Print the confusion matrix comparing the two sentiment category outputs.\ndisplay(pd.crosstab(runway['clean_sentiment_category'], runway['sentiment_category']))",
    "outputsMetadata": {
     "0": {
      "height": 122,
      "type": "dataFrame"
     }
    },
    "visualizeDataframe": false
   },
   "outputs": [],
   "source": [
    "# Create a new sentiment analysis output for \"review_text\".\n",
    "\n",
    "# Parse the output into \"sentiment_category\" and \"sentiment_score\".\n",
    "\n",
    "\n",
    "\n",
    "# Print the confusion matrix comparing the two sentiment category outputs.\n"
   ]
  },
  {
   "cell_type": "markdown",
   "metadata": {},
   "source": [
    "Based on the previous results, the sentiment of the review was pretty much the same with cleaned text. Good for us! We can use the original text to perform further analysis. Again, this is situation dependent, so be sure to think through the benefits of cleaning vs. leaving the text as is. \n",
    "\n",
    "Transformers, such as those on Hugging Face, are a component of machine learning / deep learning models which are designed to learn sequential data. Using a concept known as \"self-attention\", they use other tokens (words) in the sequence (sentence) to build an understanding of a specific token (word).\n",
    "\n",
    "All of this to say (in a simplified manner) transformers, specifically those trained on VERY large datasets, work well on unstructured, un-cleaned text because it takes the whole sentence into context. And every piece adds to that context [see BERT paper here that argues this point](https://arxiv.org/pdf/1904.07531.pdf).\n",
    "\n",
    "This can be particularly powerful from 1) a time-savings perspective and 2) enabling more unstructured text to be leveraged. With less hassle of data preparation, more data can be used to make decisions. Again, make sure you evaluate the use case and determine if the NLP results are meeting performance expectations."
   ]
  },
  {
   "cell_type": "markdown",
   "metadata": {},
   "source": [
    "## Task 7: Embeddings"
   ]
  },
  {
   "cell_type": "markdown",
   "metadata": {},
   "source": [
    "In the next task, we will switch gears to exploring another common use case for Hugging Face and transformers - text embeddings. \n",
    "\n",
    "Embeddings, in a very simplistic definition, are a vector (numerical) representation of something within n-dimensions. In this case, they are text embeddings. (Note: each transformer model will have a different number of dimensions for its results). Embeddings are useful because they represent human language to computers which enables a more sophisticated execution of similarity, text generation, semantic search, and the like. This can be extremely valuable for business tasks such as recommendations and searching within websites or products.\n",
    "\n",
    "You will now try this out on the `rented for` column using the `sentence_transformer` [package](https://huggingface.co/sentence-transformers). The model you'll use is the BERT-based [\"all-MiniLM-L6-v2\" model](https://huggingface.co/sentence-transformers/all-MiniLM-L6-v2) which transformer that maps sentences and paragraphs to an n-dimensional vector."
   ]
  },
  {
   "cell_type": "markdown",
   "metadata": {},
   "source": [
    "### Instructions"
   ]
  },
  {
   "cell_type": "markdown",
   "metadata": {},
   "source": [
    "- Instantiate a new instance of `SentenceTransformer` using the specified model (`model_id`). Save as `model`.\n",
    "- Generate an embedding for each review text using `model.encode()`. Save as `embeddings`.\n",
    "- Print the shape of the new embeddings array."
   ]
  },
  {
   "cell_type": "code",
   "execution_count": 11,
   "metadata": {
    "executionCancelledAt": null,
    "executionTime": 920,
    "jupyter": {
     "outputs_hidden": false,
     "source_hidden": false
    },
    "lastExecutedAt": 1695262275579,
    "lastScheduledRunId": null,
    "lastSuccessfullyExecutedCode": "model_id = \"sentence-transformers/all-MiniLM-L6-v2\"\n\n# Instantiate a new SentenceTransformer object.\nmodel = SentenceTransformer(model_id)\n\n# Generate the embeddings for the \"rented for\" column.\nembeddings = model.encode(list(runway[\"rented for\"]))\n\nprint(embeddings.shape)",
    "outputsMetadata": {
     "0": {
      "height": 37,
      "type": "stream"
     },
     "14": {
      "height": 37,
      "type": "stream"
     }
    }
   },
   "outputs": [],
   "source": [
    "model_id = \"sentence-transformers/all-MiniLM-L6-v2\"\n",
    "\n",
    "# Instantiate a new SentenceTransformer object.\n",
    "\n",
    "\n",
    "# Generate the embeddings for the \"rented for\" column.\n",
    "\n",
    "\n"
   ]
  },
  {
   "cell_type": "markdown",
   "metadata": {},
   "source": [
    "## Task 8: Clustering"
   ]
  },
  {
   "cell_type": "markdown",
   "metadata": {},
   "source": [
    "The all-MiniLM-L6-v2 model outputs embeddings of 384 dimensions. A higher-dimensional embedding can capture more of the relationship between words which is fantastic!\n",
    "\n",
    "However, for some tasks, such as clustering, it can be a challenge. Clustering tends to perform poorly with higher dimensions of data (i.e. the Curse of Dimensionality), which poses a common challenge in text mining and NLP. Therefore, dimensionality reduction is often employed in order to calculate distance (e.g. Euclidean) between embeddings, then calculate clusters.\n",
    "\n",
    "Since the transformer is constructed in such a way to be better at learning context, text - words, sentences, documents - that are similar should have similar vectors and therefore be closer together (i.e. in the same cluster).\n",
    "\n",
    "Understanding which embeddings are closer together can then be used to determine which products, users, reviews, etc. are similar to each other. This is an important step in common method for building recommendations."
   ]
  },
  {
   "cell_type": "markdown",
   "metadata": {},
   "source": [
    "### Instructions"
   ]
  },
  {
   "cell_type": "markdown",
   "metadata": {},
   "source": [
    "In this task, you'll conduct dimensionality reduction using the `TSNE` module from the `sklearn` package.\n",
    "\n",
    "- Import `TSNE` from `sklearn.manifold`.\n",
    "- Create a new TSNE object using the defined input parameters. Save as `tsne`.\n",
    "- Fit the `tsne` model with the saved embeddings. Save this as `tsne_dims`."
   ]
  },
  {
   "cell_type": "code",
   "execution_count": 12,
   "metadata": {
    "executionCancelledAt": null,
    "executionTime": 2829,
    "lastExecutedAt": 1695262282682,
    "lastScheduledRunId": null,
    "lastSuccessfullyExecutedCode": "# Import TSNE\nfrom sklearn.manifold import TSNE\n\n# Instantiate a new TSNE object. \ntsne = TSNE(n_components=2, perplexity=15, random_state=42, init='random', learning_rate=200)\n\n# Generate the tsne dimensions using the saved embeddings.\ntsne_dims = tsne.fit_transform(embeddings)\n\nprint(tsne_dims.shape)",
    "outputsMetadata": {
     "0": {
      "height": 37,
      "type": "stream"
     }
    }
   },
   "outputs": [],
   "source": [
    "# Import TSNE\n",
    "\n",
    "\n",
    "# Instantiate a new TSNE object. \n",
    "\n",
    "\n",
    "# Generate the tsne dimensions using the saved embeddings.\n",
    "\n",
    "\n"
   ]
  },
  {
   "cell_type": "markdown",
   "metadata": {},
   "source": [
    "## Task 9: Visualizing the Clusters"
   ]
  },
  {
   "cell_type": "markdown",
   "metadata": {},
   "source": [
    "Now each embedding is 2-dimensional. You don't need to be so drastic in dimensionality reduction for clustering, i.e. use explained variance ratio to determine the right number of components, but is important for visualizing the clusters.\n",
    "\n",
    "With these smaller vectors, let's move on to generating basic clusters (the average of each category) and building a visualization for them!"
   ]
  },
  {
   "cell_type": "markdown",
   "metadata": {},
   "source": [
    "### Instructions"
   ]
  },
  {
   "cell_type": "markdown",
   "metadata": {},
   "source": [
    "- Extract the x and y dimensions from the `tsne_dims` result. Save as new columns in `runway` named `x` and `y`, respectively.\n",
    "- Use `seaborn.scatterplot` to create a new scatterplot using the x and y dimensions and `category` as the \"hue\".\n",
    "- Set the title as `Embeddings visualized for 'rented for' reasons and category using t-SNE`."
   ]
  },
  {
   "cell_type": "code",
   "execution_count": 13,
   "metadata": {
    "executionCancelledAt": null,
    "executionTime": 264,
    "lastExecutedAt": 1695262283786,
    "lastScheduledRunId": null,
    "lastSuccessfullyExecutedCode": "plt.rcParams['figure.figsize'] = (15, 8)\n\n# Parse out the x and y dimensions from the tsne output.\nrunway['x'] = [x for x,y in tsne_dims]\nrunway['y'] = [y for x,y in tsne_dims]\n\n# Create the scatterplot\nsns.scatterplot(x = \"x\", y = \"y\", hue = \"category\", data = runway)\nplt.legend()\nplt.title(\"Embeddings visualized for 'rented for' reasons and category using t-SNE\")\nplt.show()"
   },
   "outputs": [],
   "source": [
    "# Parse out the x and y dimensions from the tsne output.\n",
    "\n",
    "\n",
    "# Create the scatterplot\n"
   ]
  },
  {
   "cell_type": "markdown",
   "metadata": {},
   "source": [
    "## Task 10: Semantic Search"
   ]
  },
  {
   "cell_type": "markdown",
   "metadata": {},
   "source": [
    "The plot is showing us all of the review embeddings - based on the \"rented_for\" column - in a two-dimensional space (since our eyes can't handle 384 dimensions)! The color is indicating the type of item rented, i.e. \"dress\", \"gown\", \"sheath\".\n",
    "\n",
    "There are clearly two main clusters in this dataset for \"rented for\" - the mainly blue cluster and the mainly orange one. The blue cluster consists primarily of gowns while the other is mainly dresses.\n",
    "\n",
    "This is a simple example yet still very informative about how customers rent items for which types of occasions.\n",
    "\n",
    "Embeddings are not only cool to visualize, as mentioned above, they also facilitate \"semantic search\". Semantic search denotes \"searching with meaning\" and with context when available. The goal is to infer what the user's intent is then find the most relevant results. This is different from \"lexical search\" where a search engine looks for literal matches of a query (or defined variants). Both have their strengths and weaknesses, which we encourage you to research further.\n",
    "\n",
    "Semantic search can be incredibly powerful in a customer experience setting. Specifically, they can help with recommendations (i.e. which product is similar based on reviews, descriptions, etc.) and - obviously - search (i.e. find me products with these phrases or words in their reviews). "
   ]
  },
  {
   "cell_type": "markdown",
   "metadata": {},
   "source": [
    "### Instructions"
   ]
  },
  {
   "cell_type": "markdown",
   "metadata": {},
   "source": [
    "In this task, you'll build a simple semantic search pipeline using the `sentence-transformer` package.\n",
    "\n",
    "- First, generate an embedding of the pre-defined query using the same model object saved above. Save this query embedding as `query_emb`.\n",
    "- With the `semantic_search()` function, use the query embedding and the other embeddings to get the top three \"hits\", i.e. most similar items by review.\n",
    "- Use a for-loop to print the category and rented for reason for each hit."
   ]
  },
  {
   "cell_type": "code",
   "execution_count": 14,
   "metadata": {
    "executionCancelledAt": null,
    "executionTime": 51,
    "lastExecutedAt": 1695262319213,
    "lastScheduledRunId": null,
    "lastSuccessfullyExecutedCode": "query = \"a gorgeous and flattering dress\"\nquery_emb = model.encode(query, convert_to_tensor=True)\n\nhits = semantic_search(query_emb, embeddings, top_k=3)\n\nfor hit in hits[0]:\n    idx = hit['corpus_id']\n    print(\n        \"ITEM ID: \", runway.iloc[idx]['item_id'], \n        \"; RENTED FOR: \", runway.iloc[idx]['rented for'],\n        \"; REVIEW\", runway.iloc[idx]['review_text'])",
    "outputsMetadata": {
     "0": {
      "height": 357,
      "type": "stream"
     }
    }
   },
   "outputs": [],
   "source": [
    "# Define query\n",
    "query = \"a gorgeous and flattering dress\"\n",
    "\n",
    "# Embed query\n",
    "\n",
    "\n",
    "# Calculate similarity between query and item embeddings\n",
    "\n",
    "\n",
    "# Print top similar items\n"
   ]
  },
  {
   "cell_type": "markdown",
   "metadata": {},
   "source": [
    "## Task 11: Generate New Marketing Material"
   ]
  },
  {
   "cell_type": "markdown",
   "metadata": {},
   "source": [
    "The semantic search returned three different items that appear to be similar to what we were searching for, i.e. \"the dress was gorgeous\" and \"this dress was a great fit\". With some fine-tuning, you can achieve even greater performance. We can also notice some constructive feedback on other parts of the dress. Further investigation here would reveal important insights for the business team.\n",
    "\n",
    "Let's again switch gears for this final task. Let's generate some new text based on a prompt. Specifically, you want to create some brainstorming material for a new marketing campaign. This type of process can save a lot of time in the creation process - helping you start at \"I have a good idea\" vs. \"I need an idea\". "
   ]
  },
  {
   "cell_type": "markdown",
   "metadata": {},
   "source": [
    "### Instructions"
   ]
  },
  {
   "cell_type": "markdown",
   "metadata": {},
   "source": [
    "In this task, you'll switch back to the `pipeline()` module.\n",
    "\n",
    "- Instantiate a text generation pipeline using `model = \"gpt2\"` as the input parameter. Save as `generator`.\n",
    "- Using this generator, create 1 new piece of text based on the pre-defined prompt. Save as `output`.\n",
    "- Print the prompt and the output."
   ]
  },
  {
   "cell_type": "code",
   "execution_count": 15,
   "metadata": {
    "executionCancelledAt": null,
    "executionTime": null,
    "lastExecutedAt": null,
    "lastScheduledRunId": null,
    "lastSuccessfullyExecutedCode": null,
    "outputsMetadata": {
     "1": {
      "height": 37,
      "type": "stream"
     },
     "2": {
      "height": 95,
      "type": "stream"
     },
     "6": {
      "height": 37,
      "type": "stream"
     },
     "7": {
      "height": 117,
      "type": "stream"
     }
    }
   },
   "outputs": [],
   "source": [
    "# Instantiate the pipeline for generating text\n",
    "\n",
    "\n",
    "# Pre-defined prompt\n",
    "prompt = \"New for this winter season, a lovely dress that\"\n",
    "\n",
    "# Use the prompt as input to the generator to return output.\n",
    "\n",
    "\n",
    "# Print the generated text.\n"
   ]
  }
 ],
 "metadata": {
  "colab": {
   "name": "Welcome to DataCamp Workspaces.ipynb",
   "provenance": []
  },
  "kernelspec": {
   "display_name": "Python 3",
   "language": "python",
   "name": "python3"
  },
  "language_info": {
   "codemirror_mode": {
    "name": "ipython",
    "version": 3
   },
   "file_extension": ".py",
   "mimetype": "text/x-python",
   "name": "python",
   "nbconvert_exporter": "python",
   "pygments_lexer": "ipython3",
   "version": "3.8.3"
  }
 },
 "nbformat": 4,
 "nbformat_minor": 5
}
