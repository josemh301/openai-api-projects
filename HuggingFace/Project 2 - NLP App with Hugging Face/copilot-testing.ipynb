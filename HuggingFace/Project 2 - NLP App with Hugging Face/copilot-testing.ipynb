{
 "cells": [
  {
   "cell_type": "markdown",
   "metadata": {},
   "source": [
    "# NLP and Sentiment Analysis Project\n",
    "\n",
    "## Introduction\n",
    "In this project, we will be exploring Natural Language Processing (NLP) techniques and sentiment analysis. NLP is a field of study that focuses on the interaction between computers and human language. Sentiment analysis, on the other hand, is the process of determining the sentiment or emotion expressed in a piece of text.\n",
    "\n",
    "## Objectives\n",
    "The main objectives of this project are:\n",
    "- Preprocessing text data by removing stopwords, punctuation, and performing tokenization.\n",
    "- Building a sentiment analysis model using machine learning algorithms.\n",
    "- Evaluating the performance of the sentiment analysis model using appropriate metrics.\n",
    "- Applying the sentiment analysis model to analyze sentiment in a given dataset.\n",
    "\n",
    "## Tools and Technologies\n",
    "The following tools and technologies will be used in this project:\n",
    "- Python programming language\n",
    "- Jupyter Notebook\n",
    "- Natural Language Toolkit (NLTK) library\n",
    "- Scikit-learn library\n",
    "\n",
    "## Workflow\n",
    "1. Data Collection: Gather a dataset containing text data for sentiment analysis.\n",
    "2. Data Preprocessing: Clean the text data by removing unnecessary elements such as stopwords and punctuation.\n",
    "3. Text Tokenization: Split the text into individual words or tokens.\n",
    "4. Feature Extraction: Convert the text data into numerical features that can be used by machine learning algorithms.\n",
    "5. Model Training: Train a sentiment analysis model using machine learning algorithms such as Naive Bayes or Support Vector Machines.\n",
    "6. Model Evaluation: Assess the performance of the trained model using metrics such as accuracy, precision, recall, and F1 score.\n",
    "7. Sentiment Analysis: Apply the trained model to analyze sentiment in a given dataset.\n",
    "8. Results and Conclusion: Summarize the findings of the sentiment analysis and draw conclusions.\n",
    "\n",
    "## Conclusion\n",
    "By completing this project, we will gain a better understanding of NLP techniques and sentiment analysis. We will also be able to apply these techniques to analyze sentiment in various text datasets, which can be useful in various domains such as social media monitoring, customer feedback analysis, and market research.\n"
   ]
  },
  {
   "cell_type": "code",
   "execution_count": 1,
   "metadata": {},
   "outputs": [],
   "source": [
    "import re\n",
    "import datetime\n",
    "import string\n",
    "import pandas as pd\n",
    "import numpy as np\n",
    "import matplotlib.pyplot as plt\n",
    "from transformers import pipeline\n",
    "from sentence_transformers import SentenceTransformer\n",
    "from sentence_transformers.util import semantic_search\n",
    "from IPython.display import display, Markdown\n"
   ]
  },
  {
   "cell_type": "code",
   "execution_count": 4,
   "metadata": {},
   "outputs": [
    {
     "name": "stdout",
     "output_type": "stream",
     "text": [
      "<class 'pandas.core.frame.DataFrame'>\n",
      "RangeIndex: 1506 entries, 0 to 1505\n",
      "Data columns (total 10 columns):\n",
      " #   Column       Non-Null Count  Dtype         \n",
      "---  ------       --------------  -----         \n",
      " 0   user_id      1506 non-null   int64         \n",
      " 1   item_id      1506 non-null   int64         \n",
      " 2   rating       1506 non-null   int64         \n",
      " 3   rented for   1506 non-null   object        \n",
      " 4   review_text  1506 non-null   object        \n",
      " 5   category     1506 non-null   object        \n",
      " 6   height       1503 non-null   object        \n",
      " 7   size         1506 non-null   int64         \n",
      " 8   age          1500 non-null   float64       \n",
      " 9   review_date  1506 non-null   datetime64[ns]\n",
      "dtypes: datetime64[ns](1), float64(1), int64(4), object(4)\n",
      "memory usage: 117.8+ KB\n",
      "None\n"
     ]
    }
   ],
   "source": [
    "# Read the data from runway.csv, parse the date column, and assign it to runway\n",
    "runway = pd.read_csv('runway.csv', parse_dates=['review_date'])\n",
    "\n",
    "# Print the column info\n",
    "print(runway.info())"
   ]
  },
  {
   "cell_type": "code",
   "execution_count": 7,
   "metadata": {},
   "outputs": [
    {
     "data": {
      "text/html": [
       "<div>\n",
       "<style scoped>\n",
       "    .dataframe tbody tr th:only-of-type {\n",
       "        vertical-align: middle;\n",
       "    }\n",
       "\n",
       "    .dataframe tbody tr th {\n",
       "        vertical-align: top;\n",
       "    }\n",
       "\n",
       "    .dataframe thead th {\n",
       "        text-align: right;\n",
       "    }\n",
       "</style>\n",
       "<table border=\"1\" class=\"dataframe\">\n",
       "  <thead>\n",
       "    <tr style=\"text-align: right;\">\n",
       "      <th></th>\n",
       "      <th>user_id</th>\n",
       "      <th>item_id</th>\n",
       "      <th>rating</th>\n",
       "      <th>rented for</th>\n",
       "      <th>review_text</th>\n",
       "      <th>category</th>\n",
       "      <th>height</th>\n",
       "      <th>size</th>\n",
       "      <th>age</th>\n",
       "      <th>review_date</th>\n",
       "    </tr>\n",
       "  </thead>\n",
       "  <tbody>\n",
       "    <tr>\n",
       "      <th>0</th>\n",
       "      <td>476109</td>\n",
       "      <td>139086</td>\n",
       "      <td>8</td>\n",
       "      <td>formal affair</td>\n",
       "      <td>it hit the floor perfectly with a pair of heel...</td>\n",
       "      <td>gown</td>\n",
       "      <td>5' 3\"</td>\n",
       "      <td>15</td>\n",
       "      <td>27.0</td>\n",
       "      <td>2017-12-19</td>\n",
       "    </tr>\n",
       "    <tr>\n",
       "      <th>1</th>\n",
       "      <td>203660</td>\n",
       "      <td>1126889</td>\n",
       "      <td>6</td>\n",
       "      <td>party</td>\n",
       "      <td>the dress is absolutely gorgeous unfortunately...</td>\n",
       "      <td>dress</td>\n",
       "      <td>5' 4\"</td>\n",
       "      <td>12</td>\n",
       "      <td>28.0</td>\n",
       "      <td>2022-01-03</td>\n",
       "    </tr>\n",
       "    <tr>\n",
       "      <th>2</th>\n",
       "      <td>868581</td>\n",
       "      <td>652189</td>\n",
       "      <td>8</td>\n",
       "      <td>wedding</td>\n",
       "      <td>even though it was lined with satin this was a...</td>\n",
       "      <td>dress</td>\n",
       "      <td>5' 5\"</td>\n",
       "      <td>24</td>\n",
       "      <td>30.0</td>\n",
       "      <td>2021-08-05</td>\n",
       "    </tr>\n",
       "    <tr>\n",
       "      <th>3</th>\n",
       "      <td>935076</td>\n",
       "      <td>1879504</td>\n",
       "      <td>8</td>\n",
       "      <td>wedding</td>\n",
       "      <td>this dress was greatit fit really well and was...</td>\n",
       "      <td>sheath</td>\n",
       "      <td>5' 3\"</td>\n",
       "      <td>14</td>\n",
       "      <td>37.0</td>\n",
       "      <td>2021-10-02</td>\n",
       "    </tr>\n",
       "    <tr>\n",
       "      <th>4</th>\n",
       "      <td>995023</td>\n",
       "      <td>1179146</td>\n",
       "      <td>10</td>\n",
       "      <td>party</td>\n",
       "      <td>super flattering i am usually a sizemi have a ...</td>\n",
       "      <td>dress</td>\n",
       "      <td>5' 2\"</td>\n",
       "      <td>14</td>\n",
       "      <td>37.0</td>\n",
       "      <td>2022-11-20</td>\n",
       "    </tr>\n",
       "  </tbody>\n",
       "</table>\n",
       "</div>"
      ],
      "text/plain": [
       "   user_id  item_id  rating     rented for  \\\n",
       "0   476109   139086       8  formal affair   \n",
       "1   203660  1126889       6          party   \n",
       "2   868581   652189       8        wedding   \n",
       "3   935076  1879504       8        wedding   \n",
       "4   995023  1179146      10          party   \n",
       "\n",
       "                                         review_text category height  size  \\\n",
       "0  it hit the floor perfectly with a pair of heel...     gown  5' 3\"    15   \n",
       "1  the dress is absolutely gorgeous unfortunately...    dress  5' 4\"    12   \n",
       "2  even though it was lined with satin this was a...    dress  5' 5\"    24   \n",
       "3  this dress was greatit fit really well and was...   sheath  5' 3\"    14   \n",
       "4  super flattering i am usually a sizemi have a ...    dress  5' 2\"    14   \n",
       "\n",
       "    age review_date  \n",
       "0  27.0  2017-12-19  \n",
       "1  28.0  2022-01-03  \n",
       "2  30.0  2021-08-05  \n",
       "3  37.0  2021-10-02  \n",
       "4  37.0  2022-11-20  "
      ]
     },
     "metadata": {},
     "output_type": "display_data"
    }
   ],
   "source": [
    "display(runway.head())"
   ]
  },
  {
   "cell_type": "code",
   "execution_count": 10,
   "metadata": {},
   "outputs": [
    {
     "data": {
      "text/plain": [
       "(1506, 10)"
      ]
     },
     "execution_count": 10,
     "metadata": {},
     "output_type": "execute_result"
    }
   ],
   "source": [
    "runway.shape"
   ]
  },
  {
   "cell_type": "code",
   "execution_count": 15,
   "metadata": {},
   "outputs": [
    {
     "name": "stdout",
     "output_type": "stream",
     "text": [
      "OPENAI_API_KEY environment variable is set\n",
      "PINECONE_API_KEY environment variable is set\n",
      "PINECONE_ENVIRONMENT environment variable is set\n"
     ]
    },
    {
     "name": "stderr",
     "output_type": "stream",
     "text": [
      "<>:18: SyntaxWarning: \"is\" with a literal. Did you mean \"==\"?\n",
      "<>:18: SyntaxWarning: \"is\" with a literal. Did you mean \"==\"?\n",
      "<ipython-input-15-4f4b94695155>:18: SyntaxWarning: \"is\" with a literal. Did you mean \"==\"?\n",
      "  if PINECONE_ENVIRONMENT is 1:\n"
     ]
    }
   ],
   "source": [
    "import os\n",
    "\n",
    "OPENAI_API_KEY = os.getenv(\"OPENAI_API_KEY\")\n",
    "if OPENAI_API_KEY is None:\n",
    "    raise ValueError(\"OPENAI_API_KEY environment variable not set\")\n",
    "else:\n",
    "    print(\"OPENAI_API_KEY environment variable is set\")\n",
    "\n",
    "\n",
    "PINECONE_API_KEY = os.getenv(\"PINECONE_API_KEY\")\n",
    "if PINECONE_API_KEY is None:\n",
    "    raise ValueError(\"PINECONE_API_KEY environment variable not set\")\n",
    "else:\n",
    "    print(\"PINECONE_API_KEY environment variable is set\")\n",
    "\n",
    "PINECONE_ENVIRONMENT = os.getenv(\"PINECONE_ENVIRONMENT\")\n",
    "if PINECONE_ENVIRONMENT is None:    \n",
    "    raise ValueError(\"PINECONE_ENVIRONMENT environment variable not set\")\n",
    "else:\n",
    "    print(\"PINECONE_ENVIRONMENT environment variable is set\")"
   ]
  }
 ],
 "metadata": {
  "kernelspec": {
   "display_name": "base",
   "language": "python",
   "name": "python3"
  },
  "language_info": {
   "codemirror_mode": {
    "name": "ipython",
    "version": 3
   },
   "file_extension": ".py",
   "mimetype": "text/x-python",
   "name": "python",
   "nbconvert_exporter": "python",
   "pygments_lexer": "ipython3",
   "version": "3.8.3"
  }
 },
 "nbformat": 4,
 "nbformat_minor": 2
}
