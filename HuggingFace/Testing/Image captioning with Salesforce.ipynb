{
 "cells": [
  {
   "cell_type": "markdown",
   "metadata": {},
   "source": [
    "# Image captioning\n",
    "### Salesforce | blip-image-captioning-large"
   ]
  },
  {
   "cell_type": "code",
   "execution_count": 1,
   "metadata": {},
   "outputs": [
    {
     "name": "stdout",
     "output_type": "stream",
     "text": [
      "Collecting datasets==2.13\n",
      "  Downloading datasets-2.13.0-py3-none-any.whl.metadata (20 kB)\n",
      "Requirement already satisfied: numpy>=1.17 in c:\\users\\josem\\anaconda3\\lib\\site-packages (from datasets==2.13) (1.24.4)\n",
      "Requirement already satisfied: pyarrow>=8.0.0 in c:\\users\\josem\\anaconda3\\lib\\site-packages (from datasets==2.13) (11.0.0)\n",
      "Requirement already satisfied: dill<0.3.7,>=0.3.0 in c:\\users\\josem\\anaconda3\\lib\\site-packages (from datasets==2.13) (0.3.5.1)\n",
      "Requirement already satisfied: pandas in c:\\users\\josem\\anaconda3\\lib\\site-packages (from datasets==2.13) (2.0.3)\n",
      "Requirement already satisfied: requests>=2.19.0 in c:\\users\\josem\\anaconda3\\lib\\site-packages (from datasets==2.13) (2.31.0)\n",
      "Requirement already satisfied: tqdm>=4.62.1 in c:\\users\\josem\\anaconda3\\lib\\site-packages (from datasets==2.13) (4.66.1)\n",
      "Requirement already satisfied: xxhash in c:\\users\\josem\\anaconda3\\lib\\site-packages (from datasets==2.13) (3.4.1)\n",
      "Requirement already satisfied: multiprocess in c:\\users\\josem\\anaconda3\\lib\\site-packages (from datasets==2.13) (0.70.13)\n",
      "Requirement already satisfied: fsspec>=2021.11.1 in c:\\users\\josem\\anaconda3\\lib\\site-packages (from fsspec[http]>=2021.11.1->datasets==2.13) (2023.6.0)\n",
      "Requirement already satisfied: aiohttp in c:\\users\\josem\\anaconda3\\lib\\site-packages (from datasets==2.13) (3.8.4)\n",
      "Requirement already satisfied: huggingface-hub<1.0.0,>=0.11.0 in c:\\users\\josem\\anaconda3\\lib\\site-packages (from datasets==2.13) (0.20.2)\n",
      "Requirement already satisfied: packaging in c:\\users\\josem\\anaconda3\\lib\\site-packages (from datasets==2.13) (23.2)\n",
      "Requirement already satisfied: pyyaml>=5.1 in c:\\users\\josem\\anaconda3\\lib\\site-packages (from datasets==2.13) (5.3.1)\n",
      "Requirement already satisfied: attrs>=17.3.0 in c:\\users\\josem\\anaconda3\\lib\\site-packages (from aiohttp->datasets==2.13) (23.1.0)\n",
      "Requirement already satisfied: charset-normalizer<4.0,>=2.0 in c:\\users\\josem\\anaconda3\\lib\\site-packages (from aiohttp->datasets==2.13) (3.0.1)\n",
      "Requirement already satisfied: multidict<7.0,>=4.5 in c:\\users\\josem\\anaconda3\\lib\\site-packages (from aiohttp->datasets==2.13) (6.0.4)\n",
      "Requirement already satisfied: async-timeout<5.0,>=4.0.0a3 in c:\\users\\josem\\anaconda3\\lib\\site-packages (from aiohttp->datasets==2.13) (4.0.2)\n",
      "Requirement already satisfied: yarl<2.0,>=1.0 in c:\\users\\josem\\anaconda3\\lib\\site-packages (from aiohttp->datasets==2.13) (1.8.2)\n",
      "Requirement already satisfied: frozenlist>=1.1.1 in c:\\users\\josem\\anaconda3\\lib\\site-packages (from aiohttp->datasets==2.13) (1.3.3)\n",
      "Requirement already satisfied: aiosignal>=1.1.2 in c:\\users\\josem\\anaconda3\\lib\\site-packages (from aiohttp->datasets==2.13) (1.3.1)\n",
      "Requirement already satisfied: filelock in c:\\users\\josem\\anaconda3\\lib\\site-packages (from huggingface-hub<1.0.0,>=0.11.0->datasets==2.13) (3.0.12)\n",
      "Requirement already satisfied: typing-extensions>=3.7.4.3 in c:\\users\\josem\\anaconda3\\lib\\site-packages (from huggingface-hub<1.0.0,>=0.11.0->datasets==2.13) (4.8.0)\n",
      "Requirement already satisfied: idna<4,>=2.5 in c:\\users\\josem\\anaconda3\\lib\\site-packages (from requests>=2.19.0->datasets==2.13) (2.10)\n",
      "Requirement already satisfied: urllib3<3,>=1.21.1 in c:\\users\\josem\\anaconda3\\lib\\site-packages (from requests>=2.19.0->datasets==2.13) (1.26.18)\n",
      "Requirement already satisfied: certifi>=2017.4.17 in c:\\users\\josem\\anaconda3\\lib\\site-packages (from requests>=2.19.0->datasets==2.13) (2022.12.7)\n",
      "Requirement already satisfied: colorama in c:\\users\\josem\\anaconda3\\lib\\site-packages (from tqdm>=4.62.1->datasets==2.13) (0.4.3)\n",
      "Requirement already satisfied: python-dateutil>=2.8.2 in c:\\users\\josem\\anaconda3\\lib\\site-packages (from pandas->datasets==2.13) (2.8.2)\n",
      "Requirement already satisfied: pytz>=2020.1 in c:\\users\\josem\\anaconda3\\lib\\site-packages (from pandas->datasets==2.13) (2023.3.post1)\n",
      "Requirement already satisfied: tzdata>=2022.1 in c:\\users\\josem\\anaconda3\\lib\\site-packages (from pandas->datasets==2.13) (2023.3)\n",
      "Requirement already satisfied: six>=1.5 in c:\\users\\josem\\anaconda3\\lib\\site-packages (from python-dateutil>=2.8.2->pandas->datasets==2.13) (1.15.0)\n",
      "Downloading datasets-2.13.0-py3-none-any.whl (485 kB)\n",
      "   ---------------------------------------- 485.6/485.6 kB 2.2 MB/s eta 0:00:00\n",
      "Installing collected packages: datasets\n",
      "  Attempting uninstall: datasets\n",
      "    Found existing installation: datasets 2.16.1\n",
      "    Uninstalling datasets-2.16.1:\n"
     ]
    },
    {
     "name": "stderr",
     "output_type": "stream",
     "text": [
      "WARNING: Ignoring invalid distribution -umpy (c:\\users\\josem\\anaconda3\\lib\\site-packages)\n",
      "WARNING: Ignoring invalid distribution -umpy (c:\\users\\josem\\anaconda3\\lib\\site-packages)\n",
      "DEPRECATION: pyodbc 4.0.0-unsupported has a non-standard version number. pip 24.0 will enforce this behaviour change. A possible replacement is to upgrade to a newer version of pyodbc or contact the author to suggest that they release a version with a conforming version number. Discussion can be found at https://github.com/pypa/pip/issues/12063\n"
     ]
    },
    {
     "name": "stdout",
     "output_type": "stream",
     "text": [
      "      Successfully uninstalled datasets-2.16.1\n",
      "Successfully installed datasets-2.13.0\n"
     ]
    }
   ],
   "source": [
    "!pip install datasets==2.13"
   ]
  },
  {
   "cell_type": "code",
   "execution_count": 2,
   "metadata": {},
   "outputs": [
    {
     "name": "stdout",
     "output_type": "stream",
     "text": [
      "Collecting huggingface_hub==0.16.4\n",
      "  Using cached huggingface_hub-0.16.4-py3-none-any.whl.metadata (12 kB)\n",
      "Requirement already satisfied: filelock in c:\\users\\josem\\anaconda3\\lib\\site-packages (from huggingface_hub==0.16.4) (3.0.12)\n",
      "Requirement already satisfied: fsspec in c:\\users\\josem\\anaconda3\\lib\\site-packages (from huggingface_hub==0.16.4) (2023.6.0)\n",
      "Requirement already satisfied: requests in c:\\users\\josem\\anaconda3\\lib\\site-packages (from huggingface_hub==0.16.4) (2.31.0)\n",
      "Requirement already satisfied: tqdm>=4.42.1 in c:\\users\\josem\\anaconda3\\lib\\site-packages (from huggingface_hub==0.16.4) (4.66.1)\n",
      "Requirement already satisfied: pyyaml>=5.1 in c:\\users\\josem\\anaconda3\\lib\\site-packages (from huggingface_hub==0.16.4) (5.3.1)"
     ]
    },
    {
     "name": "stderr",
     "output_type": "stream",
     "text": [
      "WARNING: Ignoring invalid distribution -umpy (c:\\users\\josem\\anaconda3\\lib\\site-packages)\n",
      "WARNING: Ignoring invalid distribution -umpy (c:\\users\\josem\\anaconda3\\lib\\site-packages)\n",
      "DEPRECATION: pyodbc 4.0.0-unsupported has a non-standard version number. pip 24.0 will enforce this behaviour change. A possible replacement is to upgrade to a newer version of pyodbc or contact the author to suggest that they release a version with a conforming version number. Discussion can be found at https://github.com/pypa/pip/issues/12063\n",
      "ERROR: pip's dependency resolver does not currently take into account all the packages that are installed. This behaviour is the source of the following dependency conflicts.\n",
      "transformers 4.36.2 requires huggingface-hub<1.0,>=0.19.3, but you have huggingface-hub 0.16.4 which is incompatible.\n"
     ]
    },
    {
     "name": "stdout",
     "output_type": "stream",
     "text": [
      "\n",
      "Requirement already satisfied: typing-extensions>=3.7.4.3 in c:\\users\\josem\\anaconda3\\lib\\site-packages (from huggingface_hub==0.16.4) (4.8.0)\n",
      "Requirement already satisfied: packaging>=20.9 in c:\\users\\josem\\anaconda3\\lib\\site-packages (from huggingface_hub==0.16.4) (23.2)\n",
      "Requirement already satisfied: colorama in c:\\users\\josem\\anaconda3\\lib\\site-packages (from tqdm>=4.42.1->huggingface_hub==0.16.4) (0.4.3)\n",
      "Requirement already satisfied: charset-normalizer<4,>=2 in c:\\users\\josem\\anaconda3\\lib\\site-packages (from requests->huggingface_hub==0.16.4) (3.0.1)\n",
      "Requirement already satisfied: idna<4,>=2.5 in c:\\users\\josem\\anaconda3\\lib\\site-packages (from requests->huggingface_hub==0.16.4) (2.10)\n",
      "Requirement already satisfied: urllib3<3,>=1.21.1 in c:\\users\\josem\\anaconda3\\lib\\site-packages (from requests->huggingface_hub==0.16.4) (1.26.18)\n",
      "Requirement already satisfied: certifi>=2017.4.17 in c:\\users\\josem\\anaconda3\\lib\\site-packages (from requests->huggingface_hub==0.16.4) (2022.12.7)\n",
      "Using cached huggingface_hub-0.16.4-py3-none-any.whl (268 kB)\n",
      "Installing collected packages: huggingface_hub\n",
      "  Attempting uninstall: huggingface_hub\n",
      "    Found existing installation: huggingface-hub 0.20.2\n",
      "    Uninstalling huggingface-hub-0.20.2:\n",
      "      Successfully uninstalled huggingface-hub-0.20.2\n",
      "Successfully installed huggingface_hub-0.16.4\n"
     ]
    }
   ],
   "source": [
    "!pip install huggingface_hub==0.16.4\n"
   ]
  },
  {
   "cell_type": "code",
   "execution_count": 3,
   "metadata": {},
   "outputs": [
    {
     "name": "stderr",
     "output_type": "stream",
     "text": [
      "WARNING: Ignoring invalid distribution -umpy (c:\\users\\josem\\anaconda3\\lib\\site-packages)\n",
      "WARNING: Ignoring invalid distribution -umpy (c:\\users\\josem\\anaconda3\\lib\\site-packages)\n",
      "DEPRECATION: pyodbc 4.0.0-unsupported has a non-standard version number. pip 24.0 will enforce this behaviour change. A possible replacement is to upgrade to a newer version of pyodbc or contact the author to suggest that they release a version with a conforming version number. Discussion can be found at https://github.com/pypa/pip/issues/12063\n"
     ]
    }
   ],
   "source": [
    "!pip install pyarrow>=8.0.0\n"
   ]
  },
  {
   "cell_type": "code",
   "execution_count": 4,
   "metadata": {},
   "outputs": [
    {
     "name": "stdout",
     "output_type": "stream",
     "text": [
      "Requirement already satisfied: pip in c:\\users\\josem\\anaconda3\\lib\\site-packages (23.3.2)\n"
     ]
    },
    {
     "name": "stderr",
     "output_type": "stream",
     "text": [
      "WARNING: Ignoring invalid distribution -umpy (c:\\users\\josem\\anaconda3\\lib\\site-packages)\n",
      "WARNING: Ignoring invalid distribution -umpy (c:\\users\\josem\\anaconda3\\lib\\site-packages)\n",
      "DEPRECATION: pyodbc 4.0.0-unsupported has a non-standard version number. pip 24.0 will enforce this behaviour change. A possible replacement is to upgrade to a newer version of pyodbc or contact the author to suggest that they release a version with a conforming version number. Discussion can be found at https://github.com/pypa/pip/issues/12063\n"
     ]
    }
   ],
   "source": [
    "!pip install --upgrade pip --user\n"
   ]
  },
  {
   "cell_type": "code",
   "execution_count": 5,
   "metadata": {},
   "outputs": [
    {
     "name": "stdout",
     "output_type": "stream",
     "text": [
      "Requirement already satisfied: transformers in c:\\users\\josem\\anaconda3\\lib\\site-packages (4.36.2)\n",
      "Requirement already satisfied: filelock in c:\\users\\josem\\anaconda3\\lib\\site-packages (from transformers) (3.0.12)\n",
      "Collecting huggingface-hub<1.0,>=0.19.3 (from transformers)\n",
      "  Using cached huggingface_hub-0.20.2-py3-none-any.whl.metadata (12 kB)\n",
      "Requirement already satisfied: numpy>=1.17 in c:\\users\\josem\\anaconda3\\lib\\site-packages (from transformers) (1.24.4)\n",
      "Requirement already satisfied: packaging>=20.0 in c:\\users\\josem\\anaconda3\\lib\\site-packages (from transformers) (23.2)\n",
      "Requirement already satisfied: pyyaml>=5.1 in c:\\users\\josem\\anaconda3\\lib\\site-packages (from transformers) (5.3.1)\n",
      "Requirement already satisfied: regex!=2019.12.17 in c:\\users\\josem\\anaconda3\\lib\\site-packages (from transformers) (2022.10.31)\n",
      "Requirement already satisfied: requests in c:\\users\\josem\\anaconda3\\lib\\site-packages (from transformers) (2.31.0)\n",
      "Requirement already satisfied: tokenizers<0.19,>=0.14 in c:\\users\\josem\\anaconda3\\lib\\site-packages (from transformers) (0.15.0)\n",
      "Requirement already satisfied: safetensors>=0.3.1 in c:\\users\\josem\\anaconda3\\lib\\site-packages (from transformers) (0.4.1)\n",
      "Requirement already satisfied: tqdm>=4.27 in c:\\users\\josem\\anaconda3\\lib\\site-packages (from transformers) (4.66.1)\n",
      "Requirement already satisfied: fsspec>=2023.5.0 in c:\\users\\josem\\anaconda3\\lib\\site-packages (from huggingface-hub<1.0,>=0.19.3->transformers) (2023.6.0)\n",
      "Requirement already satisfied: typing-extensions>=3.7.4.3 in c:\\users\\josem\\anaconda3\\lib\\site-packages (from huggingface-hub<1.0,>=0.19.3->transformers) (4.8.0)\n",
      "Requirement already satisfied: colorama in c:\\users\\josem\\anaconda3\\lib\\site-packages (from tqdm>=4.27->transformers) (0.4.3)\n",
      "Requirement already satisfied: charset-normalizer<4,>=2 in c:\\users\\josem\\anaconda3\\lib\\site-packages (from requests->transformers) (3.0.1)\n",
      "Requirement already satisfied: idna<4,>=2.5 in c:\\users\\josem\\anaconda3\\lib\\site-packages (from requests->transformers) (2.10)\n",
      "Requirement already satisfied: urllib3<3,>=1.21.1 in c:\\users\\josem\\anaconda3\\lib\\site-packages (from requests->transformers) (1.26.18)\n",
      "Requirement already satisfied: certifi>=2017.4.17 in c:\\users\\josem\\anaconda3\\lib\\site-packages (from requests->transformers) (2022.12.7)\n",
      "Using cached huggingface_hub-0.20.2-py3-none-any.whl (330 kB)\n",
      "Installing collected packages: huggingface-hub\n",
      "  Attempting uninstall: huggingface-hub\n",
      "    Found existing installation: huggingface-hub 0.16.4\n",
      "    Uninstalling huggingface-hub-0.16.4:\n",
      "      Successfully uninstalled huggingface-hub-0.16.4\n",
      "Successfully installed huggingface-hub-0.20.2\n"
     ]
    },
    {
     "name": "stderr",
     "output_type": "stream",
     "text": [
      "WARNING: Ignoring invalid distribution -umpy (c:\\users\\josem\\anaconda3\\lib\\site-packages)\n",
      "WARNING: Ignoring invalid distribution -umpy (c:\\users\\josem\\anaconda3\\lib\\site-packages)\n",
      "DEPRECATION: pyodbc 4.0.0-unsupported has a non-standard version number. pip 24.0 will enforce this behaviour change. A possible replacement is to upgrade to a newer version of pyodbc or contact the author to suggest that they release a version with a conforming version number. Discussion can be found at https://github.com/pypa/pip/issues/12063\n"
     ]
    }
   ],
   "source": [
    "!pip install --upgrade transformers "
   ]
  },
  {
   "cell_type": "code",
   "execution_count": 6,
   "metadata": {},
   "outputs": [],
   "source": [
    "import requests\n",
    "from PIL import Image\n",
    "from transformers import BlipProcessor, BlipForConditionalGeneration"
   ]
  },
  {
   "cell_type": "code",
   "execution_count": null,
   "metadata": {},
   "outputs": [
    {
     "data": {
      "application/vnd.jupyter.widget-view+json": {
       "model_id": "82992156a0844b669c213ba6a089d061",
       "version_major": 2,
       "version_minor": 0
      },
      "text/plain": [
       "preprocessor_config.json:   0%|          | 0.00/445 [00:00<?, ?B/s]"
      ]
     },
     "metadata": {},
     "output_type": "display_data"
    },
    {
     "name": "stderr",
     "output_type": "stream",
     "text": [
      "C:\\Users\\josem\\anaconda3\\lib\\site-packages\\huggingface_hub\\file_download.py:149: UserWarning: `huggingface_hub` cache-system uses symlinks by default to efficiently store duplicated files but your machine does not support them in C:\\Users\\josem\\.cache\\huggingface\\hub\\models--Salesforce--blip-image-captioning-large. Caching files will still work but in a degraded version that might require more space on your disk. This warning can be disabled by setting the `HF_HUB_DISABLE_SYMLINKS_WARNING` environment variable. For more details, see https://huggingface.co/docs/huggingface_hub/how-to-cache#limitations.\n",
      "To support symlinks on Windows, you either need to activate Developer Mode or to run Python as an administrator. In order to see activate developer mode, see this article: https://docs.microsoft.com/en-us/windows/apps/get-started/enable-your-device-for-development\n",
      "  warnings.warn(message)\n"
     ]
    },
    {
     "data": {
      "application/vnd.jupyter.widget-view+json": {
       "model_id": "edda3e39913c471bb7642d044e9a7b23",
       "version_major": 2,
       "version_minor": 0
      },
      "text/plain": [
       "tokenizer_config.json:   0%|          | 0.00/527 [00:00<?, ?B/s]"
      ]
     },
     "metadata": {},
     "output_type": "display_data"
    },
    {
     "data": {
      "application/vnd.jupyter.widget-view+json": {
       "model_id": "a2ee354a32f544c2a83a667366610edd",
       "version_major": 2,
       "version_minor": 0
      },
      "text/plain": [
       "vocab.txt:   0%|          | 0.00/232k [00:00<?, ?B/s]"
      ]
     },
     "metadata": {},
     "output_type": "display_data"
    },
    {
     "data": {
      "application/vnd.jupyter.widget-view+json": {
       "model_id": "4acd920b64834a799bb96577043a22eb",
       "version_major": 2,
       "version_minor": 0
      },
      "text/plain": [
       "tokenizer.json:   0%|          | 0.00/711k [00:00<?, ?B/s]"
      ]
     },
     "metadata": {},
     "output_type": "display_data"
    },
    {
     "data": {
      "application/vnd.jupyter.widget-view+json": {
       "model_id": "d360909aaffa491aba286c6a08b1bd88",
       "version_major": 2,
       "version_minor": 0
      },
      "text/plain": [
       "special_tokens_map.json:   0%|          | 0.00/125 [00:00<?, ?B/s]"
      ]
     },
     "metadata": {},
     "output_type": "display_data"
    },
    {
     "data": {
      "application/vnd.jupyter.widget-view+json": {
       "model_id": "0db7a32bced74d6988b3ac193638bc5a",
       "version_major": 2,
       "version_minor": 0
      },
      "text/plain": [
       "config.json:   0%|          | 0.00/4.60k [00:00<?, ?B/s]"
      ]
     },
     "metadata": {},
     "output_type": "display_data"
    },
    {
     "data": {
      "application/vnd.jupyter.widget-view+json": {
       "model_id": "589014d27934440093b3e3abc74556c1",
       "version_major": 2,
       "version_minor": 0
      },
      "text/plain": [
       "model.safetensors:   0%|          | 0.00/1.88G [00:00<?, ?B/s]"
      ]
     },
     "metadata": {},
     "output_type": "display_data"
    }
   ],
   "source": [
    "processor = BlipProcessor.from_pretrained(\"Salesforce/blip-image-captioning-large\")\n",
    "model = BlipForConditionalGeneration.from_pretrained(\"Salesforce/blip-image-captioning-large\").to(\"cuda\")\n",
    "\n",
    "img_url = 'https://storage.googleapis.com/sfr-vision-language-research/BLIP/demo.jpg' \n",
    "raw_image = Image.open(requests.get(img_url, stream=True).raw).convert('RGB')\n",
    "\n",
    "# conditional image captioning\n",
    "text = \"a photography of\"\n",
    "inputs = processor(raw_image, text, return_tensors=\"pt\").to(\"cuda\")\n",
    "\n",
    "out = model.generate(**inputs)\n",
    "print(processor.decode(out[0], skip_special_tokens=True))\n",
    "\n",
    "# unconditional image captioning\n",
    "inputs = processor(raw_image, return_tensors=\"pt\").to(\"cuda\")\n",
    "\n",
    "out = model.generate(**inputs)\n",
    "print(processor.decode(out[0], skip_special_tokens=True))"
   ]
  },
  {
   "cell_type": "code",
   "execution_count": null,
   "metadata": {},
   "outputs": [],
   "source": []
  }
 ],
 "metadata": {
  "kernelspec": {
   "display_name": "Python 3",
   "language": "python",
   "name": "python3"
  },
  "language_info": {
   "codemirror_mode": {
    "name": "ipython",
    "version": 3
   },
   "file_extension": ".py",
   "mimetype": "text/x-python",
   "name": "python",
   "nbconvert_exporter": "python",
   "pygments_lexer": "ipython3",
   "version": "3.8.3"
  }
 },
 "nbformat": 4,
 "nbformat_minor": 4
}
