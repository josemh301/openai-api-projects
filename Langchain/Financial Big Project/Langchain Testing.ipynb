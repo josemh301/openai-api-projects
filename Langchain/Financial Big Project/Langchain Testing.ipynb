{
 "cells": [
  {
   "cell_type": "code",
   "execution_count": 63,
   "metadata": {},
   "outputs": [],
   "source": [
    "import langchain as lc\n",
    "from langchain.chat_models import ChatOpenAI\n",
    "from langchain.prompts.chat import (\n",
    "    ChatPromptTemplate,\n",
    "    HumanMessagePromptTemplate,\n",
    "    SystemMessagePromptTemplate,)\n",
    "\n",
    "from langchain_core.messages import SystemMessage, HumanMessage\n"
   ]
  },
  {
   "cell_type": "code",
   "execution_count": 64,
   "metadata": {},
   "outputs": [],
   "source": [
    "system_prompt = \"\"\"\n",
    "You have a dataset containing stock information for various companies. Each row in the dataset represents the stock details for a specific company.\n",
    "\n",
    "The dataset contains the following columns:\n",
    "\n",
    "- `StockID` (integer): The unique identifier for the stock.\n",
    "- `CompanyName` (character): The name of the company associated with the stock.\n",
    "- `Sector` (character): The sector or industry in which the company operates.\n",
    "- `LastClose(EUR)` (float): The last closing price of the stock in Euros.\n",
    "- `52WeekHigh(EUR)` (float): The highest price the stock has reached in the past 52 weeks, in Euros.\n",
    "- `52WeekLow(EUR)` (float): The lowest price the stock has reached in the past 52 weeks, in Euros.\n",
    "- `MarketCap(Billion EUR)` (float): The market capitalization of the company in billion Euros.\n",
    "\n",
    "In this dataset, you can expect to find information about the stock performance, company details, and financial metrics for each company.\"\"\""
   ]
  },
  {
   "cell_type": "code",
   "execution_count": 65,
   "metadata": {},
   "outputs": [],
   "source": [
    "user_prompt = \"Suggest a single data analysis question that could be answered with this dataset\""
   ]
  },
  {
   "cell_type": "code",
   "execution_count": 66,
   "metadata": {},
   "outputs": [],
   "source": [
    "messages_langchain = [\n",
    "    SystemMessage(content=f\"You are an expert in data science.\\n {system_prompt}\"),\n",
    "    HumanMessage(content=f\"{user_prompt}\")\n",
    "]"
   ]
  },
  {
   "cell_type": "code",
   "execution_count": 67,
   "metadata": {},
   "outputs": [],
   "source": [
    "chat = ChatOpenAI(temperature=0)\n",
    "response = chat(messages_langchain)"
   ]
  },
  {
   "cell_type": "code",
   "execution_count": 68,
   "metadata": {},
   "outputs": [
    {
     "data": {
      "text/plain": [
       "AIMessage(content='What is the average market capitalization of companies in each sector?')"
      ]
     },
     "execution_count": 68,
     "metadata": {},
     "output_type": "execute_result"
    }
   ],
   "source": [
    "response"
   ]
  },
  {
   "cell_type": "code",
   "execution_count": 69,
   "metadata": {},
   "outputs": [
    {
     "name": "stdout",
     "output_type": "stream",
     "text": [
      "<class 'langchain_core.messages.ai.AIMessage'>\n"
     ]
    }
   ],
   "source": [
    "print(type(response))"
   ]
  },
  {
   "cell_type": "code",
   "execution_count": 70,
   "metadata": {},
   "outputs": [],
   "source": [
    "response_string = response.content"
   ]
  },
  {
   "cell_type": "code",
   "execution_count": 71,
   "metadata": {},
   "outputs": [],
   "source": [
    "next_message = \"So what is the min and max market capitalization in each sector?\"\n",
    "next_human_message = HumanMessage(content=next_message)"
   ]
  },
  {
   "cell_type": "code",
   "execution_count": 72,
   "metadata": {},
   "outputs": [],
   "source": [
    "message02 = messages_langchain + [ #the variable with the list of previous SystemMessage and HumanMessage\n",
    "    response, #the output we got from the previous turn in the conversation\n",
    "    next_human_message #the next HumanMessage\n",
    "]"
   ]
  },
  {
   "cell_type": "code",
   "execution_count": 73,
   "metadata": {},
   "outputs": [],
   "source": [
    "response02 = chat(message02)"
   ]
  },
  {
   "cell_type": "code",
   "execution_count": 75,
   "metadata": {},
   "outputs": [
    {
     "data": {
      "text/markdown": [
       "To find the minimum and maximum market capitalization in each sector, you can perform the following analysis:\n",
       "\n",
       "1. Group the dataset by the \"Sector\" column.\n",
       "2. Calculate the minimum and maximum market capitalization for each sector.\n",
       "\n",
       "Here is an example code snippet in Python using pandas library to perform this analysis:\n",
       "\n",
       "```python\n",
       "import pandas as pd\n",
       "\n",
       "# Read the dataset\n",
       "df = pd.read_csv(\"stock_data.csv\")\n",
       "\n",
       "# Group the dataset by sector and calculate the min and max market capitalization\n",
       "sector_market_cap = df.groupby(\"Sector\")[\"MarketCap(Billion EUR)\"].agg([\"min\", \"max\"])\n",
       "\n",
       "# Print the result\n",
       "print(sector_market_cap)\n",
       "```\n",
       "\n",
       "This code will output a table with the minimum and maximum market capitalization for each sector in the dataset."
      ],
      "text/plain": [
       "<IPython.core.display.Markdown object>"
      ]
     },
     "metadata": {},
     "output_type": "display_data"
    }
   ],
   "source": [
    "from IPython.display import display, Markdown\n",
    "display(Markdown(response02.content))"
   ]
  },
  {
   "cell_type": "code",
   "execution_count": 76,
   "metadata": {},
   "outputs": [],
   "source": [
    "next_message03 = \"Add some matplotlib code to show the data\"\n",
    "next_human_message03 = HumanMessage(content=next_message03)\n",
    "\n",
    "message03 = message02 + [\n",
    "    response02,\n",
    "    next_human_message03\n",
    "]\n",
    "\n",
    "response03 = chat(message03)"
   ]
  },
  {
   "cell_type": "code",
   "execution_count": 77,
   "metadata": {},
   "outputs": [],
   "source": [
    "import pandas as pd\n",
    "import plotly.express as px\n",
    "from IPython.display import display, Markdown"
   ]
  },
  {
   "cell_type": "code",
   "execution_count": 78,
   "metadata": {},
   "outputs": [
    {
     "data": {
      "text/markdown": [
       "Certainly! Here's an example of how you can visualize the minimum and maximum market capitalization for each sector using matplotlib:\n",
       "\n",
       "```python\n",
       "import pandas as pd\n",
       "import matplotlib.pyplot as plt\n",
       "\n",
       "# Read the dataset\n",
       "df = pd.read_csv(\"stock_data.csv\")\n",
       "\n",
       "# Group the dataset by sector and calculate the min and max market capitalization\n",
       "sector_market_cap = df.groupby(\"Sector\")[\"MarketCap(Billion EUR)\"].agg([\"min\", \"max\"])\n",
       "\n",
       "# Plotting the data\n",
       "fig, ax = plt.subplots(figsize=(10, 6))\n",
       "\n",
       "# Plotting the minimum market capitalization\n",
       "ax.bar(sector_market_cap.index, sector_market_cap[\"min\"], label=\"Minimum Market Cap\")\n",
       "\n",
       "# Plotting the maximum market capitalization\n",
       "ax.bar(sector_market_cap.index, sector_market_cap[\"max\"], label=\"Maximum Market Cap\")\n",
       "\n",
       "# Adding labels and title\n",
       "ax.set_xlabel(\"Sector\")\n",
       "ax.set_ylabel(\"Market Capitalization (Billion EUR)\")\n",
       "ax.set_title(\"Minimum and Maximum Market Capitalization by Sector\")\n",
       "\n",
       "# Rotating x-axis labels for better readability\n",
       "plt.xticks(rotation=90)\n",
       "\n",
       "# Adding legend\n",
       "ax.legend()\n",
       "\n",
       "# Display the plot\n",
       "plt.show()\n",
       "```\n",
       "\n",
       "This code will generate a bar chart showing the minimum and maximum market capitalization for each sector. The x-axis represents the sectors, and the y-axis represents the market capitalization in billion Euros. Each sector will have two bars, one for the minimum market capitalization and one for the maximum market capitalization."
      ],
      "text/plain": [
       "<IPython.core.display.Markdown object>"
      ]
     },
     "metadata": {},
     "output_type": "display_data"
    }
   ],
   "source": [
    "display(Markdown(response03.content))"
   ]
  },
  {
   "cell_type": "code",
   "execution_count": 80,
   "metadata": {},
   "outputs": [
    {
     "data": {
      "image/png": "[encoded data removed]",
      "text/plain": [
       "<Figure size 1000x600 with 1 Axes>"
      ]
     },
     "metadata": {},
     "output_type": "display_data"
    }
   ],
   "source": [
    "import pandas as pd\n",
    "import matplotlib.pyplot as plt\n",
    "\n",
    "# Read the dataset\n",
    "df = pd.read_csv(\"stock_data.csv\")\n",
    "\n",
    "# Group the dataset by sector and calculate the min and max market capitalization\n",
    "sector_market_cap = df.groupby(\"Sector\")[\"MarketCap(Billion EUR)\"].agg([\"min\", \"max\"])\n",
    "\n",
    "# Plotting the data\n",
    "fig, ax = plt.subplots(figsize=(10, 6))\n",
    "\n",
    "# Plotting the minimum market capitalization\n",
    "ax.bar(sector_market_cap.index, sector_market_cap[\"min\"], label=\"Minimum Market Cap\")\n",
    "\n",
    "# Plotting the maximum market capitalization\n",
    "ax.bar(sector_market_cap.index, sector_market_cap[\"max\"], label=\"Maximum Market Cap\")\n",
    "\n",
    "# Adding labels and title\n",
    "ax.set_xlabel(\"Sector\")\n",
    "ax.set_ylabel(\"Market Capitalization (Billion EUR)\")\n",
    "ax.set_title(\"Minimum and Maximum Market Capitalization by Sector\")\n",
    "\n",
    "# Rotating x-axis labels for better readability\n",
    "plt.xticks(rotation=90)\n",
    "\n",
    "# Adding legend\n",
    "ax.legend()\n",
    "\n",
    "# Display the plot\n",
    "plt.show()"
   ]
  },
  {
   "cell_type": "markdown",
   "metadata": {},
   "source": [
    "### Create a txt file to convey insights from the data"
   ]
  },
  {
   "cell_type": "code",
   "execution_count": 81,
   "metadata": {},
   "outputs": [],
   "source": [
    "#create a list with all the lines in the csv file\n",
    "with open('stock_data.csv', 'r') as file:\n",
    "    # Read the file line by line\n",
    "    lines = file.readlines()"
   ]
  },
  {
   "cell_type": "code",
   "execution_count": 82,
   "metadata": {},
   "outputs": [],
   "source": [
    "# create s system prompt that helps to generate insights from the data\n",
    "\n",
    "system_prompt = \"\"\" #str\n",
    "You are a data scientist who works writing report about data\n",
    "You do the insights, writing paragraphs that illustrates the main outcomes from the data\n",
    "You will write just a sentece per company analized\n",
    "Make sure you include mock judgements that can be later analyzed with sentiment analysis\n",
    "\n",
    "For example:\n",
    "\n",
    "OmegaPharamcy has an awful year, with 4EUR  52 Week Low and just 5EUR 52Week High\n",
    "BootleOfWatter present amazing results, with a market capitalization of 90 billon EUR, 30% higher than the previous year\n",
    "\"\"\"\n",
    "\n",
    "user_prompt = \"\".join(lines) #str"
   ]
  },
  {
   "cell_type": "code",
   "execution_count": 83,
   "metadata": {},
   "outputs": [],
   "source": [
    "langchain_messages_01 = [\n",
    "    SystemMessage(content=system_prompt),\n",
    "    HumanMessage(content=user_prompt)\n",
    "]"
   ]
  },
  {
   "cell_type": "code",
   "execution_count": 84,
   "metadata": {},
   "outputs": [],
   "source": [
    "#create the chat variable\n",
    "\n",
    "chat_02 = ChatOpenAI(temperature=0.99) #from langchain create a chat\n"
   ]
  },
  {
   "cell_type": "code",
   "execution_count": 85,
   "metadata": {},
   "outputs": [],
   "source": [
    "response_01 = chat(langchain_messages_01)"
   ]
  },
  {
   "cell_type": "code",
   "execution_count": 86,
   "metadata": {},
   "outputs": [],
   "source": [
    "response_content = response_01.content\n"
   ]
  },
  {
   "cell_type": "code",
   "execution_count": 87,
   "metadata": {},
   "outputs": [
    {
     "name": "stdout",
     "output_type": "stream",
     "text": [
      "['Nexa Innovations had a strong year, with a 52 Week High of 130.0 EUR and a 52 Week Low of 100.0 EUR, indicating stability in the technology sector.', 'Orion Motors had a decent performance, with a market capitalization of 20.3 billion EUR, slightly higher than the previous year, in the automotive industry.', 'Fusion Energy Solutions struggled, with a 52 Week High of 40.0 EUR and a 52 Week Low of 25.0 EUR, indicating volatility in the energy sector.', 'Zenith Pharma had a successful year, with a market capitalization of 60.1 billion EUR, showing growth in the pharmaceutical industry.', 'Epsilon Retail had a stable performance, with a 52 Week High of 95.0 EUR and a 52 Week Low of 80.0 EUR, indicating consistency in the retail sector.', 'Retro Retail had a mixed year, with a 52 Week High of 86.99 EUR and a 52 Week Low of 85.33 EUR, suggesting uncertainty in the retail industry.', 'Orbit Motors had a remarkable year, with a market capitalization of 34.4 billion EUR, significantly higher than the previous year, in the automotive sector.', 'Zeta Pharma had a volatile year, with a 52 Week High of 178.12 EUR and a 52 Week Low of 58.81 EUR, indicating instability in the pharmaceutical industry.', 'Fusion Energy Network struggled, with a 52 Week High of 42.86 EUR and a 52 Week Low of 109.07 EUR, suggesting volatility in the energy sector.', 'Photon MedPharm had a successful year, with a market capitalization of 39.0 billion EUR, showing growth in the pharmaceutical industry.', 'NexTech Innovations had a strong year, with a 52 Week High of 224.04 EUR and a 52 Week Low of 79.09 EUR, indicating stability in the technology sector.', 'Omega Motors had a decent performance, with a market capitalization of 55.9 billion EUR, slightly higher than the previous year, in the automotive industry.', 'Fission Energy Solutions struggled, with a 52 Week High of 194.81 EUR and a 52 Week Low of 37.24 EUR, indicating volatility in the automotive sector.', 'Zenith Pharmaceuticals had a volatile year, with a 52 Week High of 97.28 EUR and a 52 Week Low of 97.39 EUR, suggesting instability in the pharmaceutical industry.', 'Orion Motors Network had a remarkable year, with a market capitalization of 79.6 billion EUR, significantly higher than the previous year, in the automotive sector.', 'CosmoTech Innovations had a strong year, with a 52 Week High of 130.0 EUR and a 52 Week Low of 100.0 EUR, indicating stability in the technology sector.', 'Velocity Motors had a decent performance, with a market capitalization of 20.3 billion EUR, slightly higher than the previous year, in the automotive industry.', 'SolarStream Energy struggled, with a 52 Week High of 40.0 EUR and a 52 Week Low of 25.0 EUR, indicating volatility in the energy sector.', 'Aura Pharma had a successful year, with a market capitalization of 60.1 billion EUR, showing growth in the pharmaceutical industry.', 'Starlight Retail had a stable performance, with a 52 Week High of 95.0 EUR and a 52 Week Low of 80.0 EUR, indicating consistency in the retail sector.', 'Mirage Retailers had a mixed year, with a 52 Week High of 86.99 EUR and a 52 Week Low of 85.33 EUR, suggesting uncertainty in the retail industry.', 'Horizon Vehicles had a remarkable year, with a market capitalization of 34.4 billion EUR, significantly higher than the previous year, in the automotive sector.', 'Genexis Pharma had a volatile year, with a 52 Week High of 178.12 EUR and a 52 Week Low of 58.81 EUR, indicating instability in the pharmaceutical industry.', 'Electron Energy Corp struggled, with a 52 Week High of 42.86 EUR and a 52 Week Low of 109.07 EUR, suggesting volatility in the energy sector.', 'BioPulse Pharma had a successful year, with a market capitalization of 39.0 billion EUR, showing growth in the pharmaceutical industry.', 'Nebula Innovations had a strong year, with a 52 Week High of 224.04 EUR and a 52 Week Low of 79.09 EUR, indicating stability in the technology sector.', 'Panther Motors had a decent performance, with a market capitalization of 55.9 billion EUR, slightly higher than the previous year, in the automotive industry.', 'TerraWatt Energy struggled, with a 52 Week High of 194.81 EUR and a 52 Week Low of 37.24 EUR, indicating volatility in the automotive sector.', 'Lumina Pharma had a volatile year, with a 52 Week High of 97.28 EUR and a 52 Week Low of 97.39 EUR, suggesting instability in the pharmaceutical industry.', 'Meteor Motors had a remarkable year, with a market capitalization of 79.6 billion EUR, significantly higher than the previous year, in the automotive sector.']\n"
     ]
    }
   ],
   "source": [
    "written_report = response_content.split(\"\\n\")\n",
    "print(written_report)"
   ]
  },
  {
   "cell_type": "code",
   "execution_count": 108,
   "metadata": {},
   "outputs": [],
   "source": [
    "#creating a variable with the list to avoid future API calls\n",
    "\n",
    "written_report = ['Nexa Innovations had a strong year, with a 52 Week High of 130.0 EUR and a 52 Week Low of 100.0 EUR, indicating stability in the technology sector.',\n",
    "                  'Orion Motors had a decent performance, with a market capitalization of 20.3 billion EUR, slightly higher than the previous year, in the automotive industry.',\n",
    "                  'Fusion Energy Solutions struggled, with a 52 Week High of 40.0 EUR and a 52 Week Low of 25.0 EUR, indicating volatility in the energy sector.',\n",
    "                  'Zenith Pharma had a successful year, with a market capitalization of 60.1 billion EUR, showing growth in the pharmaceutical industry.',\n",
    "                  'Epsilon Retail had a stable performance, with a 52 Week High of 95.0 EUR and a 52 Week Low of 80.0 EUR, indicating consistency in the retail sector.',\n",
    "                  'Retro Retail had a mixed year, with a 52 Week High of 86.99 EUR and a 52 Week Low of 85.33 EUR, suggesting uncertainty in the retail industry.',\n",
    "                  'Orbit Motors had a remarkable year, with a market capitalization of 34.4 billion EUR, significantly higher than the previous year, in the automotive sector.',\n",
    "                  'Zeta Pharma had a volatile year, with a 52 Week High of 178.12 EUR and a 52 Week Low of 58.81 EUR, indicating instability in the pharmaceutical industry.',\n",
    "                  'Fusion Energy Network struggled, with a 52 Week High of 42.86 EUR and a 52 Week Low of 109.07 EUR, suggesting volatility in the energy sector.',\n",
    "                  'Photon MedPharm had a successful year, with a market capitalization of 39.0 billion EUR, showing growth in the pharmaceutical industry.',\n",
    "                  'NexTech Innovations had a strong year, with a 52 Week High of 224.04 EUR and a 52 Week Low of 79.09 EUR, indicating stability in the technology sector.',\n",
    "                  'Omega Motors had a decent performance, with a market capitalization of 55.9 billion EUR, slightly higher than the previous year, in the automotive industry.',\n",
    "                  'Fission Energy Solutions struggled, with a 52 Week High of 194.81 EUR and a 52 Week Low of 37.24 EUR, indicating volatility in the automotive sector.',\n",
    "                  'Zenith Pharmaceuticals had a volatile year, with a 52 Week High of 97.28 EUR and a 52 Week Low of 97.39 EUR, suggesting instability in the pharmaceutical industry.',\n",
    "                  'Orion Motors Network had a remarkable year, with a market capitalization of 79.6 billion EUR, significantly higher than the previous year, in the automotive sector.',\n",
    "                  'CosmoTech Innovations had a strong year, with a 52 Week High of 130.0 EUR and a 52 Week Low of 100.0 EUR, indicating stability in the technology sector.',\n",
    "                  'Velocity Motors had a decent performance, with a market capitalization of 20.3 billion EUR, slightly higher than the previous year, in the automotive industry.',\n",
    "                  'SolarStream Energy struggled, with a 52 Week High of 40.0 EUR and a 52 Week Low of 25.0 EUR, indicating volatility in the energy sector.',\n",
    "                  'Aura Pharma had a successful year, with a market capitalization of 60.1 billion EUR, showing growth in the pharmaceutical industry.',\n",
    "                  'Starlight Retail had a stable performance, with a 52 Week High of 95.0 EUR and a 52 Week Low of 80.0 EUR, indicating consistency in the retail sector.',\n",
    "                  'Mirage Retailers had a mixed year, with a 52 Week High of 86.99 EUR and a 52 Week Low of 85.33 EUR, suggesting uncertainty in the retail industry.',\n",
    "                  'Horizon Vehicles had a remarkable year, with a market capitalization of 34.4 billion EUR, significantly higher than the previous year, in the automotive sector.',\n",
    "                  'Genexis Pharma had a volatile year, with a 52 Week High of 178.12 EUR and a 52 Week Low of 58.81 EUR, indicating instability in the pharmaceutical industry.',\n",
    "                  'Electron Energy Corp struggled, with a 52 Week High of 42.86 EUR and a 52 Week Low of 109.07 EUR, suggesting volatility in the energy sector.',\n",
    "                  'BioPulse Pharma had a successful year, with a market capitalization of 39.0 billion EUR, showing growth in the pharmaceutical industry.',\n",
    "                  'Nebula Innovations had a strong year, with a 52 Week High of 224.04 EUR and a 52 Week Low of 79.09 EUR, indicating stability in the technology sector.',\n",
    "                  'Panther Motors had a decent performance, with a market capitalization of 55.9 billion EUR, slightly higher than the previous year, in the automotive industry.',\n",
    "                  'TerraWatt Energy struggled, with a 52 Week High of 194.81 EUR and a 52 Week Low of 37.24 EUR, indicating volatility in the automotive sector.',\n",
    "                  'Lumina Pharma had a volatile year, with a 52 Week High of 97.28 EUR and a 52 Week Low of 97.39 EUR, suggesting instability in the pharmaceutical industry.',\n",
    "                  'Meteor Motors had a remarkable year, with a market capitalization of 79.6 billion EUR, significantly higher than the previous year, in the automotive sector.']"
   ]
  },
  {
   "cell_type": "code",
   "execution_count": 109,
   "metadata": {},
   "outputs": [
    {
     "data": {
      "text/plain": [
       "30"
      ]
     },
     "execution_count": 109,
     "metadata": {},
     "output_type": "execute_result"
    }
   ],
   "source": [
    "len(written_report)"
   ]
  },
  {
   "cell_type": "code",
   "execution_count": 88,
   "metadata": {},
   "outputs": [],
   "source": [
    "#save the list in a txt file\n",
    "#this is not needed for out goal/analysis\n",
    "with open(\"financial_report.txt\", \"w\") as financial_report_txt:\n",
    "    for line in written_report:\n",
    "        financial_report_txt.write(line + \"\\n\")"
   ]
  },
  {
   "cell_type": "code",
   "execution_count": 89,
   "metadata": {},
   "outputs": [
    {
     "data": {
      "text/plain": [
       "'System: You are performing sentiment analysis on news headlines regarding financial analysis. \\nThis sentiment is to be used to advice financial analysts. \\nThe format of the output has to be consistent. \\nThe output is strictly limited to any of the following options: (positive, negative, neutral).\\nAvoid newlines (\\n) and other non-printable characters.\\nHuman: Judge the following financial statement for sentiment analysis: Nexa Innovations had a strong year, with a 52 Week High of 130.0 EUR and a 52 Week Low of 100.0 EUR, indicating stability in the technology sector.'"
      ]
     },
     "execution_count": 89,
     "metadata": {},
     "output_type": "execute_result"
    }
   ],
   "source": [
    "#create the prompt that will be used to get the sentiment analysis from one of the financial statements\n",
    "\n",
    "from langchain.prompts import ChatPromptTemplate\n",
    "\n",
    "options = \"(positive, negative, neutral)\"\n",
    "\n",
    "system_prompt = \"\"\"You are performing sentiment analysis on news headlines regarding financial analysis. \n",
    "This sentiment is to be used to advice financial analysts. \n",
    "The format of the output has to be consistent. \n",
    "The output is strictly limited to any of the following options: {options}.\n",
    "Avoid newlines (\\n) and other non-printable characters.\"\"\"\n",
    "\n",
    "user_prompt = \"Judge the following financial statement for sentiment analysis: {statement}\"\n",
    "\n",
    "chat_template = ChatPromptTemplate.from_messages([\n",
    "    (\"system\", system_prompt),\n",
    "    (\"human\", user_prompt)\n",
    "])\n",
    "\n",
    "formatted_chat_template = chat_template.format(\n",
    "    options=options,\n",
    "    statement = written_report[0])\n",
    "\n",
    "formatted_chat_template"
   ]
  },
  {
   "cell_type": "code",
   "execution_count": 90,
   "metadata": {},
   "outputs": [
    {
     "name": "stdout",
     "output_type": "stream",
     "text": [
      "\n",
      "\n",
      "Positive\n"
     ]
    }
   ],
   "source": [
    "# Now we will use Langchain \"Chains\"\n",
    "# This is using the just-created prompt and send it to a LLM\n",
    "\n",
    "from langchain.chains import LLMChain\n",
    "from langchain.prompts import PromptTemplate\n",
    "from langchain.llms import OpenAI\n",
    "\n",
    "\n",
    "prompt_template = PromptTemplate.from_template(user_prompt)\n",
    "\n",
    "\n",
    "# Create the LLMChain by combining a completion model and a prompt.\n",
    "completion_chain = LLMChain(llm = OpenAI(temperature=0),\n",
    "                            prompt = prompt_template)\n",
    "\n",
    "completion_chain_run = completion_chain.run(statement=written_report[0])\n",
    "\n",
    "#with this, we extract the sentiment analysis for just one statement in the list written_report\n",
    "print(completion_chain_run)"
   ]
  },
  {
   "cell_type": "code",
   "execution_count": 116,
   "metadata": {},
   "outputs": [
    {
     "name": "stdout",
     "output_type": "stream",
     "text": [
      "<class 'langchain_core.output_parsers.list.CommaSeparatedListOutputParser'>\n"
     ]
    }
   ],
   "source": [
    "#Using the Output Parser from Langchain tomodify the output format\n",
    "#we will create a pandas dataframe\n",
    "\n",
    "import pandas as pd\n",
    "from langchain.output_parsers import CommaSeparatedListOutputParser\n",
    "\n",
    "df = pd.DataFrame(\n",
    "    {\n",
    "        \"company_name\": [2, 4, 8, 0],\n",
    "        \"statement\": [2, 0, 0, 0],\n",
    "        \"sentiment_analysis\": [10, 2, 1, 8],\n",
    "    }\n",
    ")\n",
    "\n",
    "parser = CommaSeparatedListOutputParser(dataframe=df)\n",
    "\n",
    "print(type(parser))"
   ]
  },
  {
   "cell_type": "code",
   "execution_count": 117,
   "metadata": {},
   "outputs": [],
   "source": [
    "format_instructions = parser.get_format_instructions() #the preset prompt that will be added to out prompt to modify the output format"
   ]
  },
  {
   "cell_type": "code",
   "execution_count": 118,
   "metadata": {},
   "outputs": [
    {
     "data": {
      "text/plain": [
       "'Your response should be a list of comma separated values, eg: `foo, bar, baz`'"
      ]
     },
     "execution_count": 118,
     "metadata": {},
     "output_type": "execute_result"
    }
   ],
   "source": [
    "format_instructions"
   ]
  },
  {
   "cell_type": "code",
   "execution_count": 119,
   "metadata": {},
   "outputs": [],
   "source": [
    "prompt_template = \"List all the company_names from the following statements, limited to one company name per headline: {written_report}.\"\n"
   ]
  },
  {
   "cell_type": "code",
   "execution_count": 120,
   "metadata": {},
   "outputs": [],
   "source": [
    "#company_name extraction\n",
    "\n",
    "company_name_template = PromptTemplate(template=prompt_template,\n",
    "                                       input_variables=[\"written_report\"],\n",
    "                                       partial_variables={ #code expects a dictionary here\n",
    "                                           \"format_instructions\": format_instructions\n",
    "                                       })"
   ]
  },
  {
   "cell_type": "code",
   "execution_count": 121,
   "metadata": {},
   "outputs": [
    {
     "data": {
      "text/plain": [
       "PromptTemplate(input_variables=['written_report'], partial_variables={'format_instructions': 'Your response should be a list of comma separated values, eg: `foo, bar, baz`'}, template='List all the company_names from the following statements, limited to one company name per headline: {written_report}.')"
      ]
     },
     "execution_count": 121,
     "metadata": {},
     "output_type": "execute_result"
    }
   ],
   "source": [
    "company_name_template"
   ]
  },
  {
   "cell_type": "code",
   "execution_count": 122,
   "metadata": {},
   "outputs": [
    {
     "data": {
      "text/plain": [
       "\"List all the company_names from the following statements, limited to one company name per headline: ['Nexa Innovations had a strong year, with a 52 Week High of 130.0 EUR and a 52 Week Low of 100.0 EUR, indicating stability in the technology sector.', 'Orion Motors had a decent performance, with a market capitalization of 20.3 billion EUR, slightly higher than the previous year, in the automotive industry.', 'Fusion Energy Solutions struggled, with a 52 Week High of 40.0 EUR and a 52 Week Low of 25.0 EUR, indicating volatility in the energy sector.', 'Zenith Pharma had a successful year, with a market capitalization of 60.1 billion EUR, showing growth in the pharmaceutical industry.', 'Epsilon Retail had a stable performance, with a 52 Week High of 95.0 EUR and a 52 Week Low of 80.0 EUR, indicating consistency in the retail sector.', 'Retro Retail had a mixed year, with a 52 Week High of 86.99 EUR and a 52 Week Low of 85.33 EUR, suggesting uncertainty in the retail industry.', 'Orbit Motors had a remarkable year, with a market capitalization of 34.4 billion EUR, significantly higher than the previous year, in the automotive sector.', 'Zeta Pharma had a volatile year, with a 52 Week High of 178.12 EUR and a 52 Week Low of 58.81 EUR, indicating instability in the pharmaceutical industry.', 'Fusion Energy Network struggled, with a 52 Week High of 42.86 EUR and a 52 Week Low of 109.07 EUR, suggesting volatility in the energy sector.', 'Photon MedPharm had a successful year, with a market capitalization of 39.0 billion EUR, showing growth in the pharmaceutical industry.', 'NexTech Innovations had a strong year, with a 52 Week High of 224.04 EUR and a 52 Week Low of 79.09 EUR, indicating stability in the technology sector.', 'Omega Motors had a decent performance, with a market capitalization of 55.9 billion EUR, slightly higher than the previous year, in the automotive industry.', 'Fission Energy Solutions struggled, with a 52 Week High of 194.81 EUR and a 52 Week Low of 37.24 EUR, indicating volatility in the automotive sector.', 'Zenith Pharmaceuticals had a volatile year, with a 52 Week High of 97.28 EUR and a 52 Week Low of 97.39 EUR, suggesting instability in the pharmaceutical industry.', 'Orion Motors Network had a remarkable year, with a market capitalization of 79.6 billion EUR, significantly higher than the previous year, in the automotive sector.', 'CosmoTech Innovations had a strong year, with a 52 Week High of 130.0 EUR and a 52 Week Low of 100.0 EUR, indicating stability in the technology sector.', 'Velocity Motors had a decent performance, with a market capitalization of 20.3 billion EUR, slightly higher than the previous year, in the automotive industry.', 'SolarStream Energy struggled, with a 52 Week High of 40.0 EUR and a 52 Week Low of 25.0 EUR, indicating volatility in the energy sector.', 'Aura Pharma had a successful year, with a market capitalization of 60.1 billion EUR, showing growth in the pharmaceutical industry.', 'Starlight Retail had a stable performance, with a 52 Week High of 95.0 EUR and a 52 Week Low of 80.0 EUR, indicating consistency in the retail sector.', 'Mirage Retailers had a mixed year, with a 52 Week High of 86.99 EUR and a 52 Week Low of 85.33 EUR, suggesting uncertainty in the retail industry.', 'Horizon Vehicles had a remarkable year, with a market capitalization of 34.4 billion EUR, significantly higher than the previous year, in the automotive sector.', 'Genexis Pharma had a volatile year, with a 52 Week High of 178.12 EUR and a 52 Week Low of 58.81 EUR, indicating instability in the pharmaceutical industry.', 'Electron Energy Corp struggled, with a 52 Week High of 42.86 EUR and a 52 Week Low of 109.07 EUR, suggesting volatility in the energy sector.', 'BioPulse Pharma had a successful year, with a market capitalization of 39.0 billion EUR, showing growth in the pharmaceutical industry.', 'Nebula Innovations had a strong year, with a 52 Week High of 224.04 EUR and a 52 Week Low of 79.09 EUR, indicating stability in the technology sector.', 'Panther Motors had a decent performance, with a market capitalization of 55.9 billion EUR, slightly higher than the previous year, in the automotive industry.', 'TerraWatt Energy struggled, with a 52 Week High of 194.81 EUR and a 52 Week Low of 37.24 EUR, indicating volatility in the automotive sector.', 'Lumina Pharma had a volatile year, with a 52 Week High of 97.28 EUR and a 52 Week Low of 97.39 EUR, suggesting instability in the pharmaceutical industry.', 'Meteor Motors had a remarkable year, with a market capitalization of 79.6 billion EUR, significantly higher than the previous year, in the automotive sector.'].\""
      ]
     },
     "metadata": {},
     "output_type": "display_data"
    }
   ],
   "source": [
    "# Format the prompt using all headlines.\n",
    "formatted_company_name_template = company_name_template.format(written_report=written_report)\n",
    "\n",
    "display(formatted_company_name_template)"
   ]
  },
  {
   "cell_type": "code",
   "execution_count": 123,
   "metadata": {},
   "outputs": [],
   "source": [
    "model = OpenAI(temperature=0)\n",
    "_output = model(formatted_company_name_template)"
   ]
  },
  {
   "cell_type": "code",
   "execution_count": 124,
   "metadata": {},
   "outputs": [
    {
     "data": {
      "text/plain": [
       "'\\n\\n1. Nexa Innovations\\n2. Orion Motors\\n3. Fusion Energy Solutions\\n4. Zenith Pharma\\n5. Epsilon Retail\\n6. Retro Retail\\n7. Orbit Motors\\n8. Zeta Pharma\\n9. Fusion Energy Network\\n10. Photon MedPharm\\n11. NexTech Innovations\\n12. Omega Motors\\n13. Fission Energy Solutions\\n14. Zenith Pharmaceuticals\\n15. Orion Motors Network\\n16. CosmoTech Innovations\\n17. Velocity Motors\\n18. SolarStream Energy\\n19. Aura Pharma\\n20. Starlight Retail\\n21. Mirage Retailers\\n22. Horizon Vehicles\\n23. Genexis Pharma\\n24. Electron Energy Corp\\n25. BioPulse Pharma\\n26. Nebula Innovations\\n27. Panther Motors\\n28. TerraWatt Energy\\n29. Lumina Pharma\\n30. Meteor Motors'"
      ]
     },
     "metadata": {},
     "output_type": "display_data"
    }
   ],
   "source": [
    "display(_output)"
   ]
  },
  {
   "cell_type": "code",
   "execution_count": 125,
   "metadata": {},
   "outputs": [
    {
     "name": "stdout",
     "output_type": "stream",
     "text": [
      "['1. Nexa Innovations\\n2. Orion Motors\\n3. Fusion Energy Solutions\\n4. Zenith Pharma\\n5. Epsilon Retail\\n6. Retro Retail\\n7. Orbit Motors\\n8. Zeta Pharma\\n9. Fusion Energy Network\\n10. Photon MedPharm\\n11. NexTech Innovations\\n12. Omega Motors\\n13. Fission Energy Solutions\\n14. Zenith Pharmaceuticals\\n15. Orion Motors Network\\n16. CosmoTech Innovations\\n17. Velocity Motors\\n18. SolarStream Energy\\n19. Aura Pharma\\n20. Starlight Retail\\n21. Mirage Retailers\\n22. Horizon Vehicles\\n23. Genexis Pharma\\n24. Electron Energy Corp\\n25. BioPulse Pharma\\n26. Nebula Innovations\\n27. Panther Motors\\n28. TerraWatt Energy\\n29. Lumina Pharma\\n30. Meteor Motors']\n"
     ]
    }
   ],
   "source": [
    "company_names = parser.parse(_output)\n",
    "print(company_names)"
   ]
  },
  {
   "cell_type": "code",
   "execution_count": 134,
   "metadata": {},
   "outputs": [
    {
     "name": "stdout",
     "output_type": "stream",
     "text": [
      "['Nexa Innovations', 'Orion Motors', 'Fusion Energy Solutions', 'Zenith Pharma', 'Epsilon Retail', 'Retro Retail', 'Orbit Motors', 'Zeta Pharma', 'Fusion Energy Network', 'Photon MedPharm', 'NexTech Innovations', 'Omega Motors', 'Fission Energy Solutions', 'Zenith Pharmaceuticals', 'Orion Motors Network', 'CosmoTech Innovations', 'Velocity Motors', 'SolarStream Energy', 'Aura Pharma', 'Starlight Retail', 'Mirage Retailers', 'Horizon Vehicles', 'Genexis Pharma', 'Electron Energy Corp', 'BioPulse Pharma', 'Nebula Innovations', 'Panther Motors', 'TerraWatt Energy', 'Lumina Pharma', 'Meteor Motors']\n"
     ]
    }
   ],
   "source": [
    "#this could have been done faster, cheaper and more precise using the original csv file\n",
    "\n",
    "import pandas as pd\n",
    "\n",
    "# Replace 'path_to_your_csv_file.csv' with the actual path of your CSV file\n",
    "csv_file_path = 'stock_data.csv'\n",
    "\n",
    "# Read the CSV file\n",
    "df = pd.read_csv(csv_file_path)\n",
    "\n",
    "# Extract the CompanyName column into a list\n",
    "company_names = df['CompanyName'].tolist()\n",
    "\n",
    "# Print the list to verify\n",
    "print(company_names)"
   ]
  },
  {
   "cell_type": "code",
   "execution_count": 135,
   "metadata": {},
   "outputs": [],
   "source": [
    "from langchain_experimental.agents.agent_toolkits.python.base import create_python_agent\n",
    "from langchain_experimental.tools.python.tool import PythonREPLTool\n",
    "\n",
    "agent_executor = create_python_agent(llm = OpenAI(temperature=0,\n",
    "                                                 max_tokens=3000),\n",
    "                                    tool = PythonREPLTool(),\n",
    "                                    verbose = True)"
   ]
  },
  {
   "cell_type": "code",
   "execution_count": 141,
   "metadata": {},
   "outputs": [],
   "source": [
    "instruction = f\"\"\"For every of the following statements, get the financial sentiment is {options}.\n",
    "  Statements: {written_report[:4]}\n",
    "  Load this data into a pandas dataframe. \n",
    "  The dataframe will have three columns: \n",
    "      - company_name: the name of the company. Use {company_names[:4]} for that\n",
    "      - sentiment_analysis: whether the financial sentiment is {options}\n",
    "      - statement: the statement itself. \n",
    "  The dataframe can then be saved in the current working directory under the name financial_sentiment_analysis.csv.\n",
    "  If a csv file already exists with the same name, it should be overwritten.\"\"\"\n",
    "\n",
    "#we are using just the first items in both lists due to token limit in the API"
   ]
  },
  {
   "cell_type": "code",
   "execution_count": 142,
   "metadata": {},
   "outputs": [
    {
     "name": "stdout",
     "output_type": "stream",
     "text": [
      "\n",
      "\n",
      "\u001b[1m> Entering new AgentExecutor chain...\u001b[0m\n",
      "\u001b[32;1m\u001b[1;3m I should use a pandas dataframe to store the data and then save it as a csv file.\n",
      "Action: Python_REPL\n",
      "Action Input: import pandas as pd\u001b[0m\n",
      "Observation: \u001b[36;1m\u001b[1;3m\u001b[0m\n",
      "Thought:\u001b[32;1m\u001b[1;3m I should create a dictionary with the data and then convert it to a dataframe.\n",
      "Action: Python_REPL\n",
      "Action Input: data = {'company_name': ['Nexa Innovations', 'Orion Motors', 'Fusion Energy Solutions', 'Zenith Pharma'], 'sentiment_analysis': ['positive', 'neutral', 'negative', 'positive'], 'statement': ['Nexa Innovations had a strong year, with a 52 Week High of 130.0 EUR and a 52 Week Low of 100.0 EUR, indicating stability in the technology sector.', 'Orion Motors had a decent performance, with a market capitalization of 20.3 billion EUR, slightly higher than the previous year, in the automotive industry.', 'Fusion Energy Solutions struggled, with a 52 Week High of 40.0 EUR and a 52 Week Low of 25.0 EUR, indicating volatility in the energy sector.', 'Zenith Pharma had a successful year, with a market capitalization of 60.1 billion EUR, showing growth in the pharmaceutical industry.']}\u001b[0m\n",
      "Observation: \u001b[36;1m\u001b[1;3m\u001b[0m\n",
      "Thought:\u001b[32;1m\u001b[1;3m I should convert the dictionary to a dataframe.\n",
      "Action: Python_REPL\n",
      "Action Input: df = pd.DataFrame(data)\u001b[0m\n",
      "Observation: \u001b[36;1m\u001b[1;3m\u001b[0m\n",
      "Thought:\u001b[32;1m\u001b[1;3m I should save the dataframe as a csv file.\n",
      "Action: Python_REPL\n",
      "Action Input: df.to_csv('financial_sentiment_analysis.csv', index=False)\u001b[0m\n",
      "Observation: \u001b[36;1m\u001b[1;3m\u001b[0m\n",
      "Thought:\u001b[32;1m\u001b[1;3m I now know the final answer\n",
      "Final Answer: I don't know\u001b[0m\n",
      "\n",
      "\u001b[1m> Finished chain.\u001b[0m\n"
     ]
    }
   ],
   "source": [
    "generate_sentiment_analysis_csv = agent_executor.run(instruction)"
   ]
  },
  {
   "cell_type": "code",
   "execution_count": 148,
   "metadata": {},
   "outputs": [
    {
     "data": {
      "text/html": [
       "<div>\n",
       "<style scoped>\n",
       "    .dataframe tbody tr th:only-of-type {\n",
       "        vertical-align: middle;\n",
       "    }\n",
       "\n",
       "    .dataframe tbody tr th {\n",
       "        vertical-align: top;\n",
       "    }\n",
       "\n",
       "    .dataframe thead th {\n",
       "        text-align: right;\n",
       "    }\n",
       "</style>\n",
       "<table border=\"1\" class=\"dataframe\">\n",
       "  <thead>\n",
       "    <tr style=\"text-align: right;\">\n",
       "      <th></th>\n",
       "      <th>company_name</th>\n",
       "      <th>sentiment_analysis</th>\n",
       "      <th>statement</th>\n",
       "    </tr>\n",
       "  </thead>\n",
       "  <tbody>\n",
       "    <tr>\n",
       "      <th>0</th>\n",
       "      <td>Nexa Innovations</td>\n",
       "      <td>positive</td>\n",
       "      <td>Nexa Innovations had a strong year, with a 52 Week High of 130.0 EUR and a 52 Week Low of 100.0 EUR, indicating stability in the technology sector.</td>\n",
       "    </tr>\n",
       "    <tr>\n",
       "      <th>1</th>\n",
       "      <td>Orion Motors</td>\n",
       "      <td>neutral</td>\n",
       "      <td>Orion Motors had a decent performance, with a market capitalization of 20.3 billion EUR, slightly higher than the previous year, in the automotive industry.</td>\n",
       "    </tr>\n",
       "    <tr>\n",
       "      <th>2</th>\n",
       "      <td>Fusion Energy Solutions</td>\n",
       "      <td>negative</td>\n",
       "      <td>Fusion Energy Solutions struggled, with a 52 Week High of 40.0 EUR and a 52 Week Low of 25.0 EUR, indicating volatility in the energy sector.</td>\n",
       "    </tr>\n",
       "    <tr>\n",
       "      <th>3</th>\n",
       "      <td>Zenith Pharma</td>\n",
       "      <td>positive</td>\n",
       "      <td>Zenith Pharma had a successful year, with a market capitalization of 60.1 billion EUR, showing growth in the pharmaceutical industry.</td>\n",
       "    </tr>\n",
       "  </tbody>\n",
       "</table>\n",
       "</div>"
      ],
      "text/plain": [
       "              company_name sentiment_analysis  \\\n",
       "0         Nexa Innovations           positive   \n",
       "1             Orion Motors            neutral   \n",
       "2  Fusion Energy Solutions           negative   \n",
       "3            Zenith Pharma           positive   \n",
       "\n",
       "                                                                                                                                                      statement  \n",
       "0           Nexa Innovations had a strong year, with a 52 Week High of 130.0 EUR and a 52 Week Low of 100.0 EUR, indicating stability in the technology sector.  \n",
       "1  Orion Motors had a decent performance, with a market capitalization of 20.3 billion EUR, slightly higher than the previous year, in the automotive industry.  \n",
       "2                 Fusion Energy Solutions struggled, with a 52 Week High of 40.0 EUR and a 52 Week Low of 25.0 EUR, indicating volatility in the energy sector.  \n",
       "3                         Zenith Pharma had a successful year, with a market capitalization of 60.1 billion EUR, showing growth in the pharmaceutical industry.  "
      ]
     },
     "execution_count": 148,
     "metadata": {},
     "output_type": "execute_result"
    }
   ],
   "source": [
    "#to show the full statement line, so it is not cut off\n",
    "\n",
    "pd.set_option('display.max_colwidth', None)\n",
    "\n",
    "csv_file = pd.read_csv(\"financial_sentiment_analysis.csv\")\n",
    "\n",
    "csv_file"
   ]
  },
  {
   "cell_type": "code",
   "execution_count": null,
   "metadata": {},
   "outputs": [],
   "source": []
  }
 ],
 "metadata": {
  "kernelspec": {
   "display_name": "Python 3",
   "language": "python",
   "name": "python3"
  },
  "language_info": {
   "codemirror_mode": {
    "name": "ipython",
    "version": 3
   },
   "file_extension": ".py",
   "mimetype": "text/x-python",
   "name": "python",
   "nbconvert_exporter": "python",
   "pygments_lexer": "ipython3",
   "version": "3.8.3"
  }
 },
 "nbformat": 4,
 "nbformat_minor": 4
}
