{
 "cells": [
  {
   "cell_type": "code",
   "execution_count": 15,
   "metadata": {},
   "outputs": [],
   "source": [
    "import langchain as lc\n",
    "from langchain.chat_models import ChatOpenAI\n",
    "from langchain.prompts.chat import (\n",
    "    ChatPromptTemplate,\n",
    "    HumanMessagePromptTemplate,\n",
    "    SystemMessagePromptTemplate,)\n",
    "\n",
    "from langchain_core.messages import SystemMessage, HumanMessage\n"
   ]
  },
  {
   "cell_type": "code",
   "execution_count": 16,
   "metadata": {},
   "outputs": [],
   "source": [
    "system_prompt = \"\"\"\n",
    "You have a dataset containing stock information for various companies. Each row in the dataset represents the stock details for a specific company.\n",
    "\n",
    "The dataset contains the following columns:\n",
    "\n",
    "- `StockID` (integer): The unique identifier for the stock.\n",
    "- `CompanyName` (character): The name of the company associated with the stock.\n",
    "- `Sector` (character): The sector or industry in which the company operates.\n",
    "- `LastClose(EUR)` (float): The last closing price of the stock in Euros.\n",
    "- `52WeekHigh(EUR)` (float): The highest price the stock has reached in the past 52 weeks, in Euros.\n",
    "- `52WeekLow(EUR)` (float): The lowest price the stock has reached in the past 52 weeks, in Euros.\n",
    "- `MarketCap(Billion EUR)` (float): The market capitalization of the company in billion Euros.\n",
    "\n",
    "In this dataset, you can expect to find information about the stock performance, company details, and financial metrics for each company.\"\"\""
   ]
  },
  {
   "cell_type": "code",
   "execution_count": 17,
   "metadata": {},
   "outputs": [],
   "source": [
    "user_prompt = \"Suggest a single data analysis question that could be answered with this dataset\""
   ]
  },
  {
   "cell_type": "code",
   "execution_count": 18,
   "metadata": {},
   "outputs": [],
   "source": [
    "messages_langchain = [\n",
    "    SystemMessage(content=f\"You are an expert in data science.\\n {system_prompt}\"),\n",
    "    HumanMessage(content=f\"{user_prompt}\")\n",
    "]"
   ]
  },
  {
   "cell_type": "code",
   "execution_count": 19,
   "metadata": {},
   "outputs": [],
   "source": [
    "chat = ChatOpenAI(temperature=0)\n",
    "response = chat(messages_langchain)"
   ]
  },
  {
   "cell_type": "code",
   "execution_count": 20,
   "metadata": {},
   "outputs": [
    {
     "data": {
      "text/plain": [
       "AIMessage(content='What is the average market capitalization of companies in each sector?')"
      ]
     },
     "execution_count": 20,
     "metadata": {},
     "output_type": "execute_result"
    }
   ],
   "source": [
    "response"
   ]
  },
  {
   "cell_type": "code",
   "execution_count": 30,
   "metadata": {},
   "outputs": [
    {
     "name": "stdout",
     "output_type": "stream",
     "text": [
      "<class 'langchain_core.messages.ai.AIMessage'>\n"
     ]
    }
   ],
   "source": [
    "print(type(response))"
   ]
  },
  {
   "cell_type": "code",
   "execution_count": 31,
   "metadata": {},
   "outputs": [],
   "source": [
    "response_string = response.content"
   ]
  },
  {
   "cell_type": "code",
   "execution_count": 32,
   "metadata": {},
   "outputs": [],
   "source": [
    "next_message = \"So what is the min and max market capitalization in each sector?\"\n",
    "next_human_message = HumanMessage(content=next_message)"
   ]
  },
  {
   "cell_type": "code",
   "execution_count": 33,
   "metadata": {},
   "outputs": [],
   "source": [
    "message02 = messages_langchain + [ #the variable with the list of previous SystemMessage and HumanMessage\n",
    "    response, #the output we got from the previous turn in the conversation\n",
    "    next_human_message #the next HumanMessage\n",
    "]"
   ]
  },
  {
   "cell_type": "code",
   "execution_count": 34,
   "metadata": {},
   "outputs": [],
   "source": [
    "response02 = chat(message02)"
   ]
  },
  {
   "cell_type": "code",
   "execution_count": 52,
   "metadata": {},
   "outputs": [
    {
     "data": {
      "text/markdown": [
       "To find the minimum and maximum market capitalization in each sector, you can perform the following analysis:\n",
       "\n",
       "1. Group the dataset by the \"Sector\" column.\n",
       "2. Calculate the minimum and maximum market capitalization for each sector.\n",
       "\n",
       "Here is an example code snippet in Python using pandas library to perform this analysis:\n",
       "\n",
       "```python\n",
       "import pandas as pd\n",
       "\n",
       "# Read the dataset\n",
       "df = pd.read_csv(\"stock_data.csv\")\n",
       "\n",
       "# Group the dataset by sector and calculate the min and max market capitalization\n",
       "sector_market_cap = df.groupby(\"Sector\")[\"MarketCap(Billion EUR)\"].agg([\"min\", \"max\"])\n",
       "\n",
       "# Print the result\n",
       "print(sector_market_cap)\n",
       "```\n",
       "\n",
       "This code will output a table with the minimum and maximum market capitalization for each sector in the dataset."
      ],
      "text/plain": [
       "<IPython.core.display.Markdown object>"
      ]
     },
     "metadata": {},
     "output_type": "display_data"
    }
   ],
   "source": [
    "display(Markdown(response02.content))"
   ]
  },
  {
   "cell_type": "code",
   "execution_count": 38,
   "metadata": {},
   "outputs": [
    {
     "name": "stdout",
     "output_type": "stream",
     "text": [
      "content='To find the minimum and maximum market capitalization in each sector, you can perform the following analysis:\\n\\n1. Group the dataset by the \"Sector\" column.\\n2. Calculate the minimum and maximum market capitalization for each sector.\\n\\nHere is an example code snippet in Python using pandas library to perform this analysis:\\n\\n```python\\nimport pandas as pd\\n\\n# Read the dataset\\ndf = pd.read_csv(\"stock_data.csv\")\\n\\n# Group the dataset by sector and calculate the min and max market capitalization\\nsector_market_cap = df.groupby(\"Sector\")[\"MarketCap(Billion EUR)\"].agg([\"min\", \"max\"])\\n\\n# Print the result\\nprint(sector_market_cap)\\n```\\n\\nThis code will output a table with the minimum and maximum market capitalization for each sector in the dataset.'\n"
     ]
    }
   ],
   "source": [
    "next_message03 = \"Add some matplotlib code to show the data\"\n",
    "next_human_message03 = HumanMessage(content=next_message03)\n",
    "\n",
    "message03 = message02 + [\n",
    "    response02,\n",
    "    next_human_message03\n",
    "]\n",
    "\n",
    "response03 = chat(message03)"
   ]
  },
  {
   "cell_type": "code",
   "execution_count": 48,
   "metadata": {},
   "outputs": [],
   "source": [
    "import pandas as pd\n",
    "import plotly.express as px\n",
    "from IPython.display import display, Markdown"
   ]
  },
  {
   "cell_type": "code",
   "execution_count": 51,
   "metadata": {},
   "outputs": [
    {
     "data": {
      "text/markdown": [
       "Certainly! Here's an example of how you can visualize the minimum and maximum market capitalization for each sector using matplotlib:\n",
       "\n",
       "```python\n",
       "import pandas as pd\n",
       "import matplotlib.pyplot as plt\n",
       "\n",
       "# Read the dataset\n",
       "df = pd.read_csv(\"stock_data.csv\")\n",
       "\n",
       "# Group the dataset by sector and calculate the min and max market capitalization\n",
       "sector_market_cap = df.groupby(\"Sector\")[\"MarketCap(Billion EUR)\"].agg([\"min\", \"max\"])\n",
       "\n",
       "# Plotting the data\n",
       "fig, ax = plt.subplots(figsize=(10, 6))\n",
       "\n",
       "# Plotting the minimum market capitalization\n",
       "ax.bar(sector_market_cap.index, sector_market_cap[\"min\"], label=\"Minimum Market Cap\")\n",
       "\n",
       "# Plotting the maximum market capitalization\n",
       "ax.bar(sector_market_cap.index, sector_market_cap[\"max\"], label=\"Maximum Market Cap\")\n",
       "\n",
       "# Adding labels and title\n",
       "ax.set_xlabel(\"Sector\")\n",
       "ax.set_ylabel(\"Market Capitalization (Billion EUR)\")\n",
       "ax.set_title(\"Minimum and Maximum Market Capitalization by Sector\")\n",
       "\n",
       "# Rotating x-axis labels for better readability\n",
       "plt.xticks(rotation=90)\n",
       "\n",
       "# Adding legend\n",
       "ax.legend()\n",
       "\n",
       "# Display the plot\n",
       "plt.show()\n",
       "```\n",
       "\n",
       "This code will generate a bar chart showing the minimum and maximum market capitalization for each sector. The x-axis represents the sectors, and the y-axis represents the market capitalization in billion Euros. Each sector will have two bars, one for the minimum market capitalization and one for the maximum market capitalization."
      ],
      "text/plain": [
       "<IPython.core.display.Markdown object>"
      ]
     },
     "metadata": {},
     "output_type": "display_data"
    }
   ],
   "source": [
    "display(Markdown(response03.content))"
   ]
  },
  {
   "cell_type": "code",
   "execution_count": 44,
   "metadata": {},
   "outputs": [
    {
     "data": {
      "image/png": "[encoded data removed]",
      "text/plain": [
       "<Figure size 1000x600 with 1 Axes>"
      ]
     },
     "metadata": {},
     "output_type": "display_data"
    }
   ],
   "source": [
    "import pandas as pd\n",
    "import matplotlib.pyplot as plt\n",
    "\n",
    "# Read the dataset\n",
    "df = pd.read_csv(\"stock_data.csv\")\n",
    "\n",
    "# Group the dataset by sector and calculate the min and max market capitalization\n",
    "sector_market_cap = df.groupby(\"Sector\")[\"MarketCap(Billion EUR)\"].agg([\"min\", \"max\"])\n",
    "\n",
    "# Plotting the data\n",
    "fig, ax = plt.subplots(figsize=(10, 6))\n",
    "\n",
    "# Plotting the minimum market capitalization\n",
    "ax.bar(sector_market_cap.index, sector_market_cap[\"min\"], label=\"Minimum Market Cap\")\n",
    "\n",
    "# Plotting the maximum market capitalization\n",
    "ax.bar(sector_market_cap.index, sector_market_cap[\"max\"], label=\"Maximum Market Cap\")\n",
    "\n",
    "# Adding labels and title\n",
    "ax.set_xlabel(\"Sector\")\n",
    "ax.set_ylabel(\"Market Capitalization (Billion EUR)\")\n",
    "ax.set_title(\"Minimum and Maximum Market Capitalization by Sector\")\n",
    "\n",
    "# Rotating x-axis labels for better readability\n",
    "plt.xticks(rotation=90)\n",
    "\n",
    "# Adding legend\n",
    "ax.legend()\n",
    "\n",
    "# Display the plot\n",
    "plt.show()"
   ]
  },
  {
   "cell_type": "markdown",
   "metadata": {},
   "source": [
    "### Create a txt file to convey insights from the data"
   ]
  },
  {
   "cell_type": "code",
   "execution_count": 53,
   "metadata": {},
   "outputs": [
    {
     "data": {
      "text/plain": [
       "['StockID,CompanyName,Sector,LastClose(EUR),52WeekHigh(EUR),52WeekLow(EUR),MarketCap(Billion EUR)\\n',\n",
       " 'StockID,CompanyName,Sector,LastClose(EUR),52WeekHigh(EUR),52WeekLow(EUR),MarketCap(Billion EUR)\\n',\n",
       " '101,AlphaTech,Technology,120.5,130.0,100.0,50.2\\n',\n",
       " '102,BetaMotors,Automotive,58.3,62.5,50.0,20.3\\n',\n",
       " '103,GammaEnergy,Energy,33.2,40.0,25.0,15.5\\n',\n",
       " '104,DeltaPharma,Pharmaceuticals,144.7,150.0,130.0,60.1\\n',\n",
       " '105,EpsilonRetail,Retail,89.0,95.0,80.0,30.0\\n',\n",
       " '131,Company131,Retail,134.45,86.99,85.33,94.7\\n',\n",
       " '132,Company132,Automotive,198.46,230.49,71.94,34.4\\n',\n",
       " '133,Company133,Pharmaceuticals,24.98,178.12,58.81,75.8\\n',\n",
       " '134,Company134,Energy,79.04,42.86,109.07,52.3\\n',\n",
       " '135,Company135,Pharmaceuticals,99.15,230.07,107.62,39.0\\n',\n",
       " '161,Company161,Technology,145.67,224.04,79.09,18.8\\n',\n",
       " '162,Company162,Automotive,99.41,210.08,138.47,55.9\\n',\n",
       " '163,Company163,Automotive,192.59,194.81,37.24,73.7\\n',\n",
       " '164,Company164,Pharmaceuticals,26.16,97.28,97.39,43.5\\n',\n",
       " '165,Company165,Automotive,132.72,107.67,96.28,79.6\\n']"
      ]
     },
     "execution_count": 53,
     "metadata": {},
     "output_type": "execute_result"
    }
   ],
   "source": [
    "#create a list with all the lines in the csv file\n",
    "with open('stock_data.csv', 'r') as file:\n",
    "    # Read the file line by line\n",
    "    lines = file.readlines()"
   ]
  },
  {
   "cell_type": "code",
   "execution_count": 59,
   "metadata": {},
   "outputs": [],
   "source": [
    "# create s system prompt that helps to generate insights from the data\n",
    "\n",
    "system_prompt = \"\"\" #str\n",
    "You are a data scientist who works writing report about data\n",
    "You do the insights, writing paragraphs that illustrates the main outcomes from the data\n",
    "You will write just a sentece per company analized\n",
    "Make sure you include mock judgements that can be later analyzed with sentiment analysis\n",
    "\n",
    "For example:\n",
    "\n",
    "OmegaPharamcy has an awful year, with 4EUR  52 Week Low and just 5EUR 52Week High\n",
    "BootleOfWatter present amazing results, with a market capitalization of 90 billon EUR, 30% higher than the previous year\n",
    "\"\"\"\n",
    "\n",
    "user_prompt = \"\".join(lines) #str"
   ]
  },
  {
   "cell_type": "code",
   "execution_count": 60,
   "metadata": {},
   "outputs": [],
   "source": [
    "langchain_messages_01 = [\n",
    "    SystemMessage(content=system_prompt),\n",
    "    HumanMessage(content=user_prompt)\n",
    "]"
   ]
  },
  {
   "cell_type": "code",
   "execution_count": null,
   "metadata": {},
   "outputs": [],
   "source": [
    "#create the chat variable\n",
    "\n",
    "chat_02 = ChatOpenAI(temperature=0.99) #from langchain create a chat\n"
   ]
  },
  {
   "cell_type": "code",
   "execution_count": 62,
   "metadata": {},
   "outputs": [],
   "source": [
    "response_01 = chat(langchain_messages_01)"
   ]
  },
  {
   "cell_type": "code",
   "execution_count": 71,
   "metadata": {},
   "outputs": [],
   "source": [
    "response_content = response_01.content\n"
   ]
  },
  {
   "cell_type": "code",
   "execution_count": 72,
   "metadata": {},
   "outputs": [
    {
     "data": {
      "text/plain": [
       "['AlphaTech had a successful year, with a 52 Week High of 130.0 EUR and a market capitalization of 50.2 billion EUR.',\n",
       " 'BetaMotors had a decent year, with a 52 Week High of 62.5 EUR and a market capitalization of 20.3 billion EUR.',\n",
       " 'GammaEnergy struggled, with a 52 Week High of 40.0 EUR and a 52 Week Low of 25.0 EUR.',\n",
       " 'DeltaPharma performed well, with a 52 Week High of 150.0 EUR and a market capitalization of 60.1 billion EUR.',\n",
       " 'EpsilonRetail had a stable year, with a 52 Week High of 95.0 EUR and a market capitalization of 30.0 billion EUR.']"
      ]
     },
     "execution_count": 72,
     "metadata": {},
     "output_type": "execute_result"
    }
   ],
   "source": [
    "written_report = response_content.split(\"\\n\")\n",
    "written_report"
   ]
  },
  {
   "cell_type": "code",
   "execution_count": 73,
   "metadata": {},
   "outputs": [],
   "source": [
    "with open(\"financial_report.txt\", \"w\") as financial_report_txt:\n",
    "    for line in written_report:\n",
    "        financial_report_txt.write(line + \"\\n\")"
   ]
  },
  {
   "cell_type": "code",
   "execution_count": null,
   "metadata": {},
   "outputs": [],
   "source": []
  }
 ],
 "metadata": {
  "kernelspec": {
   "display_name": "Python 3",
   "language": "python",
   "name": "python3"
  },
  "language_info": {
   "codemirror_mode": {
    "name": "ipython",
    "version": 3
   },
   "file_extension": ".py",
   "mimetype": "text/x-python",
   "name": "python",
   "nbconvert_exporter": "python",
   "pygments_lexer": "ipython3",
   "version": "3.8.3"
  }
 },
 "nbformat": 4,
 "nbformat_minor": 4
}
