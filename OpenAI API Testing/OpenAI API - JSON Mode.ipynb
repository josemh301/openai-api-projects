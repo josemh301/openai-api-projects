{
 "cells": [
  {
   "cell_type": "markdown",
   "metadata": {},
   "source": [
    "# Testing OpenAI API"
   ]
  },
  {
   "cell_type": "code",
   "execution_count": 1,
   "metadata": {},
   "outputs": [],
   "source": [
    "system_message = \"\"\"You are TranslatorGPT.\n",
    "Yuor goal is to translate from any language into English\n",
    "That is your only task.\n",
    "Your answers while be designed to output JSON like the following EXAMPLE:\n",
    "\n",
    "{\n",
    "    \"source\" : {\n",
    "        \"language\": \"ES\",\n",
    "        \"text\" : \"Yo como patatas con mayonesa\"\n",
    "    },\n",
    "    \"target\" : {\n",
    "        \"language\" : \"EN\",\n",
    "        \"text\" : \"I eat potatoes with mayo\"\n",
    "    }   \n",
    "}\n",
    "\"\"\""
   ]
  },
  {
   "cell_type": "code",
   "execution_count": 2,
   "metadata": {},
   "outputs": [],
   "source": [
    "user_message = \"Quiero una sudadera del Manchester City por Navidad\" # I want a Manchester City sweatshirt for Christmas."
   ]
  },
  {
   "cell_type": "code",
   "execution_count": 3,
   "metadata": {},
   "outputs": [],
   "source": [
    "#combine system_message and user_message\n",
    "\n",
    "message_list = [\n",
    "    {\"role\" : \"system\", \"content\" : system_message},\n",
    "    {\"role\" : \"user\", \"content\" : user_message}\n",
    "]"
   ]
  },
  {
   "cell_type": "markdown",
   "metadata": {},
   "source": [
    "### Implementing JSON mode\n",
    "\n",
    "See [JSON Mode](https://platform.openai.com/docs/guides/text-generation/json-mode) at OpenAI. Notes:\n",
    "\n",
    "- Only available with `gpt-3.5-turbo-1106` or `gpt-4-1106-preview`.\n",
    "- You must include a JSON reference in the `system_message` like `\"Your answers while be designed to output JSON\"`."
   ]
  },
  {
   "cell_type": "code",
   "execution_count": 4,
   "metadata": {},
   "outputs": [],
   "source": [
    "from openai import OpenAI\n",
    "import os\n",
    "\n",
    "OPENAI_API_KEY = os.getenv(\"OPENAI_API_KEY\")\n",
    "client = OpenAI(api_key=OPENAI_API_KEY)\n",
    "\n",
    "response = client.chat.completions.create(\n",
    "    model=\"gpt-3.5-turbo-1106\",\n",
    "    response_format={ \"type\": \"json_object\" },\n",
    "    messages = message_list\n",
    ")"
   ]
  },
  {
   "cell_type": "code",
   "execution_count": 5,
   "metadata": {},
   "outputs": [
    {
     "data": {
      "text/plain": [
       "ChatCompletion(id='chatcmpl-8fQVYWm8uutCvERybBaXeYgslkrSx', choices=[Choice(finish_reason='stop', index=0, message=ChatCompletionMessage(content='{\\n    \"source\" : {\\n        \"language\": \"ES\",\\n        \"text\" : \"Quiero una sudadera del Manchester City por Navidad\"\\n    },\\n    \"target\" : {\\n        \"language\" : \"EN\",\\n        \"text\" : \"I want a Manchester City sweatshirt for Christmas\"\\n    }   \\n}', role='assistant', function_call=None, tool_calls=None), logprobs=None)], created=1704884036, model='gpt-3.5-turbo-1106', object='chat.completion', system_fingerprint='fp_cbe4fa03fe', usage=CompletionUsage(completion_tokens=68, prompt_tokens=120, total_tokens=188))"
      ]
     },
     "execution_count": 5,
     "metadata": {},
     "output_type": "execute_result"
    }
   ],
   "source": [
    "response"
   ]
  },
  {
   "cell_type": "code",
   "execution_count": 6,
   "metadata": {},
   "outputs": [
    {
     "name": "stdout",
     "output_type": "stream",
     "text": [
      "<class 'openai.types.chat.chat_completion.ChatCompletion'>\n"
     ]
    }
   ],
   "source": [
    "print(type(response))"
   ]
  },
  {
   "cell_type": "code",
   "execution_count": 7,
   "metadata": {},
   "outputs": [
    {
     "name": "stdout",
     "output_type": "stream",
     "text": [
      "chatcmpl-8fQVYWm8uutCvERybBaXeYgslkrSx\n"
     ]
    }
   ],
   "source": [
    "print(response.id)"
   ]
  },
  {
   "cell_type": "code",
   "execution_count": 8,
   "metadata": {},
   "outputs": [
    {
     "name": "stdout",
     "output_type": "stream",
     "text": [
      "[Choice(finish_reason='stop', index=0, message=ChatCompletionMessage(content='{\\n    \"source\" : {\\n        \"language\": \"ES\",\\n        \"text\" : \"Quiero una sudadera del Manchester City por Navidad\"\\n    },\\n    \"target\" : {\\n        \"language\" : \"EN\",\\n        \"text\" : \"I want a Manchester City sweatshirt for Christmas\"\\n    }   \\n}', role='assistant', function_call=None, tool_calls=None), logprobs=None)]\n"
     ]
    }
   ],
   "source": [
    "print(response.choices)"
   ]
  },
  {
   "cell_type": "code",
   "execution_count": 9,
   "metadata": {},
   "outputs": [
    {
     "name": "stdout",
     "output_type": "stream",
     "text": [
      "<class 'list'>\n"
     ]
    }
   ],
   "source": [
    "print(type(response.choices))"
   ]
  },
  {
   "cell_type": "code",
   "execution_count": 10,
   "metadata": {},
   "outputs": [
    {
     "name": "stdout",
     "output_type": "stream",
     "text": [
      "1\n"
     ]
    }
   ],
   "source": [
    "print(len(response.choices))"
   ]
  },
  {
   "cell_type": "code",
   "execution_count": 11,
   "metadata": {},
   "outputs": [
    {
     "name": "stdout",
     "output_type": "stream",
     "text": [
      "Choice(finish_reason='stop', index=0, message=ChatCompletionMessage(content='{\\n    \"source\" : {\\n        \"language\": \"ES\",\\n        \"text\" : \"Quiero una sudadera del Manchester City por Navidad\"\\n    },\\n    \"target\" : {\\n        \"language\" : \"EN\",\\n        \"text\" : \"I want a Manchester City sweatshirt for Christmas\"\\n    }   \\n}', role='assistant', function_call=None, tool_calls=None), logprobs=None)\n"
     ]
    }
   ],
   "source": [
    "print(response.choices[0])"
   ]
  },
  {
   "cell_type": "code",
   "execution_count": 12,
   "metadata": {},
   "outputs": [
    {
     "name": "stdout",
     "output_type": "stream",
     "text": [
      "stop\n"
     ]
    }
   ],
   "source": [
    "print(response.choices[0].finish_reason)"
   ]
  },
  {
   "cell_type": "code",
   "execution_count": 13,
   "metadata": {},
   "outputs": [
    {
     "name": "stdout",
     "output_type": "stream",
     "text": [
      "ChatCompletionMessage(content='{\\n    \"source\" : {\\n        \"language\": \"ES\",\\n        \"text\" : \"Quiero una sudadera del Manchester City por Navidad\"\\n    },\\n    \"target\" : {\\n        \"language\" : \"EN\",\\n        \"text\" : \"I want a Manchester City sweatshirt for Christmas\"\\n    }   \\n}', role='assistant', function_call=None, tool_calls=None)\n"
     ]
    }
   ],
   "source": [
    "print(response.choices[0].message)"
   ]
  },
  {
   "cell_type": "code",
   "execution_count": 14,
   "metadata": {},
   "outputs": [
    {
     "name": "stdout",
     "output_type": "stream",
     "text": [
      "{\n",
      "    \"source\" : {\n",
      "        \"language\": \"ES\",\n",
      "        \"text\" : \"Quiero una sudadera del Manchester City por Navidad\"\n",
      "    },\n",
      "    \"target\" : {\n",
      "        \"language\" : \"EN\",\n",
      "        \"text\" : \"I want a Manchester City sweatshirt for Christmas\"\n",
      "    }   \n",
      "}\n"
     ]
    }
   ],
   "source": [
    "print(response.choices[0].message.content)"
   ]
  },
  {
   "cell_type": "code",
   "execution_count": 15,
   "metadata": {},
   "outputs": [
    {
     "name": "stdout",
     "output_type": "stream",
     "text": [
      "gpt-3.5-turbo-1106\n"
     ]
    }
   ],
   "source": [
    "print(response.model)"
   ]
  },
  {
   "cell_type": "code",
   "execution_count": 16,
   "metadata": {},
   "outputs": [
    {
     "name": "stdout",
     "output_type": "stream",
     "text": [
      "188\n"
     ]
    }
   ],
   "source": [
    "print(response.usage.total_tokens)"
   ]
  },
  {
   "cell_type": "code",
   "execution_count": 17,
   "metadata": {},
   "outputs": [],
   "source": [
    "# Finally create the actual JSON file from the str\n",
    "\n",
    "import json\n",
    "\n",
    "data_string = response.choices[0].message.content\n",
    "\n",
    "# Convert string to JSON (Python dictionary)\n",
    "data_json = json.loads(data_string)\n",
    "\n",
    "# Write JSON to a file\n",
    "with open('translator.json', 'w', encoding='utf-8') as file:\n",
    "    json.dump(data_json, file, ensure_ascii=False, indent=4)"
   ]
  },
  {
   "cell_type": "code",
   "execution_count": null,
   "metadata": {},
   "outputs": [],
   "source": []
  }
 ],
 "metadata": {
  "kernelspec": {
   "display_name": "Python 3",
   "language": "python",
   "name": "python3"
  },
  "language_info": {
   "codemirror_mode": {
    "name": "ipython",
    "version": 3
   },
   "file_extension": ".py",
   "mimetype": "text/x-python",
   "name": "python",
   "nbconvert_exporter": "python",
   "pygments_lexer": "ipython3",
   "version": "3.8.3"
  }
 },
 "nbformat": 4,
 "nbformat_minor": 4
}
