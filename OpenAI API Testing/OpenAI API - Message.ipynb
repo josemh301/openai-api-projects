{
 "cells": [
  {
   "cell_type": "markdown",
   "metadata": {},
   "source": [
    "# Testing OpenAI API - Message\n",
    "\n",
    "In this file you will find all the parapeters you may need to send to the OpenAI API to get a response for **chat/completions**. To access, you will use `client.chat.completions.create()` and assign it to a variable.\n",
    "\n",
    "Note that you might need different parameters for transcriptions, translations, speech, embeddings, fine tuning or image generation.\n",
    "\n",
    "#### Compulsory\n",
    "\n",
    "1. **`models`**: gpt-4 and dated model releases, gpt-4-1106-preview, gpt-4-vision-preview, gpt-4-32k and dated model releases, gpt-3.5-turbo and dated model releases, gpt-3.5-turbo-16k and dated model releases, fine-tuned versions of gpt-3.5-turbo. We will use `gpt-3.5-turbo-1106` in this explanation, since is up-to-date (Jan 10th, 2024) and is cheaper than GPT-4.\n",
    "1. **`messages`**: A list of messages in a particular structure. For example:  \n",
    "  \n",
    "  `messages = [\n",
    "    {\"role\" : \"system\", \"content\" : system_message},\n",
    "    {\"role\" : \"user\", \"content\" : user_message}\n",
    "]`  \n",
    "\n",
    "So far, out call to the API will look like:  \n",
    "\n",
    "`response = client.chat.completions.create(\n",
    "    model=\"gpt-3.5-turbo-1106\",\n",
    "    messages = messages\n",
    ")`\n",
    "\n",
    "#### Optional\n",
    "\n",
    "You can modify the output from the model using optional parameters:\n",
    "\n",
    "1. **frecuency_penalty**\n",
    "    - Type: number or `Null`\n",
    "    - Default: `0`\n",
    "    - A number between -2.0 and 2.0. If greater than 0, repetition of tokens will decrease\n",
    " \n",
    "1. **logit_bias**\n",
    "1. **logprobs**\n",
    "1. **top_logprobs**\n",
    "\n",
    "...**TO BE COMPLETED**..."
   ]
  },
  {
   "cell_type": "code",
   "execution_count": 5,
   "metadata": {},
   "outputs": [],
   "source": [
    "system_message = \"\"\"You are CatanGPT\n",
    "You know all the rules of Catan and all its expansions\n",
    "Provide the answer in JSON format with the different situation that might make a player lose a city\"\"\""
   ]
  },
  {
   "cell_type": "code",
   "execution_count": 6,
   "metadata": {},
   "outputs": [],
   "source": [
    "user_message = \"When do a player lost a city in Cities and Knights?\""
   ]
  },
  {
   "cell_type": "code",
   "execution_count": 7,
   "metadata": {},
   "outputs": [],
   "source": [
    "#combine system_message and user_message\n",
    "\n",
    "message_list = [\n",
    "    {\"role\" : \"system\", \"content\" : system_message},\n",
    "    {\"role\" : \"user\", \"content\" : user_message}\n",
    "]"
   ]
  },
  {
   "cell_type": "code",
   "execution_count": 8,
   "metadata": {},
   "outputs": [],
   "source": [
    "from openai import OpenAI\n",
    "import os"
   ]
  },
  {
   "cell_type": "code",
   "execution_count": 12,
   "metadata": {},
   "outputs": [],
   "source": [
    "OPENAI_API_KEY = os.getenv(\"OPENAI_API_KEY\")\n",
    "client = OpenAI(api_key=OPENAI_API_KEY)\n",
    "\n",
    "response = client.chat.completions.create(\n",
    "    #compulsory\n",
    "    model=\"gpt-3.5-turbo-1106\",\n",
    "    messages = message_list,\n",
    "    \n",
    "    #optional\n",
    "    frequency_penalty = 1.8,\n",
    "    logit_bias = None,\n",
    "    # logprobs = True,\n",
    "    # top_logprobs = 4,\n",
    "    n = 4, #number of completions we will get\n",
    "    presence_penalty = -1,\n",
    "    stop = None,\n",
    "    stream = None,\n",
    "    temperature = 0.05,\n",
    "    #top_p = 0.3, #do not use with temperature\n",
    "    response_format={ \"type\": \"json_object\" },\n",
    "    seed = 123456,\n",
    "    max_tokens=800,\n",
    "    # tools = []\n",
    "    # tool_choice = str\n",
    "    user = \"fakeemail_gmail_com\"\n",
    ")"
   ]
  },
  {
   "cell_type": "code",
   "execution_count": 13,
   "metadata": {},
   "outputs": [
    {
     "data": {
      "text/plain": [
       "ChatCompletion(id='chatcmpl-8fSD8FeBma6PHhLtsxqeKQY7YQ4Gu', choices=[Choice(finish_reason='stop', index=0, message=ChatCompletionMessage(content='{\\n  \"situation\": \"A player loses a city in Cities and Knights when their city is affected by the barbarian attack and they are unable to contribute enough defender cards to protect it. If the total number of active knights in all players\\' cities is less than the total strength of the barbarians, all players with cities lose one city each.\"\\n}', role='assistant', function_call=None, tool_calls=None), logprobs=None), Choice(finish_reason='stop', index=1, message=ChatCompletionMessage(content='{\\n  \"situation\": \"A player loses a city in Cities and Knights when their city is affected by the barbarian attack and they are unable to contribute enough defender cards to protect it. If the total number of active knights in all players\\' cities is less than the total strength of the barbarians, all players with cities lose one city each.\"\\n}', role='assistant', function_call=None, tool_calls=None), logprobs=None), Choice(finish_reason='stop', index=2, message=ChatCompletionMessage(content='{\\n  \"situation\": \"A player loses a city in Cities and Knights when their city is affected by the barbarian attack and they are unable to contribute enough defender cards to protect it. If the total number of active knights in all players\\' cities is less than the strength of the barbarians, all players with cities lose one city each.\"\\n}', role='assistant', function_call=None, tool_calls=None), logprobs=None), Choice(finish_reason='stop', index=3, message=ChatCompletionMessage(content='{\\n  \"situation\": \"A player loses a city in Cities and Knights when their city is affected by the barbarian attack and they are unable to contribute enough defender cards to protect it. If the total number of active knights in all players\\' cities is less than the strength of the barbarians, all players with cities lose one city each.\"\\n}', role='assistant', function_call=None, tool_calls=None), logprobs=None)], created=1704890582, model='gpt-3.5-turbo-1106', object='chat.completion', system_fingerprint='fp_cbe4fa03fe', usage=CompletionUsage(completion_tokens=286, prompt_tokens=61, total_tokens=347))"
      ]
     },
     "execution_count": 13,
     "metadata": {},
     "output_type": "execute_result"
    }
   ],
   "source": [
    "response"
   ]
  },
  {
   "cell_type": "code",
   "execution_count": 15,
   "metadata": {},
   "outputs": [
    {
     "name": "stdout",
     "output_type": "stream",
     "text": [
      "<class 'openai.types.chat.chat_completion.ChatCompletion'>\n"
     ]
    }
   ],
   "source": [
    "print(type(response))"
   ]
  },
  {
   "cell_type": "code",
   "execution_count": 16,
   "metadata": {},
   "outputs": [
    {
     "name": "stdout",
     "output_type": "stream",
     "text": [
      "chatcmpl-8fSD8FeBma6PHhLtsxqeKQY7YQ4Gu\n"
     ]
    }
   ],
   "source": [
    "print(response.id)"
   ]
  },
  {
   "cell_type": "code",
   "execution_count": 17,
   "metadata": {},
   "outputs": [
    {
     "name": "stdout",
     "output_type": "stream",
     "text": [
      "[Choice(finish_reason='stop', index=0, message=ChatCompletionMessage(content='{\\n  \"situation\": \"A player loses a city in Cities and Knights when their city is affected by the barbarian attack and they are unable to contribute enough defender cards to protect it. If the total number of active knights in all players\\' cities is less than the total strength of the barbarians, all players with cities lose one city each.\"\\n}', role='assistant', function_call=None, tool_calls=None), logprobs=None), Choice(finish_reason='stop', index=1, message=ChatCompletionMessage(content='{\\n  \"situation\": \"A player loses a city in Cities and Knights when their city is affected by the barbarian attack and they are unable to contribute enough defender cards to protect it. If the total number of active knights in all players\\' cities is less than the total strength of the barbarians, all players with cities lose one city each.\"\\n}', role='assistant', function_call=None, tool_calls=None), logprobs=None), Choice(finish_reason='stop', index=2, message=ChatCompletionMessage(content='{\\n  \"situation\": \"A player loses a city in Cities and Knights when their city is affected by the barbarian attack and they are unable to contribute enough defender cards to protect it. If the total number of active knights in all players\\' cities is less than the strength of the barbarians, all players with cities lose one city each.\"\\n}', role='assistant', function_call=None, tool_calls=None), logprobs=None), Choice(finish_reason='stop', index=3, message=ChatCompletionMessage(content='{\\n  \"situation\": \"A player loses a city in Cities and Knights when their city is affected by the barbarian attack and they are unable to contribute enough defender cards to protect it. If the total number of active knights in all players\\' cities is less than the strength of the barbarians, all players with cities lose one city each.\"\\n}', role='assistant', function_call=None, tool_calls=None), logprobs=None)]\n"
     ]
    }
   ],
   "source": [
    "print(response.choices)"
   ]
  },
  {
   "cell_type": "code",
   "execution_count": 18,
   "metadata": {},
   "outputs": [
    {
     "name": "stdout",
     "output_type": "stream",
     "text": [
      "<class 'list'>\n"
     ]
    }
   ],
   "source": [
    "print(type(response.choices))"
   ]
  },
  {
   "cell_type": "code",
   "execution_count": 19,
   "metadata": {},
   "outputs": [
    {
     "name": "stdout",
     "output_type": "stream",
     "text": [
      "4\n"
     ]
    }
   ],
   "source": [
    "print(len(response.choices))"
   ]
  },
  {
   "cell_type": "code",
   "execution_count": 21,
   "metadata": {},
   "outputs": [
    {
     "name": "stdout",
     "output_type": "stream",
     "text": [
      "\n",
      " Choice(finish_reason='stop', index=0, message=ChatCompletionMessage(content='{\\n  \"situation\": \"A player loses a city in Cities and Knights when their city is affected by the barbarian attack and they are unable to contribute enough defender cards to protect it. If the total number of active knights in all players\\' cities is less than the total strength of the barbarians, all players with cities lose one city each.\"\\n}', role='assistant', function_call=None, tool_calls=None), logprobs=None)\n",
      "\n",
      " Choice(finish_reason='stop', index=1, message=ChatCompletionMessage(content='{\\n  \"situation\": \"A player loses a city in Cities and Knights when their city is affected by the barbarian attack and they are unable to contribute enough defender cards to protect it. If the total number of active knights in all players\\' cities is less than the total strength of the barbarians, all players with cities lose one city each.\"\\n}', role='assistant', function_call=None, tool_calls=None), logprobs=None)\n",
      "\n",
      " Choice(finish_reason='stop', index=2, message=ChatCompletionMessage(content='{\\n  \"situation\": \"A player loses a city in Cities and Knights when their city is affected by the barbarian attack and they are unable to contribute enough defender cards to protect it. If the total number of active knights in all players\\' cities is less than the strength of the barbarians, all players with cities lose one city each.\"\\n}', role='assistant', function_call=None, tool_calls=None), logprobs=None)\n",
      "\n",
      " Choice(finish_reason='stop', index=3, message=ChatCompletionMessage(content='{\\n  \"situation\": \"A player loses a city in Cities and Knights when their city is affected by the barbarian attack and they are unable to contribute enough defender cards to protect it. If the total number of active knights in all players\\' cities is less than the strength of the barbarians, all players with cities lose one city each.\"\\n}', role='assistant', function_call=None, tool_calls=None), logprobs=None)\n"
     ]
    }
   ],
   "source": [
    "print(\"\\n\", response.choices[0])\n",
    "print(\"\\n\", response.choices[1])\n",
    "print(\"\\n\", response.choices[2])\n",
    "print(\"\\n\", response.choices[3])"
   ]
  },
  {
   "cell_type": "code",
   "execution_count": 26,
   "metadata": {},
   "outputs": [
    {
     "name": "stdout",
     "output_type": "stream",
     "text": [
      "Completion 0: stop\n",
      "Completion 1: stop\n",
      "Completion 2: stop\n",
      "Completion 3: stop\n"
     ]
    }
   ],
   "source": [
    "for index, choice in enumerate(response.choices):\n",
    "    print(f\"Completion {index}: {choice.finish_reason}\")\n"
   ]
  },
  {
   "cell_type": "code",
   "execution_count": 30,
   "metadata": {},
   "outputs": [
    {
     "name": "stdout",
     "output_type": "stream",
     "text": [
      "\n",
      "Completion 0: ChatCompletionMessage(content='{\\n  \"situation\": \"A player loses a city in Cities and Knights when their city is affected by the barbarian attack and they are unable to contribute enough defender cards to protect it. If the total number of active knights in all players\\' cities is less than the total strength of the barbarians, all players with cities lose one city each.\"\\n}', role='assistant', function_call=None, tool_calls=None)\n",
      "\n",
      "Completion 1: ChatCompletionMessage(content='{\\n  \"situation\": \"A player loses a city in Cities and Knights when their city is affected by the barbarian attack and they are unable to contribute enough defender cards to protect it. If the total number of active knights in all players\\' cities is less than the total strength of the barbarians, all players with cities lose one city each.\"\\n}', role='assistant', function_call=None, tool_calls=None)\n",
      "\n",
      "Completion 2: ChatCompletionMessage(content='{\\n  \"situation\": \"A player loses a city in Cities and Knights when their city is affected by the barbarian attack and they are unable to contribute enough defender cards to protect it. If the total number of active knights in all players\\' cities is less than the strength of the barbarians, all players with cities lose one city each.\"\\n}', role='assistant', function_call=None, tool_calls=None)\n",
      "\n",
      "Completion 3: ChatCompletionMessage(content='{\\n  \"situation\": \"A player loses a city in Cities and Knights when their city is affected by the barbarian attack and they are unable to contribute enough defender cards to protect it. If the total number of active knights in all players\\' cities is less than the strength of the barbarians, all players with cities lose one city each.\"\\n}', role='assistant', function_call=None, tool_calls=None)\n"
     ]
    }
   ],
   "source": [
    "for index, choice in enumerate(response.choices):\n",
    "    print(f\"\\nCompletion {index}: {choice.message}\")"
   ]
  },
  {
   "cell_type": "code",
   "execution_count": 18,
   "metadata": {},
   "outputs": [
    {
     "name": "stdout",
     "output_type": "stream",
     "text": [
      "gpt-3.5-turbo-1106\n"
     ]
    }
   ],
   "source": [
    "print(response.model)"
   ]
  },
  {
   "cell_type": "code",
   "execution_count": 32,
   "metadata": {},
   "outputs": [
    {
     "name": "stdout",
     "output_type": "stream",
     "text": [
      "fp_cbe4fa03fe\n"
     ]
    }
   ],
   "source": [
    "print(response.system_fingerprint)"
   ]
  },
  {
   "cell_type": "code",
   "execution_count": 20,
   "metadata": {},
   "outputs": [
    {
     "name": "stdout",
     "output_type": "stream",
     "text": [
      "213\n"
     ]
    }
   ],
   "source": [
    "print(response.usage.total_tokens)"
   ]
  },
  {
   "cell_type": "code",
   "execution_count": 38,
   "metadata": {},
   "outputs": [
    {
     "name": "stdout",
     "output_type": "stream",
     "text": [
      "\n",
      "Completion 0 content: {\n",
      "  \"situation\": \"A player loses a city in Cities and Knights when their city is affected by the barbarian attack and they are unable to contribute enough defender cards to protect it. If the total number of active knights in all players' cities is less than the total strength of the barbarians, all players with cities lose one city each.\"\n",
      "}:\n",
      "\n",
      "\n",
      "Completion 1 content: {\n",
      "  \"situation\": \"A player loses a city in Cities and Knights when their city is affected by the barbarian attack and they are unable to contribute enough defender cards to protect it. If the total number of active knights in all players' cities is less than the total strength of the barbarians, all players with cities lose one city each.\"\n",
      "}:\n",
      "\n",
      "\n",
      "Completion 2 content: {\n",
      "  \"situation\": \"A player loses a city in Cities and Knights when their city is affected by the barbarian attack and they are unable to contribute enough defender cards to protect it. If the total number of active knights in all players' cities is less than the strength of the barbarians, all players with cities lose one city each.\"\n",
      "}:\n",
      "\n",
      "\n",
      "Completion 3 content: {\n",
      "  \"situation\": \"A player loses a city in Cities and Knights when their city is affected by the barbarian attack and they are unable to contribute enough defender cards to protect it. If the total number of active knights in all players' cities is less than the strength of the barbarians, all players with cities lose one city each.\"\n",
      "}:\n",
      "\n"
     ]
    }
   ],
   "source": [
    "for index, completion in enumerate(response.choices):\n",
    "    print(f\"\\nCompletion {index} content: {completion.message.content}:\\n\")"
   ]
  },
  {
   "cell_type": "code",
   "execution_count": 39,
   "metadata": {},
   "outputs": [],
   "source": [
    "import json\n",
    "\n",
    "# Step 1: Create a list to collect the contents\n",
    "all_contents = [completion.message.content for completion in response.choices]\n",
    "\n",
    "# Step 2: Convert the list to a JSON string\n",
    "json_string = json.dumps(all_contents, ensure_ascii=False, indent=4)\n",
    "\n",
    "# Step 3: Write the JSON string to a file\n",
    "with open('completions_content.json', 'w', encoding='utf-8') as file:\n",
    "    file.write(json_string)\n"
   ]
  },
  {
   "cell_type": "code",
   "execution_count": null,
   "metadata": {},
   "outputs": [],
   "source": []
  }
 ],
 "metadata": {
  "kernelspec": {
   "display_name": "Python 3",
   "language": "python",
   "name": "python3"
  },
  "language_info": {
   "codemirror_mode": {
    "name": "ipython",
    "version": 3
   },
   "file_extension": ".py",
   "mimetype": "text/x-python",
   "name": "python",
   "nbconvert_exporter": "python",
   "pygments_lexer": "ipython3",
   "version": "3.8.3"
  }
 },
 "nbformat": 4,
 "nbformat_minor": 4
}
