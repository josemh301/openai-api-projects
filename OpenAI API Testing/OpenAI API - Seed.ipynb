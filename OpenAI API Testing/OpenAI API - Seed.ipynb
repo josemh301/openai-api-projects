{
 "cells": [
  {
   "cell_type": "markdown",
   "metadata": {},
   "source": [
    "# Testing OpenAI API"
   ]
  },
  {
   "cell_type": "code",
   "execution_count": 3,
   "metadata": {},
   "outputs": [],
   "source": [
    "system_message = \"\"\"You are NewYorkTimesGPT\n",
    "Yuor goal is to WRITE FULL MEANINGFUL NEWSPAPER ARTICLES.\n",
    "You can make up the following things up:\n",
    "- Author\n",
    "- Dates\n",
    "- Character\n",
    "- Facts\n",
    "You will always set the story in real places (towns, cities or countries)\n",
    "HEADLINES MUST BE SUITABLE FOR CLICKBAIT\n",
    "STRUCTURE: Three paragraphs (introduction to the problem, what happened, and current status of the issue)\n",
    "Your answers while be designed to output JSON\"\"\""
   ]
  },
  {
   "cell_type": "code",
   "execution_count": 4,
   "metadata": {},
   "outputs": [],
   "source": [
    "user_message = \"I need an article about a Danish multinational company that has been reporting awful quarterly results\""
   ]
  },
  {
   "cell_type": "code",
   "execution_count": 5,
   "metadata": {},
   "outputs": [],
   "source": [
    "#combine system_message and user_message\n",
    "\n",
    "message_list = [\n",
    "    {\"role\" : \"system\", \"content\" : system_message},\n",
    "    {\"role\" : \"user\", \"content\" : user_message}\n",
    "]"
   ]
  },
  {
   "cell_type": "markdown",
   "metadata": {},
   "source": [
    "### Implementing JSON mode\n",
    "\n",
    "See [JSON Mode](https://platform.openai.com/docs/guides/text-generation/json-mode) at OpenAI. Notes:\n",
    "\n",
    "- Only available with `gpt-3.5-turbo-1106` or `gpt-4-1106-preview`.\n",
    "- You must include a JSON reference in the `system_message` like `\"Your answers while be designed to output JSON\"`."
   ]
  },
  {
   "cell_type": "markdown",
   "metadata": {},
   "source": [
    "### Implementing Seed\n",
    "\n",
    "See [Seed](https://cookbook.openai.com/examples/reproducible_outputs_with_the_seed_parameter) at OpenAI Cookbook. Notes:\n",
    "\n",
    "- Needs openai version 1.3.3 or higher. Check with `!pip show openai`.\n",
    "- Only available with `gpt-3.5-turbo-1106` or `gpt-4-1106-preview`.\n",
    "- You will use the same integer to get very similar answers every time you call the API.\n",
    "- As a consequence, `system_fingerprint` will show up in the response. It is an identifier for the current combination of model weights, infrastructure, and other configuration options used by OpenAI servers to generate the completion. It changes whenever you change request parameters, or OpenAI updates numerical configuration of the infrastructure serving OpenAI's models (which may happen a few times a year)."
   ]
  },
  {
   "cell_type": "code",
   "execution_count": 6,
   "metadata": {},
   "outputs": [],
   "source": [
    "from openai import OpenAI\n",
    "import os"
   ]
  },
  {
   "cell_type": "code",
   "execution_count": 7,
   "metadata": {},
   "outputs": [],
   "source": [
    "OPENAI_API_KEY = os.getenv(\"OPENAI_API_KEY\")\n",
    "client = OpenAI(api_key=OPENAI_API_KEY)\n",
    "\n",
    "response = client.chat.completions.create(\n",
    "    model=\"gpt-3.5-turbo-1106\",\n",
    "    response_format={ \"type\": \"json_object\" },\n",
    "    seed = 123456,\n",
    "    max_tokens=800,\n",
    "    temperature = 0.25,\n",
    "    messages = message_list\n",
    ")"
   ]
  },
  {
   "cell_type": "code",
   "execution_count": 8,
   "metadata": {},
   "outputs": [
    {
     "data": {
      "text/plain": [
       "ChatCompletion(id='chatcmpl-8fQaA91RhNZdL4tJ1B0nfEPHfUE9F', choices=[Choice(finish_reason='stop', index=0, message=ChatCompletionMessage(content='{\\n  \"headline\": \"Danish Multinational Company Faces Crisis with Awful Quarterly Results\",\\n  \"author\": \"By John Smith\",\\n  \"date\": \"October 15, 2023\",\\n  \"location\": \"Copenhagen, Denmark\",\\n  \"company\": \"Danish Multinational Company\",\\n  \"issue\": \"awful quarterly results\"\\n}\\n\\n \\n \\t\\t\\n', role='assistant', function_call=None, tool_calls=None), logprobs=None)], created=1704884322, model='gpt-3.5-turbo-1106', object='chat.completion', system_fingerprint='fp_cbe4fa03fe', usage=CompletionUsage(completion_tokens=80, prompt_tokens=133, total_tokens=213))"
      ]
     },
     "execution_count": 8,
     "metadata": {},
     "output_type": "execute_result"
    }
   ],
   "source": [
    "response"
   ]
  },
  {
   "cell_type": "code",
   "execution_count": 9,
   "metadata": {},
   "outputs": [
    {
     "name": "stdout",
     "output_type": "stream",
     "text": [
      "['Config', '__abstractmethods__', '__annotations__', '__class__', '__class_vars__', '__config__', '__custom_root_type__', '__delattr__', '__dict__', '__dir__', '__doc__', '__eq__', '__exclude_fields__', '__fields__', '__fields_set__', '__format__', '__ge__', '__get_validators__', '__getattribute__', '__getstate__', '__gt__', '__hash__', '__include_fields__', '__init__', '__init_subclass__', '__iter__', '__json_encoder__', '__le__', '__lt__', '__module__', '__ne__', '__new__', '__post_root_validators__', '__pre_root_validators__', '__pretty__', '__private_attributes__', '__reduce__', '__reduce_ex__', '__repr__', '__repr_args__', '__repr_name__', '__repr_str__', '__rich_repr__', '__schema_cache__', '__setattr__', '__setstate__', '__signature__', '__sizeof__', '__slots__', '__str__', '__subclasshook__', '__try_update_forward_refs__', '__validators__', '_abc_impl', '_calculate_keys', '_copy_and_set_values', '_decompose_class', '_enforce_dict_if_root', '_get_value', '_init_private_attributes', '_iter', 'choices', 'construct', 'copy', 'created', 'dict', 'from_orm', 'id', 'json', 'model', 'model_construct', 'model_dump', 'model_dump_json', 'model_fields_set', 'object', 'parse_file', 'parse_obj', 'parse_raw', 'schema', 'schema_json', 'system_fingerprint', 'update_forward_refs', 'usage', 'validate']\n"
     ]
    }
   ],
   "source": [
    "all_methods_and_attributes = dir(response)\n",
    "print(all_methods_and_attributes)"
   ]
  },
  {
   "cell_type": "code",
   "execution_count": 10,
   "metadata": {},
   "outputs": [
    {
     "name": "stdout",
     "output_type": "stream",
     "text": [
      "<class 'openai.types.chat.chat_completion.ChatCompletion'>\n"
     ]
    }
   ],
   "source": [
    "print(type(response))"
   ]
  },
  {
   "cell_type": "code",
   "execution_count": 11,
   "metadata": {},
   "outputs": [
    {
     "name": "stdout",
     "output_type": "stream",
     "text": [
      "chatcmpl-8fQaA91RhNZdL4tJ1B0nfEPHfUE9F\n"
     ]
    }
   ],
   "source": [
    "print(response.id)"
   ]
  },
  {
   "cell_type": "code",
   "execution_count": 12,
   "metadata": {},
   "outputs": [
    {
     "name": "stdout",
     "output_type": "stream",
     "text": [
      "[Choice(finish_reason='stop', index=0, message=ChatCompletionMessage(content='{\\n  \"headline\": \"Danish Multinational Company Faces Crisis with Awful Quarterly Results\",\\n  \"author\": \"By John Smith\",\\n  \"date\": \"October 15, 2023\",\\n  \"location\": \"Copenhagen, Denmark\",\\n  \"company\": \"Danish Multinational Company\",\\n  \"issue\": \"awful quarterly results\"\\n}\\n\\n \\n \\t\\t\\n', role='assistant', function_call=None, tool_calls=None), logprobs=None)]\n"
     ]
    }
   ],
   "source": [
    "print(response.choices)"
   ]
  },
  {
   "cell_type": "code",
   "execution_count": 13,
   "metadata": {},
   "outputs": [
    {
     "name": "stdout",
     "output_type": "stream",
     "text": [
      "<class 'list'>\n"
     ]
    }
   ],
   "source": [
    "print(type(response.choices))"
   ]
  },
  {
   "cell_type": "code",
   "execution_count": 14,
   "metadata": {},
   "outputs": [
    {
     "name": "stdout",
     "output_type": "stream",
     "text": [
      "1\n"
     ]
    }
   ],
   "source": [
    "print(len(response.choices))"
   ]
  },
  {
   "cell_type": "code",
   "execution_count": 15,
   "metadata": {},
   "outputs": [
    {
     "name": "stdout",
     "output_type": "stream",
     "text": [
      "Choice(finish_reason='stop', index=0, message=ChatCompletionMessage(content='{\\n  \"headline\": \"Danish Multinational Company Faces Crisis with Awful Quarterly Results\",\\n  \"author\": \"By John Smith\",\\n  \"date\": \"October 15, 2023\",\\n  \"location\": \"Copenhagen, Denmark\",\\n  \"company\": \"Danish Multinational Company\",\\n  \"issue\": \"awful quarterly results\"\\n}\\n\\n \\n \\t\\t\\n', role='assistant', function_call=None, tool_calls=None), logprobs=None)\n"
     ]
    }
   ],
   "source": [
    "print(response.choices[0])"
   ]
  },
  {
   "cell_type": "code",
   "execution_count": 16,
   "metadata": {},
   "outputs": [
    {
     "name": "stdout",
     "output_type": "stream",
     "text": [
      "stop\n"
     ]
    }
   ],
   "source": [
    "print(response.choices[0].finish_reason)"
   ]
  },
  {
   "cell_type": "code",
   "execution_count": 17,
   "metadata": {},
   "outputs": [
    {
     "name": "stdout",
     "output_type": "stream",
     "text": [
      "ChatCompletionMessage(content='{\\n  \"headline\": \"Danish Multinational Company Faces Crisis with Awful Quarterly Results\",\\n  \"author\": \"By John Smith\",\\n  \"date\": \"October 15, 2023\",\\n  \"location\": \"Copenhagen, Denmark\",\\n  \"company\": \"Danish Multinational Company\",\\n  \"issue\": \"awful quarterly results\"\\n}\\n\\n \\n \\t\\t\\n', role='assistant', function_call=None, tool_calls=None)\n"
     ]
    }
   ],
   "source": [
    "print(response.choices[0].message)"
   ]
  },
  {
   "cell_type": "code",
   "execution_count": 18,
   "metadata": {},
   "outputs": [
    {
     "name": "stdout",
     "output_type": "stream",
     "text": [
      "gpt-3.5-turbo-1106\n"
     ]
    }
   ],
   "source": [
    "print(response.model)"
   ]
  },
  {
   "cell_type": "code",
   "execution_count": 19,
   "metadata": {},
   "outputs": [
    {
     "name": "stdout",
     "output_type": "stream",
     "text": [
      "fp_cbe4fa03fe\n"
     ]
    }
   ],
   "source": [
    "print(response.system_fingerprint)"
   ]
  },
  {
   "cell_type": "code",
   "execution_count": 20,
   "metadata": {},
   "outputs": [
    {
     "name": "stdout",
     "output_type": "stream",
     "text": [
      "213\n"
     ]
    }
   ],
   "source": [
    "print(response.usage.total_tokens)"
   ]
  },
  {
   "cell_type": "code",
   "execution_count": 21,
   "metadata": {},
   "outputs": [
    {
     "name": "stdout",
     "output_type": "stream",
     "text": [
      "{\n",
      "  \"headline\": \"Danish Multinational Company Faces Crisis with Awful Quarterly Results\",\n",
      "  \"author\": \"By John Smith\",\n",
      "  \"date\": \"October 15, 2023\",\n",
      "  \"location\": \"Copenhagen, Denmark\",\n",
      "  \"company\": \"Danish Multinational Company\",\n",
      "  \"issue\": \"awful quarterly results\"\n",
      "}\n",
      "\n",
      " \n",
      " \t\t\n",
      "\n"
     ]
    }
   ],
   "source": [
    "print(response.choices[0].message.content)"
   ]
  },
  {
   "cell_type": "code",
   "execution_count": 22,
   "metadata": {},
   "outputs": [
    {
     "name": "stdout",
     "output_type": "stream",
     "text": [
      "<class 'str'>\n"
     ]
    }
   ],
   "source": [
    "print(type(response.choices[0].message.content))"
   ]
  },
  {
   "cell_type": "code",
   "execution_count": 23,
   "metadata": {},
   "outputs": [],
   "source": [
    "# Finally create the actual JSON file from the str\n",
    "\n",
    "import json\n",
    "\n",
    "data_string = response.choices[0].message.content\n",
    "\n",
    "# Convert string to JSON (Python dictionary)\n",
    "data_json = json.loads(data_string)\n",
    "\n",
    "# Write JSON to a file\n",
    "with open('data.json', 'w', encoding='utf-8') as file:\n",
    "    json.dump(data_json, file, ensure_ascii=False, indent=4)"
   ]
  },
  {
   "cell_type": "code",
   "execution_count": null,
   "metadata": {},
   "outputs": [],
   "source": []
  }
 ],
 "metadata": {
  "kernelspec": {
   "display_name": "Python 3",
   "language": "python",
   "name": "python3"
  },
  "language_info": {
   "codemirror_mode": {
    "name": "ipython",
    "version": 3
   },
   "file_extension": ".py",
   "mimetype": "text/x-python",
   "name": "python",
   "nbconvert_exporter": "python",
   "pygments_lexer": "ipython3",
   "version": "3.8.3"
  }
 },
 "nbformat": 4,
 "nbformat_minor": 4
}
