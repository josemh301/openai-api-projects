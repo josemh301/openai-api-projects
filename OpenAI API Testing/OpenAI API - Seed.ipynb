{
 "cells": [
  {
   "cell_type": "markdown",
   "metadata": {},
   "source": [
    "# Testing OpenAI API"
   ]
  },
  {
   "cell_type": "code",
   "execution_count": 1,
   "metadata": {},
   "outputs": [],
   "source": [
    "system_message = \"\"\"You are NewYorkTimesGPT\n",
    "Yuor goal is to WRITE FULL MEANINGFUL NEWSPAPER ARTICLES.\n",
    "You can make up the following things up:\n",
    "- Author\n",
    "- Dates\n",
    "- Character\n",
    "- Facts\n",
    "You will always set the story in real places (towns, cities or countries)\n",
    "HEADLINES MUST BE SUITABLE FOR CLICKBAIT\n",
    "STRUCTURE: Three paragraphs (introduction to the problem, what happened, and current status of the issue)\n",
    "Your answers while be designed to output JSON\"\"\""
   ]
  },
  {
   "cell_type": "code",
   "execution_count": 2,
   "metadata": {},
   "outputs": [],
   "source": [
    "user_message = \"I need an article about a Danish multinational company that has been reporting awful quarterly results\""
   ]
  },
  {
   "cell_type": "code",
   "execution_count": 3,
   "metadata": {},
   "outputs": [],
   "source": [
    "#combine system_message and user_message\n",
    "\n",
    "message_list = [\n",
    "    {\"role\" : \"system\", \"content\" : system_message},\n",
    "    {\"role\" : \"user\", \"content\" : user_message}\n",
    "]"
   ]
  },
  {
   "cell_type": "markdown",
   "metadata": {},
   "source": [
    "### Implementing JSON mode\n",
    "\n",
    "See [JSON Mode](https://platform.openai.com/docs/guides/text-generation/json-mode) at OpenAI. Notes:\n",
    "\n",
    "- Only available with `gpt-3.5-turbo-1106` or `gpt-4-1106-preview`.\n",
    "- You must include a JSON reference in the `system_message` like `\"Your answers while be designed to output JSON\"`."
   ]
  },
  {
   "cell_type": "markdown",
   "metadata": {},
   "source": [
    "### Implementing Seed\n",
    "\n",
    "See [Seed](https://cookbook.openai.com/examples/reproducible_outputs_with_the_seed_parameter) at OpenAI Cookbook. Notes:\n",
    "\n",
    "- Needs openai version 1.3.3 or higher. Check with `!pip show openai`.\n",
    "- Only available with `gpt-3.5-turbo-1106` or `gpt-4-1106-preview`.\n",
    "- You will use the same integer to get very similar answers every time you call the API.\n",
    "- As a consequence, `system_fingerprint` will show up in the response. It is an identifier for the current combination of model weights, infrastructure, and other configuration options used by OpenAI servers to generate the completion. It changes whenever you change request parameters, or OpenAI updates numerical configuration of the infrastructure serving OpenAI's models (which may happen a few times a year)."
   ]
  },
  {
   "cell_type": "code",
   "execution_count": 4,
   "metadata": {},
   "outputs": [],
   "source": [
    "from openai import OpenAI\n",
    "import os"
   ]
  },
  {
   "cell_type": "code",
   "execution_count": 5,
   "metadata": {},
   "outputs": [],
   "source": [
    "OPENAI_API_KEY = os.getenv(\"OPENAI_API_KEY\")\n",
    "client = OpenAI(api_key=OPENAI_API_KEY)\n",
    "\n",
    "response = client.chat.completions.create(\n",
    "    model=\"gpt-3.5-turbo-1106\",\n",
    "    response_format={ \"type\": \"json_object\" },\n",
    "    seed = 123456,\n",
    "    max_tokens=800,\n",
    "    temperature = 0.25,\n",
    "    messages = message_list\n",
    ")"
   ]
  },
  {
   "cell_type": "code",
   "execution_count": 6,
   "metadata": {},
   "outputs": [
    {
     "data": {
      "text/plain": [
       "ChatCompletion(id='chatcmpl-8fQLDHjczAdCS1TIR5aql8kxkGGCN', choices=[Choice(finish_reason='stop', index=0, message=ChatCompletionMessage(content='{\\n  \"headline\": \"Danish Multinational Company Faces Crisis with Awful Quarterly Results\",\\n  \"author\": \"By NewYorkTimesGPT\",\\n  \"date\": \"October 15, 2023\",\\n  \"location\": \"Denmark\",\\n  \"company\": \"Danish Multinational Company\",\\n  \"problem\": \"The Danish multinational company has been facing a crisis with its latest quarterly results, causing concern among investors and stakeholders.\",\\n  \"events\": \"The company reported a significant decline in profits, citing challenges in global markets, supply chain disruptions, and increased competition. This has led to a sharp drop in the company\\'s stock price and raised questions about its future prospects.\",\\n  \"current_status\": \"The company\\'s management has announced plans to implement cost-cutting measures, restructure its operations, and explore new growth opportunities to address the challenges. Investors and analysts are closely monitoring the company\\'s next steps to see if it can turn the situation around and regain investor confidence.\"\\n}', role='assistant', function_call=None, tool_calls=None), logprobs=None)], created=1704883395, model='gpt-3.5-turbo-1106', object='chat.completion', system_fingerprint='fp_cbe4fa03fe', usage=CompletionUsage(completion_tokens=202, prompt_tokens=133, total_tokens=335))"
      ]
     },
     "execution_count": 6,
     "metadata": {},
     "output_type": "execute_result"
    }
   ],
   "source": [
    "response"
   ]
  },
  {
   "cell_type": "code",
   "execution_count": 7,
   "metadata": {},
   "outputs": [
    {
     "name": "stdout",
     "output_type": "stream",
     "text": [
      "<class 'openai.types.chat.chat_completion.ChatCompletion'>\n"
     ]
    }
   ],
   "source": [
    "print(type(response))"
   ]
  },
  {
   "cell_type": "code",
   "execution_count": 8,
   "metadata": {},
   "outputs": [
    {
     "name": "stdout",
     "output_type": "stream",
     "text": [
      "chatcmpl-8fQLDHjczAdCS1TIR5aql8kxkGGCN\n"
     ]
    }
   ],
   "source": [
    "print(response.id)"
   ]
  },
  {
   "cell_type": "code",
   "execution_count": 9,
   "metadata": {},
   "outputs": [
    {
     "name": "stdout",
     "output_type": "stream",
     "text": [
      "[Choice(finish_reason='stop', index=0, message=ChatCompletionMessage(content='{\\n  \"headline\": \"Danish Multinational Company Faces Crisis with Awful Quarterly Results\",\\n  \"author\": \"By NewYorkTimesGPT\",\\n  \"date\": \"October 15, 2023\",\\n  \"location\": \"Denmark\",\\n  \"company\": \"Danish Multinational Company\",\\n  \"problem\": \"The Danish multinational company has been facing a crisis with its latest quarterly results, causing concern among investors and stakeholders.\",\\n  \"events\": \"The company reported a significant decline in profits, citing challenges in global markets, supply chain disruptions, and increased competition. This has led to a sharp drop in the company\\'s stock price and raised questions about its future prospects.\",\\n  \"current_status\": \"The company\\'s management has announced plans to implement cost-cutting measures, restructure its operations, and explore new growth opportunities to address the challenges. Investors and analysts are closely monitoring the company\\'s next steps to see if it can turn the situation around and regain investor confidence.\"\\n}', role='assistant', function_call=None, tool_calls=None), logprobs=None)]\n"
     ]
    }
   ],
   "source": [
    "print(response.choices)"
   ]
  },
  {
   "cell_type": "code",
   "execution_count": 10,
   "metadata": {},
   "outputs": [
    {
     "name": "stdout",
     "output_type": "stream",
     "text": [
      "<class 'list'>\n"
     ]
    }
   ],
   "source": [
    "print(type(response.choices))"
   ]
  },
  {
   "cell_type": "code",
   "execution_count": 11,
   "metadata": {},
   "outputs": [
    {
     "name": "stdout",
     "output_type": "stream",
     "text": [
      "1\n"
     ]
    }
   ],
   "source": [
    "print(len(response.choices))"
   ]
  },
  {
   "cell_type": "code",
   "execution_count": 12,
   "metadata": {},
   "outputs": [
    {
     "name": "stdout",
     "output_type": "stream",
     "text": [
      "Choice(finish_reason='stop', index=0, message=ChatCompletionMessage(content='{\\n  \"headline\": \"Danish Multinational Company Faces Crisis with Awful Quarterly Results\",\\n  \"author\": \"By NewYorkTimesGPT\",\\n  \"date\": \"October 15, 2023\",\\n  \"location\": \"Denmark\",\\n  \"company\": \"Danish Multinational Company\",\\n  \"problem\": \"The Danish multinational company has been facing a crisis with its latest quarterly results, causing concern among investors and stakeholders.\",\\n  \"events\": \"The company reported a significant decline in profits, citing challenges in global markets, supply chain disruptions, and increased competition. This has led to a sharp drop in the company\\'s stock price and raised questions about its future prospects.\",\\n  \"current_status\": \"The company\\'s management has announced plans to implement cost-cutting measures, restructure its operations, and explore new growth opportunities to address the challenges. Investors and analysts are closely monitoring the company\\'s next steps to see if it can turn the situation around and regain investor confidence.\"\\n}', role='assistant', function_call=None, tool_calls=None), logprobs=None)\n"
     ]
    }
   ],
   "source": [
    "print(response.choices[0])"
   ]
  },
  {
   "cell_type": "code",
   "execution_count": 13,
   "metadata": {},
   "outputs": [
    {
     "name": "stdout",
     "output_type": "stream",
     "text": [
      "stop\n"
     ]
    }
   ],
   "source": [
    "print(response.choices[0].finish_reason)"
   ]
  },
  {
   "cell_type": "code",
   "execution_count": 14,
   "metadata": {},
   "outputs": [
    {
     "name": "stdout",
     "output_type": "stream",
     "text": [
      "ChatCompletionMessage(content='{\\n  \"headline\": \"Danish Multinational Company Faces Crisis with Awful Quarterly Results\",\\n  \"author\": \"By NewYorkTimesGPT\",\\n  \"date\": \"October 15, 2023\",\\n  \"location\": \"Denmark\",\\n  \"company\": \"Danish Multinational Company\",\\n  \"problem\": \"The Danish multinational company has been facing a crisis with its latest quarterly results, causing concern among investors and stakeholders.\",\\n  \"events\": \"The company reported a significant decline in profits, citing challenges in global markets, supply chain disruptions, and increased competition. This has led to a sharp drop in the company\\'s stock price and raised questions about its future prospects.\",\\n  \"current_status\": \"The company\\'s management has announced plans to implement cost-cutting measures, restructure its operations, and explore new growth opportunities to address the challenges. Investors and analysts are closely monitoring the company\\'s next steps to see if it can turn the situation around and regain investor confidence.\"\\n}', role='assistant', function_call=None, tool_calls=None)\n"
     ]
    }
   ],
   "source": [
    "print(response.choices[0].message)"
   ]
  },
  {
   "cell_type": "code",
   "execution_count": 16,
   "metadata": {},
   "outputs": [
    {
     "name": "stdout",
     "output_type": "stream",
     "text": [
      "gpt-3.5-turbo-1106\n"
     ]
    }
   ],
   "source": [
    "print(response.model)"
   ]
  },
  {
   "cell_type": "code",
   "execution_count": 18,
   "metadata": {},
   "outputs": [
    {
     "name": "stdout",
     "output_type": "stream",
     "text": [
      "fp_cbe4fa03fe\n"
     ]
    }
   ],
   "source": [
    "print(response.system_fingerprint)"
   ]
  },
  {
   "cell_type": "code",
   "execution_count": 17,
   "metadata": {},
   "outputs": [
    {
     "name": "stdout",
     "output_type": "stream",
     "text": [
      "335\n"
     ]
    }
   ],
   "source": [
    "print(response.usage.total_tokens)"
   ]
  },
  {
   "cell_type": "code",
   "execution_count": 15,
   "metadata": {},
   "outputs": [
    {
     "name": "stdout",
     "output_type": "stream",
     "text": [
      "{\n",
      "  \"headline\": \"Danish Multinational Company Faces Crisis with Awful Quarterly Results\",\n",
      "  \"author\": \"By NewYorkTimesGPT\",\n",
      "  \"date\": \"October 15, 2023\",\n",
      "  \"location\": \"Denmark\",\n",
      "  \"company\": \"Danish Multinational Company\",\n",
      "  \"problem\": \"The Danish multinational company has been facing a crisis with its latest quarterly results, causing concern among investors and stakeholders.\",\n",
      "  \"events\": \"The company reported a significant decline in profits, citing challenges in global markets, supply chain disruptions, and increased competition. This has led to a sharp drop in the company's stock price and raised questions about its future prospects.\",\n",
      "  \"current_status\": \"The company's management has announced plans to implement cost-cutting measures, restructure its operations, and explore new growth opportunities to address the challenges. Investors and analysts are closely monitoring the company's next steps to see if it can turn the situation around and regain investor confidence.\"\n",
      "}\n"
     ]
    }
   ],
   "source": [
    "print(response.choices[0].message.content)"
   ]
  },
  {
   "cell_type": "code",
   "execution_count": 19,
   "metadata": {},
   "outputs": [
    {
     "name": "stdout",
     "output_type": "stream",
     "text": [
      "<class 'str'>\n"
     ]
    }
   ],
   "source": [
    "print(type(response.choices[0].message.content))"
   ]
  },
  {
   "cell_type": "code",
   "execution_count": 20,
   "metadata": {},
   "outputs": [],
   "source": [
    "# Finally create the actual JSON file from the str\n",
    "\n",
    "import json\n",
    "\n",
    "data_string = response.choices[0].message.content\n",
    "\n",
    "# Convert string to JSON (Python dictionary)\n",
    "data_json = json.loads(data_string)\n",
    "\n",
    "# Write JSON to a file\n",
    "with open('data.json', 'w', encoding='utf-8') as file:\n",
    "    json.dump(data_json, file, ensure_ascii=False, indent=4)"
   ]
  },
  {
   "cell_type": "code",
   "execution_count": null,
   "metadata": {},
   "outputs": [],
   "source": []
  }
 ],
 "metadata": {
  "kernelspec": {
   "display_name": "Python 3",
   "language": "python",
   "name": "python3"
  },
  "language_info": {
   "codemirror_mode": {
    "name": "ipython",
    "version": 3
   },
   "file_extension": ".py",
   "mimetype": "text/x-python",
   "name": "python",
   "nbconvert_exporter": "python",
   "pygments_lexer": "ipython3",
   "version": "3.8.3"
  }
 },
 "nbformat": 4,
 "nbformat_minor": 4
}
