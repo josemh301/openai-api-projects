{
 "cells": [
  {
   "cell_type": "markdown",
   "metadata": {},
   "source": [
    "# MetaPrompter\n",
    "\n",
    "A tool that creates self prompts for dataframe interactions"
   ]
  },
  {
   "cell_type": "code",
   "execution_count": 1,
   "metadata": {},
   "outputs": [],
   "source": [
    "system_prompt = \"\"\"You are PrompterGPT\n",
    "Yoy design prompt just inferring what is a database about\n",
    "You will make the decision based on the first line of CSV or similar files\n",
    "The output must be like the following one. It is just an example, the topic will be different:\n",
    "---\n",
    "You have a dataset about electric cars registered in Washington state, USA in 2020. It is available as a pandas DataFrame named `electric_cars`.\n",
    "\n",
    "Each row in the dataset represents the count of the number of cars registered within a city, for a particular model.\n",
    "\n",
    "The dataset contains the following columns.\n",
    "\n",
    "- `city` (character): The city in which the registered owner resides.\n",
    "- `county` (character): The county in which the registered owner resides.\n",
    "- `model_year` (integer): The [model year](https://en.wikipedia.org/wiki/Model_year#United_States_and_Canada) of the car.\n",
    "- `make` (character): The manufacturer of the car.\n",
    "- `model` (character): The model of the car.\n",
    "- `electric_vehicle_type` (character): Either \"Plug-in Hybrid Electric Vehicle (PHEV)\" or \"Battery Electric Vehicle (BEV)\".\n",
    "- `n_cars` (integer): The count of the number of vehicles registered.\n",
    "---\n",
    "\n",
    "You goal is to provide a description of the dataset, and a description for the kind of content you might encounter in each column \n",
    "\"\"\""
   ]
  },
  {
   "cell_type": "code",
   "execution_count": 2,
   "metadata": {},
   "outputs": [],
   "source": [
    "import pandas as pd\n",
    "from openai import OpenAI\n",
    "import os"
   ]
  },
  {
   "cell_type": "code",
   "execution_count": 3,
   "metadata": {},
   "outputs": [],
   "source": [
    "def column_names(csv_name):\n",
    "    \n",
    "    #creates a dataframe from the csv_file\n",
    "    db = pd.read_csv(csv_name)\n",
    "    #takes the columns names from the csv file as a single string\n",
    "    column_names = db.columns.tolist()\n",
    "    column_names_string = ','.join(column_names)\n",
    "    \n",
    "    return column_names_string"
   ]
  },
  {
   "cell_type": "code",
   "execution_count": 4,
   "metadata": {},
   "outputs": [],
   "source": [
    "def messages(system_prompt, user_prompt):\n",
    "    messages = [\n",
    "        {\"role\":\"system\" , \"content\":system_prompt},\n",
    "        {\"role\":\"user\"   , \"content\":user_prompt}\n",
    "    ]\n",
    "    return messages"
   ]
  },
  {
   "cell_type": "code",
   "execution_count": 5,
   "metadata": {},
   "outputs": [],
   "source": [
    "def metaprompt(column_names, system_prompt=system_prompt):    \n",
    "    OPENAI_API_KEY = os.getenv(\"OPENAI_API_KEY\")\n",
    "    client = OpenAI(api_key=OPENAI_API_KEY)\n",
    "    \n",
    "    metaprompt = client.chat.completions.create(\n",
    "        model=\"gpt-3.5-turbo-1106\",\n",
    "        messages=messages(system_prompt, column_names),\n",
    "        temperature=0.1)\n",
    "    \n",
    "    return metaprompt.choices[0].message.content"
   ]
  },
  {
   "cell_type": "code",
   "execution_count": 6,
   "metadata": {},
   "outputs": [],
   "source": [
    "dublin_system_prompt = metaprompt(column_names(\"FrenchStockMarket.csv\"))"
   ]
  },
  {
   "cell_type": "code",
   "execution_count": 9,
   "metadata": {},
   "outputs": [],
   "source": [
    "dublin_user_prompt = \"Suggest some data analysis questions that could be answered with this dataset.\"\n",
    "\n",
    "messages = [\n",
    "    {\"role\":\"system\" , \"content\":dublin_system_prompt},\n",
    "    {\"role\":\"user\"   , \"content\":dublin_user_prompt}\n",
    "]\n",
    "\n",
    "OPENAI_API_KEY = os.getenv(\"OPENAI_API_KEY\")\n",
    "client = OpenAI(api_key=OPENAI_API_KEY)\n",
    "\n",
    "dublin_response = client.chat.completions.create(\n",
    "    model=\"gpt-3.5-turbo-1106\",\n",
    "    messages=messages,\n",
    "    temperature=0.4\n",
    ")"
   ]
  },
  {
   "cell_type": "code",
   "execution_count": 10,
   "metadata": {},
   "outputs": [
    {
     "name": "stdout",
     "output_type": "stream",
     "text": [
      "Certainly! Here are some data analysis questions that could be answered using this dataset:\n",
      "\n",
      "1. What is the average market capitalization for each sector?\n",
      "2. Which company has the highest 52-week high price?\n",
      "3. How many companies have a 52-week low price below a certain threshold?\n",
      "4. What is the distribution of market capitalization across different sectors?\n",
      "5. Which sector has the highest average last closing price?\n",
      "6. Is there a correlation between the 52-week high price and market capitalization?\n",
      "7. How many companies have a last closing price higher than their 52-week high price?\n",
      "8. What is the range of market capitalization for companies in each sector?\n",
      "9. How many companies have a last closing price lower than their 52-week low price?\n",
      "10. What is the percentage change in stock price for each company over the past 52 weeks?\n",
      "\n",
      "These questions can provide valuable insights into the stock performance, market capitalization, and sector-wise trends within the dataset.\n"
     ]
    }
   ],
   "source": [
    "print(dublin_response.choices[0].message.content)"
   ]
  },
  {
   "cell_type": "code",
   "execution_count": null,
   "metadata": {},
   "outputs": [],
   "source": []
  }
 ],
 "metadata": {
  "kernelspec": {
   "display_name": "Python 3",
   "language": "python",
   "name": "python3"
  },
  "language_info": {
   "codemirror_mode": {
    "name": "ipython",
    "version": 3
   },
   "file_extension": ".py",
   "mimetype": "text/x-python",
   "name": "python",
   "nbconvert_exporter": "python",
   "pygments_lexer": "ipython3",
   "version": "3.8.3"
  }
 },
 "nbformat": 4,
 "nbformat_minor": 4
}
