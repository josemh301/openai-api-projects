{
 "cells": [
  {
   "cell_type": "markdown",
   "metadata": {},
   "source": [
    "# Semantic Search with Pinecone"
   ]
  },
  {
   "cell_type": "markdown",
   "metadata": {},
   "source": [
    "In this project you'll explore the world of vector databases and their use as the underlying data storage infrastructure for AI.\n",
    "\n",
    "The project will introduce you to one of the most popular vector databases in industry, Pinecone. You'll  \n",
    "\n",
    "- Learn when and how semantic search can be used in products.\n",
    "- Learn why semantic search often performs better than traditional keyword search.\n",
    "- Learn how semantic search works, by exploring text about bees.\n",
    "- Use semantic search on the Stanford Question Answering Dataset to answer questions about Beyoncé, Chopin, and other culture.\n",
    "\n"
   ]
  },
  {
   "cell_type": "markdown",
   "metadata": {},
   "source": [
    "### Terminology\n",
    "\n",
    "A _vector database_ is a type of database that only stores numeric vectors (unlike SQL databases that can store many different data types). By focusing on just one data format, vector databases can work quickly on 100s of billions of records.\n",
    "\n",
    "_Embedding_ is the process of converting data types like text to a _vector format_ suitable for storage in a vector database.\n",
    "\n",
    "_Vector search_ is when you find records in a vector database that are the best match to a query.\n",
    "\n",
    "_Semantic_ means the meaning of words.\n",
    "\n",
    "_Semantic search_ is when you do vector search on the meaning of text."
   ]
  },
  {
   "cell_type": "markdown",
   "metadata": {},
   "source": [
    "### Uses of vector search\n",
    "\n",
    "Vector search is an incredibly important technology that we all use _every single day_.\n",
    "\n",
    "Vector search is how Amazon knows what you want to buy before even you do, it's how Netflix recommends TV shows and films, and it's how Google serves the most relevant results from the web at search time. \n",
    "\n",
    "When searching using natural language (as in the Google example), semantic search can often perform much better than keyword matching  (which is how traditional search works).\n",
    "\n",
    "![no-expansion](no-expansion.png)\n",
    "\n",
    "*Note, orangutans are apes, not monkeys — but not every query will be perfect from users.*"
   ]
  },
  {
   "cell_type": "markdown",
   "metadata": {},
   "source": [
    "In this example, a traditional search that relies on keyword / term overlap will not perform well—despite the fact that this document is very relevant to the query. Here we need to search based on _meaning_, not keywords. It is in these natural language queries—ie queries structured in the way we, as human beings, think—that we are able to retrieve the relevant document to our query.\n",
    "\n",
    "Use-cases for this type of search are broad, but a few of the most common we find for semantic search include:\n",
    "\n",
    "* **Document search**: a favorite use-case for organizations, particularly those with poor internal document discovery. Enabling their staff to find the information they need quicker is a huge optimization for many organizations.\n",
    "* **Chatbot knowledge training**: another very popular use-case with the rise of AI chatbots is the ability to augment chatbots or **L**arge **L**anguage **M**odels (LLMs) with external data. We use semantic search to retrieval this data—this process is commonly referred to as **R**etrieval **A**ugmented **G**eneration (RAG).\n",
    "* **Language classification**: by placing many classified sequences into a vector DB we are able to more quickly classify new sentences by simply comparing their semantic similarity to existing entries in the vector DB.\n",
    "* **Agent/chatbot safety**: an increasingly popular use-case for semantic search is to use it in chatbot safety—it functions similarily to language classification but instead focuses on identifying malicious or unwanted inputs / outputs between users and chatbots.\n",
    "\n",
    "These are a few example use-cases of semantic search, there are many more out there in the world which you will undoubtable encounter and be ready to recognize after completing this chapter and gaining the skills and knowledge to build your own semantic search apps."
   ]
  },
  {
   "cell_type": "markdown",
   "metadata": {},
   "source": [
    "## Before you begin"
   ]
  },
  {
   "cell_type": "markdown",
   "metadata": {},
   "source": [
    "You'll need to get an [OpenAI API key](https://platform.openai.com/account/api-keys) and [Pinecone API key](https://app.pinecone.io). You can refer to *getting-started.ipynb* for steps on how to store these API keys in Workspace."
   ]
  },
  {
   "cell_type": "markdown",
   "metadata": {},
   "source": [
    "## Task 0: Setup"
   ]
  },
  {
   "cell_type": "markdown",
   "metadata": {},
   "source": [
    "Before we start building our chatbot, we need to install some Python libraries. Here's a brief overview of what each library does:\n",
    "\n",
    "* **openai**: This is the official OpenAI Python client. We'll use it to interact with the OpenAI API and generate embeddings for Pinecone.\n",
    "* **datasets**: This library provides a vast array of datasets for machine learning. We'll use it to load our knowledge base for the chatbot.\n",
    "* **pinecone-client**: This is the official Pinecone Python client. We'll use it to interact with the Pinecone vector DB where we will store our semantic search database.\n",
    "You can install these libraries using pip like so:"
   ]
  },
  {
   "cell_type": "code",
   "execution_count": 1,
   "metadata": {
    "executionCancelledAt": null,
    "executionTime": 8434,
    "lastExecutedAt": 1697720110966,
    "lastScheduledRunId": null,
    "lastSuccessfullyExecutedCode": "!pip install -qU \\\n    openai==0.28.1 \\\n    datasets==2.14.5 \\\n    pinecone-client==2.2.4",
    "outputsMetadata": {
     "0": {
      "height": 277,
      "type": "stream"
     }
    }
   },
   "outputs": [
    {
     "name": "stdout",
     "output_type": "stream",
     "text": [
      "\u001b[33m  WARNING: The script tqdm is installed in '/home/repl/.local/bin' which is not on PATH.\n",
      "  Consider adding this directory to PATH or, if you prefer to suppress this warning, use --no-warn-script-location.\u001b[0m\u001b[33m\n",
      "\u001b[0m\u001b[33m  WARNING: The script pinecone is installed in '/home/repl/.local/bin' which is not on PATH.\n",
      "  Consider adding this directory to PATH or, if you prefer to suppress this warning, use --no-warn-script-location.\u001b[0m\u001b[33m\n",
      "\u001b[0m\u001b[33m  WARNING: The script huggingface-cli is installed in '/home/repl/.local/bin' which is not on PATH.\n",
      "  Consider adding this directory to PATH or, if you prefer to suppress this warning, use --no-warn-script-location.\u001b[0m\u001b[33m\n",
      "\u001b[0m\u001b[33m  WARNING: The script openai is installed in '/home/repl/.local/bin' which is not on PATH.\n",
      "  Consider adding this directory to PATH or, if you prefer to suppress this warning, use --no-warn-script-location.\u001b[0m\u001b[33m\n",
      "\u001b[0m\u001b[33m  WARNING: The script datasets-cli is installed in '/home/repl/.local/bin' which is not on PATH.\n",
      "  Consider adding this directory to PATH or, if you prefer to suppress this warning, use --no-warn-script-location.\u001b[0m\u001b[33m\n",
      "\u001b[0m\u001b[31mERROR: pip's dependency resolver does not currently take into account all the packages that are installed. This behaviour is the source of the following dependency conflicts.\n",
      "awswrangler 2.16.1 requires pyarrow<7.1.0,>=2.0.0, but you have pyarrow 13.0.0 which is incompatible.\u001b[0m\u001b[31m\n",
      "\u001b[0m"
     ]
    }
   ],
   "source": [
    "!pip install -qU \\\n",
    "    openai==0.28.1 \\\n",
    "    datasets==2.14.5 \\\n",
    "    pinecone-client==2.2.4"
   ]
  },
  {
   "cell_type": "markdown",
   "metadata": {},
   "source": [
    "## Task 1: Semantic Similarity"
   ]
  },
  {
   "cell_type": "markdown",
   "metadata": {},
   "source": [
    "We will start by understand what is actually happening under the hood of Pinecone. As mentioned, we're doing something called \"semantic similarity\". Semantic similarity is simply comparing the semantic meaning of two chunks of text.\n",
    "\n",
    "For example, let's define a list of sentences and compare them based on their \"meaning\" as we (as humans) understand them."
   ]
  },
  {
   "cell_type": "markdown",
   "metadata": {},
   "source": [
    "### Instructions\n",
    "\n",
    "Run this code to define a list containing text data. "
   ]
  },
  {
   "cell_type": "code",
   "execution_count": 2,
   "metadata": {
    "executionCancelledAt": null,
    "executionTime": 46,
    "lastExecutedAt": 1697720111013,
    "lastScheduledRunId": null,
    "lastSuccessfullyExecutedCode": "sentences = [\n    \"the hive of bees protect their queen\",                         # 0\n    \"a beehive is an enclosed structure in which honey bees live\",  # 1\n    \"a condominium is an enclosed structure in which people live\",  # 2\n    \"the flying stinging insects guard the matriarch\"               # 3\n]"
   },
   "outputs": [],
   "source": [
    "sentences = [\n",
    "    \"the hive of bees protect their queen\",                         # 0\n",
    "    \"a beehive is an enclosed structure in which honey bees live\",  # 1\n",
    "    \"a condominium is an enclosed structure in which people live\",  # 2\n",
    "    \"the flying stinging insects guard the matriarch\"               # 3\n",
    "]"
   ]
  },
  {
   "cell_type": "markdown",
   "metadata": {},
   "source": [
    "### How similar are these sentences to humans?\n",
    "\n",
    "It's clear to people that sentences 0 and 3 mean the same thing. Depending on the context we could view 1 and 2 as being similar in talking about where X lives, and 0, 1, and 3 are likewise similar in that they're talking about bees.\n",
    "\n",
    "### How similar are these sentences using keyword matching?\n",
    "\n",
    "If we were to compare these using the more traditional approach of keyword matching we would very quickly run into problems. The sentences 1 and 2 might score well, but the other sentences have little-to-no overlap in keywords—so they would not be identified as similar.\n",
    "\n",
    "### Let's see how semantic search performs!\n",
    "\n",
    "It is for these scenarios that we rely on semantic search. It works by teaching a language model to transform text into meaningful _vector embeddings_. We call them _meaningful_ because the language model actually learns to transform semantically similar sentences into a similar vector space (ie, in vector space, the embeddings are nearby).\n",
    "\n",
    "We can try creating these embeddings using OpenAI's Ada 002 model like so:"
   ]
  },
  {
   "cell_type": "markdown",
   "metadata": {},
   "source": [
    "### Instructions\n",
    "\n",
    "Embed the sentences using the Ada AI.\n",
    "\n",
    "- Import the OpenAI package.\n",
    "- Set the model to Ada version 002. Assign to `model`.\n",
    "- Send `sentences` to OpenAI API to create embeddings. Assign to `res`.\n",
    "- Pull out the embeddings from the API response into list. Assign to `embeds`."
   ]
  },
  {
   "cell_type": "code",
   "execution_count": 3,
   "metadata": {
    "executionCancelledAt": null,
    "executionTime": 595,
    "lastExecutedAt": 1697720189316,
    "lastScheduledRunId": null,
    "lastSuccessfullyExecutedCode": "import openai\n\nmodel = \"text-embedding-ada-002\"\n\nres = openai.Embedding.create(input=sentences, engine=model)"
   },
   "outputs": [],
   "source": [
    "import openai\n",
    "\n",
    "model = \"text-embedding-ada-002\"\n",
    "\n",
    "res = openai.Embedding.create(input=sentences, engine=model)"
   ]
  },
  {
   "cell_type": "code",
   "execution_count": 5,
   "metadata": {
    "executionCancelledAt": null,
    "executionTime": 12,
    "lastExecutedAt": 1697720272650,
    "lastScheduledRunId": null,
    "lastSuccessfullyExecutedCode": "embeds = [r[\"embedding\"] for r in res[\"data\"]]\nlen(embeds)"
   },
   "outputs": [
    {
     "data": {
      "text/plain": [
       "4"
      ]
     },
     "execution_count": 5,
     "metadata": {},
     "output_type": "execute_result"
    }
   ],
   "source": [
    "embeds = [r[\"embedding\"] for r in res[\"data\"]]\n",
    "len(embeds)"
   ]
  },
  {
   "cell_type": "code",
   "execution_count": 6,
   "metadata": {
    "executionCancelledAt": null,
    "executionTime": 13,
    "lastExecutedAt": 1697720306214,
    "lastScheduledRunId": null,
    "lastSuccessfullyExecutedCode": "len(embeds[0])"
   },
   "outputs": [
    {
     "data": {
      "text/plain": [
       "1536"
      ]
     },
     "execution_count": 6,
     "metadata": {},
     "output_type": "execute_result"
    }
   ],
   "source": [
    "len(embeds[0])"
   ]
  },
  {
   "cell_type": "markdown",
   "metadata": {},
   "source": [
    "We have `4` embeddings (one for each of our four sentences). Ada 002 also outputs an embedding dimensionality of `1536`. \n",
    "\n",
    "That is, embedding has converted each sentence (regardless of its length) to a vector of 1536 floating point numbers."
   ]
  },
  {
   "cell_type": "code",
   "execution_count": 7,
   "metadata": {
    "executionCancelledAt": null,
    "executionTime": 49,
    "lastExecutedAt": 1697720359350,
    "lastScheduledRunId": null,
    "lastSuccessfullyExecutedCode": "len(embeds[0]), len(embeds[1]), len(embeds[2]), len(embeds[3])"
   },
   "outputs": [
    {
     "data": {
      "text/plain": [
       "(1536, 1536, 1536, 1536)"
      ]
     },
     "execution_count": 7,
     "metadata": {},
     "output_type": "execute_result"
    }
   ],
   "source": [
    "len(embeds[0]), len(embeds[1]), len(embeds[2]), len(embeds[3])"
   ]
  },
  {
   "cell_type": "markdown",
   "metadata": {},
   "source": [
    "### Measuring similarity\n",
    "\n",
    "Now that we have numeric vectors instead of text, we can calculate how similar the sentences are to each other. There are several common measures for calculating how similar two numeric vectors are, including _dot product_ and _cosine similarity_.\n",
    "\n",
    "Here, we'll use the _dot product_. If you imagine the numeric vectors as arrows pointing in different directions in space, then the dot product measures how closely those arrows point in the same direction.\n",
    "\n",
    "For each pair of sentences, you get a score between `-1` and `1`. A score of one mean that the sentences have identical meaning. Lower scores indicate less similarity, and in practice, for two well-formed sentences in English, the dot product similarity seldom drops much below `0.7`."
   ]
  },
  {
   "cell_type": "markdown",
   "metadata": {},
   "source": [
    "### Instructions\n",
    "\n",
    "Calculate the dot product of the embedded sentences.\n",
    "\n",
    "- From `numpy`, import `dot` and `array`.\n",
    "- Convert `embeds` to an array. Assign to `embeds_arr`.\n",
    "- Get the dot product of `embeds_arr` and its transpose. Assign to `dot_product`.\n",
    "- Print the result."
   ]
  },
  {
   "cell_type": "code",
   "execution_count": 8,
   "metadata": {
    "executionCancelledAt": null,
    "executionTime": 13,
    "lastExecutedAt": 1697720489152,
    "lastScheduledRunId": null,
    "lastSuccessfullyExecutedCode": "from numpy import dot, array\n\nembeds_arr = array(embeds)\nembeds_arr.shape"
   },
   "outputs": [
    {
     "data": {
      "text/plain": [
       "(4, 1536)"
      ]
     },
     "execution_count": 8,
     "metadata": {},
     "output_type": "execute_result"
    }
   ],
   "source": [
    "from numpy import dot, array\n",
    "\n",
    "embeds_arr = array(embeds)\n",
    "embeds_arr.shape"
   ]
  },
  {
   "cell_type": "code",
   "execution_count": 9,
   "metadata": {
    "executionCancelledAt": null,
    "executionTime": 11,
    "lastExecutedAt": 1697720525281,
    "lastScheduledRunId": null,
    "lastSuccessfullyExecutedCode": "dot_prod = dot(embeds_arr, embeds_arr.T)\ndot_prod.shape"
   },
   "outputs": [
    {
     "data": {
      "text/plain": [
       "(4, 4)"
      ]
     },
     "execution_count": 9,
     "metadata": {},
     "output_type": "execute_result"
    }
   ],
   "source": [
    "dot_prod = dot(embeds_arr, embeds_arr.T)\n",
    "dot_prod.shape"
   ]
  },
  {
   "cell_type": "code",
   "execution_count": 10,
   "metadata": {
    "executionCancelledAt": null,
    "executionTime": 11,
    "lastExecutedAt": 1697720541961,
    "lastScheduledRunId": null,
    "lastSuccessfullyExecutedCode": "dot_prod"
   },
   "outputs": [
    {
     "data": {
      "text/plain": [
       "array([[0.99999985, 0.88158122, 0.75926065, 0.89168835],\n",
       "       [0.88158122, 1.00000007, 0.84662771, 0.81013042],\n",
       "       [0.75926065, 0.84662771, 0.99999997, 0.74049849],\n",
       "       [0.89168835, 0.81013042, 0.74049849, 0.99999991]])"
      ]
     },
     "execution_count": 10,
     "metadata": {},
     "output_type": "execute_result"
    }
   ],
   "source": [
    "dot_prod"
   ]
  },
  {
   "cell_type": "markdown",
   "metadata": {},
   "source": [
    "### Visualizing similarity\n",
    "\n",
    "Array of numbers are tedious to read, but can visualize these similarity values with a heatmap. For each value in the dot product, we get a colored cell.\n",
    "\n",
    "Every sentence will be perfectly similar to itself, so the cells on the diagonal will have a score of one (and in the deafult Seabron color scheme have a pale red color).\n",
    "\n",
    "Sentences that are less alike will have a lower score and a darker colored cell."
   ]
  },
  {
   "cell_type": "markdown",
   "metadata": {},
   "source": [
    "### Instructions\n",
    "\n",
    "Draw a heatmap of the dot product array to visualize how similar each sentence is.\n",
    "\n",
    "- Import `seaborn` with the alias `sns`.\n",
    "- Draw a heatmap of `dot_product` with annotations."
   ]
  },
  {
   "cell_type": "code",
   "execution_count": 11,
   "metadata": {
    "executionCancelledAt": null,
    "executionTime": 3230,
    "lastExecutedAt": 1697720640671,
    "lastScheduledRunId": null,
    "lastSuccessfullyExecutedCode": "import seaborn as sns\n\nsns.heatmap(dot_prod, annot=True)"
   },
   "outputs": [
    {
     "data": {
      "text/plain": [
       "<AxesSubplot: >"
      ]
     },
     "execution_count": 11,
     "metadata": {},
     "output_type": "execute_result"
    },
    {
     "data": {
      "image/png": "[encoded data removed]",
      "text/plain": [
       "<Figure size 640x480 with 2 Axes>"
      ]
     },
     "metadata": {},
     "output_type": "display_data"
    }
   ],
   "source": [
    "import seaborn as sns\n",
    "\n",
    "sns.heatmap(dot_prod, annot=True)"
   ]
  },
  {
   "cell_type": "markdown",
   "metadata": {},
   "source": [
    "### How similar are the sentences?\n",
    "\n",
    "From this we can see that the most similar pairs are:\n",
    "\n",
    "| Pair | Similarity | A | B |\n",
    "| ---- | ---------- | --- | --- |\n",
    "| 0-3  | 0.89       | \"the hive of bees protect their queen\" | \"the flying stinging insects guard the matriarch\" |\n",
    "| 0-1  | 0.88       | \"the hive of bees protect their queen\" | \"a beehive is an enclosed structure in which honey bees live\" |\n",
    "| 1-2  | 0.85       | \"a beehive is an enclosed structure in which honey bees live\" | \"a condominium is an enclosed structure in which people live\" |\n",
    "| 1-3  | 0.81       | \"a beehive is an enclosed structure in which honey bees live\" | \"the flying stinging insects guard the matriarch\" |\n",
    "| 0-2  | 0.76       | \"the hive of bees protect their queen\" | \"a condominium is an enclosed structure in which people live\" |\n",
    "| 2-3  | 0.74       | \"a condominium is an enclosed structure in which people live\" | \"the flying stinging insects guard the matriarch\" |\n",
    "\n",
    "This ordering of semantic similarity seems to align well with how most people would order them in terms of similarity in meaning—and it is for that, that these embedding models are optimized."
   ]
  },
  {
   "cell_type": "markdown",
   "metadata": {},
   "source": [
    "## Task 2: Importing the Dataset\n",
    "\n",
    "We typically would not do semantic search for comparing just four sentences. Instead, it is done with thousands, millions, or even billions of records—Google is a great example of a partly semantic search done at large scales.\n",
    "\n",
    "We'll perform semantic serach on the **S**tanford **Qu**estion **A**nswering **D**ataset v2 (SQuAD v2), the second version of a popular question-answering dataset. It contains _contexts_ which are simply paragraphs that contain information that can help a language model answer the question provided in the _question_ column.\n",
    "\n",
    "In this task, you will:\n",
    "\n",
    "* Download the [`squad_v2`](https://huggingface.co/datasets/squad_v2) dataset using Hugging Face Datasets.\n",
    "* Take a look at the dataset structure, paying attention to the **context** and **question** columns.\n",
    "* Deduplicate the **context** column to return a list of paragraphs that we will later search through."
   ]
  },
  {
   "cell_type": "markdown",
   "metadata": {},
   "source": [
    "### Instructions\n",
    "\n",
    "Download and print the `squad_v2` dataset.\n",
    "\n",
    "- From `datasets`, import `load_dataset`\n",
    "- Load the `squad_v2` dataset, just getting the training split. Assign to `data`.\n",
    "- Print the dataset object."
   ]
  },
  {
   "cell_type": "code",
   "execution_count": 13,
   "metadata": {
    "executionCancelledAt": null,
    "executionTime": 11826,
    "lastExecutedAt": 1697720982790,
    "lastScheduledRunId": null,
    "lastSuccessfullyExecutedCode": "from datasets import load_dataset\n\ndata = load_dataset(\"squad_v2\", split=\"train\")\ndata",
    "outputsMetadata": {
     "10": {
      "height": 76,
      "type": "stream"
     },
     "3": {
      "height": 76,
      "type": "stream"
     }
    }
   },
   "outputs": [
    {
     "data": {
      "application/vnd.jupyter.widget-view+json": {
       "model_id": "8afab0d4cb884b0783b4da5a9f7a31eb",
       "version_major": 2,
       "version_minor": 0
      },
      "text/plain": [
       "Downloading builder script:   0%|          | 0.00/5.28k [00:00<?, ?B/s]"
      ]
     },
     "metadata": {},
     "output_type": "display_data"
    },
    {
     "data": {
      "application/vnd.jupyter.widget-view+json": {
       "model_id": "c4cc72e0643e436380fc93bfebad9b7f",
       "version_major": 2,
       "version_minor": 0
      },
      "text/plain": [
       "Downloading metadata:   0%|          | 0.00/2.40k [00:00<?, ?B/s]"
      ]
     },
     "metadata": {},
     "output_type": "display_data"
    },
    {
     "data": {
      "application/vnd.jupyter.widget-view+json": {
       "model_id": "11a6c5c39875403b8b0504c8ca99cc75",
       "version_major": 2,
       "version_minor": 0
      },
      "text/plain": [
       "Downloading readme:   0%|          | 0.00/8.02k [00:00<?, ?B/s]"
      ]
     },
     "metadata": {},
     "output_type": "display_data"
    },
    {
     "data": {
      "application/vnd.jupyter.widget-view+json": {
       "model_id": "1e6681ff6cf24836a24c55f8a3b0f55d",
       "version_major": 2,
       "version_minor": 0
      },
      "text/plain": [
       "Downloading data files:   0%|          | 0/2 [00:00<?, ?it/s]"
      ]
     },
     "metadata": {},
     "output_type": "display_data"
    },
    {
     "data": {
      "application/vnd.jupyter.widget-view+json": {
       "model_id": "82a2aafd30a445c8bf170e00019a9d76",
       "version_major": 2,
       "version_minor": 0
      },
      "text/plain": [
       "Downloading data:   0%|          | 0.00/9.55M [00:00<?, ?B/s]"
      ]
     },
     "metadata": {},
     "output_type": "display_data"
    },
    {
     "data": {
      "application/vnd.jupyter.widget-view+json": {
       "model_id": "e58a4dbeee4a4e53974f4a08ca8a85f5",
       "version_major": 2,
       "version_minor": 0
      },
      "text/plain": [
       "Downloading data:   0%|          | 0.00/801k [00:00<?, ?B/s]"
      ]
     },
     "metadata": {},
     "output_type": "display_data"
    },
    {
     "data": {
      "application/vnd.jupyter.widget-view+json": {
       "model_id": "0d33be6bacc34075a7290d2bd01858c8",
       "version_major": 2,
       "version_minor": 0
      },
      "text/plain": [
       "Extracting data files:   0%|          | 0/2 [00:00<?, ?it/s]"
      ]
     },
     "metadata": {},
     "output_type": "display_data"
    },
    {
     "data": {
      "application/vnd.jupyter.widget-view+json": {
       "model_id": "7cef6f8070a1445d86877bc0198dc15c",
       "version_major": 2,
       "version_minor": 0
      },
      "text/plain": [
       "Generating train split:   0%|          | 0/130319 [00:00<?, ? examples/s]"
      ]
     },
     "metadata": {},
     "output_type": "display_data"
    },
    {
     "data": {
      "application/vnd.jupyter.widget-view+json": {
       "model_id": "d21454551255438bad1eca87155ccc01",
       "version_major": 2,
       "version_minor": 0
      },
      "text/plain": [
       "Generating validation split:   0%|          | 0/11873 [00:00<?, ? examples/s]"
      ]
     },
     "metadata": {},
     "output_type": "display_data"
    },
    {
     "data": {
      "text/plain": [
       "Dataset({\n",
       "    features: ['id', 'title', 'context', 'question', 'answers'],\n",
       "    num_rows: 130319\n",
       "})"
      ]
     },
     "execution_count": 13,
     "metadata": {},
     "output_type": "execute_result"
    }
   ],
   "source": [
    "from datasets import load_dataset\n",
    "\n",
    "data = load_dataset(\"squad_v2\", split=\"train\")\n",
    "data"
   ]
  },
  {
   "cell_type": "markdown",
   "metadata": {},
   "source": [
    "### Instructions\n",
    "\n",
    "Print and read some records from the squad dataset.\n",
    "\n",
    "- Print several records of `data`, one at at time.\n",
    "- *Read the contents. What is the structure of each record? What are the contents about?*"
   ]
  },
  {
   "cell_type": "code",
   "execution_count": 14,
   "metadata": {
    "executionCancelledAt": null,
    "executionTime": 50,
    "lastExecutedAt": 1697721004058,
    "lastScheduledRunId": null,
    "lastSuccessfullyExecutedCode": "data[0]"
   },
   "outputs": [
    {
     "data": {
      "text/plain": [
       "{'id': '56be85543aeaaa14008c9063',\n",
       " 'title': 'Beyoncé',\n",
       " 'context': 'Beyoncé Giselle Knowles-Carter (/biːˈjɒnseɪ/ bee-YON-say) (born September 4, 1981) is an American singer, songwriter, record producer and actress. Born and raised in Houston, Texas, she performed in various singing and dancing competitions as a child, and rose to fame in the late 1990s as lead singer of R&B girl-group Destiny\\'s Child. Managed by her father, Mathew Knowles, the group became one of the world\\'s best-selling girl groups of all time. Their hiatus saw the release of Beyoncé\\'s debut album, Dangerously in Love (2003), which established her as a solo artist worldwide, earned five Grammy Awards and featured the Billboard Hot 100 number-one singles \"Crazy in Love\" and \"Baby Boy\".',\n",
       " 'question': 'When did Beyonce start becoming popular?',\n",
       " 'answers': {'text': ['in the late 1990s'], 'answer_start': [269]}}"
      ]
     },
     "execution_count": 14,
     "metadata": {},
     "output_type": "execute_result"
    }
   ],
   "source": [
    "data[0]"
   ]
  },
  {
   "cell_type": "code",
   "execution_count": 16,
   "metadata": {
    "executionCancelledAt": null,
    "executionTime": 50,
    "lastExecutedAt": 1697721032698,
    "lastScheduledRunId": null,
    "lastSuccessfullyExecutedCode": "data[1]"
   },
   "outputs": [
    {
     "data": {
      "text/plain": [
       "{'id': '56be85543aeaaa14008c9065',\n",
       " 'title': 'Beyoncé',\n",
       " 'context': 'Beyoncé Giselle Knowles-Carter (/biːˈjɒnseɪ/ bee-YON-say) (born September 4, 1981) is an American singer, songwriter, record producer and actress. Born and raised in Houston, Texas, she performed in various singing and dancing competitions as a child, and rose to fame in the late 1990s as lead singer of R&B girl-group Destiny\\'s Child. Managed by her father, Mathew Knowles, the group became one of the world\\'s best-selling girl groups of all time. Their hiatus saw the release of Beyoncé\\'s debut album, Dangerously in Love (2003), which established her as a solo artist worldwide, earned five Grammy Awards and featured the Billboard Hot 100 number-one singles \"Crazy in Love\" and \"Baby Boy\".',\n",
       " 'question': 'What areas did Beyonce compete in when she was growing up?',\n",
       " 'answers': {'text': ['singing and dancing'], 'answer_start': [207]}}"
      ]
     },
     "execution_count": 16,
     "metadata": {},
     "output_type": "execute_result"
    }
   ],
   "source": [
    "data[1]"
   ]
  },
  {
   "cell_type": "code",
   "execution_count": 18,
   "metadata": {
    "executionCancelledAt": null,
    "executionTime": 51,
    "lastExecutedAt": 1697721070630,
    "lastScheduledRunId": null,
    "lastSuccessfullyExecutedCode": "data[500]"
   },
   "outputs": [
    {
     "data": {
      "text/plain": [
       "{'id': '56bfc281a10cfb14005512b6',\n",
       " 'title': 'Beyoncé',\n",
       " 'context': 'Beyoncé has received praise for her stage presence and voice during live performances. Jarett Wieselman of the New York Post placed her at number one on her list of the Five Best Singer/Dancers. According to Barbara Ellen of The Guardian Beyoncé is the most in-charge female artist she\\'s seen onstage, while Alice Jones of The Independent wrote she \"takes her role as entertainer so seriously she\\'s almost too good.\" The ex-President of Def Jam L.A. Reid has described Beyoncé as the greatest entertainer alive. Jim Farber of the Daily News and Stephanie Classen of Star Phoenix both praised her strong voice and her stage presence.',\n",
       " 'question': 'Who chose her as number one on his list of Best singers/ Dancers?',\n",
       " 'answers': {'text': ['Jarett Wieselman'], 'answer_start': [87]}}"
      ]
     },
     "execution_count": 18,
     "metadata": {},
     "output_type": "execute_result"
    }
   ],
   "source": [
    "data[500]"
   ]
  },
  {
   "cell_type": "code",
   "execution_count": 19,
   "metadata": {
    "executionCancelledAt": null,
    "executionTime": 12,
    "lastExecutedAt": 1697721080646,
    "lastScheduledRunId": null,
    "lastSuccessfullyExecutedCode": "data[1500]"
   },
   "outputs": [
    {
     "data": {
      "text/plain": [
       "{'id': '56cc5fd66d243a140015ef54',\n",
       " 'title': 'Sino-Tibetan_relations_during_the_Ming_dynasty',\n",
       " 'context': \"As evident in his imperial edicts, the Hongwu Emperor was well aware of the Buddhist link between Tibet and China and wanted to foster it. Rolpe Dorje, 4th Karmapa Lama (1340–1383) rejected the Hongwu Emperor's invitation, although he did send some disciples as envoys to the court in Nanjing. The Hongwu Emperor also entrusted his guru Zongluo, one of many Buddhist monks at court, to head a religious mission into Tibet in 1378–1382 in order to obtain Buddhist texts.\",\n",
       " 'question': 'Who did Rolpe Dorje send as envoys to court in Nanjing?',\n",
       " 'answers': {'text': ['disciples'], 'answer_start': [249]}}"
      ]
     },
     "execution_count": 19,
     "metadata": {},
     "output_type": "execute_result"
    }
   ],
   "source": [
    "data[1500]"
   ]
  },
  {
   "cell_type": "markdown",
   "metadata": {},
   "source": [
    "As there are many questions for each context, we see plenty of duplication in the _context_ column. Our next task is to deduplicate those records to give us a deduped `contexts` list."
   ]
  },
  {
   "cell_type": "markdown",
   "metadata": {},
   "source": [
    "### Instructions\n",
    "\n",
    "Remove duplicates of context values from the dataset.\n",
    "\n",
    "- Deduplicate the `context` element of `data` by converting to a set and back to a list. Assign to `contexts`.\n",
    "- Print the length of `contexts`."
   ]
  },
  {
   "cell_type": "code",
   "execution_count": 20,
   "metadata": {
    "executionCancelledAt": null,
    "executionTime": 235,
    "lastExecutedAt": 1697721179901,
    "lastScheduledRunId": null,
    "lastSuccessfullyExecutedCode": "contexts = list(set(data[\"context\"]))\n\nlen(contexts)"
   },
   "outputs": [
    {
     "data": {
      "text/plain": [
       "19029"
      ]
     },
     "execution_count": 20,
     "metadata": {},
     "output_type": "execute_result"
    }
   ],
   "source": [
    "contexts = list(set(data[\"context\"]))\n",
    "\n",
    "len(contexts)"
   ]
  },
  {
   "cell_type": "markdown",
   "metadata": {},
   "source": [
    "## Task 3: Creating a Vector Index\n",
    "\n"
   ]
  },
  {
   "cell_type": "markdown",
   "metadata": {},
   "source": [
    "Storing the embeddings in a NumPy array is not very permanent, or useful for sharing with other people. The embeddings need to be stored in a vector database, in this case Pinecone.\n",
    "\n",
    "This task involves some setup steps to get the embeddings into Pinecone.\n"
   ]
  },
  {
   "cell_type": "markdown",
   "metadata": {},
   "source": [
    "### Terminology \n",
    "\n",
    "In Pinecone there are three levels of containers.\n",
    "\n",
    "At the highest level is the _vector database_ itself. This is the equivalent to a SQL DB.\n",
    "\n",
    "Within the SQL DB we have tables which contain our data; with Pinecone we have _vector indexes_.\n",
    "\n",
    "One more layer that we can optionally use is _namespaces_. A namespace is a partition within a vector index. Every namespace is fully separated from other namespaces, and because of this they are often use to support multi-tenancy. So, if your product served multiple business, you could store business A's data in namespace \"a\", and business B's data in namespace \"b\" to ensure they are always separated.\n",
    "\n",
    "We will not dive into namespaces here, but they are a useful concept to be aware of when building with Pinecone."
   ]
  },
  {
   "cell_type": "markdown",
   "metadata": {},
   "source": [
    "To create our first vector index we first need to initialize our connection to Pinecone."
   ]
  },
  {
   "cell_type": "markdown",
   "metadata": {},
   "source": [
    "### Instructions\n",
    "\n",
    "Initialize Pinecone, getting setup details from Workspace environment variables.\n",
    "\n",
    "- Import `os`.\n",
    "- Import `pinecone`.\n",
    "- Initialize pinecone, setting the API key and environment."
   ]
  },
  {
   "cell_type": "code",
   "execution_count": 22,
   "metadata": {
    "executionCancelledAt": null,
    "executionTime": 710,
    "lastExecutedAt": 1697721330487,
    "lastScheduledRunId": null,
    "lastSuccessfullyExecutedCode": "import os\nimport pinecone\n\napi_key = os.environ[\"PINECONE_API_KEY\"]\nenv = os.environ[\"PINECONE_ENVIRONMENT\"]\n\npinecone.init(api_key=api_key, environment=env)"
   },
   "outputs": [],
   "source": [
    "import os\n",
    "import pinecone\n",
    "\n",
    "api_key = os.environ[\"PINECONE_API_KEY\"]\n",
    "env = os.environ[\"PINECONE_ENVIRONMENT\"]\n",
    "\n",
    "pinecone.init(api_key=api_key, environment=env)"
   ]
  },
  {
   "cell_type": "markdown",
   "metadata": {},
   "source": [
    "Now we can create our index. There are a few parameters we must include. Those are:\n",
    "\n",
    "* `index_name`: this can be anything you want, it is simply the name of the index—so use something informative!\n",
    "* `dimension`: this is the expected dimensionality of the vectors in the index. We saw earlier that Ada 002 encodes into 1536-dimensional vectors, so we use that same `1536` number here.\n",
    "* `metric`: this is the similarity metric we will use to compare vectors. For Ada 002 we can use `dot_product` (as we did above) or `cosine`. Other embedding may require us to use `euclidean` but this is less common."
   ]
  },
  {
   "cell_type": "markdown",
   "metadata": {},
   "source": [
    "### Instructions\n",
    "\n",
    "Create a vector index and connect to it.\n",
    "\n",
    "- Import `time`.\n",
    "- Give the index a meaningful name, such as `\"squad-search\"`. Assign to `index_name`.\n",
    "- Check if the index already exists. (It shouldn't on the first run.)\n",
    "    - If the index does not exist then create it.\n",
    "    - Wait for the index to initialize. If the index status isn't \"ready\" then sleep for a couple of seconds.\n",
    "- Connect to the index. Assign to `index`.\n",
    "- View the index stats."
   ]
  },
  {
   "cell_type": "code",
   "execution_count": 23,
   "metadata": {
    "executionCancelledAt": null,
    "executionTime": 942,
    "lastExecutedAt": 1697724776517,
    "lastScheduledRunId": null,
    "lastSuccessfullyExecutedCode": "pinecone.list_indexes()"
   },
   "outputs": [
    {
     "data": {
      "text/plain": [
       "['rerankers']"
      ]
     },
     "execution_count": 23,
     "metadata": {},
     "output_type": "execute_result"
    }
   ],
   "source": [
    "pinecone.list_indexes()"
   ]
  },
  {
   "cell_type": "code",
   "execution_count": 24,
   "metadata": {
    "executionCancelledAt": null,
    "executionTime": 75101,
    "lastExecutedAt": 1697725021829,
    "lastScheduledRunId": null,
    "lastSuccessfullyExecutedCode": "import time\n\nindex_name = \"squad-search\"\n\nif index_name not in pinecone.list_indexes():\n    pinecone.create_index(\n        index_name,\n        dimension=1536,\n        metric=\"cosine\"\n    )\n    while not pinecone.describe_index(index_name).status[\"ready\"]:\n        time.sleep(2)"
   },
   "outputs": [],
   "source": [
    "import time\n",
    "\n",
    "index_name = \"squad-search\"\n",
    "\n",
    "if index_name not in pinecone.list_indexes():\n",
    "    pinecone.create_index(\n",
    "        index_name,\n",
    "        dimension=1536,\n",
    "        metric=\"cosine\"\n",
    "    )\n",
    "    while not pinecone.describe_index(index_name).status[\"ready\"]:\n",
    "        time.sleep(2)"
   ]
  },
  {
   "cell_type": "code",
   "execution_count": 25,
   "metadata": {
    "executionCancelledAt": null,
    "executionTime": 48,
    "lastExecutedAt": 1697725029681,
    "lastScheduledRunId": null,
    "lastSuccessfullyExecutedCode": "index = pinecone.Index(index_name)"
   },
   "outputs": [],
   "source": [
    "index = pinecone.Index(index_name)"
   ]
  },
  {
   "cell_type": "code",
   "execution_count": 26,
   "metadata": {
    "executionCancelledAt": null,
    "executionTime": 242,
    "lastExecutedAt": 1697725044519,
    "lastScheduledRunId": null,
    "lastSuccessfullyExecutedCode": "index.describe_index_stats()"
   },
   "outputs": [
    {
     "data": {
      "text/plain": [
       "{'dimension': 1536,\n",
       " 'index_fullness': 0.0,\n",
       " 'namespaces': {},\n",
       " 'total_vector_count': 0}"
      ]
     },
     "execution_count": 26,
     "metadata": {},
     "output_type": "execute_result"
    }
   ],
   "source": [
    "index.describe_index_stats()"
   ]
  },
  {
   "cell_type": "markdown",
   "metadata": {},
   "source": [
    "Our index has now been created and we can see that the vector count is currently `0`, as we haven't added anything to it yet."
   ]
  },
  {
   "cell_type": "markdown",
   "metadata": {},
   "source": [
    "## Task 4: Indexing our Data"
   ]
  },
  {
   "cell_type": "markdown",
   "metadata": {},
   "source": [
    "Now that we have our embedding model (Ada 002), dataset, and vector index, we can begin embedding our data and added it all to the index.\n",
    "\n",
    "We will do this in batches of `100` to avoid overloading the OpenAI or Pinecone APIs (or causing out of memory errors on our own system)."
   ]
  },
  {
   "cell_type": "markdown",
   "metadata": {},
   "source": [
    "### Instructions\n",
    "\n",
    "Split the dataset into batches and add it to the vector index.\n",
    "\n",
    "- From `tqdm`, import `tqdm` (a progress bar).\n",
    "- Set the batch size to 100. Assign to `batch_size`.\n",
    "- Loop from 0 to the length of contexts by batch size, adding a progress bar.\n",
    "    - Find the end of the batch. Assign to `i_end`.\n",
    "    - Get the contexts for the batch to encode. Assign to `meta_batch`.\n",
    "    - Get the IDs for the batch. Assign to `ids_batch`.\n",
    "    - Get the contexts for the batch to encode. Assign to `context_batch`.\n",
    "    - Create the embeddings for the batch contexts. Assign to `res`.\n",
    "    - Pull out the embeddings for each record in the response data. Assign to `embeds`.\n",
    "    - Add contexts to metadata for easy retrieval later. Assign to `metadata`.\n",
    "    - Combine IDs, embeddings, and metadata as list of tuples. Assign to `to_upsert`.\n",
    "    - Upsert to Pinecone."
   ]
  },
  {
   "cell_type": "code",
   "execution_count": 28,
   "metadata": {
    "executionCancelledAt": null,
    "executionTime": 252460,
    "lastExecutedAt": 1697725780981,
    "lastScheduledRunId": null,
    "lastSuccessfullyExecutedCode": "from tqdm import tqdm\n\nbatch_size = 100\n\nfor i in tqdm(range(0, len(contexts), batch_size)):\n    i_end = min(i+batch_size, len(contexts))\n    \n    context_batch = contexts[i:i_end]\n    id_batch = [str(x) for x in range(i, i_end)]\n    \n    res = openai.Embedding.create(input=context_batch, engine=model)\n    embeds = [r[\"embedding\"] for r in res[\"data\"]]\n    \n    metadata = [{\"context\": x} for x in context_batch]\n    \n    to_upsert = zip(id_batch, embeds, metadata)\n    index.upsert(vectors=to_upsert)",
    "outputsMetadata": {
     "0": {
      "height": 37,
      "type": "stream"
     }
    }
   },
   "outputs": [
    {
     "name": "stderr",
     "output_type": "stream",
     "text": [
      "100%|██████████| 191/191 [04:12<00:00,  1.32s/it]\n"
     ]
    }
   ],
   "source": [
    "from tqdm import tqdm\n",
    "\n",
    "batch_size = 100\n",
    "\n",
    "for i in tqdm(range(0, len(contexts), batch_size)):\n",
    "    i_end = min(i+batch_size, len(contexts))\n",
    "    \n",
    "    context_batch = contexts[i:i_end]\n",
    "    id_batch = [str(x) for x in range(i, i_end)]\n",
    "    \n",
    "    res = openai.Embedding.create(input=context_batch, engine=model)\n",
    "    embeds = [r[\"embedding\"] for r in res[\"data\"]]\n",
    "    \n",
    "    metadata = [{\"context\": x} for x in context_batch]\n",
    "    \n",
    "    to_upsert = zip(id_batch, embeds, metadata)\n",
    "    index.upsert(vectors=to_upsert)"
   ]
  },
  {
   "cell_type": "markdown",
   "metadata": {},
   "source": [
    "Now we can check our index size and we should see it has been populated with records (as seen via the vector count):"
   ]
  },
  {
   "cell_type": "markdown",
   "metadata": {},
   "source": [
    "### Instructions\n",
    "\n",
    "Check on updates to the vector index now that it contains the squad dataset.\n",
    "\n",
    "- View the index stats again.\n",
    "- *What has changed since you last looked?*"
   ]
  },
  {
   "cell_type": "code",
   "execution_count": 29,
   "metadata": {
    "executionCancelledAt": null,
    "executionTime": 231,
    "lastExecutedAt": 1697728749518,
    "lastScheduledRunId": null,
    "lastSuccessfullyExecutedCode": "index.describe_index_stats()"
   },
   "outputs": [
    {
     "data": {
      "text/plain": [
       "{'dimension': 1536,\n",
       " 'index_fullness': 0.0,\n",
       " 'namespaces': {'': {'vector_count': 19029}},\n",
       " 'total_vector_count': 19029}"
      ]
     },
     "execution_count": 29,
     "metadata": {},
     "output_type": "execute_result"
    }
   ],
   "source": [
    "index.describe_index_stats()"
   ]
  },
  {
   "cell_type": "markdown",
   "metadata": {},
   "source": [
    "## Task 5: Semantic Search"
   ]
  },
  {
   "cell_type": "markdown",
   "metadata": {},
   "source": [
    "We've now indexed our data, meaning we're ready for semantic search!\n",
    "\n",
    "This just means that we start with a query, that is, a question to ask. Then by using similarity, we find the three questions in the squad dataset with the nearest meaning to the one we asked.\n",
    "\n",
    "### What's the search workflow?\n",
    "\n",
    "1. The query is text, so first it needs to be embedded. \n",
    "2. The embedded query can be searched using Pinecone's `index.query()`. To return the metadata in our response we'll also need to set `include_metadata=True`.\n",
    "\n",
    "Let's create the query and embed it with Ada 002."
   ]
  },
  {
   "cell_type": "markdown",
   "metadata": {},
   "source": [
    "### Instructions\n",
    "\n",
    "Think of a question, then embed it.\n",
    "\n",
    "- Specify a question, `\"What three composers did Chopin take inspiration from?\"`. Assign to `query`.\n",
    "- Create the embedding for the query. Assign to `res`.\n",
    "- Pull out the query vector from the response. Assign to `xq`."
   ]
  },
  {
   "cell_type": "code",
   "execution_count": 30,
   "metadata": {
    "executionCancelledAt": null,
    "executionTime": 144,
    "lastExecutedAt": 1697728846885,
    "lastScheduledRunId": null,
    "lastSuccessfullyExecutedCode": "query = \"What three composers did Chopin take inspiration from?\"\n\nres = openai.Embedding.create(input=[query], engine=model)"
   },
   "outputs": [],
   "source": [
    "query = \"What three composers did Chopin take inspiration from?\"\n",
    "\n",
    "res = openai.Embedding.create(input=[query], engine=model)"
   ]
  },
  {
   "cell_type": "code",
   "execution_count": 32,
   "metadata": {
    "executionCancelledAt": null,
    "executionTime": 48,
    "lastExecutedAt": 1697728892761,
    "lastScheduledRunId": null,
    "lastSuccessfullyExecutedCode": "xq = res[\"data\"][0][\"embedding\"]"
   },
   "outputs": [],
   "source": [
    "xq = res[\"data\"][0][\"embedding\"]"
   ]
  },
  {
   "cell_type": "code",
   "execution_count": 33,
   "metadata": {
    "executionCancelledAt": null,
    "executionTime": 11,
    "lastExecutedAt": 1697728917424,
    "lastScheduledRunId": null,
    "lastSuccessfullyExecutedCode": "len(xq)"
   },
   "outputs": [
    {
     "data": {
      "text/plain": [
       "1536"
      ]
     },
     "execution_count": 33,
     "metadata": {},
     "output_type": "execute_result"
    }
   ],
   "source": [
    "len(xq)"
   ]
  },
  {
   "cell_type": "markdown",
   "metadata": {},
   "source": [
    "Now we query Pinecone."
   ]
  },
  {
   "cell_type": "markdown",
   "metadata": {},
   "source": [
    "### Instructions\n",
    "\n",
    "Query Pinecone for matches to the embedded question.\n",
    "\n",
    "- Query Pinecone for the top 3 matches to `xq`, including metadata. Assign to `res`.\n",
    "- Print the results."
   ]
  },
  {
   "cell_type": "code",
   "execution_count": 34,
   "metadata": {
    "executionCancelledAt": null,
    "executionTime": 152,
    "lastExecutedAt": 1697728963654,
    "lastScheduledRunId": null,
    "lastSuccessfullyExecutedCode": "res = index.query(xq, top_k=3, include_metadata=True)\nres"
   },
   "outputs": [
    {
     "data": {
      "text/plain": [
       "{'matches': [{'id': '3369',\n",
       "              'metadata': {'context': 'Chopin was educated in the tradition of '\n",
       "                                      'Beethoven, Haydn, Mozart and Clementi; '\n",
       "                                      \"he used Clementi's piano method with \"\n",
       "                                      'his own students. He was also '\n",
       "                                      \"influenced by Hummel's development of \"\n",
       "                                      'virtuoso, yet Mozartian, piano '\n",
       "                                      'technique. He cited Bach and Mozart as '\n",
       "                                      'the two most important composers in '\n",
       "                                      \"shaping his musical outlook. Chopin's \"\n",
       "                                      'early works are in the style of the '\n",
       "                                      '\"brilliant\" keyboard pieces of his era '\n",
       "                                      'as exemplified by the works of Ignaz '\n",
       "                                      'Moscheles, Friedrich Kalkbrenner, and '\n",
       "                                      'others. Less direct in the earlier '\n",
       "                                      'period are the influences of Polish '\n",
       "                                      'folk music and of Italian opera. Much '\n",
       "                                      'of what became his typical style of '\n",
       "                                      'ornamentation (for example, his '\n",
       "                                      'fioriture) is taken from singing. His '\n",
       "                                      'melodic lines were increasingly '\n",
       "                                      'reminiscent of the modes and features '\n",
       "                                      'of the music of his native country, '\n",
       "                                      'such as drones.'},\n",
       "              'score': 0.885816514,\n",
       "              'values': []},\n",
       "             {'id': '3317',\n",
       "              'metadata': {'context': 'Polish composers of the following '\n",
       "                                      'generation included virtuosi such as '\n",
       "                                      'Moritz Moszkowski, but, in the opinion '\n",
       "                                      'of J. Barrie Jones, his \"one worthy '\n",
       "                                      'successor\" among his compatriots was '\n",
       "                                      'Karol Szymanowski (1882–1937). Edvard '\n",
       "                                      'Grieg, Antonín Dvořák, Isaac Albéniz, '\n",
       "                                      'Pyotr Ilyich Tchaikovsky and Sergei '\n",
       "                                      'Rachmaninoff, among others, are '\n",
       "                                      'regarded by critics as having been '\n",
       "                                      \"influenced by Chopin's use of national \"\n",
       "                                      'modes and idioms. Alexander Scriabin '\n",
       "                                      'was devoted to the music of Chopin, and '\n",
       "                                      'his early published works include '\n",
       "                                      'nineteen mazurkas, as well as numerous '\n",
       "                                      'études and preludes; his teacher '\n",
       "                                      \"Nikolai Zverev drilled him in Chopin's \"\n",
       "                                      'works to improve his virtuosity as a '\n",
       "                                      'performer. In the 20th century, '\n",
       "                                      'composers who paid homage to (or in '\n",
       "                                      'some cases parodied) the music of '\n",
       "                                      'Chopin included George Crumb, Bohuslav '\n",
       "                                      'Martinů, Darius Milhaud, Igor '\n",
       "                                      'Stravinsky and Heitor Villa-Lobos.'},\n",
       "              'score': 0.877688706,\n",
       "              'values': []},\n",
       "             {'id': '286',\n",
       "              'metadata': {'context': \"Two of Chopin's long-standing pupils, \"\n",
       "                                      'Karol Mikuli (1821–1897) and Georges '\n",
       "                                      'Mathias, were themselves piano teachers '\n",
       "                                      'and passed on details of his playing to '\n",
       "                                      'their own students, some of whom (such '\n",
       "                                      'as Raoul Koczalski) were to make '\n",
       "                                      'recordings of his music. Other pianists '\n",
       "                                      \"and composers influenced by Chopin's \"\n",
       "                                      'style include Louis Moreau Gottschalk, '\n",
       "                                      'Édouard Wolff (1816–1880) and Pierre '\n",
       "                                      'Zimmermann. Debussy dedicated his own '\n",
       "                                      '1915 piano Études to the memory of '\n",
       "                                      \"Chopin; he frequently played Chopin's \"\n",
       "                                      'music during his studies at the Paris '\n",
       "                                      'Conservatoire, and undertook the '\n",
       "                                      \"editing of Chopin's piano music for the \"\n",
       "                                      'publisher Jacques Durand.'},\n",
       "              'score': 0.87531358,\n",
       "              'values': []}],\n",
       " 'namespace': ''}"
      ]
     },
     "execution_count": 34,
     "metadata": {},
     "output_type": "execute_result"
    }
   ],
   "source": [
    "res = index.query(xq, top_k=3, include_metadata=True)\n",
    "res"
   ]
  },
  {
   "cell_type": "markdown",
   "metadata": {},
   "source": [
    "That's a big response, let's clean it up and also wrap the search logic into a single `search` function."
   ]
  },
  {
   "cell_type": "markdown",
   "metadata": {},
   "source": [
    "### Instructions\n",
    "\n",
    "- Run this code to define a convenience function for semantic search with prettier output."
   ]
  },
  {
   "cell_type": "code",
   "execution_count": 35,
   "metadata": {
    "executionCancelledAt": null,
    "executionTime": 11,
    "lastExecutedAt": 1697729208332,
    "lastScheduledRunId": null,
    "lastSuccessfullyExecutedCode": "def search(query):\n    res = openai.Embedding.create(input=[query], engine=model)\n    xq = res[\"data\"][0][\"embedding\"]\n    res = index.query(xq, top_k=3, include_metadata=True)\n    # format\n    xc = []\n    for match in res[\"matches\"]:\n        context = match[\"metadata\"][\"context\"]\n        score = match[\"score\"]\n        xc.append(f\"[{round(score, 2)}]: {context}\")\n    return xc"
   },
   "outputs": [],
   "source": [
    "def search(query):\n",
    "    res = openai.Embedding.create(input=[query], engine=model)\n",
    "    xq = res[\"data\"][0][\"embedding\"]\n",
    "    res = index.query(xq, top_k=3, include_metadata=True)\n",
    "    # format\n",
    "    xc = []\n",
    "    for match in res[\"matches\"]:\n",
    "        context = match[\"metadata\"][\"context\"]\n",
    "        score = match[\"score\"]\n",
    "        xc.append(f\"[{round(score, 2)}]: {context}\")\n",
    "    return xc"
   ]
  },
  {
   "cell_type": "markdown",
   "metadata": {},
   "source": [
    "### Instructions\n",
    "\n",
    "Print each result of searching for the query."
   ]
  },
  {
   "cell_type": "code",
   "execution_count": 36,
   "metadata": {
    "executionCancelledAt": null,
    "executionTime": null,
    "lastExecutedAt": null,
    "lastScheduledRunId": null,
    "lastSuccessfullyExecutedCode": null,
    "outputsMetadata": {
     "0": {
      "height": 395,
      "type": "stream"
     }
    }
   },
   "outputs": [
    {
     "name": "stdout",
     "output_type": "stream",
     "text": [
      "[0.89]: Chopin was educated in the tradition of Beethoven, Haydn, Mozart and Clementi; he used Clementi's piano method with his own students. He was also influenced by Hummel's development of virtuoso, yet Mozartian, piano technique. He cited Bach and Mozart as the two most important composers in shaping his musical outlook. Chopin's early works are in the style of the \"brilliant\" keyboard pieces of his era as exemplified by the works of Ignaz Moscheles, Friedrich Kalkbrenner, and others. Less direct in the earlier period are the influences of Polish folk music and of Italian opera. Much of what became his typical style of ornamentation (for example, his fioriture) is taken from singing. His melodic lines were increasingly reminiscent of the modes and features of the music of his native country, such as drones.\n",
      "[0.88]: Polish composers of the following generation included virtuosi such as Moritz Moszkowski, but, in the opinion of J. Barrie Jones, his \"one worthy successor\" among his compatriots was Karol Szymanowski (1882–1937). Edvard Grieg, Antonín Dvořák, Isaac Albéniz, Pyotr Ilyich Tchaikovsky and Sergei Rachmaninoff, among others, are regarded by critics as having been influenced by Chopin's use of national modes and idioms. Alexander Scriabin was devoted to the music of Chopin, and his early published works include nineteen mazurkas, as well as numerous études and preludes; his teacher Nikolai Zverev drilled him in Chopin's works to improve his virtuosity as a performer. In the 20th century, composers who paid homage to (or in some cases parodied) the music of Chopin included George Crumb, Bohuslav Martinů, Darius Milhaud, Igor Stravinsky and Heitor Villa-Lobos.\n",
      "[0.88]: Two of Chopin's long-standing pupils, Karol Mikuli (1821–1897) and Georges Mathias, were themselves piano teachers and passed on details of his playing to their own students, some of whom (such as Raoul Koczalski) were to make recordings of his music. Other pianists and composers influenced by Chopin's style include Louis Moreau Gottschalk, Édouard Wolff (1816–1880) and Pierre Zimmermann. Debussy dedicated his own 1915 piano Études to the memory of Chopin; he frequently played Chopin's music during his studies at the Paris Conservatoire, and undertook the editing of Chopin's piano music for the publisher Jacques Durand.\n"
     ]
    }
   ],
   "source": [
    "for result in search(query):\n",
    "    print(result)"
   ]
  },
  {
   "cell_type": "markdown",
   "metadata": {},
   "source": [
    "### So who did influence Chopin?\n",
    "\n",
    "The top result directly answers the question of who influenced Chopin. It seems there are a lot of influences, depending on what aspect of his music and what time period of his work you consider. Beethoven, Haydn, Mozart, Clementi, Hummel, Bach, Moscheles, and Kalkbrenner are mentioned, as well as Polish folk music and Italian opera.\n",
    "\n",
    "The second and third results talk about people who were influenced by Chopin. This is closely related in meaning to the question, but not quite what was asked."
   ]
  },
  {
   "cell_type": "markdown",
   "metadata": {},
   "source": [
    "## Summary\n",
    "\n",
    "In this code-along, you've seen \n",
    "\n",
    "- some examples of when vector search and semantic search can be used.\n",
    "- why semantic search can have better performance than keyword search.\n",
    "- how to embed text with the Ada AI.\n",
    "- how to initialize a Pinecone database and create a vector index.\n",
    "- how to add text data to a Pinecone vector index.\n",
    "- how to query a vector index to find close matches."
   ]
  },
  {
   "cell_type": "markdown",
   "metadata": {},
   "source": [
    "## Keep Going!\n",
    "\n",
    "The squad dataset contains a lot of question and answer pairs, so there are many more things you can search for.\n",
    "\n",
    "Repeat the steps in Task 5, trying different values for the query.\n",
    "\n",
    "Here are a few ideas for the query:\n",
    "\n",
    "* `\"What years did Ogedei Khan rule?\"`\n",
    "* `\"Which model of iPod combined the headphone jack and data port?\"`\n",
    "* `\"Who resurrects Zelda after the fight with Ganondorf?\"`\n",
    "\n",
    "Make sure to look at the output from each search result, and see how well the results answer the query."
   ]
  }
 ],
 "metadata": {
  "colab": {
   "name": "Welcome to DataCamp Workspaces.ipynb",
   "provenance": []
  },
  "kernelspec": {
   "display_name": "Python 3",
   "language": "python",
   "name": "python3"
  },
  "language_info": {
   "codemirror_mode": {
    "name": "ipython",
    "version": 3
   },
   "file_extension": ".py",
   "mimetype": "text/x-python",
   "name": "python",
   "nbconvert_exporter": "python",
   "pygments_lexer": "ipython3",
   "version": "3.8.3"
  }
 },
 "nbformat": 4,
 "nbformat_minor": 5
}
