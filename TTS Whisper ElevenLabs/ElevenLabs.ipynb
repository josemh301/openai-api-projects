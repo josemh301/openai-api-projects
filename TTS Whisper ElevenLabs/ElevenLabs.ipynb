{
 "cells": [
  {
   "cell_type": "code",
   "execution_count": 1,
   "metadata": {},
   "outputs": [
    {
     "name": "stdout",
     "output_type": "stream",
     "text": [
      "Collecting elevenlabs\n",
      "  Downloading elevenlabs-0.2.27-py3-none-any.whl.metadata (827 bytes)\n",
      "Collecting pydantic>=2.0 (from elevenlabs)\n",
      "  Downloading pydantic-2.6.1-py3-none-any.whl.metadata (83 kB)\n",
      "     ---------------------------------------- 83.5/83.5 kB 2.4 MB/s eta 0:00:00\n",
      "Requirement already satisfied: ipython>=7.0 in c:\\users\\josem\\anaconda3\\lib\\site-packages (from elevenlabs) (8.12.2)\n",
      "Requirement already satisfied: requests>=2.20 in c:\\users\\josem\\anaconda3\\lib\\site-packages (from elevenlabs) (2.31.0)\n",
      "Requirement already satisfied: websockets>=11.0 in c:\\users\\josem\\anaconda3\\lib\\site-packages (from elevenlabs) (12.0)\n",
      "Requirement already satisfied: backcall in c:\\users\\josem\\anaconda3\\lib\\site-packages (from ipython>=7.0->elevenlabs) (0.2.0)\n",
      "Requirement already satisfied: decorator in c:\\users\\josem\\anaconda3\\lib\\site-packages (from ipython>=7.0->elevenlabs) (4.4.2)\n",
      "Requirement already satisfied: jedi>=0.16 in c:\\users\\josem\\anaconda3\\lib\\site-packages (from ipython>=7.0->elevenlabs) (0.17.1)\n",
      "Requirement already satisfied: matplotlib-inline in c:\\users\\josem\\anaconda3\\lib\\site-packages (from ipython>=7.0->elevenlabs) (0.1.6)\n",
      "Requirement already satisfied: pickleshare in c:\\users\\josem\\anaconda3\\lib\\site-packages (from ipython>=7.0->elevenlabs) (0.7.5)\n",
      "Requirement already satisfied: prompt-toolkit!=3.0.37,<3.1.0,>=3.0.30 in c:\\users\\josem\\anaconda3\\lib\\site-packages (from ipython>=7.0->elevenlabs) (3.0.39)\n",
      "Requirement already satisfied: pygments>=2.4.0 in c:\\users\\josem\\anaconda3\\lib\\site-packages (from ipython>=7.0->elevenlabs) (2.17.2)\n",
      "Requirement already satisfied: stack-data in c:\\users\\josem\\anaconda3\\lib\\site-packages (from ipython>=7.0->elevenlabs) (0.6.2)\n",
      "Requirement already satisfied: traitlets>=5 in c:\\users\\josem\\anaconda3\\lib\\site-packages (from ipython>=7.0->elevenlabs) (5.9.0)\n",
      "Requirement already satisfied: typing-extensions in c:\\users\\josem\\anaconda3\\lib\\site-packages (from ipython>=7.0->elevenlabs) (4.8.0)\n",
      "Requirement already satisfied: colorama in c:\\users\\josem\\anaconda3\\lib\\site-packages (from ipython>=7.0->elevenlabs) (0.4.3)"
     ]
    },
    {
     "name": "stderr",
     "output_type": "stream",
     "text": [
      "WARNING: Ignoring invalid distribution -umpy (c:\\users\\josem\\anaconda3\\lib\\site-packages)\n",
      "WARNING: Ignoring invalid distribution -umpy (c:\\users\\josem\\anaconda3\\lib\\site-packages)\n",
      "DEPRECATION: pyodbc 4.0.0-unsupported has a non-standard version number. pip 24.0 will enforce this behaviour change. A possible replacement is to upgrade to a newer version of pyodbc or contact the author to suggest that they release a version with a conforming version number. Discussion can be found at https://github.com/pypa/pip/issues/12063\n",
      "ERROR: pip's dependency resolver does not currently take into account all the packages that are installed. This behaviour is the source of the following dependency conflicts.\n",
      "docarray 0.38.0 requires pydantic<2.0.0,>=1.10.2, but you have pydantic 2.6.1 which is incompatible.\n",
      "spacy 3.2.5 requires pydantic!=1.8,!=1.8.1,<1.9.0,>=1.7.4, but you have pydantic 2.6.1 which is incompatible.\n",
      "spacy-transformers 1.0.2 requires spacy<3.1.0,>=3.0.0, but you have spacy 3.2.5 which is incompatible.\n",
      "spacy-transformers 1.0.2 requires transformers<4.6.0,>=3.4.0, but you have transformers 4.36.2 which is incompatible.\n",
      "thinc 8.0.17 requires pydantic!=1.8,!=1.8.1,<1.9.0,>=1.7.4, but you have pydantic 2.6.1 which is incompatible.\n"
     ]
    },
    {
     "name": "stdout",
     "output_type": "stream",
     "text": [
      "\n",
      "Requirement already satisfied: annotated-types>=0.4.0 in c:\\users\\josem\\anaconda3\\lib\\site-packages (from pydantic>=2.0->elevenlabs) (0.6.0)\n",
      "Collecting pydantic-core==2.16.2 (from pydantic>=2.0->elevenlabs)\n",
      "  Downloading pydantic_core-2.16.2-cp38-none-win_amd64.whl.metadata (6.6 kB)\n",
      "Requirement already satisfied: charset-normalizer<4,>=2 in c:\\users\\josem\\anaconda3\\lib\\site-packages (from requests>=2.20->elevenlabs) (3.0.1)\n",
      "Requirement already satisfied: idna<4,>=2.5 in c:\\users\\josem\\anaconda3\\lib\\site-packages (from requests>=2.20->elevenlabs) (2.10)\n",
      "Requirement already satisfied: urllib3<3,>=1.21.1 in c:\\users\\josem\\anaconda3\\lib\\site-packages (from requests>=2.20->elevenlabs) (1.26.18)\n",
      "Requirement already satisfied: certifi>=2017.4.17 in c:\\users\\josem\\anaconda3\\lib\\site-packages (from requests>=2.20->elevenlabs) (2022.12.7)\n",
      "Requirement already satisfied: parso<0.8.0,>=0.7.0 in c:\\users\\josem\\anaconda3\\lib\\site-packages (from jedi>=0.16->ipython>=7.0->elevenlabs) (0.7.0)\n",
      "Requirement already satisfied: wcwidth in c:\\users\\josem\\anaconda3\\lib\\site-packages (from prompt-toolkit!=3.0.37,<3.1.0,>=3.0.30->ipython>=7.0->elevenlabs) (0.2.5)\n",
      "Requirement already satisfied: executing>=1.2.0 in c:\\users\\josem\\anaconda3\\lib\\site-packages (from stack-data->ipython>=7.0->elevenlabs) (1.2.0)\n",
      "Requirement already satisfied: asttokens>=2.1.0 in c:\\users\\josem\\anaconda3\\lib\\site-packages (from stack-data->ipython>=7.0->elevenlabs) (2.2.1)\n",
      "Requirement already satisfied: pure-eval in c:\\users\\josem\\anaconda3\\lib\\site-packages (from stack-data->ipython>=7.0->elevenlabs) (0.2.2)\n",
      "Requirement already satisfied: six in c:\\users\\josem\\anaconda3\\lib\\site-packages (from asttokens>=2.1.0->stack-data->ipython>=7.0->elevenlabs) (1.15.0)\n",
      "Downloading elevenlabs-0.2.27-py3-none-any.whl (15 kB)\n",
      "Downloading pydantic-2.6.1-py3-none-any.whl (394 kB)\n",
      "   ---------------------------------------- 394.8/394.8 kB 6.2 MB/s eta 0:00:00\n",
      "Downloading pydantic_core-2.16.2-cp38-none-win_amd64.whl (1.9 MB)\n",
      "   ---------------------------------------- 1.9/1.9 MB 8.6 MB/s eta 0:00:00\n",
      "Installing collected packages: pydantic-core, pydantic, elevenlabs\n",
      "  Attempting uninstall: pydantic-core\n",
      "    Found existing installation: pydantic_core 2.14.6\n",
      "    Uninstalling pydantic_core-2.14.6:\n",
      "      Successfully uninstalled pydantic_core-2.14.6\n",
      "  Attempting uninstall: pydantic\n",
      "    Found existing installation: pydantic 1.10.13\n",
      "    Uninstalling pydantic-1.10.13:\n",
      "      Successfully uninstalled pydantic-1.10.13\n",
      "Successfully installed elevenlabs-0.2.27 pydantic-2.6.1 pydantic-core-2.16.2\n"
     ]
    }
   ],
   "source": [
    "!pip install elevenlabs"
   ]
  },
  {
   "cell_type": "code",
   "execution_count": 2,
   "metadata": {},
   "outputs": [],
   "source": [
    "import os\n",
    "\n",
    "ELEVENLABS_API_KEY = os.getenv(\"ELEVENLABS_API_KEY\")"
   ]
  },
  {
   "cell_type": "code",
   "execution_count": 7,
   "metadata": {},
   "outputs": [
    {
     "name": "stdout",
     "output_type": "stream",
     "text": [
      "Success in getting the API key\n"
     ]
    }
   ],
   "source": [
    "# from elevenlabs.client import ElevenLabs\n",
    "\n",
    "# client = ElevenLabs(api_key=\"ELEVENLABS_API_KEY\")\n",
    "\n",
    "if ELEVENLABS_API_KEY == None:\n",
    "    print(\"API key couldn't be reached\")\n",
    "else:\n",
    "    print(\"Success in getting the API key!\")"
   ]
  },
  {
   "cell_type": "code",
   "execution_count": 9,
   "metadata": {},
   "outputs": [
    {
     "ename": "FileNotFoundError",
     "evalue": "[Errno 2] No such file or directory: 'C:\\\\Users\\\\josem\\\\Videos\\\\XSplit\\\\Broadcaster\\\\josemh301@gmail.com\\\\2023-02-23_21-53-49.mp3'",
     "output_type": "error",
     "traceback": [
      "\u001b[1;31m---------------------------------------------------------------------------\u001b[0m",
      "\u001b[1;31mFileNotFoundError\u001b[0m                         Traceback (most recent call last)",
      "Cell \u001b[1;32mIn[9], line 5\u001b[0m\n\u001b[0;32m      1\u001b[0m \u001b[38;5;66;03m### Cloning your voice\u001b[39;00m\n\u001b[0;32m      3\u001b[0m \u001b[38;5;28;01mfrom\u001b[39;00m \u001b[38;5;21;01melevenlabs\u001b[39;00m \u001b[38;5;28;01mimport\u001b[39;00m clone, generate, play\n\u001b[1;32m----> 5\u001b[0m voice01 \u001b[38;5;241m=\u001b[39m \u001b[43mclone\u001b[49m\u001b[43m(\u001b[49m\n\u001b[0;32m      6\u001b[0m \u001b[43m    \u001b[49m\u001b[43mname\u001b[49m\u001b[38;5;241;43m=\u001b[39;49m\u001b[38;5;124;43m\"\u001b[39;49m\u001b[38;5;124;43mJoseVoice\u001b[39;49m\u001b[38;5;124;43m\"\u001b[39;49m\u001b[43m,\u001b[49m\n\u001b[0;32m      7\u001b[0m \u001b[43m    \u001b[49m\u001b[43mdescription\u001b[49m\u001b[38;5;241;43m=\u001b[39;49m\u001b[38;5;124;43m\"\u001b[39;49m\u001b[38;5;124;43mA brief description of the voice characteristics\u001b[39;49m\u001b[38;5;124;43m\"\u001b[39;49m\u001b[43m,\u001b[49m\n\u001b[0;32m      8\u001b[0m \u001b[43m    \u001b[49m\u001b[43mfiles\u001b[49m\u001b[38;5;241;43m=\u001b[39;49m\u001b[43m[\u001b[49m\u001b[38;5;124;43mr\u001b[39;49m\u001b[38;5;124;43m\"\u001b[39;49m\u001b[38;5;124;43mC:\u001b[39;49m\u001b[38;5;124;43m\\\u001b[39;49m\u001b[38;5;124;43mUsers\u001b[39;49m\u001b[38;5;124;43m\\\u001b[39;49m\u001b[38;5;124;43mjosem\u001b[39;49m\u001b[38;5;124;43m\\\u001b[39;49m\u001b[38;5;124;43mOneDrive\u001b[39;49m\u001b[38;5;124;43m\\\u001b[39;49m\u001b[38;5;124;43mDocumentos\u001b[39;49m\u001b[38;5;124;43m\\\u001b[39;49m\u001b[38;5;124;43mDocumentos personales\u001b[39;49m\u001b[38;5;124;43m\\\u001b[39;49m\u001b[38;5;124;43mRisas\u001b[39;49m\u001b[38;5;124;43m\\\u001b[39;49m\u001b[38;5;124;43mEmpuja empuja completo.mp3\u001b[39;49m\u001b[38;5;124;43m\"\u001b[39;49m\u001b[43m,\u001b[49m\n\u001b[0;32m      9\u001b[0m \u001b[43m           \u001b[49m\u001b[38;5;124;43mr\u001b[39;49m\u001b[38;5;124;43m\"\u001b[39;49m\u001b[38;5;124;43mC:\u001b[39;49m\u001b[38;5;124;43m\\\u001b[39;49m\u001b[38;5;124;43mUsers\u001b[39;49m\u001b[38;5;124;43m\\\u001b[39;49m\u001b[38;5;124;43mjosem\u001b[39;49m\u001b[38;5;124;43m\\\u001b[39;49m\u001b[38;5;124;43mVideos\u001b[39;49m\u001b[38;5;124;43m\\\u001b[39;49m\u001b[38;5;124;43mXSplit\u001b[39;49m\u001b[38;5;124;43m\\\u001b[39;49m\u001b[38;5;124;43mBroadcaster\u001b[39;49m\u001b[38;5;124;43m\\\u001b[39;49m\u001b[38;5;124;43mjosemh301@gmail.com\u001b[39;49m\u001b[38;5;124;43m\\\u001b[39;49m\u001b[38;5;124;43m2023-02-23_21-53-49.mp3\u001b[39;49m\u001b[38;5;124;43m\"\u001b[39;49m\u001b[43m]\u001b[49m\n\u001b[0;32m     10\u001b[0m \u001b[43m)\u001b[49m\n\u001b[0;32m     12\u001b[0m audio \u001b[38;5;241m=\u001b[39m generate(text\u001b[38;5;241m=\u001b[39m\u001b[38;5;124m\"\u001b[39m\u001b[38;5;124mYour text here to synthesize with the cloned voice\u001b[39m\u001b[38;5;124m\"\u001b[39m, voice\u001b[38;5;241m=\u001b[39mvoice01)\n\u001b[0;32m     14\u001b[0m play(audio)\n",
      "File \u001b[1;32m~\\anaconda3\\lib\\site-packages\\elevenlabs\\simple.py:29\u001b[0m, in \u001b[0;36mclone\u001b[1;34m(**kwargs)\u001b[0m\n\u001b[0;32m     28\u001b[0m \u001b[38;5;28;01mdef\u001b[39;00m \u001b[38;5;21mclone\u001b[39m(\u001b[38;5;241m*\u001b[39m\u001b[38;5;241m*\u001b[39mkwargs) \u001b[38;5;241m-\u001b[39m\u001b[38;5;241m>\u001b[39m Voice:\n\u001b[1;32m---> 29\u001b[0m     \u001b[38;5;28;01mreturn\u001b[39;00m \u001b[43mVoice\u001b[49m\u001b[38;5;241;43m.\u001b[39;49m\u001b[43mfrom_clone\u001b[49m\u001b[43m(\u001b[49m\u001b[43mVoiceClone\u001b[49m\u001b[43m(\u001b[49m\u001b[38;5;241;43m*\u001b[39;49m\u001b[38;5;241;43m*\u001b[39;49m\u001b[43mkwargs\u001b[49m\u001b[43m)\u001b[49m\u001b[43m)\u001b[49m\n",
      "File \u001b[1;32m~\\anaconda3\\lib\\site-packages\\elevenlabs\\api\\voice.py:122\u001b[0m, in \u001b[0;36mVoice.from_clone\u001b[1;34m(cls, voice_clone)\u001b[0m\n\u001b[0;32m    116\u001b[0m url \u001b[38;5;241m=\u001b[39m \u001b[38;5;124mf\u001b[39m\u001b[38;5;124m\"\u001b[39m\u001b[38;5;132;01m{\u001b[39;00mapi_base_url_v1\u001b[38;5;132;01m}\u001b[39;00m\u001b[38;5;124m/voices/add\u001b[39m\u001b[38;5;124m\"\u001b[39m\n\u001b[0;32m    117\u001b[0m data \u001b[38;5;241m=\u001b[39m \u001b[38;5;28mdict\u001b[39m(\n\u001b[0;32m    118\u001b[0m     name\u001b[38;5;241m=\u001b[39mvoice_clone\u001b[38;5;241m.\u001b[39mname,\n\u001b[0;32m    119\u001b[0m     description\u001b[38;5;241m=\u001b[39mvoice_clone\u001b[38;5;241m.\u001b[39mdescription,\n\u001b[0;32m    120\u001b[0m     labels\u001b[38;5;241m=\u001b[39m\u001b[38;5;28mstr\u001b[39m(json\u001b[38;5;241m.\u001b[39mdumps(voice_clone\u001b[38;5;241m.\u001b[39mlabels \u001b[38;5;129;01mor\u001b[39;00m {})),\n\u001b[0;32m    121\u001b[0m )\n\u001b[1;32m--> 122\u001b[0m files \u001b[38;5;241m=\u001b[39m \u001b[43mvoice_clone\u001b[49m\u001b[38;5;241;43m.\u001b[39;49m\u001b[43mfiles_tuple\u001b[49m\n\u001b[0;32m    123\u001b[0m \u001b[38;5;28;01mtry\u001b[39;00m:\n\u001b[0;32m    124\u001b[0m     voice_id \u001b[38;5;241m=\u001b[39m API\u001b[38;5;241m.\u001b[39mpost(url, data\u001b[38;5;241m=\u001b[39mdata, files\u001b[38;5;241m=\u001b[39mfiles)\u001b[38;5;241m.\u001b[39mjson()[\u001b[38;5;124m\"\u001b[39m\u001b[38;5;124mvoice_id\u001b[39m\u001b[38;5;124m\"\u001b[39m]\n",
      "File \u001b[1;32m~\\anaconda3\\lib\\site-packages\\elevenlabs\\api\\voice.py:53\u001b[0m, in \u001b[0;36mVoiceClone.files_tuple\u001b[1;34m(self)\u001b[0m\n\u001b[0;32m     51\u001b[0m files_tuple \u001b[38;5;241m=\u001b[39m []\n\u001b[0;32m     52\u001b[0m \u001b[38;5;28;01mfor\u001b[39;00m filepath \u001b[38;5;129;01min\u001b[39;00m \u001b[38;5;28mself\u001b[39m\u001b[38;5;241m.\u001b[39mfiles:\n\u001b[1;32m---> 53\u001b[0m     b \u001b[38;5;241m=\u001b[39m \u001b[38;5;28;43mopen\u001b[39;49m\u001b[43m(\u001b[49m\u001b[43mfilepath\u001b[49m\u001b[43m,\u001b[49m\u001b[43m \u001b[49m\u001b[38;5;124;43m\"\u001b[39;49m\u001b[38;5;124;43mrb\u001b[39;49m\u001b[38;5;124;43m\"\u001b[39;49m\u001b[43m)\u001b[49m\n\u001b[0;32m     54\u001b[0m     file_tuple \u001b[38;5;241m=\u001b[39m (\u001b[38;5;124m\"\u001b[39m\u001b[38;5;124mfiles\u001b[39m\u001b[38;5;124m\"\u001b[39m, (\u001b[38;5;124mf\u001b[39m\u001b[38;5;124m\"\u001b[39m\u001b[38;5;132;01m{\u001b[39;00mPath(filepath)\u001b[38;5;241m.\u001b[39mstem\u001b[38;5;132;01m}\u001b[39;00m\u001b[38;5;124m_\u001b[39m\u001b[38;5;132;01m{\u001b[39;00m\u001b[38;5;28mid\u001b[39m(b)\u001b[38;5;132;01m}\u001b[39;00m\u001b[38;5;124m\"\u001b[39m, b, \u001b[38;5;124m\"\u001b[39m\u001b[38;5;124maudio/mpeg\u001b[39m\u001b[38;5;124m\"\u001b[39m))\n\u001b[0;32m     55\u001b[0m     files_tuple\u001b[38;5;241m.\u001b[39mappend(file_tuple)\n",
      "\u001b[1;31mFileNotFoundError\u001b[0m: [Errno 2] No such file or directory: 'C:\\\\Users\\\\josem\\\\Videos\\\\XSplit\\\\Broadcaster\\\\josemh301@gmail.com\\\\2023-02-23_21-53-49.mp3'"
     ]
    }
   ],
   "source": [
    "### Cloning your voice\n",
    "\n",
    "from elevenlabs import clone, generate, play\n",
    "\n",
    "voice01 = clone(\n",
    "    name=\"JoseVoice\",\n",
    "    description=\"A brief description of the voice characteristics\",\n",
    "    files=[\"audio01.mp3\",\n",
    "           \"audio02.mp3\",\n",
    "           \"audio03.mp3\"]\n",
    ")\n",
    "\n",
    "audio = generate(text=\"Your text here to synthesize with the cloned voice\", voice=voice01)\n",
    "\n",
    "play(audio)"
   ]
  },
  {
   "cell_type": "code",
   "execution_count": null,
   "metadata": {},
   "outputs": [],
   "source": []
  }
 ],
 "metadata": {
  "kernelspec": {
   "display_name": "Python 3",
   "language": "python",
   "name": "python3"
  },
  "language_info": {
   "codemirror_mode": {
    "name": "ipython",
    "version": 3
   },
   "file_extension": ".py",
   "mimetype": "text/x-python",
   "name": "python",
   "nbconvert_exporter": "python",
   "pygments_lexer": "ipython3",
   "version": "3.8.3"
  }
 },
 "nbformat": 4,
 "nbformat_minor": 4
}
