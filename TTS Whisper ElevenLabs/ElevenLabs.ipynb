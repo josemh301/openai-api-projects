{
 "cells": [
  {
   "cell_type": "code",
   "execution_count": null,
   "metadata": {},
   "outputs": [],
   "source": [
    "!pip install elevenlabs"
   ]
  },
  {
   "cell_type": "code",
   "execution_count": 6,
   "metadata": {},
   "outputs": [],
   "source": [
    "import os\n",
    "\n",
    "ELEVENLABS_API_KEY = os.getenv(\"ELEVENLABS_API_KEY\")"
   ]
  },
  {
   "cell_type": "code",
   "execution_count": 7,
   "metadata": {},
   "outputs": [
    {
     "name": "stdout",
     "output_type": "stream",
     "text": [
      "None\n"
     ]
    }
   ],
   "source": [
    "# from elevenlabs.client import ElevenLabs\n",
    "\n",
    "# client = ElevenLabs(api_key=\"ELEVENLABS_API_KEY\")\n",
    "\n",
    "print(ELEVENLABS_API_KEY)"
   ]
  },
  {
   "cell_type": "code",
   "execution_count": null,
   "metadata": {},
   "outputs": [],
   "source": [
    "### Cloning your voice\n",
    "\n",
    "from elevenlabs import clone, generate, play\n",
    "\n",
    "voice01 = clone(\n",
    "    name=\"JoseVoice\",\n",
    "    description=\"A brief description of the voice characteristics\",\n",
    "    files=[\"./path_to_your_voice_sample1.mp3\", \"./path_to_your_voice_sample2.mp3\"]\n",
    ")\n",
    "\n",
    "audio = generate(text=\"Your text here to synthesize with the cloned voice\", voice=voice01)\n",
    "\n",
    "play(audio)"
   ]
  }
 ],
 "metadata": {
  "kernelspec": {
   "display_name": "Python 3",
   "language": "python",
   "name": "python3"
  },
  "language_info": {
   "codemirror_mode": {
    "name": "ipython",
    "version": 3
   },
   "file_extension": ".py",
   "mimetype": "text/x-python",
   "name": "python",
   "nbconvert_exporter": "python",
   "pygments_lexer": "ipython3",
   "version": "3.8.3"
  }
 },
 "nbformat": 4,
 "nbformat_minor": 4
}
