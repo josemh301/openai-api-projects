{
 "cells": [
  {
   "cell_type": "markdown",
   "metadata": {},
   "source": [
    "# Udemy Course Creator Project\n",
    "\n",
    "This project aims to create a virtual instructor that is able to teach a course on Prompt Engineering. For this purpose, we will use **OpenAI API** for its Large Language Models, and **ElevenLabs** poweful clone and TTS engines through its API. \n",
    "\n",
    "## Stages\n",
    "\n",
    "1. Create an API key on Eleven Labs (already have one for OpenAI)\n",
    "1. Get the key from the enviroment variables\n",
    "1. Select 3 `.mp3` files where I speak alone, so Eleven Labs can clone my voice\n",
    "1. Test my voice teaching an introductory course on Prompt Engineering"
   ]
  },
  {
   "cell_type": "code",
   "execution_count": null,
   "metadata": {},
   "outputs": [],
   "source": [
    "import os\n",
    "\n",
    "ELEVENLABS_API_KEY = os.getenv(\"ELEVENLABS_API_KEY\")"
   ]
  },
  {
   "cell_type": "code",
   "execution_count": 7,
   "metadata": {},
   "outputs": [
    {
     "name": "stdout",
     "output_type": "stream",
     "text": [
      "Success in getting the API key\n"
     ]
    }
   ],
   "source": [
    "# from elevenlabs.client import ElevenLabs\n",
    "\n",
    "# client = ElevenLabs(api_key=\"ELEVENLABS_API_KEY\")\n",
    "\n",
    "if ELEVENLABS_API_KEY == None:\n",
    "    print(\"API key couldn't be reached\")\n",
    "else:\n",
    "    print(\"Success in getting the API key!\")"
   ]
  },
  {
   "cell_type": "code",
   "execution_count": 9,
   "metadata": {},
   "outputs": [
    {
     "ename": "FileNotFoundError",
     "evalue": "[Errno 2] No such file or directory: 'C:\\\\Users\\\\josem\\\\Videos\\\\XSplit\\\\Broadcaster\\\\josemh301@gmail.com\\\\2023-02-23_21-53-49.mp3'",
     "output_type": "error",
     "traceback": [
      "\u001b[1;31m---------------------------------------------------------------------------\u001b[0m",
      "\u001b[1;31mFileNotFoundError\u001b[0m                         Traceback (most recent call last)",
      "Cell \u001b[1;32mIn[9], line 5\u001b[0m\n\u001b[0;32m      1\u001b[0m \u001b[38;5;66;03m### Cloning your voice\u001b[39;00m\n\u001b[0;32m      3\u001b[0m \u001b[38;5;28;01mfrom\u001b[39;00m \u001b[38;5;21;01melevenlabs\u001b[39;00m \u001b[38;5;28;01mimport\u001b[39;00m clone, generate, play\n\u001b[1;32m----> 5\u001b[0m voice01 \u001b[38;5;241m=\u001b[39m \u001b[43mclone\u001b[49m\u001b[43m(\u001b[49m\n\u001b[0;32m      6\u001b[0m \u001b[43m    \u001b[49m\u001b[43mname\u001b[49m\u001b[38;5;241;43m=\u001b[39;49m\u001b[38;5;124;43m\"\u001b[39;49m\u001b[38;5;124;43mJoseVoice\u001b[39;49m\u001b[38;5;124;43m\"\u001b[39;49m\u001b[43m,\u001b[49m\n\u001b[0;32m      7\u001b[0m \u001b[43m    \u001b[49m\u001b[43mdescription\u001b[49m\u001b[38;5;241;43m=\u001b[39;49m\u001b[38;5;124;43m\"\u001b[39;49m\u001b[38;5;124;43mA brief description of the voice characteristics\u001b[39;49m\u001b[38;5;124;43m\"\u001b[39;49m\u001b[43m,\u001b[49m\n\u001b[0;32m      8\u001b[0m \u001b[43m    \u001b[49m\u001b[43mfiles\u001b[49m\u001b[38;5;241;43m=\u001b[39;49m\u001b[43m[\u001b[49m\u001b[38;5;124;43mr\u001b[39;49m\u001b[38;5;124;43m\"\u001b[39;49m\u001b[38;5;124;43mC:\u001b[39;49m\u001b[38;5;124;43m\\\u001b[39;49m\u001b[38;5;124;43mUsers\u001b[39;49m\u001b[38;5;124;43m\\\u001b[39;49m\u001b[38;5;124;43mjosem\u001b[39;49m\u001b[38;5;124;43m\\\u001b[39;49m\u001b[38;5;124;43mOneDrive\u001b[39;49m\u001b[38;5;124;43m\\\u001b[39;49m\u001b[38;5;124;43mDocumentos\u001b[39;49m\u001b[38;5;124;43m\\\u001b[39;49m\u001b[38;5;124;43mDocumentos personales\u001b[39;49m\u001b[38;5;124;43m\\\u001b[39;49m\u001b[38;5;124;43mRisas\u001b[39;49m\u001b[38;5;124;43m\\\u001b[39;49m\u001b[38;5;124;43mEmpuja empuja completo.mp3\u001b[39;49m\u001b[38;5;124;43m\"\u001b[39;49m\u001b[43m,\u001b[49m\n\u001b[0;32m      9\u001b[0m \u001b[43m           \u001b[49m\u001b[38;5;124;43mr\u001b[39;49m\u001b[38;5;124;43m\"\u001b[39;49m\u001b[38;5;124;43mC:\u001b[39;49m\u001b[38;5;124;43m\\\u001b[39;49m\u001b[38;5;124;43mUsers\u001b[39;49m\u001b[38;5;124;43m\\\u001b[39;49m\u001b[38;5;124;43mjosem\u001b[39;49m\u001b[38;5;124;43m\\\u001b[39;49m\u001b[38;5;124;43mVideos\u001b[39;49m\u001b[38;5;124;43m\\\u001b[39;49m\u001b[38;5;124;43mXSplit\u001b[39;49m\u001b[38;5;124;43m\\\u001b[39;49m\u001b[38;5;124;43mBroadcaster\u001b[39;49m\u001b[38;5;124;43m\\\u001b[39;49m\u001b[38;5;124;43mjosemh301@gmail.com\u001b[39;49m\u001b[38;5;124;43m\\\u001b[39;49m\u001b[38;5;124;43m2023-02-23_21-53-49.mp3\u001b[39;49m\u001b[38;5;124;43m\"\u001b[39;49m\u001b[43m]\u001b[49m\n\u001b[0;32m     10\u001b[0m \u001b[43m)\u001b[49m\n\u001b[0;32m     12\u001b[0m audio \u001b[38;5;241m=\u001b[39m generate(text\u001b[38;5;241m=\u001b[39m\u001b[38;5;124m\"\u001b[39m\u001b[38;5;124mYour text here to synthesize with the cloned voice\u001b[39m\u001b[38;5;124m\"\u001b[39m, voice\u001b[38;5;241m=\u001b[39mvoice01)\n\u001b[0;32m     14\u001b[0m play(audio)\n",
      "File \u001b[1;32m~\\anaconda3\\lib\\site-packages\\elevenlabs\\simple.py:29\u001b[0m, in \u001b[0;36mclone\u001b[1;34m(**kwargs)\u001b[0m\n\u001b[0;32m     28\u001b[0m \u001b[38;5;28;01mdef\u001b[39;00m \u001b[38;5;21mclone\u001b[39m(\u001b[38;5;241m*\u001b[39m\u001b[38;5;241m*\u001b[39mkwargs) \u001b[38;5;241m-\u001b[39m\u001b[38;5;241m>\u001b[39m Voice:\n\u001b[1;32m---> 29\u001b[0m     \u001b[38;5;28;01mreturn\u001b[39;00m \u001b[43mVoice\u001b[49m\u001b[38;5;241;43m.\u001b[39;49m\u001b[43mfrom_clone\u001b[49m\u001b[43m(\u001b[49m\u001b[43mVoiceClone\u001b[49m\u001b[43m(\u001b[49m\u001b[38;5;241;43m*\u001b[39;49m\u001b[38;5;241;43m*\u001b[39;49m\u001b[43mkwargs\u001b[49m\u001b[43m)\u001b[49m\u001b[43m)\u001b[49m\n",
      "File \u001b[1;32m~\\anaconda3\\lib\\site-packages\\elevenlabs\\api\\voice.py:122\u001b[0m, in \u001b[0;36mVoice.from_clone\u001b[1;34m(cls, voice_clone)\u001b[0m\n\u001b[0;32m    116\u001b[0m url \u001b[38;5;241m=\u001b[39m \u001b[38;5;124mf\u001b[39m\u001b[38;5;124m\"\u001b[39m\u001b[38;5;132;01m{\u001b[39;00mapi_base_url_v1\u001b[38;5;132;01m}\u001b[39;00m\u001b[38;5;124m/voices/add\u001b[39m\u001b[38;5;124m\"\u001b[39m\n\u001b[0;32m    117\u001b[0m data \u001b[38;5;241m=\u001b[39m \u001b[38;5;28mdict\u001b[39m(\n\u001b[0;32m    118\u001b[0m     name\u001b[38;5;241m=\u001b[39mvoice_clone\u001b[38;5;241m.\u001b[39mname,\n\u001b[0;32m    119\u001b[0m     description\u001b[38;5;241m=\u001b[39mvoice_clone\u001b[38;5;241m.\u001b[39mdescription,\n\u001b[0;32m    120\u001b[0m     labels\u001b[38;5;241m=\u001b[39m\u001b[38;5;28mstr\u001b[39m(json\u001b[38;5;241m.\u001b[39mdumps(voice_clone\u001b[38;5;241m.\u001b[39mlabels \u001b[38;5;129;01mor\u001b[39;00m {})),\n\u001b[0;32m    121\u001b[0m )\n\u001b[1;32m--> 122\u001b[0m files \u001b[38;5;241m=\u001b[39m \u001b[43mvoice_clone\u001b[49m\u001b[38;5;241;43m.\u001b[39;49m\u001b[43mfiles_tuple\u001b[49m\n\u001b[0;32m    123\u001b[0m \u001b[38;5;28;01mtry\u001b[39;00m:\n\u001b[0;32m    124\u001b[0m     voice_id \u001b[38;5;241m=\u001b[39m API\u001b[38;5;241m.\u001b[39mpost(url, data\u001b[38;5;241m=\u001b[39mdata, files\u001b[38;5;241m=\u001b[39mfiles)\u001b[38;5;241m.\u001b[39mjson()[\u001b[38;5;124m\"\u001b[39m\u001b[38;5;124mvoice_id\u001b[39m\u001b[38;5;124m\"\u001b[39m]\n",
      "File \u001b[1;32m~\\anaconda3\\lib\\site-packages\\elevenlabs\\api\\voice.py:53\u001b[0m, in \u001b[0;36mVoiceClone.files_tuple\u001b[1;34m(self)\u001b[0m\n\u001b[0;32m     51\u001b[0m files_tuple \u001b[38;5;241m=\u001b[39m []\n\u001b[0;32m     52\u001b[0m \u001b[38;5;28;01mfor\u001b[39;00m filepath \u001b[38;5;129;01min\u001b[39;00m \u001b[38;5;28mself\u001b[39m\u001b[38;5;241m.\u001b[39mfiles:\n\u001b[1;32m---> 53\u001b[0m     b \u001b[38;5;241m=\u001b[39m \u001b[38;5;28;43mopen\u001b[39;49m\u001b[43m(\u001b[49m\u001b[43mfilepath\u001b[49m\u001b[43m,\u001b[49m\u001b[43m \u001b[49m\u001b[38;5;124;43m\"\u001b[39;49m\u001b[38;5;124;43mrb\u001b[39;49m\u001b[38;5;124;43m\"\u001b[39;49m\u001b[43m)\u001b[49m\n\u001b[0;32m     54\u001b[0m     file_tuple \u001b[38;5;241m=\u001b[39m (\u001b[38;5;124m\"\u001b[39m\u001b[38;5;124mfiles\u001b[39m\u001b[38;5;124m\"\u001b[39m, (\u001b[38;5;124mf\u001b[39m\u001b[38;5;124m\"\u001b[39m\u001b[38;5;132;01m{\u001b[39;00mPath(filepath)\u001b[38;5;241m.\u001b[39mstem\u001b[38;5;132;01m}\u001b[39;00m\u001b[38;5;124m_\u001b[39m\u001b[38;5;132;01m{\u001b[39;00m\u001b[38;5;28mid\u001b[39m(b)\u001b[38;5;132;01m}\u001b[39;00m\u001b[38;5;124m\"\u001b[39m, b, \u001b[38;5;124m\"\u001b[39m\u001b[38;5;124maudio/mpeg\u001b[39m\u001b[38;5;124m\"\u001b[39m))\n\u001b[0;32m     55\u001b[0m     files_tuple\u001b[38;5;241m.\u001b[39mappend(file_tuple)\n",
      "\u001b[1;31mFileNotFoundError\u001b[0m: [Errno 2] No such file or directory: 'C:\\\\Users\\\\josem\\\\Videos\\\\XSplit\\\\Broadcaster\\\\josemh301@gmail.com\\\\2023-02-23_21-53-49.mp3'"
     ]
    }
   ],
   "source": [
    "### Cloning your voice\n",
    "\n",
    "from elevenlabs import clone, generate, play\n",
    "\n",
    "voice01 = clone(\n",
    "    name=\"JoseVoice\",\n",
    "    description=\"A brief description of the voice characteristics\",\n",
    "    files=[\"audio01.mp3\",\n",
    "           \"audio02.mp3\",\n",
    "           \"audio03.mp3\"]\n",
    ")\n",
    "\n",
    "audio = generate(text=\"Your text here to synthesize with the cloned voice\", voice=voice01)\n",
    "\n",
    "play(audio)"
   ]
  },
  {
   "cell_type": "code",
   "execution_count": null,
   "metadata": {},
   "outputs": [],
   "source": []
  }
 ],
 "metadata": {
  "kernelspec": {
   "display_name": "Python 3",
   "language": "python",
   "name": "python3"
  },
  "language_info": {
   "codemirror_mode": {
    "name": "ipython",
    "version": 3
   },
   "file_extension": ".py",
   "mimetype": "text/x-python",
   "name": "python",
   "nbconvert_exporter": "python",
   "pygments_lexer": "ipython3",
   "version": "3.8.3"
  }
 },
 "nbformat": 4,
 "nbformat_minor": 4
}
