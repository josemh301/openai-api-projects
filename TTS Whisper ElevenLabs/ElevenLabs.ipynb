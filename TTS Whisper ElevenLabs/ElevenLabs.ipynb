{
 "cells": [
  {
   "cell_type": "markdown",
   "metadata": {},
   "source": [
    "# Udemy Course Creator Project\n",
    "\n",
    "This project aims to create a virtual instructor that is able to teach a course on Prompt Engineering. For this purpose, we will use **OpenAI API** for its Large Language Models, and **ElevenLabs** poweful clone and TTS engines through its API. \n",
    "\n",
    "## Stages\n",
    "\n",
    "1. Create an API key on Eleven Labs (already have one for OpenAI)\n",
    "1. Get the key from the enviroment variables\n",
    "1. Select 3 `.mp3` files where I speak alone, so Eleven Labs can clone my voice\n",
    "1. Test my voice teaching an introductory course on Prompt Engineering"
   ]
  },
  {
   "cell_type": "code",
   "execution_count": 2,
   "metadata": {},
   "outputs": [],
   "source": [
    "import os\n",
    "\n",
    "ELEVENLABS_API_KEY = os.getenv(\"ELEVENLABS_API_KEY\")"
   ]
  },
  {
   "cell_type": "code",
   "execution_count": 3,
   "metadata": {},
   "outputs": [
    {
     "name": "stdout",
     "output_type": "stream",
     "text": [
      "Success in getting the API key!\n"
     ]
    }
   ],
   "source": [
    "# from elevenlabs.client import ElevenLabs\n",
    "\n",
    "# client = ElevenLabs(api_key=\"ELEVENLABS_API_KEY\")\n",
    "\n",
    "if ELEVENLABS_API_KEY == None:\n",
    "    print(\"API key couldn't be reached\")\n",
    "else:\n",
    "    print(\"Success in getting the API key!\")"
   ]
  },
  {
   "cell_type": "code",
   "execution_count": 7,
   "metadata": {},
   "outputs": [],
   "source": [
    "import requests\n",
    "\n",
    "CHUNK_SIZE = 1024\n",
    "url = \"https://api.elevenlabs.io/v1/text-to-speech/21m00Tcm4TlvDq8ikWAM\"\n",
    "\n",
    "headers = {\n",
    "  \"Accept\": \"audio/mpeg\",\n",
    "  \"Content-Type\": \"application/json\",\n",
    "  \"xi-api-key\": ELEVENLABS_API_KEY\n",
    "}\n",
    "\n",
    "data = {\n",
    "  \"text\": \"Welcome to this new course on Prompt Engineering\",\n",
    "  \"model_id\": \"eleven_monolingual_v1\",\n",
    "  \"voice_settings\": {\n",
    "    \"stability\": 0.5,\n",
    "    \"similarity_boost\": 0.5\n",
    "  }\n",
    "}\n",
    "\n",
    "response = requests.post(url, json=data, headers=headers)\n",
    "with open('output.mp3', 'wb') as f:\n",
    "    for chunk in response.iter_content(chunk_size=CHUNK_SIZE):\n",
    "        if chunk:\n",
    "            f.write(chunk)\n"
   ]
  },
  {
   "cell_type": "code",
   "execution_count": null,
   "metadata": {},
   "outputs": [],
   "source": [
    "##clone voice\n",
    "\n",
    "from elevenlabs import clone, generate, play\n",
    "\n",
    "voice = clone(\n",
    "    name=\"Alex\",\n",
    "    description=\"An old American male voice with a slight hoarseness in his throat. Perfect for news\", # Optional\n",
    "    files=[\"./sample_0.mp3\", \"./sample_1.mp3\", \"./sample_2.mp3\"],\n",
    ")\n",
    "\n",
    "audio = generate(text=\"Hi! I'm a cloned voice!\", voice=voice)\n",
    "\n",
    "play(audio)"
   ]
  }
 ],
 "metadata": {
  "kernelspec": {
   "display_name": "Python 3",
   "language": "python",
   "name": "python3"
  },
  "language_info": {
   "codemirror_mode": {
    "name": "ipython",
    "version": 3
   },
   "file_extension": ".py",
   "mimetype": "text/x-python",
   "name": "python",
   "nbconvert_exporter": "python",
   "pygments_lexer": "ipython3",
   "version": "3.8.3"
  }
 },
 "nbformat": 4,
 "nbformat_minor": 4
}
