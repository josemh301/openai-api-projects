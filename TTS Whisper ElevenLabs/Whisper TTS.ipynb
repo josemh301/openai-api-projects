{
 "cells": [
  {
   "cell_type": "code",
   "execution_count": 2,
   "metadata": {},
   "outputs": [],
   "source": [
    "user_prompt = \"\"\"\n",
    "Welcome all! My name is Jose, and I'm a Senior Data and Generative AI Strategist. 2024 is shaping up to be the pivotal year for Generative AI implementation across every conceivable business model. Following the explosive growth and widespread recognition of this technology in 2023, hundreds of startups and labs worldwide are now fervently working to innovate and refine tools in the realms of Generative AI and Prompt Engineering. This rapid evolution marks a significant shift in how we approach problem-solving, creativity, and decision-making processes in various industries.\n",
    "\n",
    "Generative AI, particularly through the use of sophisticated Prompt Engineering techniques, is revolutionizing the way we interact with digital content, automate tasks, and generate new ideas. From enhancing customer service with highly responsive chatbots to revolutionizing content creation and streamlining data analysis processes, the applications are as vast as they are transformative.\n",
    "\n",
    "In this course, we aim to demystify the complexities of Prompt Engineering, providing you with a solid foundation and the advanced skills needed to excel in this exciting field. We'll explore the underlying technologies that power Generative AI, delve into practical strategies for crafting effective prompts, and examine real-world case studies to understand the impact of these technologies.\n",
    "\n",
    "Moreover, we'll tackle the ethical considerations essential for responsible AI development, ensuring that as we innovate, we also remain mindful of the broader implications of our work. Whether you're a business professional looking to leverage AI for competitive advantage, a developer eager to expand your toolkit, or simply curious about the future of technology, this course will equip you with the knowledge and skills necessary to navigate the rapidly evolving landscape of Generative AI and Prompt Engineering.\n",
    "\n",
    "By the end of our journey, you'll not only have a thorough understanding of the principles and practices of Prompt Engineering but also be able to apply these insights to drive innovation, enhance efficiency, and solve complex challenges in your domain. So, I invite you to join me on this exciting adventure as we explore the cutting-edge of AI technology. Together, we'll unlock the full potential of Generative AI and shape the future of how we live and work. See you in the next video, where we'll start our deep dive into the fascinating world of Prompt Engineering.\n",
    "\n",
    "\"\"\""
   ]
  },
  {
   "cell_type": "code",
   "execution_count": 3,
   "metadata": {},
   "outputs": [],
   "source": [
    "from pathlib import Path\n",
    "from openai import OpenAI\n",
    "\n",
    "client = OpenAI()\n",
    "\n",
    "# Specify the path where the audio file will be saved\n",
    "speech_file_path = Path(\"audio/MPE_v2_01_01_Introduction.mp3\")\n",
    "\n",
    "response = client.audio.speech.create(\n",
    "  model=\"tts-1\",\n",
    "  voice=\"echo\",\n",
    "  input=user_prompt\n",
    ")\n",
    "\n",
    "# Save the audio response to the specified file\n",
    "response.stream_to_file(str(speech_file_path))\n"
   ]
  },
  {
   "cell_type": "code",
   "execution_count": null,
   "metadata": {},
   "outputs": [],
   "source": []
  }
 ],
 "metadata": {
  "kernelspec": {
   "display_name": "Python 3",
   "language": "python",
   "name": "python3"
  },
  "language_info": {
   "codemirror_mode": {
    "name": "ipython",
    "version": 3
   },
   "file_extension": ".py",
   "mimetype": "text/x-python",
   "name": "python",
   "nbconvert_exporter": "python",
   "pygments_lexer": "ipython3",
   "version": "3.8.3"
  }
 },
 "nbformat": 4,
 "nbformat_minor": 4
}
