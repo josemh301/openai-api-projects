{
 "cells": [
  {
   "cell_type": "markdown",
   "metadata": {},
   "source": [
    "#  Introduction to Large Language Models with GPT & LangChain"
   ]
  },
  {
   "cell_type": "markdown",
   "metadata": {},
   "source": [
    "[ChatGPT](https://chat.openai.com/) is wildly popular, with over a billion visits per month. Although this web interface is great for many non-technical use cases, for programming and automation tasks, it is better to access GPT (the AI that powers ChatGPT) via the OpenAI API.\n",
    "\n",
    "As well as GPT, you'll also make use of LangChain, a programming framework for working with generative AI.\n",
    "\n",
    "You'll cover:\n",
    "\n",
    "- Getting set up with an OpenAI developer account and integration with Workspace.\n",
    "- Calling the chat functionality in the OpenAI API, with and without langchain.\n",
    "- Simple prompt engineering.\n",
    "- Holding a conversation with GPT.\n",
    "- Ideas for incorporating GPT into a data analysis or data science workflow.\n",
    "\n",
    "You'll be using GPT to explore [a dataset](https://catalog.data.gov/dataset/electric-vehicle-population-data) about electric cars in Washington state, USA. "
   ]
  },
  {
   "cell_type": "markdown",
   "metadata": {},
   "source": [
    "## Before you begin"
   ]
  },
  {
   "cell_type": "markdown",
   "metadata": {},
   "source": [
    "You'll need a developer account with OpenAI.\n",
    "\n",
    "See *getting-started.ipynb* for steps on how to create an API key and store it in Workspace. In particular, you'll need to follow the instructions in the \"Getting started with OpenAI\" and \"Setting up Workspace Integrations\" sections."
   ]
  },
  {
   "cell_type": "markdown",
   "metadata": {},
   "source": [
    "## Task 0: Setup"
   ]
  },
  {
   "cell_type": "markdown",
   "metadata": {},
   "source": [
    "We need to install the `langchain` package. This is currently being developed quickly, sometimes with breaking changes, so we fix the version.\n",
    "\n",
    "The `langchain` depends on a recent version of `typing_extensions`, so we need to update that package, again fixing the version."
   ]
  },
  {
   "cell_type": "markdown",
   "metadata": {},
   "source": [
    "### Instructions\n",
    "\n",
    "Run the following code to install `openai`, `langchain`, and `typing_extensions`."
   ]
  },
  {
   "cell_type": "code",
   "execution_count": 26,
   "metadata": {
    "executionCancelledAt": null,
    "executionTime": 4991,
    "jupyter": {
     "outputs_hidden": true,
     "source_hidden": false
    },
    "lastExecutedAt": 1695344397632,
    "lastScheduledRunId": null,
    "lastSuccessfullyExecutedCode": "# Update the typing_extensions package\n!pip install typing_extensions==4.8.0",
    "outputsMetadata": {
     "0": {
      "height": 175,
      "type": "stream"
     }
    }
   },
   "outputs": [],
   "source": [
    "# Update the typing_extensions package\n",
    "# !pip install typing_extensions==4.8.0"
   ]
  },
  {
   "cell_type": "code",
   "execution_count": 27,
   "metadata": {},
   "outputs": [],
   "source": [
    "# this is the one used in this file so langchain doesn't brings an error\n",
    "\n",
    "# !pip install langchain==0.0.339\n",
    "# !pip install openai==1.3.5"
   ]
  },
  {
   "cell_type": "markdown",
   "metadata": {},
   "source": [
    "In order to chat with GPT, we need first need to load the `openai` and `os` packages to set the API key from the environment variables you just created."
   ]
  },
  {
   "cell_type": "markdown",
   "metadata": {},
   "source": [
    "### Instructions\n",
    "\n",
    "- Import the `os` package.\n",
    "- Import the `openai` package.\n",
    "- Set `openai.api_key` to the `OPENAI_API_KEY` environment variable."
   ]
  },
  {
   "cell_type": "code",
   "execution_count": 3,
   "metadata": {},
   "outputs": [],
   "source": [
    "# Import the os package and the openai package\n",
    "import os"
   ]
  },
  {
   "cell_type": "code",
   "execution_count": 4,
   "metadata": {},
   "outputs": [
    {
     "name": "stdout",
     "output_type": "stream",
     "text": [
      "OpenAI imported\n"
     ]
    }
   ],
   "source": [
    "try:\n",
    "    import openai\n",
    "    print(\"OpenAI imported\")\n",
    "    \n",
    "except:\n",
    "    print(\"It didn't work\")"
   ]
  },
  {
   "cell_type": "code",
   "execution_count": 5,
   "metadata": {},
   "outputs": [
    {
     "name": "stdout",
     "output_type": "stream",
     "text": [
      "Success!\n"
     ]
    }
   ],
   "source": [
    "# Set openai.api_key to the OPENAI_API_KEY environment variable\n",
    "try:\n",
    "    OPENAI_API_KEY = os.getenv('OPENAI_API_KEY')\n",
    "    print(\"Success!\")\n",
    "except Exception as e:\n",
    "    print(e)"
   ]
  },
  {
   "cell_type": "markdown",
   "metadata": {},
   "source": [
    "We need to import the `langchain` package. It has many submodules, so to save typing later, we'll also import some specific functions from those submodules."
   ]
  },
  {
   "cell_type": "markdown",
   "metadata": {},
   "source": [
    "### Instructions\n",
    "\n",
    "- Import the `langchain` package as `lc`.\n",
    "- From the `langchain.chat_models` module, import `ChatOpenAI`.\n",
    "- From the `langchain.schema` module, import `AIMessage`, `HumanMessage`, `SystemMessage`."
   ]
  },
  {
   "cell_type": "code",
   "execution_count": 6,
   "metadata": {
    "executionCancelledAt": null,
    "executionTime": 1607,
    "lastExecutedAt": 1695344399314,
    "lastScheduledRunId": null,
    "lastSuccessfullyExecutedCode": "# Import the langchain package as lc\nimport langchain as lc\n\n# From the langchain.chat_models module, import ChatOpenAI\nfrom langchain.chat_models import ChatOpenAI\n\n# From the langchain.schema module, import AIMessage, HumanMessage, SystemMessage\nfrom langchain.schema import AIMessage, HumanMessage, SystemMessage"
   },
   "outputs": [
    {
     "name": "stdout",
     "output_type": "stream",
     "text": [
      "Success importing all langchain requirements\n"
     ]
    }
   ],
   "source": [
    "# Import the langchain package as lc\n",
    "# From the langchain.chat_models module, import ChatOpenAI\n",
    "# From the langchain.schema module, import AIMessage, HumanMessage, SystemMessage\n",
    "try:\n",
    "    import langchain as lc\n",
    "    from langchain.chat_models import ChatOpenAI\n",
    "    from langchain.prompts.chat import (\n",
    "    ChatPromptTemplate,\n",
    "    HumanMessagePromptTemplate,\n",
    "    SystemMessagePromptTemplate,\n",
    ")\n",
    "    from langchain.schema import AIMessage, HumanMessage, SystemMessage\n",
    "    print(\"Success importing all langchain requirements\")\n",
    "except Exception as e:\n",
    "    print(f\"Error: {e}\")"
   ]
  },
  {
   "cell_type": "markdown",
   "metadata": {},
   "source": [
    "You'll also need to do some light data manipulation with the `pandas` package and data visualization with `plotly.express`.  Finally, the `IPython.display` pacakges contains functions to prettily display Markdown content."
   ]
  },
  {
   "cell_type": "markdown",
   "metadata": {},
   "source": [
    "### Instructions"
   ]
  },
  {
   "cell_type": "markdown",
   "metadata": {},
   "source": [
    "Import the following packages.\n",
    "\n",
    "- Import `pandas` using the alias `pd`.\n",
    "- Import `plotly.express` using the alias `px`.\n",
    "- From the `IPython.display` package, import `display` and `Markdown`.\n",
    "- etc."
   ]
  },
  {
   "cell_type": "code",
   "execution_count": 7,
   "metadata": {
    "executionCancelledAt": null,
    "executionTime": 161,
    "lastExecutedAt": 1695344399477,
    "lastScheduledRunId": null,
    "lastSuccessfullyExecutedCode": "# Import pandas using the alias pd\nimport pandas as pd\n\n# Import plotly.express using the alias px\nimport plotly.express as px\n\n# From the IPython.display package, import display and Markdown\nfrom IPython.display import display, Markdown"
   },
   "outputs": [],
   "source": [
    "# Import pandas using the alias pd\n",
    "# Import plotly.express using the alias px\n",
    "# From the IPython.display package, import display and Markdown\n",
    "\n",
    "import pandas as pd\n",
    "import plotly.express as px\n",
    "from IPython.display import display, Markdown"
   ]
  },
  {
   "cell_type": "markdown",
   "metadata": {},
   "source": [
    "## Task 1: Import the Electric Cars Data"
   ]
  },
  {
   "cell_type": "markdown",
   "metadata": {},
   "source": [
    "The electric cars data is contained in a CSV file named `electric_cars.csv`.\n",
    "\n",
    "Each row in the dataset represents the count of the number of cars registered within a city, for a particular model.\n",
    "\n",
    "The dataset contains the following columns.\n",
    "\n",
    "- `city` (character): The city in which the registered owner resides.\n",
    "- `county` (character): The county in which the registered owner resides.\n",
    "- `model_year` (integer): The [model year](https://en.wikipedia.org/wiki/Model_year#United_States_and_Canada) of the car.\n",
    "- `make` (character): The manufacturer of the car.\n",
    "- `model` (character): The model of the car.\n",
    "- `electric_vehicle_type` (character): Either \"Plug-in Hybrid Electric Vehicle (PHEV)\" or \"Battery Electric Vehicle (BEV)\".\n",
    "- `n_cars` (integer): The count of the number of vehicles registered.\n",
    "\n",
    "Our first step is to import and print the data."
   ]
  },
  {
   "cell_type": "markdown",
   "metadata": {},
   "source": [
    "### Instructions"
   ]
  },
  {
   "cell_type": "markdown",
   "metadata": {},
   "source": [
    "Import the electric cars data to a pandas dataframe.\n",
    "\n",
    "- Read the data from `electric_cars.csv`. Assign to `electric_cars`.\n",
    "- Display a description of the numeric columns of `electric_cars`.\n",
    "- Display a description of the object columns of `electric_cars`.\n",
    "- Print the whole dataset. "
   ]
  },
  {
   "cell_type": "code",
   "execution_count": 8,
   "metadata": {
    "executionCancelledAt": null,
    "executionTime": 246,
    "lastExecutedAt": 1695344399724,
    "lastScheduledRunId": null,
    "lastSuccessfullyExecutedCode": "# Read the data from electric_cars.csv. Assign to electric_cars.\nelectric_cars = pd.read_csv(\"electric_cars.csv\")\n\n# Display a description of the numeric columns\nprint(\"Description of numeric columns\\n\")\ndisplay(electric_cars.describe())\n\n# Display a description of the text (object) columns\nprint(\"Description of text columns\\n\")\ndisplay(electric_cars.describe(include=\"O\"))\n\n# Print the whole dataset\nprint(\"The electric cars dataset\\n\")\nelectric_cars",
    "outputsMetadata": {
     "0": {
      "height": 56,
      "type": "stream"
     },
     "1": {
      "height": 266,
      "type": "dataFrame"
     },
     "2": {
      "height": 56,
      "type": "stream"
     },
     "3": {
      "height": 168,
      "type": "dataFrame"
     },
     "4": {
      "height": 56,
      "type": "stream"
     },
     "5": {
      "height": 343,
      "type": "dataFrame"
     }
    }
   },
   "outputs": [
    {
     "name": "stdout",
     "output_type": "stream",
     "text": [
      "Description of numeric columns\n",
      "\n"
     ]
    },
    {
     "data": {
      "text/html": [
       "<div>\n",
       "<style scoped>\n",
       "    .dataframe tbody tr th:only-of-type {\n",
       "        vertical-align: middle;\n",
       "    }\n",
       "\n",
       "    .dataframe tbody tr th {\n",
       "        vertical-align: top;\n",
       "    }\n",
       "\n",
       "    .dataframe thead th {\n",
       "        text-align: right;\n",
       "    }\n",
       "</style>\n",
       "<table border=\"1\" class=\"dataframe\">\n",
       "  <thead>\n",
       "    <tr style=\"text-align: right;\">\n",
       "      <th></th>\n",
       "      <th>model_year</th>\n",
       "      <th>n_cars</th>\n",
       "    </tr>\n",
       "  </thead>\n",
       "  <tbody>\n",
       "    <tr>\n",
       "      <th>count</th>\n",
       "      <td>26813.000000</td>\n",
       "      <td>26813.000000</td>\n",
       "    </tr>\n",
       "    <tr>\n",
       "      <th>mean</th>\n",
       "      <td>2019.375527</td>\n",
       "      <td>5.612166</td>\n",
       "    </tr>\n",
       "    <tr>\n",
       "      <th>std</th>\n",
       "      <td>3.286257</td>\n",
       "      <td>26.997325</td>\n",
       "    </tr>\n",
       "    <tr>\n",
       "      <th>min</th>\n",
       "      <td>1997.000000</td>\n",
       "      <td>1.000000</td>\n",
       "    </tr>\n",
       "    <tr>\n",
       "      <th>25%</th>\n",
       "      <td>2017.000000</td>\n",
       "      <td>1.000000</td>\n",
       "    </tr>\n",
       "    <tr>\n",
       "      <th>50%</th>\n",
       "      <td>2020.000000</td>\n",
       "      <td>2.000000</td>\n",
       "    </tr>\n",
       "    <tr>\n",
       "      <th>75%</th>\n",
       "      <td>2022.000000</td>\n",
       "      <td>4.000000</td>\n",
       "    </tr>\n",
       "    <tr>\n",
       "      <th>max</th>\n",
       "      <td>2024.000000</td>\n",
       "      <td>1514.000000</td>\n",
       "    </tr>\n",
       "  </tbody>\n",
       "</table>\n",
       "</div>"
      ],
      "text/plain": [
       "         model_year        n_cars\n",
       "count  26813.000000  26813.000000\n",
       "mean    2019.375527      5.612166\n",
       "std        3.286257     26.997325\n",
       "min     1997.000000      1.000000\n",
       "25%     2017.000000      1.000000\n",
       "50%     2020.000000      2.000000\n",
       "75%     2022.000000      4.000000\n",
       "max     2024.000000   1514.000000"
      ]
     },
     "metadata": {},
     "output_type": "display_data"
    }
   ],
   "source": [
    "# Read the data from electric_cars.csv. Assign to electric_cars.\n",
    "electric_cars = pd.read_csv(\"electric_cars.csv\")\n",
    "\n",
    "# Display a description of the numeric columns\n",
    "print(\"Description of numeric columns\\n\")\n",
    "display(electric_cars.describe())"
   ]
  },
  {
   "cell_type": "markdown",
   "metadata": {},
   "source": [
    "In Python, particularly when working with the pandas library, the `\"O\"` in the `describe` method is used to indicate that you want to include only the columns with object data types in the description. The object data type in pandas typically represents text or mixed types (text and numbers). Here's a breakdown of what this means:\n",
    "\n",
    "1. **Pandas DataFrame**: When you're working with data in pandas, it's usually stored in a DataFrame. A DataFrame is like a table with rows and columns, where each column can have a different data type.\n",
    "\n",
    "2. **Data Types**: Each column in a DataFrame has a specific data type. Common data types include `int` for integers, `float` for floating-point numbers, `bool` for boolean values, and `object` for text or mixed types.\n",
    "\n",
    "3. **The `describe()` Method**: This method is used to generate descriptive statistics of the data in a DataFrame. By default, it includes only numeric columns (like `int` and `float`).\n",
    "\n",
    "4. **Including Object Types**: By using `include=\"O\"` in `describe()`, you are specifically asking pandas to include columns with the `object` data type in the descriptive statistics. This will provide statistics like count, unique (number of unique values), top (most common value), and freq (frequency of the top value) for these text or mixed-type columns.\n",
    "\n",
    "So, in your code `display(electric_cars.describe(include=\"O\"))`, you're asking pandas to display descriptive statistics for all the columns in the `electric_cars` DataFrame that are of object type. This can be particularly useful for understanding the distribution and common values in text-based columns."
   ]
  },
  {
   "cell_type": "code",
   "execution_count": 9,
   "metadata": {},
   "outputs": [
    {
     "data": {
      "text/plain": [
       "'Description of text columns:'"
      ]
     },
     "metadata": {},
     "output_type": "display_data"
    },
    {
     "data": {
      "text/html": [
       "<div>\n",
       "<style scoped>\n",
       "    .dataframe tbody tr th:only-of-type {\n",
       "        vertical-align: middle;\n",
       "    }\n",
       "\n",
       "    .dataframe tbody tr th {\n",
       "        vertical-align: top;\n",
       "    }\n",
       "\n",
       "    .dataframe thead th {\n",
       "        text-align: right;\n",
       "    }\n",
       "</style>\n",
       "<table border=\"1\" class=\"dataframe\">\n",
       "  <thead>\n",
       "    <tr style=\"text-align: right;\">\n",
       "      <th></th>\n",
       "      <th>city</th>\n",
       "      <th>county</th>\n",
       "      <th>make</th>\n",
       "      <th>model</th>\n",
       "      <th>electric_vehicle_type</th>\n",
       "    </tr>\n",
       "  </thead>\n",
       "  <tbody>\n",
       "    <tr>\n",
       "      <th>count</th>\n",
       "      <td>26813</td>\n",
       "      <td>26813</td>\n",
       "      <td>26813</td>\n",
       "      <td>26813</td>\n",
       "      <td>26813</td>\n",
       "    </tr>\n",
       "    <tr>\n",
       "      <th>unique</th>\n",
       "      <td>683</td>\n",
       "      <td>183</td>\n",
       "      <td>37</td>\n",
       "      <td>127</td>\n",
       "      <td>2</td>\n",
       "    </tr>\n",
       "    <tr>\n",
       "      <th>top</th>\n",
       "      <td>Bothell</td>\n",
       "      <td>King</td>\n",
       "      <td>TESLA</td>\n",
       "      <td>LEAF</td>\n",
       "      <td>Battery Electric Vehicle (BEV)</td>\n",
       "    </tr>\n",
       "    <tr>\n",
       "      <th>freq</th>\n",
       "      <td>479</td>\n",
       "      <td>7066</td>\n",
       "      <td>5071</td>\n",
       "      <td>1889</td>\n",
       "      <td>15885</td>\n",
       "    </tr>\n",
       "  </tbody>\n",
       "</table>\n",
       "</div>"
      ],
      "text/plain": [
       "           city county   make  model           electric_vehicle_type\n",
       "count     26813  26813  26813  26813                           26813\n",
       "unique      683    183     37    127                               2\n",
       "top     Bothell   King  TESLA   LEAF  Battery Electric Vehicle (BEV)\n",
       "freq        479   7066   5071   1889                           15885"
      ]
     },
     "metadata": {},
     "output_type": "display_data"
    },
    {
     "data": {
      "text/plain": [
       "'The electric cars dataset:'"
      ]
     },
     "metadata": {},
     "output_type": "display_data"
    },
    {
     "data": {
      "text/html": [
       "<div>\n",
       "<style scoped>\n",
       "    .dataframe tbody tr th:only-of-type {\n",
       "        vertical-align: middle;\n",
       "    }\n",
       "\n",
       "    .dataframe tbody tr th {\n",
       "        vertical-align: top;\n",
       "    }\n",
       "\n",
       "    .dataframe thead th {\n",
       "        text-align: right;\n",
       "    }\n",
       "</style>\n",
       "<table border=\"1\" class=\"dataframe\">\n",
       "  <thead>\n",
       "    <tr style=\"text-align: right;\">\n",
       "      <th></th>\n",
       "      <th>city</th>\n",
       "      <th>county</th>\n",
       "      <th>model_year</th>\n",
       "      <th>make</th>\n",
       "      <th>model</th>\n",
       "      <th>electric_vehicle_type</th>\n",
       "      <th>n_cars</th>\n",
       "    </tr>\n",
       "  </thead>\n",
       "  <tbody>\n",
       "    <tr>\n",
       "      <th>0</th>\n",
       "      <td>Seattle</td>\n",
       "      <td>King</td>\n",
       "      <td>2023</td>\n",
       "      <td>TESLA</td>\n",
       "      <td>MODEL Y</td>\n",
       "      <td>Battery Electric Vehicle (BEV)</td>\n",
       "      <td>1514</td>\n",
       "    </tr>\n",
       "    <tr>\n",
       "      <th>1</th>\n",
       "      <td>Seattle</td>\n",
       "      <td>King</td>\n",
       "      <td>2018</td>\n",
       "      <td>TESLA</td>\n",
       "      <td>MODEL 3</td>\n",
       "      <td>Battery Electric Vehicle (BEV)</td>\n",
       "      <td>1153</td>\n",
       "    </tr>\n",
       "    <tr>\n",
       "      <th>2</th>\n",
       "      <td>Seattle</td>\n",
       "      <td>King</td>\n",
       "      <td>2021</td>\n",
       "      <td>TESLA</td>\n",
       "      <td>MODEL Y</td>\n",
       "      <td>Battery Electric Vehicle (BEV)</td>\n",
       "      <td>1147</td>\n",
       "    </tr>\n",
       "    <tr>\n",
       "      <th>3</th>\n",
       "      <td>Seattle</td>\n",
       "      <td>King</td>\n",
       "      <td>2022</td>\n",
       "      <td>TESLA</td>\n",
       "      <td>MODEL Y</td>\n",
       "      <td>Battery Electric Vehicle (BEV)</td>\n",
       "      <td>1122</td>\n",
       "    </tr>\n",
       "    <tr>\n",
       "      <th>4</th>\n",
       "      <td>Bellevue</td>\n",
       "      <td>King</td>\n",
       "      <td>2023</td>\n",
       "      <td>TESLA</td>\n",
       "      <td>MODEL Y</td>\n",
       "      <td>Battery Electric Vehicle (BEV)</td>\n",
       "      <td>931</td>\n",
       "    </tr>\n",
       "    <tr>\n",
       "      <th>...</th>\n",
       "      <td>...</td>\n",
       "      <td>...</td>\n",
       "      <td>...</td>\n",
       "      <td>...</td>\n",
       "      <td>...</td>\n",
       "      <td>...</td>\n",
       "      <td>...</td>\n",
       "    </tr>\n",
       "    <tr>\n",
       "      <th>26808</th>\n",
       "      <td>Lakewood</td>\n",
       "      <td>Pierce</td>\n",
       "      <td>2022</td>\n",
       "      <td>BMW</td>\n",
       "      <td>IX</td>\n",
       "      <td>Battery Electric Vehicle (BEV)</td>\n",
       "      <td>1</td>\n",
       "    </tr>\n",
       "    <tr>\n",
       "      <th>26809</th>\n",
       "      <td>Lakewood</td>\n",
       "      <td>Pierce</td>\n",
       "      <td>2022</td>\n",
       "      <td>BMW</td>\n",
       "      <td>X5</td>\n",
       "      <td>Plug-in Hybrid Electric Vehicle (PHEV)</td>\n",
       "      <td>1</td>\n",
       "    </tr>\n",
       "    <tr>\n",
       "      <th>26810</th>\n",
       "      <td>Lakewood</td>\n",
       "      <td>Pierce</td>\n",
       "      <td>2022</td>\n",
       "      <td>FORD</td>\n",
       "      <td>TRANSIT</td>\n",
       "      <td>Battery Electric Vehicle (BEV)</td>\n",
       "      <td>1</td>\n",
       "    </tr>\n",
       "    <tr>\n",
       "      <th>26811</th>\n",
       "      <td>Lakewood</td>\n",
       "      <td>Pierce</td>\n",
       "      <td>2022</td>\n",
       "      <td>HYUNDAI</td>\n",
       "      <td>KONA ELECTRIC</td>\n",
       "      <td>Battery Electric Vehicle (BEV)</td>\n",
       "      <td>1</td>\n",
       "    </tr>\n",
       "    <tr>\n",
       "      <th>26812</th>\n",
       "      <td>Zillah</td>\n",
       "      <td>Yakima</td>\n",
       "      <td>2023</td>\n",
       "      <td>VOLKSWAGEN</td>\n",
       "      <td>ID.4</td>\n",
       "      <td>Battery Electric Vehicle (BEV)</td>\n",
       "      <td>1</td>\n",
       "    </tr>\n",
       "  </tbody>\n",
       "</table>\n",
       "<p>26813 rows × 7 columns</p>\n",
       "</div>"
      ],
      "text/plain": [
       "           city  county  model_year        make          model  \\\n",
       "0       Seattle    King        2023       TESLA        MODEL Y   \n",
       "1       Seattle    King        2018       TESLA        MODEL 3   \n",
       "2       Seattle    King        2021       TESLA        MODEL Y   \n",
       "3       Seattle    King        2022       TESLA        MODEL Y   \n",
       "4      Bellevue    King        2023       TESLA        MODEL Y   \n",
       "...         ...     ...         ...         ...            ...   \n",
       "26808  Lakewood  Pierce        2022         BMW             IX   \n",
       "26809  Lakewood  Pierce        2022         BMW             X5   \n",
       "26810  Lakewood  Pierce        2022        FORD        TRANSIT   \n",
       "26811  Lakewood  Pierce        2022     HYUNDAI  KONA ELECTRIC   \n",
       "26812    Zillah  Yakima        2023  VOLKSWAGEN           ID.4   \n",
       "\n",
       "                        electric_vehicle_type  n_cars  \n",
       "0              Battery Electric Vehicle (BEV)    1514  \n",
       "1              Battery Electric Vehicle (BEV)    1153  \n",
       "2              Battery Electric Vehicle (BEV)    1147  \n",
       "3              Battery Electric Vehicle (BEV)    1122  \n",
       "4              Battery Electric Vehicle (BEV)     931  \n",
       "...                                       ...     ...  \n",
       "26808          Battery Electric Vehicle (BEV)       1  \n",
       "26809  Plug-in Hybrid Electric Vehicle (PHEV)       1  \n",
       "26810          Battery Electric Vehicle (BEV)       1  \n",
       "26811          Battery Electric Vehicle (BEV)       1  \n",
       "26812          Battery Electric Vehicle (BEV)       1  \n",
       "\n",
       "[26813 rows x 7 columns]"
      ]
     },
     "metadata": {},
     "output_type": "display_data"
    }
   ],
   "source": [
    "# Display a description of the text (object) columns\n",
    "display(\"Description of text columns:\")\n",
    "display(electric_cars.describe(include=\"O\"))\n",
    "\n",
    "# Print the whole dataset\n",
    "display(\"The electric cars dataset:\")\n",
    "display(electric_cars)"
   ]
  },
  {
   "cell_type": "markdown",
   "metadata": {},
   "source": [
    "## Task 2: Asking GPT a Question"
   ]
  },
  {
   "cell_type": "markdown",
   "metadata": {},
   "source": [
    "Let's start by sending a message to GPT and getting a response. For now, we won't worry about including any details about the dataset&mdash;it's the equivalent of asking \"is this microphone turned on?\".\n",
    "\n",
    "We'll also skip using langchain for now so you can see more clearly how the `openai` packages works."
   ]
  },
  {
   "cell_type": "markdown",
   "metadata": {},
   "source": [
    "### Types of Message\n",
    "\n",
    "There are three types of message, documented in the [Introduction](https://platform.openai.com/docs/guides/chat/introduction) to the Chat documentation. We'll use two of them here.\n",
    "\n",
    "- `system` messages describe the behavior of the AI assistant. If you don't know what you want, try \"You are a helpful assistant\".\n",
    "- `user` messages describe what you want the AI assistant to say. We'll cover examples of this today."
   ]
  },
  {
   "cell_type": "markdown",
   "metadata": {},
   "source": [
    "### Instructions"
   ]
  },
  {
   "cell_type": "markdown",
   "metadata": {},
   "source": [
    "Send a question to GPT and get a response.\n",
    "\n",
    "- Define the system message as follows and assign to `system_msg_test`.\n",
    "\n",
    "```\n",
    "\"\"\"You are a helpful assistant who understands data science.\n",
    " You write in a clear language that a ten year old can understand.\n",
    " You keep your answers brief.\"\"\". \n",
    "```\n",
    "    \n",
    "- Define the user message as follows and assign to `user_msg_test`.\n",
    "\n",
    "```\n",
    "\"You are an expert in data analytics for the automotive industry.\"\n",
    "```\n",
    "\n",
    "- Create a message list from the system and user messages. Assign to `msgs_test`.\n",
    "- Send the messages to GPT. Assign to `rsps_test`."
   ]
  },
  {
   "cell_type": "markdown",
   "metadata": {},
   "source": [
    "<details>\n",
    "    <summary><b>Code hints ></b></summary>\n",
    "<p>\n",
    "        \n",
    "The `openai.ChatCompletion.create()` function expects the messages in the form of a list of dictionaries, each with a `role` and `content` element.\n",
    "        \n",
    "```\n",
    "messages = [\n",
    "    {\"role\": \"system\", \"content\": system_msg},\n",
    "    {\"role\": \"user\", \"content\": user_msg}\n",
    "]\n",
    "```\n",
    "\n",
    "</p>\n",
    "</details>"
   ]
  },
  {
   "cell_type": "code",
   "execution_count": 10,
   "metadata": {
    "executionCancelledAt": null,
    "executionTime": 5321,
    "id": "bA5ajAmk7XH6",
    "lastExecutedAt": 1695344430262,
    "lastScheduledRunId": null,
    "lastSuccessfullyExecutedCode": "# Define the system message. Assign to system_msg_test.\nsystem_msg_test = \"\"\"You are a helpful assistant who understands data science.\n You write in a clear language that a ten year old can understand.\n You keep your answers brief.\"\"\"\n\n# Define the user message. Assign to user_msg_test.\nuser_msg_test = \"Tell me some uses of GPT for data analysis.\"\n\n# Create a message list from the system and user messages. Assign to msgs_test.\nmsgs_test = [\n    {\"role\": \"system\", \"content\": system_msg_test},\n    {\"role\": \"user\", \"content\": user_msg_test}\n]\n\n# Send the messages to GPT. Assign to rsps_test.\nrsps_test = openai.ChatCompletion.create(\n    model=\"gpt-3.5-turbo\",\n    messages=msgs_test\n)"
   },
   "outputs": [],
   "source": [
    "from openai import OpenAI\n",
    "\n",
    "# Define the system message. Assign to system_msg_test.\n",
    "system_msg_test = \"\"\"You are an expert in data analytics for the automotive industry.\n",
    " You write in a clear language that a ten year old can understand.\n",
    " You keep your answers brief.\"\"\"\n",
    "\n",
    "# Define the user message. Assign to user_msg_test.\n",
    "user_msg_test = \"Tell me some uses of GenAI for data analysis in the car industry\"\n",
    "\n",
    "# Create a message list from the system and user messages. Assign to msgs_test.\n",
    "msgs_test = [\n",
    "    {\"role\" : \"system\", \"content\" : system_msg_test},\n",
    "    {\"role\" : \"user\", \"content\" : user_msg_test}\n",
    "]\n",
    "\n",
    "# Send the messages to GPT. Assign to rsps_test.\n",
    "client = OpenAI(api_key=OPENAI_API_KEY)\n",
    "rsps_test = client.chat.completions.create(\n",
    "    model=\"gpt-3.5-turbo\",\n",
    "    messages = msgs_test\n",
    ")"
   ]
  },
  {
   "cell_type": "markdown",
   "metadata": {},
   "source": [
    "Now you need to explore the response. The result is a highly nested object. As well as the text response that we want, there's a lot of metadata. You'll print the whole thing so you can see the structure, and extract just the text content."
   ]
  },
  {
   "cell_type": "markdown",
   "metadata": {},
   "source": [
    "### Instructions\n",
    "\n",
    "Print the whole response and just the text content.\n",
    "\n",
    "- Print the whole response.\n",
    "- Print just the response's content."
   ]
  },
  {
   "cell_type": "markdown",
   "metadata": {},
   "source": [
    "<details>\n",
    "    <summary><b>Code hints ></b></summary>\n",
    "<p>\n",
    "        \n",
    "Buried within the response variable is the text we asked GPT to generate. Luckily, it's always in the same place.\n",
    "        \n",
    "```\n",
    "response[\"choices\"][0][\"message\"][\"content\"]\n",
    "```\n",
    "\n",
    "</p>\n",
    "</details>"
   ]
  },
  {
   "cell_type": "code",
   "execution_count": 11,
   "metadata": {
    "executionCancelledAt": null,
    "executionTime": 12,
    "lastExecutedAt": 1695344434511,
    "lastScheduledRunId": null,
    "lastSuccessfullyExecutedCode": "# Print the whole response\nprint(\"The whole response\\n\")\nprint(rsps_test)\n\nprint(\"\\n\\n----\\n\\n\")\n\n# Print just the response's content\nprint(\"Just the response's content\\n\")\nprint(rsps_test[\"choices\"][0][\"message\"][\"content\"])",
    "outputsMetadata": {
     "0": {
      "height": 472,
      "type": "stream"
     }
    }
   },
   "outputs": [
    {
     "name": "stdout",
     "output_type": "stream",
     "text": [
      "The whole response:\n",
      "\n",
      "Type: <class 'openai.types.chat.chat_completion.ChatCompletion'>\n",
      "\n",
      "ChatCompletion(id='chatcmpl-8bXby4BxISKrbxg9cxgi8S5NVSzLn', choices=[Choice(finish_reason='stop', index=0, message=ChatCompletionMessage(content='GenAI, or General Artificial Intelligence, can be used in the car industry for various data analysis purposes. It can analyze data to help improve car performance, predict potential issues, and enhance the driving experience. It can also process data to help with traffic management and optimize fuel efficiency. Additionally, GenAI can assist in improving safety by analyzing real-time data and providing insights to prevent accidents.', role='assistant', function_call=None, tool_calls=None), logprobs=None)], created=1703958030, model='gpt-3.5-turbo-0613', object='chat.completion', system_fingerprint=None, usage=CompletionUsage(completion_tokens=77, prompt_tokens=57, total_tokens=134))\n"
     ]
    }
   ],
   "source": [
    "# Print the whole response\n",
    "print(\"The whole response:\\n\")\n",
    "print(f\"Type: {type(rsps_test)}\\n\")\n",
    "print(rsps_test)"
   ]
  },
  {
   "cell_type": "code",
   "execution_count": 12,
   "metadata": {},
   "outputs": [
    {
     "name": "stdout",
     "output_type": "stream",
     "text": [
      "Just the response's content:\n",
      "\n",
      "GenAI, or General Artificial Intelligence, can be used in the car industry for various data analysis purposes. It can analyze data to help improve car performance, predict potential issues, and enhance the driving experience. It can also process data to help with traffic management and optimize fuel efficiency. Additionally, GenAI can assist in improving safety by analyzing real-time data and providing insights to prevent accidents.\n"
     ]
    }
   ],
   "source": [
    "# Print just the response's content\n",
    "print(\"Just the response's content:\\n\")\n",
    "response_content = rsps_test.choices[0].message.content\n",
    "print(response_content)"
   ]
  },
  {
   "cell_type": "markdown",
   "metadata": {},
   "source": [
    "### Basic methods\n",
    "#### Choice"
   ]
  },
  {
   "cell_type": "code",
   "execution_count": 14,
   "metadata": {},
   "outputs": [
    {
     "name": "stdout",
     "output_type": "stream",
     "text": [
      "\n",
      "Choices list (completions):\n",
      " Choice(finish_reason='stop', index=0, message=ChatCompletionMessage(content='GenAI, or General Artificial Intelligence, can be used in the car industry for various data analysis purposes. It can analyze data to help improve car performance, predict potential issues, and enhance the driving experience. It can also process data to help with traffic management and optimize fuel efficiency. Additionally, GenAI can assist in improving safety by analyzing real-time data and providing insights to prevent accidents.', role='assistant', function_call=None, tool_calls=None), logprobs=None)\n",
      "\n",
      "Finish reason: stop\n",
      "\n",
      "Index: 0\n",
      "\n",
      "Message: ChatCompletionMessage(content='GenAI, or General Artificial Intelligence, can be used in the car industry for various data analysis purposes. It can analyze data to help improve car performance, predict potential issues, and enhance the driving experience. It can also process data to help with traffic management and optimize fuel efficiency. Additionally, GenAI can assist in improving safety by analyzing real-time data and providing insights to prevent accidents.', role='assistant', function_call=None, tool_calls=None)\n",
      "\n",
      "Message content:\n",
      " GenAI, or General Artificial Intelligence, can be used in the car industry for various data analysis purposes. It can analyze data to help improve car performance, predict potential issues, and enhance the driving experience. It can also process data to help with traffic management and optimize fuel efficiency. Additionally, GenAI can assist in improving safety by analyzing real-time data and providing insights to prevent accidents.\n",
      "\n",
      "Message role: assistant\n"
     ]
    }
   ],
   "source": [
    "print(\"\\nChoices list (completions):\\n\", rsps_test.choices[0])\n",
    "\n",
    "print(\"\\nFinish reason:\", rsps_test.choices[0].finish_reason)\n",
    "\n",
    "print(\"\\nIndex:\", rsps_test.choices[0].index)\n",
    "\n",
    "print(\"\\nMessage:\", rsps_test.choices[0].message)\n",
    "\n",
    "print(\"\\nMessage content:\\n\", rsps_test.choices[0].message.content)\n",
    "\n",
    "print(\"\\nMessage role:\", rsps_test.choices[0].message.role)"
   ]
  },
  {
   "cell_type": "markdown",
   "metadata": {},
   "source": [
    "#### More"
   ]
  },
  {
   "cell_type": "code",
   "execution_count": 15,
   "metadata": {},
   "outputs": [
    {
     "name": "stdout",
     "output_type": "stream",
     "text": [
      "\n",
      "Created: 1703958030\n",
      "\n",
      "Id: chatcmpl-8bXby4BxISKrbxg9cxgi8S5NVSzLn\n",
      "\n",
      "Model: gpt-3.5-turbo-0613\n",
      "\n",
      "Object: chat.completion\n"
     ]
    }
   ],
   "source": [
    "print(\"\\nCreated:\", rsps_test.created)\n",
    "\n",
    "print(\"\\nId:\", rsps_test.id)\n",
    "\n",
    "print(\"\\nModel:\", rsps_test.model)\n",
    "\n",
    "print(\"\\nObject:\", rsps_test.object)"
   ]
  },
  {
   "cell_type": "markdown",
   "metadata": {},
   "source": [
    "#### Usage"
   ]
  },
  {
   "cell_type": "code",
   "execution_count": 16,
   "metadata": {},
   "outputs": [
    {
     "name": "stdout",
     "output_type": "stream",
     "text": [
      "\n",
      "Usage: CompletionUsage(completion_tokens=77, prompt_tokens=57, total_tokens=134)\n",
      " - Prompt tokens: 57\n",
      " - Completion tokens: 77\n",
      " - Total tokens: 134\n"
     ]
    }
   ],
   "source": [
    "print(\"\\nUsage:\", rsps_test.usage)\n",
    "\n",
    "print(\" - Prompt tokens:\", rsps_test.usage.prompt_tokens)\n",
    "\n",
    "print(\" - Completion tokens:\", rsps_test.usage.completion_tokens)\n",
    "\n",
    "print(\" - Total tokens:\", rsps_test.usage.total_tokens)"
   ]
  },
  {
   "cell_type": "markdown",
   "metadata": {},
   "source": [
    "### Other methods"
   ]
  },
  {
   "cell_type": "code",
   "execution_count": 17,
   "metadata": {},
   "outputs": [
    {
     "name": "stdout",
     "output_type": "stream",
     "text": [
      "<bound method BaseModel.json of ChatCompletion(id='chatcmpl-8bXby4BxISKrbxg9cxgi8S5NVSzLn', choices=[Choice(finish_reason='stop', index=0, message=ChatCompletionMessage(content='GenAI, or General Artificial Intelligence, can be used in the car industry for various data analysis purposes. It can analyze data to help improve car performance, predict potential issues, and enhance the driving experience. It can also process data to help with traffic management and optimize fuel efficiency. Additionally, GenAI can assist in improving safety by analyzing real-time data and providing insights to prevent accidents.', role='assistant', function_call=None, tool_calls=None), logprobs=None)], created=1703958030, model='gpt-3.5-turbo-0613', object='chat.completion', system_fingerprint=None, usage=CompletionUsage(completion_tokens=77, prompt_tokens=57, total_tokens=134))>\n"
     ]
    }
   ],
   "source": [
    "json = rsps_test.json\n",
    "print(json)"
   ]
  },
  {
   "cell_type": "code",
   "execution_count": 18,
   "metadata": {},
   "outputs": [
    {
     "name": "stdout",
     "output_type": "stream",
     "text": [
      "<bound method BaseModel.construct of <class 'openai.types.chat.chat_completion.ChatCompletion'>>\n"
     ]
    }
   ],
   "source": [
    "construct = rsps_test.construct\n",
    "print(construct)"
   ]
  },
  {
   "cell_type": "code",
   "execution_count": 19,
   "metadata": {},
   "outputs": [
    {
     "name": "stdout",
     "output_type": "stream",
     "text": [
      "<bound method BaseModel.copy of ChatCompletion(id='chatcmpl-8bXby4BxISKrbxg9cxgi8S5NVSzLn', choices=[Choice(finish_reason='stop', index=0, message=ChatCompletionMessage(content='GenAI, or General Artificial Intelligence, can be used in the car industry for various data analysis purposes. It can analyze data to help improve car performance, predict potential issues, and enhance the driving experience. It can also process data to help with traffic management and optimize fuel efficiency. Additionally, GenAI can assist in improving safety by analyzing real-time data and providing insights to prevent accidents.', role='assistant', function_call=None, tool_calls=None), logprobs=None)], created=1703958030, model='gpt-3.5-turbo-0613', object='chat.completion', system_fingerprint=None, usage=CompletionUsage(completion_tokens=77, prompt_tokens=57, total_tokens=134))>\n"
     ]
    }
   ],
   "source": [
    "copy = rsps_test.copy\n",
    "print(copy)"
   ]
  },
  {
   "cell_type": "markdown",
   "metadata": {},
   "source": [
    "### Know all methods and attributes"
   ]
  },
  {
   "cell_type": "code",
   "execution_count": 20,
   "metadata": {},
   "outputs": [],
   "source": [
    "all_methods_and_attributes = dir(rsps_test)\n",
    "# print(all_methods_and_attributes)"
   ]
  },
  {
   "cell_type": "markdown",
   "metadata": {},
   "source": [
    "## Task 3: Asking a Question About the Dataset"
   ]
  },
  {
   "cell_type": "markdown",
   "metadata": {},
   "source": [
    "Now we know that GPT is working, we can start asking questions about data analysis. Because we have details of our dataset, we can pass these in to our prompt to improve the quality of the mesages we get back.\n",
    "\n",
    "Another change that we're going to make is to use the `langchain` package, which provides a convenience layer on top of the `openai` package."
   ]
  },
  {
   "cell_type": "markdown",
   "metadata": {},
   "source": [
    "### Why should we use LangChain?\n",
    "\n",
    "The code in the previous task used complicated nested objects in two places (the list of dictionaries for the message, and the dictionary of lists and dictionaries for the response). This sort of object is common in web application development, but not in data analysis, where rectangular data (pandas DataFrames and SQL tables) is the more common.\n",
    "\n",
    "One of the advantages of LangChain is that it simplifies the code for some tasks, letting you avoid messing about with too many square brackets and curly braces as you navigate these deep objects.\n",
    "\n",
    "Secondly, if you want to swap GPT for a different model at a later date (as you might in a corporate setting), it can be easier to do so if you use the `langchain` package rather than the `openai` package directly."
   ]
  },
  {
   "cell_type": "markdown",
   "metadata": {},
   "source": [
    "### LangChain message types\n",
    "\n",
    "The LangChain message types are names slightly differently from the OpenAI message types.\n",
    "\n",
    "- `SystemMessage` is the equivalent of OpenAI's `system` message.\n",
    "- `HumanMessage` is the equivalent of OpenAI's `user` message."
   ]
  },
  {
   "cell_type": "markdown",
   "metadata": {},
   "source": [
    "### Instructions\n",
    "\n",
    "Create a prompt that includes dataset details.\n",
    "\n",
    "- _Read the description of the dataset that is provided._\n",
    "- Create a task for the AI. Assign to `suggest_questions`.\n",
    "    - Use the text `\"Suggest some data analysis questions that could be answered with this dataset.\"`.\n",
    "- Concatenate the dataset description and the request. Assign to `msgs_suggest_questions`.\n",
    "    - The first message is a system message with the content `\"You are a data analysis expert.\"`.\n",
    "    - The second message is a human message with `dataset_description` and `suggest_questions` concatenated with two line breaks in between."
   ]
  },
  {
   "cell_type": "code",
   "execution_count": 30,
   "metadata": {
    "executionCancelledAt": null,
    "executionTime": 10,
    "lastExecutedAt": 1695344440684,
    "lastScheduledRunId": null,
    "lastSuccessfullyExecutedCode": "# A description of the dataset\ndataset_description = \"\"\"\nYou have a dataset about electric cars registered in Washington state, USA in 2020. It is available as a pandas DataFrame named `electric_cars`.\n\nEach row in the dataset represents the count of the number of cars registered within a city, for a particular model.\n\nThe dataset contains the following columns.\n\n- `city` (character): The city in which the registered owner resides.\n- `county` (character): The county in which the registered owner resides.\n- `model_year` (integer): The [model year](https://en.wikipedia.org/wiki/Model_year#United_States_and_Canada) of the car.\n- `make` (character): The manufacturer of the car.\n- `model` (character): The model of the car.\n- `electric_vehicle_type` (character): Either \"Plug-in Hybrid Electric Vehicle (PHEV)\" or \"Battery Electric Vehicle (BEV)\".\n- `n_cars` (integer): The count of the number of vehicles registered.\n\"\"\"\n\n# Create a task for the AI. Assign to suggest_questions.\nsuggest_questions = \"Suggest some data analysis questions that could be answered with this dataset.\"\n\n# Concatenate the dataset description and the request. Assign to msgs_suggest_questions.\nmsgs_suggest_questions = [\n    SystemMessage(content=\"You are a data analysis expert.\"),\n    HumanMessage(content=f\"{dataset_description}\\n\\n{suggest_questions}\")\n]"
   },
   "outputs": [],
   "source": [
    "# A description of the dataset\n",
    "dataset_description = \"\"\"\n",
    "You have a dataset about electric cars registered in Washington state, USA in 2020. It is available as a pandas DataFrame named `electric_cars`.\n",
    "\n",
    "Each row in the dataset represents the count of the number of cars registered within a city, for a particular model.\n",
    "\n",
    "The dataset contains the following columns.\n",
    "\n",
    "- `city` (character): The city in which the registered owner resides.\n",
    "- `county` (character): The county in which the registered owner resides.\n",
    "- `model_year` (integer): The [model year](https://en.wikipedia.org/wiki/Model_year#United_States_and_Canada) of the car.\n",
    "- `make` (character): The manufacturer of the car.\n",
    "- `model` (character): The model of the car.\n",
    "- `electric_vehicle_type` (character): Either \"Plug-in Hybrid Electric Vehicle (PHEV)\" or \"Battery Electric Vehicle (BEV)\".\n",
    "- `n_cars` (integer): The count of the number of vehicles registered.\n",
    "\"\"\"\n",
    "\n",
    "# Create a task for the AI. Assign to suggest_questions.\n",
    "suggest_questions = \"Suggest some data analysis questions that could be answered with this dataset.\"\n",
    "\n",
    "# Concatenate the dataset description and the request. Assign to msgs_suggest_questions.\n",
    "# this works: msgs_suggest_question = [dataset_description, suggest_questions]\n",
    "\n",
    "#testing:\n",
    "msgs_suggest_questions = [\n",
    "    SystemMessage(content=\"You're a data analysis expert\"),\n",
    "    HumanMessage(content=f\"{dataset_description}\\n\\n{suggest_questions}\")\n",
    "]"
   ]
  },
  {
   "cell_type": "markdown",
   "metadata": {},
   "source": [
    "### Instructions\n",
    "\n",
    "- Create a `ChatOpenAI` object. Assign to `chat`.\n",
    "- Pass your message to GPT. Assign to `rsps_suggest_questions`.\n",
    "- Print the response object and the contents of the response.\n",
    "- Print the type of the response"
   ]
  },
  {
   "cell_type": "code",
   "execution_count": 31,
   "metadata": {
    "executionCancelledAt": null,
    "executionTime": 11860,
    "lastExecutedAt": 1695344455891,
    "lastScheduledRunId": null,
    "lastSuccessfullyExecutedCode": "# Create a ChatOpenAI object. Assign to chat.\nchat = ChatOpenAI()\n\n# Pass your message to GPT. Assign to response_what_is_llm.\nrsps_suggest_questions = chat(msgs_suggest_questions)\n\n# Print the response\nprint(rsps_suggest_questions)\n\nprint(\"\\n----\\n\")\n\n# Print the response's content\nprint(rsps_suggest_questions.content)\n\nprint(\"\\n----\\n\")\n\n# Print the type of the response\nprint(type(rsps_suggest_questions))",
    "outputsMetadata": {
     "0": {
      "height": 472,
      "type": "stream"
     }
    }
   },
   "outputs": [
    {
     "name": "stdout",
     "output_type": "stream",
     "text": [
      "The whole response\n",
      "\n",
      "content='1. What is the total number of electric cars registered in Washington state in 2020?\\n2. Which city has the highest number of electric cars registered?\\n3. Which county has the highest number of electric cars registered?\\n4. What is the distribution of electric vehicle types (PHEV vs BEV) in Washington state?\\n5. Which manufacturer has the highest number of electric cars registered?\\n6. What is the average number of electric cars registered per city?\\n7. How does the number of electric cars registered vary by model year?\\n8. Are there any cities or counties where a specific electric car model is more popular?\\n9. What is the overall market share of electric cars compared to non-electric cars in Washington state?\\n10. How does the number of electric cars registered in 2020 compare to previous years?\\n\\nThese are just a few examples, and there are many more potential questions that could be explored depending on the specific goals and interests of the analysis.'\n",
      "\n",
      "----\n",
      "\n",
      "Just the response's content\n",
      "\n",
      "1. What is the total number of electric cars registered in Washington state in 2020?\n",
      "2. Which city has the highest number of electric cars registered?\n",
      "3. Which county has the highest number of electric cars registered?\n",
      "4. What is the distribution of electric vehicle types (PHEV vs BEV) in Washington state?\n",
      "5. Which manufacturer has the highest number of electric cars registered?\n",
      "6. What is the average number of electric cars registered per city?\n",
      "7. How does the number of electric cars registered vary by model year?\n",
      "8. Are there any cities or counties where a specific electric car model is more popular?\n",
      "9. What is the overall market share of electric cars compared to non-electric cars in Washington state?\n",
      "10. How does the number of electric cars registered in 2020 compare to previous years?\n",
      "\n",
      "These are just a few examples, and there are many more potential questions that could be explored depending on the specific goals and interests of the analysis.\n",
      "\n",
      "----\n",
      "\n",
      "The type of the response\n",
      "\n",
      "<class 'langchain.schema.messages.AIMessage'>\n"
     ]
    }
   ],
   "source": [
    "# Create a message list from the system and user messages. Assign to msgs_test.\n",
    "chat = ChatOpenAI(temperature=0)\n",
    "\n",
    "#Pass the message to GPT. Assign that to a variable\n",
    "rsps_suggest_questions = chat(msgs_suggest_questions)\n",
    "\n",
    "# Print the response\n",
    "print(\"The whole response\\n\")\n",
    "print(rsps_suggest_questions)\n",
    "\n",
    "\n",
    "print(\"\\n----\\n\")\n",
    "\n",
    "# Print just the response's content\n",
    "print(\"Just the response's content:\\n\")\n",
    "print(rsps_suggest_questions.content)\n",
    "\n",
    "\n",
    "print(\"\\n----\\n\")\n",
    "\n",
    "# Print the type of the response\n",
    "print(\"The type of the response\\n\")\n",
    "print(type(rsps_suggest_questions))"
   ]
  },
  {
   "cell_type": "markdown",
   "metadata": {},
   "source": [
    "## Task 4: Hold a conversation with GPT"
   ]
  },
  {
   "cell_type": "markdown",
   "metadata": {},
   "source": [
    "Notice that the response from GPT was a dictionary-like object. The most useful part of this is the `.content` element, which contains the text response to your prompt.\n",
    "\n",
    "While a single prompt and response can be useful, often you want to have a longer conversation with GPT. In this case, you can pass previous messages so that GPT can \"remember\" what was said before."
   ]
  },
  {
   "cell_type": "markdown",
   "metadata": {},
   "source": [
    "### AI messages\n",
    "\n",
    "The response from GPT had type `AIMessage`. By distinguishing `AIMessage`s from the `HumanMessage`s, you can tell who said what in a conversation with the AI."
   ]
  },
  {
   "cell_type": "markdown",
   "metadata": {},
   "source": [
    "### Displaying Markdown content\n",
    "\n",
    "When GPT generates code as an output, it if often formatted as a Markdown code block inside triple backticks. You can display Markdown output more beautifully in Workspace by swapping `print()` for the `display()` and `Markdown()` functions.\n",
    "\n",
    "```py\n",
    "display(Markdown(your_markdown_text))\n",
    "```"
   ]
  },
  {
   "cell_type": "markdown",
   "metadata": {},
   "source": [
    "### Instructions\n",
    "\n",
    "Append another prompt to the conversation and chat with GPT again.\n",
    "\n",
    "- Append the response and a new message to the previous messages. Assign to `msgs_python_top_models`.\n",
    "- Pass your message to GPT. Assign to `rsps_python_top_models`.\n",
    "- Display the response's Markdown content."
   ]
  },
  {
   "cell_type": "code",
   "execution_count": null,
   "metadata": {
    "executionCancelledAt": null,
    "executionTime": 8711,
    "lastExecutedAt": 1695344476311,
    "lastScheduledRunId": null,
    "lastSuccessfullyExecutedCode": "# Append the response and a new message to the previous messages. \n# Assign to msgs_python_top_models.\nmsgs_python_top_models = msgs_suggest_questions + [\n    rsps_suggest_questions,\n    HumanMessage(content=\"Write some Python code to find the top 5 most popular make/model combinations of electric car in Washington.\")\n]\n\n# Pass your message to GPT. Assign to rsps_python_top_models.\nrsps_python_top_models = chat(msgs_python_top_models)\n\n# Display the response's Markdown content\ndisplay(Markdown(rsps_python_top_models.content))"
   },
   "outputs": [],
   "source": [
    "# Append the response and a new message to the previous messages. \n",
    "# Assign to msgs_python_top_models.\n",
    "\n",
    "\n",
    "# Pass your message to GPT. Assign to rsps_python_top_models.\n",
    "\n",
    "\n",
    "# Display the response's Markdown content\n"
   ]
  },
  {
   "cell_type": "markdown",
   "metadata": {},
   "source": [
    "## Task 5: Execute the Code Provided by GPT"
   ]
  },
  {
   "cell_type": "markdown",
   "metadata": {},
   "source": [
    "You just asked GPT to write some code for you. Next you need to see if it worked, and fix it if it didn't. \n",
    "\n",
    "This is a standard workflow for interacting with generative AI: the AI acts as a junior data analyst who writes the code, then you act as the boss who reviews the work."
   ]
  },
  {
   "cell_type": "markdown",
   "metadata": {},
   "source": [
    "### Instructions\n",
    "\n",
    "Review the work of your AI assistant.\n",
    "\n",
    "- Copy and paste the code generated by GPT into the next code cell and run it.\n",
    "- _Look at the result. Do you think it is correct?_*\n",
    "- If the code threw an error or gave a wrong answer, use the Workspace AI Assistant (also powered by GPT!) to fix and explain the code.\n",
    "\n",
    "*During testing of this code-along project, GPT sometimes wrote incorrect code when using `.sum()`. Double-check those function calls."
   ]
  },
  {
   "cell_type": "code",
   "execution_count": null,
   "metadata": {
    "executionCancelledAt": null,
    "executionTime": 48,
    "lastExecutedAt": 1695346948895,
    "lastScheduledRunId": null,
    "lastSuccessfullyExecutedCode": "# Paste the code generated by GPT and run it\n\n# GPT gave me a wrong answer! \n# It tried to filter the rows becaues it didn't understand the difference between a state and a county in this context\n# The .groupby().sum() code is also wrong.\n\n# # Filter the dataset for electric cars in Washington state\n# washington_cars = electric_cars[electric_cars['county'] == 'Washington']\n\n# # Group the dataset by make and model, and sum the number of cars for each combination\n# make_model_counts = washington_cars.groupby(['make', 'model']).sum('n_cars').reset_index()\n\n# # Sort the make/model combinations by the number of cars in descending order\n# sorted_make_model_counts = make_model_counts.sort_values('n_cars', ascending=False)\n\n# # Get the top 5 most popular make/model combinations\n# top_5_make_model = sorted_make_model_counts.head(5)\n\n# # Print the results\n# print(top_5_make_model)\n",
    "outputsMetadata": {
     "0": {
      "height": 154,
      "type": "stream"
     }
    }
   },
   "outputs": [],
   "source": [
    "# Paste the code generated by GPT and run it\n"
   ]
  },
  {
   "cell_type": "markdown",
   "metadata": {},
   "source": [
    "## Task 6: Continue the Conversation to Create a Plot"
   ]
  },
  {
   "cell_type": "markdown",
   "metadata": {},
   "source": [
    "Doing more analysis with GPT assistance is simply a case of continuing the conversation by appending new `HumanMessage` prompts to the message list, and calling the `chat()` function.\n",
    "\n",
    "The output from GPT is random, but when doing data analysis this isn't always desirable since you'd like your results to be reproducible. With large language models, the amount of randomness can be controled with a parameter known as \"temperature\".\n",
    "\n",
    "- `temperature` controls the randomness of the response. It ranges from `0` to `2` with zero meaning minimal randomness (to make it easier to reproduce results) and two meaning maximum randomness (often gives weird responses). If you use the OpenAI API directly, the default is `1`, but using LangChain reduces the default value to `0.7`. "
   ]
  },
  {
   "cell_type": "markdown",
   "metadata": {},
   "source": [
    "### Instructions\n",
    "\n",
    "- Create a new OpenAI chat object with temperature set to zero. Assign to `chat0`."
   ]
  },
  {
   "cell_type": "code",
   "execution_count": null,
   "metadata": {
    "executionCancelledAt": null,
    "executionTime": 10,
    "lastExecutedAt": 1695345996293,
    "lastScheduledRunId": null,
    "lastSuccessfullyExecutedCode": "# Create a new OpenAI chat object with temperature set to zero. Assign to chat0.\nchat0 = ChatOpenAI(temperature=0)"
   },
   "outputs": [],
   "source": [
    "# Create a new OpenAI chat object with temperature set to zero. Assign to chat0.\n"
   ]
  },
  {
   "cell_type": "markdown",
   "metadata": {},
   "source": [
    "### Instructions\n",
    "\n",
    "- Work through the previous conversation flow again, appending the previous response and a new request for Python code to draw a bar plot of the total count of electric cars by model year, with bars colored by electric vehicle type.\n",
    "    - The solution asks for Plotly Express code, but you can pick any Python data viz package you prefer."
   ]
  },
  {
   "cell_type": "code",
   "execution_count": null,
   "metadata": {
    "executionCancelledAt": null,
    "executionTime": 14955,
    "lastExecutedAt": 1695346214204,
    "lastScheduledRunId": null,
    "lastSuccessfullyExecutedCode": "# Ask GPT for code for a bar plot, as detailed in the instructions\nmsgs_python_plot = msgs_python_top_models + [\n    rsps_python_top_models,\n    HumanMessage(content=\"Write some Python code to draw a bar plot of the total count of electric cars by model year, with bars colored by electric vehicle type. Use the Plotly Express package.\")\n]\n\nrsps_python_plot = chat0(msgs_python_plot)\n\ndisplay(Markdown(rsps_python_plot.content))"
   },
   "outputs": [],
   "source": [
    "# Ask GPT for code for a bar plot, as detailed in the instructions\n"
   ]
  },
  {
   "cell_type": "markdown",
   "metadata": {},
   "source": [
    "### Instructions\n",
    "\n",
    "To see how much variation there is with temperature set to zero, ask GPT for the same thing again.\n",
    "\n",
    "- Call GPT again with the same message list and display the response.\n",
    "- _Look at the response content. How close is it to the previous response content?_"
   ]
  },
  {
   "cell_type": "code",
   "execution_count": null,
   "metadata": {
    "executionCancelledAt": null,
    "executionTime": 10542,
    "lastExecutedAt": 1695346401379,
    "lastScheduledRunId": null,
    "lastSuccessfullyExecutedCode": "# Call GPT again with the same message list and display the response\nrsps_python_plot1 = chat0(msgs_python_plot)\n\ndisplay(Markdown(rsps_python_plot1.content))"
   },
   "outputs": [],
   "source": [
    "# Call GPT again with the same message list and display the response\n"
   ]
  },
  {
   "cell_type": "markdown",
   "metadata": {},
   "source": [
    "## Task 7: Execute the Code Provided by GPT to See Your Plot"
   ]
  },
  {
   "cell_type": "markdown",
   "metadata": {},
   "source": [
    "Setting temperature to zero removed all randomness so you got the same output twice. That makes your workflow more reproducible.\n",
    "\n",
    "The final task is to see the plot. As before, remember that GPT is only your assistant and you are the boss. Check the code and its output to make sure that you really have what you want."
   ]
  },
  {
   "cell_type": "markdown",
   "metadata": {},
   "source": [
    "### Instructions\n",
    "\n",
    "Run the code and check that the plot is correct.\n",
    "\n",
    "- Run the bar plot code generated by GPT.\n",
    "- _Check that the output is suitable. If not, try changing your prompt in the previous task to improve the output (this is prompt engineering, which you'll see more of in the next code-along project in the series)._"
   ]
  },
  {
   "cell_type": "code",
   "execution_count": null,
   "metadata": {
    "executionCancelledAt": null,
    "executionTime": 56,
    "lastExecutedAt": 1695346975494,
    "lastScheduledRunId": null,
    "lastSuccessfullyExecutedCode": "# Paste the code generated by GPT and run it\n\n# This time GPT gave a correct answer\n\nimport plotly.express as px\n\n# Group the dataset by model year and electric vehicle type, and sum the number of cars for each combination\nmodel_year_counts = electric_cars.groupby(['model_year', 'electric_vehicle_type']).sum('n_cars').reset_index()\n\n# Plot the bar plot using Plotly Express\nfig = px.bar(model_year_counts, x='model_year', y='n_cars', color='electric_vehicle_type',\n             title='Total Count of Electric Cars by Model Year',\n             labels={'model_year': 'Model Year', 'n_cars': 'Count of Electric Cars'},\n             color_discrete_map={'Plug-in Hybrid Electric Vehicle (PHEV)': 'blue',\n                                 'Battery Electric Vehicle (BEV)': 'green'})\n\n# Show the plot\nfig.show()\n",
    "outputsMetadata": {
     "0": {
      "height": 17,
      "type": "plotly"
     }
    }
   },
   "outputs": [],
   "source": [
    "# Paste the code generated by GPT and run it\n"
   ]
  },
  {
   "cell_type": "markdown",
   "metadata": {},
   "source": [
    "## Summary\n",
    "\n",
    "You've now seen how to access GPT through the OpenAI API both directly and using LangChain.\n",
    "\n",
    "You saw how GPT can be used to come up with ideas for analyses to perform and to write code for you.\n",
    "\n",
    "You also saw how to have an extended conversation and how to control the reproducibility of the responses."
   ]
  }
 ],
 "metadata": {
  "colab": {
   "name": "Welcome to DataCamp Workspaces.ipynb",
   "provenance": []
  },
  "kernelspec": {
   "display_name": "Python 3",
   "language": "python",
   "name": "python3"
  },
  "language_info": {
   "codemirror_mode": {
    "name": "ipython",
    "version": 3
   },
   "file_extension": ".py",
   "mimetype": "text/x-python",
   "name": "python",
   "nbconvert_exporter": "python",
   "pygments_lexer": "ipython3",
   "version": "3.8.3"
  }
 },
 "nbformat": 4,
 "nbformat_minor": 5
}
